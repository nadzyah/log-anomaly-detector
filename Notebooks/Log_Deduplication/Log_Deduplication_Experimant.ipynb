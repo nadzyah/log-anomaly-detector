{
 "cells": [
  {
   "cell_type": "code",
   "execution_count": 1,
   "id": "d620760c",
   "metadata": {},
   "outputs": [],
   "source": [
    "import sys\n",
    "sys.path.append('/home/nadzya/Apps/log-anomaly-detector/')"
   ]
  },
  {
   "cell_type": "code",
   "execution_count": 2,
   "id": "aa086b34",
   "metadata": {},
   "outputs": [],
   "source": [
    "import pandas as pd\n",
    "from anomaly_detector.storage.mongodb_storage import MongoDBDataStorageSource\n",
    "from anomaly_detector.config import Configuration\n",
    "from anomaly_detector.storage.storage_attribute import MGStorageAttribute\n",
    "from anomaly_detector.core.encoder import LogEncoderCatalog\n",
    "\n",
    "from sklearn.cluster import DBSCAN"
   ]
  },
  {
   "cell_type": "code",
   "execution_count": 3,
   "id": "15bd2d85",
   "metadata": {},
   "outputs": [],
   "source": [
    "import logging\n",
    "\n",
    "logger = logging.getLogger()\n",
    "logger.setLevel(logging.CRITICAL)"
   ]
  },
  {
   "cell_type": "code",
   "execution_count": 159,
   "id": "b8186975",
   "metadata": {},
   "outputs": [],
   "source": [
    "def config():\n",
    "    \"\"\"Initialize configurations before testing.\"\"\"\n",
    "    cfg = Configuration()\n",
    "    cfg.MG_HOST = \"172.17.18.83\"\n",
    "    cfg.MG_PORT = 27017\n",
    "    cfg.MG_CERT_DIR = \"\"\n",
    "    cfg.MG_INPUT_DB = \"anomalydb\"\n",
    "    cfg.MG_INPUT_COL = \"utm_anomaly\"\n",
    "    cfg.HOSTNAME_INDEX = \"hostname\"\n",
    "    cfg.DATETIME_INDEX = \"timestamp\"\n",
    "    cfg.MG_USER = ''\n",
    "    cfg.MG_PASSWORD = ''\n",
    "    cfg.TRAIN_VECTOR_LENGTH = 25\n",
    "    cfg.TRAIN_WINDOW = 5\n",
    "    return cfg"
   ]
  },
  {
   "cell_type": "code",
   "execution_count": 160,
   "id": "4c059048",
   "metadata": {},
   "outputs": [],
   "source": [
    "cfg = config()\n",
    "mg_attr = MGStorageAttribute(2592000, 1000)"
   ]
  },
  {
   "cell_type": "code",
   "execution_count": 161,
   "id": "970effe2",
   "metadata": {},
   "outputs": [],
   "source": [
    "mg = MongoDBDataStorageSource(cfg)"
   ]
  },
  {
   "cell_type": "code",
   "execution_count": 162,
   "id": "f2688ee4",
   "metadata": {
    "scrolled": true
   },
   "outputs": [],
   "source": [
    "df_logs = mg.retrieve(mg_attr)\n",
    "df = df_logs[0]"
   ]
  },
  {
   "cell_type": "code",
   "execution_count": 163,
   "id": "0bd72b09",
   "metadata": {
    "scrolled": true
   },
   "outputs": [
    {
     "name": "stdout",
     "output_type": "stream",
     "text": [
      "6\n"
     ]
    },
    {
     "data": {
      "text/plain": [
       "{'NovUvectrastandardcampaignsCAMPAIGNcampaignidactionADDreasonConnectiondvcdvchostdetectionIdNonehostnameavaskincurrentIPsourceidURLhttpscampaignsdstHostviyajivositecomDestinationIPdestIDexternaltimestamp',\n",
       " 'datetimedevnameSLXFGVMdevidFGVMlogidtypeeventsubtypesystemlevelinformationvdrooteventtimetzlogdescDHCPstatisticsinterfaceporttotalusedmsgDHCPstatistics',\n",
       " 'datetimedevnameSLXFGVMdevidFGVMlogidtypeeventsubtypesystemlevelinformationvdrooteventtimetzlogdescOutdatedreportfilesdeletedmsgDeleteoldreportfiles',\n",
       " 'datetimedevnameSLXFGVMdevidFGVMlogidtypeeventsubtypesystemlevelnoticevdrooteventtimetzlogdescSystemperformancestatisticsactionperfstatscpumemtotalsessiondiskbandwidthsetupratedisklogratefazlogratefreediskstoragesysuptimemsgPerformancestatisticsaverageCPUmemoryconcurrentsessionssetuprate',\n",
       " 'datetimedevnameSLXFGVMdevidFGVMlogidtypetrafficsubtypeforwardlevelnoticevdrooteventtimetzsrcipsrcnamesrcportsrcintfportsrcintfrolelandstipdstnamesiptelecombydstportdstintfportdstintfrolewansessionidprotoactionacceptpolicyidpolicytypepolicypoluuidddaabeffcserviceSIPdstcountryBelarussrccountryReservedtrandispsnattransiptransportdurationsentbytercvdbytesentpktrcvdpktappcatunscannedsentdeltarcvddeltamastersrcmacccadesrcmacccadesrcserver',\n",
       " 'datetimedevnameSLXFGVMdevidFGVMlogidtypeutmsubtypevoipeventtypevoiplevelinformationvdrooteventtimetzsessionidepocheventidsrcipsrcportdstipdstportprotosrcintportdstintportpolicyidprofiledefaultvoipprotosipkindregisteractionpermitstatussucceededdurationdirsessionorigincallidafabaeccbfromsipsiptelecombytosipsiptelecomby'}"
      ]
     },
     "execution_count": 163,
     "metadata": {},
     "output_type": "execute_result"
    }
   ],
   "source": [
    "# Get different messages\n",
    "print(len(set(df[\"message\"])))\n",
    "set(df[\"message\"])"
   ]
  },
  {
   "cell_type": "code",
   "execution_count": 170,
   "id": "6366160e",
   "metadata": {},
   "outputs": [],
   "source": [
    "enc = LogEncoderCatalog('w2v_encoder', cfg)\n",
    "enc.build()\n",
    "\n",
    "enc.encode_log(df.loc[df[\"_id.$oid\"] == '61a0d191b09b3295c40f7a4c'])"
   ]
  },
  {
   "cell_type": "code",
   "execution_count": 165,
   "id": "72fed0fa",
   "metadata": {},
   "outputs": [],
   "source": [
    "vectors = enc.one_vector(df_logs[0])"
   ]
  },
  {
   "cell_type": "code",
   "execution_count": 166,
   "id": "635feb17",
   "metadata": {},
   "outputs": [
    {
     "name": "stdout",
     "output_type": "stream",
     "text": [
      "[-1  0  1  2  3]\n"
     ]
    },
    {
     "data": {
      "text/plain": [
       "array([ 0,  0,  0,  0,  0,  0,  0,  0, -1, -1,  1,  1,  1,  1,  1,  1,  1,\n",
       "        1,  1,  1,  1,  1,  1,  1,  1,  1,  1,  1,  1,  1,  1,  1,  1,  1,\n",
       "        1,  1,  2,  2,  2,  2,  2,  2,  2,  2,  2,  2,  2,  2,  2,  2,  2,\n",
       "        2,  2,  2,  2,  2,  2,  2,  2,  2,  2,  2,  2,  2,  2,  2,  2,  2,\n",
       "        2,  2,  2,  2,  2,  2,  2,  2,  2,  2,  2,  2,  2,  2,  2,  2,  2,\n",
       "        2,  2,  2,  2,  2,  2,  2,  2,  1,  1,  1,  1,  1,  1,  1,  1,  1,\n",
       "        1,  1,  1,  1,  1,  1,  1,  1,  1,  1,  1,  1,  1,  1,  1,  1,  1,\n",
       "        1,  3,  3,  1,  1,  1,  1,  1,  1,  1,  1,  1,  1,  1,  1,  1,  1,\n",
       "        1,  1,  1,  1,  1,  1,  1,  1,  1,  1,  1,  1,  1,  1,  1,  1,  1,\n",
       "        1,  1,  1,  1,  1,  1,  1,  1,  1,  1,  1,  1,  1,  1,  1,  1,  1,\n",
       "        1,  1,  2,  2,  2,  2,  2,  2,  2,  2,  2,  2,  2,  2,  2,  2,  2,\n",
       "        2,  2,  2,  2,  2,  2,  2,  2,  2,  2,  2,  2,  2,  2,  2,  2,  2,\n",
       "        2,  2,  2,  2,  2,  2,  2,  2,  2,  2,  2,  2,  2,  2,  2,  2,  2,\n",
       "        1,  1,  1,  1,  1,  1,  1,  1,  1,  1,  1,  1,  1,  1,  1,  1,  1,\n",
       "        1,  1,  1,  1,  1,  1,  1,  1,  1,  1,  1,  1,  1,  1,  1,  1,  1,\n",
       "        1,  1,  1,  1,  1,  1,  1,  1,  1,  1,  1,  1,  1,  1,  1,  1,  1])"
      ]
     },
     "execution_count": 166,
     "metadata": {},
     "output_type": "execute_result"
    }
   ],
   "source": [
    "dbscan = DBSCAN(eps=0.05, min_samples=2)\n",
    "clusters = dbscan.fit_predict(vectors)\n",
    "print(np.unique(clusters))\n",
    "clusters"
   ]
  },
  {
   "cell_type": "markdown",
   "id": "56bc4e98",
   "metadata": {},
   "source": [
    "# Visualization"
   ]
  },
  {
   "cell_type": "markdown",
   "id": "9a24ce36",
   "metadata": {},
   "source": [
    "## PCA"
   ]
  },
  {
   "cell_type": "code",
   "execution_count": 145,
   "id": "d92902a0",
   "metadata": {},
   "outputs": [],
   "source": [
    "from sklearn.decomposition import PCA"
   ]
  },
  {
   "cell_type": "code",
   "execution_count": 146,
   "id": "969bb621",
   "metadata": {},
   "outputs": [],
   "source": [
    "pca = PCA(n_components = 2, random_state = 0)\n",
    "data_2d_pca = pca.fit_transform(vectors)"
   ]
  },
  {
   "cell_type": "code",
   "execution_count": 147,
   "id": "52a8e47a",
   "metadata": {},
   "outputs": [
    {
     "name": "stdout",
     "output_type": "stream",
     "text": [
      "Populating the interactive namespace from numpy and matplotlib\n"
     ]
    }
   ],
   "source": [
    "%pylab inline"
   ]
  },
  {
   "cell_type": "code",
   "execution_count": 148,
   "id": "c4868e50",
   "metadata": {
    "scrolled": false
   },
   "outputs": [
    {
     "data": {
      "text/plain": [
       "<matplotlib.collections.PathCollection at 0x7f7e8592ab20>"
      ]
     },
     "execution_count": 148,
     "metadata": {},
     "output_type": "execute_result"
    },
    {
     "data": {
      "image/png": "[encoded data removed]",
      "text/plain": [
       "<Figure size 720x432 with 1 Axes>"
      ]
     },
     "metadata": {
      "needs_background": "light"
     },
     "output_type": "display_data"
    }
   ],
   "source": [
    "pylab.figure(figsize=(10, 6))\n",
    "pylab.scatter(data_2d_pca[:, 0], data_2d_pca[:, 1])"
   ]
  },
  {
   "cell_type": "markdown",
   "id": "9ea30400",
   "metadata": {},
   "source": [
    "# Aggregation"
   ]
  },
  {
   "cell_type": "code",
   "execution_count": 149,
   "id": "d9acbe30",
   "metadata": {},
   "outputs": [],
   "source": [
    "df['cluster'] = clusters"
   ]
  },
  {
   "cell_type": "code",
   "execution_count": 154,
   "id": "aba165cd",
   "metadata": {},
   "outputs": [],
   "source": [
    "messages = []\n",
    "for i in list(df.loc[df['cluster'] == 0].index):\n",
    "    messages.append(df_logs[1][i][\"message\"])"
   ]
  },
  {
   "cell_type": "code",
   "execution_count": 157,
   "id": "09eebd57",
   "metadata": {
    "scrolled": true
   },
   "outputs": [],
   "source": [
    "splited_messages = [x.split() for x in messages]"
   ]
  },
  {
   "cell_type": "code",
   "execution_count": 158,
   "id": "11f8b777",
   "metadata": {},
   "outputs": [
    {
     "data": {
      "text/plain": [
       "['<86>Dec',\n",
       " '1',\n",
       " '11:30:01',\n",
       " 'cumulus',\n",
       " 'CRON[22581]:',\n",
       " 'pam_unix(cron:session):',\n",
       " 'session',\n",
       " 'closed',\n",
       " 'for',\n",
       " 'user',\n",
       " 'root']"
      ]
     },
     "execution_count": 158,
     "metadata": {},
     "output_type": "execute_result"
    }
   ],
   "source": [
    "splited_messages[0]"
   ]
  },
  {
   "cell_type": "code",
   "execution_count": null,
   "id": "399f7c39",
   "metadata": {},
   "outputs": [],
   "source": []
  }
 ],
 "metadata": {
  "kernelspec": {
   "display_name": "Python 3",
   "language": "python",
   "name": "python3"
  },
  "language_info": {
   "codemirror_mode": {
    "name": "ipython",
    "version": 3
   },
   "file_extension": ".py",
   "mimetype": "text/x-python",
   "name": "python",
   "nbconvert_exporter": "python",
   "pygments_lexer": "ipython3",
   "version": "3.8.10"
  }
 },
 "nbformat": 4,
 "nbformat_minor": 5
}
