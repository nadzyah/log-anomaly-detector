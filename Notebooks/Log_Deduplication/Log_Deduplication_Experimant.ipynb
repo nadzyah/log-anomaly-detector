{
 "cells": [
  {
   "cell_type": "code",
   "execution_count": 110,
   "id": "a60a3990",
   "metadata": {},
   "outputs": [],
   "source": [
    "import sys\n",
    "sys.path.append('/home/nadzya/Apps/log-anomaly-detector/')"
   ]
  },
  {
   "cell_type": "code",
   "execution_count": 117,
   "id": "a2e02d54",
   "metadata": {},
   "outputs": [],
   "source": [
    "import pandas as pd\n",
    "import numpy as np\n",
    "from sklearn.cluster import DBSCAN\n",
    "import json\n",
    "\n",
    "from anomaly_detector.storage.mongodb_storage import MongoDBDataStorageSource\n",
    "from anomaly_detector.config import Configuration\n",
    "from anomaly_detector.storage.storage_attribute import MGStorageAttribute\n",
    "from anomaly_detector.core.encoder import LogEncoderCatalog\n",
    "from anomaly_detector.storage.storage import DataCleaner\n",
    "from anomaly_detector.model.w2v_model import W2VModel"
   ]
  },
  {
   "cell_type": "code",
   "execution_count": 112,
   "id": "78822230",
   "metadata": {},
   "outputs": [],
   "source": [
    "import logging\n",
    "\n",
    "logger = logging.getLogger()\n",
    "logger.setLevel(logging.CRITICAL)"
   ]
  },
  {
   "cell_type": "code",
   "execution_count": 113,
   "id": "1eb55cdb",
   "metadata": {},
   "outputs": [],
   "source": [
    "with open(r\"/home/nadzya/Apps/log-anomaly-detector/validation_data/deduplicator-utm-anomaly-278.json\", \"w+\") as file:\n",
    "    file.write(json.dumps(df_logs[1]))"
   ]
  },
  {
   "cell_type": "code",
   "execution_count": 114,
   "id": "5ce65815",
   "metadata": {},
   "outputs": [
    {
     "data": {
      "text/html": [
       "<div>\n",
       "<style scoped>\n",
       "    .dataframe tbody tr th:only-of-type {\n",
       "        vertical-align: middle;\n",
       "    }\n",
       "\n",
       "    .dataframe tbody tr th {\n",
       "        vertical-align: top;\n",
       "    }\n",
       "\n",
       "    .dataframe thead th {\n",
       "        text-align: right;\n",
       "    }\n",
       "</style>\n",
       "<table border=\"1\" class=\"dataframe\">\n",
       "  <thead>\n",
       "    <tr style=\"text-align: right;\">\n",
       "      <th></th>\n",
       "      <th>message</th>\n",
       "      <th>host_ip</th>\n",
       "      <th>hostname</th>\n",
       "      <th>anomaly_score</th>\n",
       "      <th>anomaly</th>\n",
       "      <th>_id.$oid</th>\n",
       "      <th>timestamp.$date</th>\n",
       "    </tr>\n",
       "  </thead>\n",
       "  <tbody>\n",
       "    <tr>\n",
       "      <th>0</th>\n",
       "      <td>&lt;13&gt;Dec  1 16:31:27 U22020000000877 vectra_sta...</td>\n",
       "      <td>172.17.18.39</td>\n",
       "      <td>172.17.18.39</td>\n",
       "      <td>0.980689</td>\n",
       "      <td>1</td>\n",
       "      <td>61a7793a30a6e5e8a18672be</td>\n",
       "      <td>1638387096513</td>\n",
       "    </tr>\n",
       "    <tr>\n",
       "      <th>1</th>\n",
       "      <td>&lt;13&gt;Dec  1 16:11:53 U22020000000877 vectra_sta...</td>\n",
       "      <td>172.17.18.39</td>\n",
       "      <td>172.17.18.39</td>\n",
       "      <td>0.991152</td>\n",
       "      <td>1</td>\n",
       "      <td>61a774a330a6e5e8a18672bd</td>\n",
       "      <td>1638385920085</td>\n",
       "    </tr>\n",
       "    <tr>\n",
       "      <th>2</th>\n",
       "      <td>&lt;13&gt;Dec  1 16:05:31 U22020000000877 vectra_sta...</td>\n",
       "      <td>172.17.18.39</td>\n",
       "      <td>172.17.18.39</td>\n",
       "      <td>0.992513</td>\n",
       "      <td>1</td>\n",
       "      <td>61a7732930a6e5e8a18672bc</td>\n",
       "      <td>1638385541985</td>\n",
       "    </tr>\n",
       "    <tr>\n",
       "      <th>3</th>\n",
       "      <td>&lt;13&gt;Dec  1 15:15:23 U22020000000877 vectra_sta...</td>\n",
       "      <td>172.17.18.39</td>\n",
       "      <td>172.17.18.39</td>\n",
       "      <td>0.990848</td>\n",
       "      <td>1</td>\n",
       "      <td>61a7676930a6e5e8a18672ba</td>\n",
       "      <td>1638382532794</td>\n",
       "    </tr>\n",
       "    <tr>\n",
       "      <th>4</th>\n",
       "      <td>&lt;13&gt;Dec  1 15:15:22 U22020000000877 vectra_sta...</td>\n",
       "      <td>172.17.18.39</td>\n",
       "      <td>172.17.18.39</td>\n",
       "      <td>0.992443</td>\n",
       "      <td>1</td>\n",
       "      <td>61a7676930a6e5e8a18672bb</td>\n",
       "      <td>1638382532779</td>\n",
       "    </tr>\n",
       "    <tr>\n",
       "      <th>...</th>\n",
       "      <td>...</td>\n",
       "      <td>...</td>\n",
       "      <td>...</td>\n",
       "      <td>...</td>\n",
       "      <td>...</td>\n",
       "      <td>...</td>\n",
       "      <td>...</td>\n",
       "    </tr>\n",
       "    <tr>\n",
       "      <th>273</th>\n",
       "      <td>&lt;190&gt;date=2021-11-25 time=15:11:07 devname=\"SL...</td>\n",
       "      <td>172.17.31.10</td>\n",
       "      <td>172.17.31.10</td>\n",
       "      <td>0.998706</td>\n",
       "      <td>1</td>\n",
       "      <td>61a08f57160d61b58c7b156d</td>\n",
       "      <td>1637933975169</td>\n",
       "    </tr>\n",
       "    <tr>\n",
       "      <th>274</th>\n",
       "      <td>&lt;190&gt;date=2021-11-25 time=14:46:49 devname=\"SL...</td>\n",
       "      <td>172.17.31.10</td>\n",
       "      <td>172.17.31.10</td>\n",
       "      <td>0.998731</td>\n",
       "      <td>1</td>\n",
       "      <td>61a08f57160d61b58c7b156e</td>\n",
       "      <td>1637933972628</td>\n",
       "    </tr>\n",
       "    <tr>\n",
       "      <th>275</th>\n",
       "      <td>&lt;190&gt;date=2021-11-26 time=09:31:08 devname=\"SL...</td>\n",
       "      <td>172.17.31.10</td>\n",
       "      <td>172.17.31.10</td>\n",
       "      <td>0.998524</td>\n",
       "      <td>1</td>\n",
       "      <td>61a08f57160d61b58c7b156f</td>\n",
       "      <td>1637933962122</td>\n",
       "    </tr>\n",
       "    <tr>\n",
       "      <th>276</th>\n",
       "      <td>&lt;190&gt;date=2021-11-25 time=13:11:49 devname=\"SL...</td>\n",
       "      <td>172.17.31.10</td>\n",
       "      <td>172.17.31.10</td>\n",
       "      <td>0.998256</td>\n",
       "      <td>1</td>\n",
       "      <td>61a08ea2160d61b58c7b156b</td>\n",
       "      <td>1637933776694</td>\n",
       "    </tr>\n",
       "    <tr>\n",
       "      <th>277</th>\n",
       "      <td>&lt;190&gt;date=2021-11-25 time=13:06:49 devname=\"SL...</td>\n",
       "      <td>172.17.31.10</td>\n",
       "      <td>172.17.31.10</td>\n",
       "      <td>0.998532</td>\n",
       "      <td>1</td>\n",
       "      <td>61a08ea2160d61b58c7b156c</td>\n",
       "      <td>1637933763439</td>\n",
       "    </tr>\n",
       "  </tbody>\n",
       "</table>\n",
       "<p>278 rows × 7 columns</p>\n",
       "</div>"
      ],
      "text/plain": [
       "                                               message       host_ip  \\\n",
       "0    <13>Dec  1 16:31:27 U22020000000877 vectra_sta...  172.17.18.39   \n",
       "1    <13>Dec  1 16:11:53 U22020000000877 vectra_sta...  172.17.18.39   \n",
       "2    <13>Dec  1 16:05:31 U22020000000877 vectra_sta...  172.17.18.39   \n",
       "3    <13>Dec  1 15:15:23 U22020000000877 vectra_sta...  172.17.18.39   \n",
       "4    <13>Dec  1 15:15:22 U22020000000877 vectra_sta...  172.17.18.39   \n",
       "..                                                 ...           ...   \n",
       "273  <190>date=2021-11-25 time=15:11:07 devname=\"SL...  172.17.31.10   \n",
       "274  <190>date=2021-11-25 time=14:46:49 devname=\"SL...  172.17.31.10   \n",
       "275  <190>date=2021-11-26 time=09:31:08 devname=\"SL...  172.17.31.10   \n",
       "276  <190>date=2021-11-25 time=13:11:49 devname=\"SL...  172.17.31.10   \n",
       "277  <190>date=2021-11-25 time=13:06:49 devname=\"SL...  172.17.31.10   \n",
       "\n",
       "         hostname  anomaly_score  anomaly                  _id.$oid  \\\n",
       "0    172.17.18.39       0.980689        1  61a7793a30a6e5e8a18672be   \n",
       "1    172.17.18.39       0.991152        1  61a774a330a6e5e8a18672bd   \n",
       "2    172.17.18.39       0.992513        1  61a7732930a6e5e8a18672bc   \n",
       "3    172.17.18.39       0.990848        1  61a7676930a6e5e8a18672ba   \n",
       "4    172.17.18.39       0.992443        1  61a7676930a6e5e8a18672bb   \n",
       "..            ...            ...      ...                       ...   \n",
       "273  172.17.31.10       0.998706        1  61a08f57160d61b58c7b156d   \n",
       "274  172.17.31.10       0.998731        1  61a08f57160d61b58c7b156e   \n",
       "275  172.17.31.10       0.998524        1  61a08f57160d61b58c7b156f   \n",
       "276  172.17.31.10       0.998256        1  61a08ea2160d61b58c7b156b   \n",
       "277  172.17.31.10       0.998532        1  61a08ea2160d61b58c7b156c   \n",
       "\n",
       "     timestamp.$date  \n",
       "0      1638387096513  \n",
       "1      1638385920085  \n",
       "2      1638385541985  \n",
       "3      1638382532794  \n",
       "4      1638382532779  \n",
       "..               ...  \n",
       "273    1637933975169  \n",
       "274    1637933972628  \n",
       "275    1637933962122  \n",
       "276    1637933776694  \n",
       "277    1637933763439  \n",
       "\n",
       "[278 rows x 7 columns]"
      ]
     },
     "execution_count": 114,
     "metadata": {},
     "output_type": "execute_result"
    }
   ],
   "source": [
    "with open(r\"/home/nadzya/Apps/log-anomaly-detector/validation_data/deduplicator-utm-anomaly-278.json\", 'r') as file:\n",
    "    df = pd.json_normalize(json.load(file))\n",
    "df"
   ]
  },
  {
   "cell_type": "code",
   "execution_count": 115,
   "id": "af1356e2",
   "metadata": {},
   "outputs": [],
   "source": [
    "cleaner = DataCleaner()\n",
    "cleaner._preprocess(df)"
   ]
  },
  {
   "cell_type": "code",
   "execution_count": 116,
   "id": "9d7e0a90",
   "metadata": {},
   "outputs": [
    {
     "ename": "ModelLoadException",
     "evalue": "Could not load a model. File /opt/anomaly_detector/models/W2V.model does not exist",
     "output_type": "error",
     "traceback": [
      "\u001b[0;31m---------------------------------------------------------------------------\u001b[0m",
      "\u001b[0;31mModelLoadException\u001b[0m                        Traceback (most recent call last)",
      "\u001b[0;32m<ipython-input-116-fb2c3a881da0>\u001b[0m in \u001b[0;36m<module>\u001b[0;34m\u001b[0m\n\u001b[1;32m      4\u001b[0m \u001b[0;34m\u001b[0m\u001b[0m\n\u001b[1;32m      5\u001b[0m \u001b[0menc\u001b[0m \u001b[0;34m=\u001b[0m \u001b[0mLogEncoderCatalog\u001b[0m\u001b[0;34m(\u001b[0m\u001b[0;34m'w2v_encoder'\u001b[0m\u001b[0;34m,\u001b[0m \u001b[0mcfg\u001b[0m\u001b[0;34m)\u001b[0m\u001b[0;34m\u001b[0m\u001b[0;34m\u001b[0m\u001b[0m\n\u001b[0;32m----> 6\u001b[0;31m \u001b[0menc\u001b[0m\u001b[0;34m.\u001b[0m\u001b[0mbuild\u001b[0m\u001b[0;34m(\u001b[0m\u001b[0;34m)\u001b[0m\u001b[0;34m\u001b[0m\u001b[0;34m\u001b[0m\u001b[0m\n\u001b[0m\u001b[1;32m      7\u001b[0m \u001b[0;34m\u001b[0m\u001b[0m\n\u001b[1;32m      8\u001b[0m \u001b[0menc\u001b[0m\u001b[0;34m.\u001b[0m\u001b[0mencode_log\u001b[0m\u001b[0;34m(\u001b[0m\u001b[0mdf\u001b[0m\u001b[0;34m)\u001b[0m\u001b[0;34m\u001b[0m\u001b[0;34m\u001b[0m\u001b[0m\n",
      "\u001b[0;32m~/Apps/log-anomaly-detector/anomaly_detector/core/encoder.py\u001b[0m in \u001b[0;36mbuild\u001b[0;34m(self)\u001b[0m\n\u001b[1;32m     72\u001b[0m         \u001b[0;34m:\u001b[0m\u001b[0;32mreturn\u001b[0m\u001b[0;34m:\u001b[0m\u001b[0;32mNone\u001b[0m\u001b[0;34m\u001b[0m\u001b[0;34m\u001b[0m\u001b[0m\n\u001b[1;32m     73\u001b[0m         \"\"\"\n\u001b[0;32m---> 74\u001b[0;31m         \u001b[0;32mreturn\u001b[0m \u001b[0mself\u001b[0m\u001b[0;34m.\u001b[0m\u001b[0m_instance_method_choices\u001b[0m\u001b[0;34m[\u001b[0m\u001b[0mself\u001b[0m\u001b[0;34m.\u001b[0m\u001b[0mencoder_api\u001b[0m\u001b[0;34m]\u001b[0m\u001b[0;34m.\u001b[0m\u001b[0m__get__\u001b[0m\u001b[0;34m(\u001b[0m\u001b[0mself\u001b[0m\u001b[0;34m)\u001b[0m\u001b[0;34m(\u001b[0m\u001b[0;34m)\u001b[0m\u001b[0;34m\u001b[0m\u001b[0;34m\u001b[0m\u001b[0m\n\u001b[0m",
      "\u001b[0;32m~/Apps/log-anomaly-detector/anomaly_detector/core/encoder.py\u001b[0m in \u001b[0;36m_w2v_encoder\u001b[0;34m(self)\u001b[0m\n\u001b[1;32m     50\u001b[0m         \u001b[0mself\u001b[0m\u001b[0;34m.\u001b[0m\u001b[0mmodel\u001b[0m \u001b[0;34m=\u001b[0m \u001b[0mW2VModel\u001b[0m\u001b[0;34m(\u001b[0m\u001b[0mconfig\u001b[0m\u001b[0;34m=\u001b[0m\u001b[0mself\u001b[0m\u001b[0;34m.\u001b[0m\u001b[0mconfig\u001b[0m\u001b[0;34m)\u001b[0m\u001b[0;34m\u001b[0m\u001b[0;34m\u001b[0m\u001b[0m\n\u001b[1;32m     51\u001b[0m         \u001b[0;32mtry\u001b[0m\u001b[0;34m:\u001b[0m\u001b[0;34m\u001b[0m\u001b[0;34m\u001b[0m\u001b[0m\n\u001b[0;32m---> 52\u001b[0;31m             \u001b[0mself\u001b[0m\u001b[0;34m.\u001b[0m\u001b[0mmodel\u001b[0m\u001b[0;34m.\u001b[0m\u001b[0mload\u001b[0m\u001b[0;34m(\u001b[0m\u001b[0mself\u001b[0m\u001b[0;34m.\u001b[0m\u001b[0mconfig\u001b[0m\u001b[0;34m.\u001b[0m\u001b[0mW2V_MODEL_PATH\u001b[0m\u001b[0;34m)\u001b[0m\u001b[0;34m\u001b[0m\u001b[0;34m\u001b[0m\u001b[0m\n\u001b[0m\u001b[1;32m     53\u001b[0m         \u001b[0;32mexcept\u001b[0m \u001b[0mModelLoadException\u001b[0m \u001b[0;32mas\u001b[0m \u001b[0mex\u001b[0m\u001b[0;34m:\u001b[0m\u001b[0;34m\u001b[0m\u001b[0;34m\u001b[0m\u001b[0m\n\u001b[1;32m     54\u001b[0m             \u001b[0mlogging\u001b[0m\u001b[0;34m.\u001b[0m\u001b[0merror\u001b[0m\u001b[0;34m(\u001b[0m\u001b[0;34m\"Failed to load W2V model: %s\"\u001b[0m \u001b[0;34m%\u001b[0m \u001b[0mex\u001b[0m\u001b[0;34m)\u001b[0m\u001b[0;34m\u001b[0m\u001b[0;34m\u001b[0m\u001b[0m\n",
      "\u001b[0;32m~/Apps/log-anomaly-detector/anomaly_detector/model/base_model.py\u001b[0m in \u001b[0;36mload\u001b[0;34m(self, source)\u001b[0m\n\u001b[1;32m     17\u001b[0m         \u001b[0;34m\"\"\"Load a model from disk.\"\"\"\u001b[0m\u001b[0;34m\u001b[0m\u001b[0;34m\u001b[0m\u001b[0m\n\u001b[1;32m     18\u001b[0m         \u001b[0;32mif\u001b[0m \u001b[0;32mnot\u001b[0m \u001b[0mos\u001b[0m\u001b[0;34m.\u001b[0m\u001b[0mpath\u001b[0m\u001b[0;34m.\u001b[0m\u001b[0misfile\u001b[0m\u001b[0;34m(\u001b[0m\u001b[0msource\u001b[0m\u001b[0;34m)\u001b[0m\u001b[0;34m:\u001b[0m\u001b[0;34m\u001b[0m\u001b[0;34m\u001b[0m\u001b[0m\n\u001b[0;32m---> 19\u001b[0;31m             \u001b[0;32mraise\u001b[0m \u001b[0mModelLoadException\u001b[0m\u001b[0;34m(\u001b[0m\u001b[0;34m\"Could not load a model. File %s does not exist\"\u001b[0m \u001b[0;34m%\u001b[0m \u001b[0msource\u001b[0m\u001b[0;34m)\u001b[0m\u001b[0;34m\u001b[0m\u001b[0;34m\u001b[0m\u001b[0m\n\u001b[0m\u001b[1;32m     20\u001b[0m \u001b[0;34m\u001b[0m\u001b[0m\n\u001b[1;32m     21\u001b[0m         \u001b[0;32mtry\u001b[0m\u001b[0;34m:\u001b[0m\u001b[0;34m\u001b[0m\u001b[0;34m\u001b[0m\u001b[0m\n",
      "\u001b[0;31mModelLoadException\u001b[0m: Could not load a model. File /opt/anomaly_detector/models/W2V.model does not exist"
     ]
    }
   ],
   "source": [
    "cfg = Configuration()\n",
    "cfg.TRAIN_VECTOR_LENGTH = 25\n",
    "cfg.TRAIN_WINDOW = 5\n",
    "\n",
    "model = W2VModel(cfg)\n",
    "model.create(df, cfg.T)\n",
    "\n",
    "enc.encode_log(df)"
   ]
  },
  {
   "cell_type": "code",
   "execution_count": 97,
   "id": "456530cb",
   "metadata": {
    "scrolled": false
   },
   "outputs": [
    {
     "name": "stdout",
     "output_type": "stream",
     "text": [
      "11\n"
     ]
    },
    {
     "data": {
      "text/plain": [
       "{'DecUvectrastandardDETECTdetectioncategoryCOMMANDCONTROLtypeHiddenHTTPSTunnelhostnameavaskincurrentIPdvchostthreatcertaintyURLhttpsdetectionsdetailidDestinationIPDestinationDomainserankinghelpcrunchcomDestinationPortPrototcptriagedFalseBytesSentBytesRcvdUTCTimeStartUTCTimeEnd',\n",
       " 'DecUvectrastandardDETECTdetectioncategoryINFOtypeNovelExternalDestinationPorthostnamefaxsolidexminskbycurrentIPdvchostthreatcertaintyURLhttpsdetectionsdetailidDestinationIPDestinationDomainsiptelecombyDestinationPortProtoudptriagedFalseBytesSentBytesRcvdUTCTimeStartUTCTimeEnd',\n",
       " 'DecUvectrastandardHOSThostcategoryHOSTSCORINGhostNamematveypccurrentIPdvchostthreatcertaintyprivilegescoreDecreasesFalseURLhttpshostsUTCTimesourceKeyAssetFalsedestKeyAssetFalsehostRoles',\n",
       " 'DecUvectrastandardHOSThostcategoryHOSTSCORINGhostNamepaullptpcurrentIPdvchostthreatcertaintyprivilegescoreDecreasesFalseURLhttpshostsUTCTimesourceKeyAssetFalsedestKeyAssetTruehostRoles',\n",
       " 'DecUvectrastandardcampaignsCAMPAIGNcampaignidactionADDreasonConnectiondvcdvchostdetectionIdNonehostnameavaskincurrentIPsourceidURLhttpscampaignsdstHostviyajivositecomDestinationIPdestIDexternaltimestamp',\n",
       " 'NovUvectrastandardcampaignsCAMPAIGNcampaignidactionADDreasonConnectiondvcdvchostdetectionIdNonehostnameavaskincurrentIPsourceidURLhttpscampaignsdstHostviyajivositecomDestinationIPdestIDexternaltimestamp',\n",
       " 'datetimedevnameSLXFGVMdevidFGVMlogidtypeeventsubtypesystemlevelinformationvdrooteventtimetzlogdescDHCPstatisticsinterfaceporttotalusedmsgDHCPstatistics',\n",
       " 'datetimedevnameSLXFGVMdevidFGVMlogidtypeeventsubtypesystemlevelinformationvdrooteventtimetzlogdescOutdatedreportfilesdeletedmsgDeleteoldreportfiles',\n",
       " 'datetimedevnameSLXFGVMdevidFGVMlogidtypeeventsubtypesystemlevelnoticevdrooteventtimetzlogdescSystemperformancestatisticsactionperfstatscpumemtotalsessiondiskbandwidthsetupratedisklogratefazlogratefreediskstoragesysuptimemsgPerformancestatisticsaverageCPUmemoryconcurrentsessionssetuprate',\n",
       " 'datetimedevnameSLXFGVMdevidFGVMlogidtypetrafficsubtypeforwardlevelnoticevdrooteventtimetzsrcipsrcnamesrcportsrcintfportsrcintfrolelandstipdstnamesiptelecombydstportdstintfportdstintfrolewansessionidprotoactionacceptpolicyidpolicytypepolicypoluuidddaabeffcserviceSIPdstcountryBelarussrccountryReservedtrandispsnattransiptransportdurationsentbytercvdbytesentpktrcvdpktappcatunscannedsentdeltarcvddeltamastersrcmacccadesrcmacccadesrcserver',\n",
       " 'datetimedevnameSLXFGVMdevidFGVMlogidtypeutmsubtypevoipeventtypevoiplevelinformationvdrooteventtimetzsessionidepocheventidsrcipsrcportdstipdstportprotosrcintportdstintportpolicyidprofiledefaultvoipprotosipkindregisteractionpermitstatussucceededdurationdirsessionorigincallidafabaeccbfromsipsiptelecombytosipsiptelecomby'}"
      ]
     },
     "execution_count": 97,
     "metadata": {},
     "output_type": "execute_result"
    }
   ],
   "source": [
    "# Get different messages\n",
    "print(len(set(df[\"message\"])))\n",
    "set(df[\"message\"])"
   ]
  },
  {
   "cell_type": "code",
   "execution_count": 98,
   "id": "30a63d32",
   "metadata": {},
   "outputs": [],
   "source": [
    "vectors = enc.one_vector(df_logs[0])"
   ]
  },
  {
   "cell_type": "code",
   "execution_count": 99,
   "id": "0d6eb5a1",
   "metadata": {},
   "outputs": [
    {
     "name": "stdout",
     "output_type": "stream",
     "text": [
      "[-1  0  1  2  3  4]\n"
     ]
    },
    {
     "data": {
      "text/plain": [
       "array([-1, -1,  0, -1, -1,  0,  1,  1,  1,  1,  1,  1,  1,  1, -1, -1,  2,\n",
       "        2,  2,  2,  2,  2,  2,  2,  2,  2,  2,  2,  2,  2,  2,  2,  2,  2,\n",
       "        2,  2,  2,  2,  2,  2,  2,  2,  3,  3,  3,  3,  3,  3,  3,  3,  3,\n",
       "        3,  3,  3,  3,  3,  3,  3,  3,  3,  3,  3,  3,  3,  3,  3,  3,  3,\n",
       "        3,  3,  3,  3,  3,  3,  3,  3,  3,  3,  3,  3,  3,  3,  3,  3,  3,\n",
       "        3,  3,  3,  3,  3,  3,  3,  3,  3,  3,  3,  3,  3,  3,  2,  2,  2,\n",
       "        2,  2,  2,  2,  2,  2,  2,  2,  2,  2,  2,  2,  2,  2,  2,  2,  2,\n",
       "        2,  2,  2,  2,  2,  2,  2,  4,  4,  2,  2,  2,  2,  2,  2,  2,  2,\n",
       "        2,  2,  2,  2,  2,  2,  2,  2,  2,  2,  2,  2,  2,  2,  2,  2,  2,\n",
       "        2,  2,  2,  2,  2,  2,  2,  2,  2,  2,  2,  2,  2,  2,  2,  2,  2,\n",
       "        2,  2,  2,  2,  2,  2,  2,  2,  3,  3,  3,  3,  3,  3,  3,  3,  3,\n",
       "        3,  3,  3,  3,  3,  3,  3,  3,  3,  3,  3,  3,  3,  3,  3,  3,  3,\n",
       "        3,  3,  3,  3,  3,  3,  3,  3,  3,  3,  3,  3,  3,  3,  3,  3,  3,\n",
       "        3,  3,  3,  3,  3,  3,  2,  2,  2,  2,  2,  2,  2,  2,  2,  2,  2,\n",
       "        2,  2,  2,  2,  2,  2,  2,  2,  2,  2,  2,  2,  2,  2,  2,  2,  2,\n",
       "        2,  2,  2,  2,  2,  2,  2,  2,  2,  2,  2,  2,  2,  2,  2,  2,  2,\n",
       "        2,  2,  2,  2,  2,  2])"
      ]
     },
     "execution_count": 99,
     "metadata": {},
     "output_type": "execute_result"
    }
   ],
   "source": [
    "dbscan = DBSCAN(eps=0.05, min_samples=2)\n",
    "clusters = dbscan.fit_predict(vectors)\n",
    "print(np.unique(clusters))\n",
    "clusters"
   ]
  },
  {
   "cell_type": "markdown",
   "id": "f54fc042",
   "metadata": {},
   "source": [
    "# Visualization"
   ]
  },
  {
   "cell_type": "markdown",
   "id": "bfe2463e",
   "metadata": {},
   "source": [
    "## PCA"
   ]
  },
  {
   "cell_type": "code",
   "execution_count": 100,
   "id": "40e65e16",
   "metadata": {},
   "outputs": [],
   "source": [
    "from sklearn.decomposition import PCA"
   ]
  },
  {
   "cell_type": "code",
   "execution_count": 101,
   "id": "efa5396e",
   "metadata": {},
   "outputs": [],
   "source": [
    "pca = PCA(n_components = 2, random_state = 0)\n",
    "data_2d_pca = pca.fit_transform(vectors)"
   ]
  },
  {
   "cell_type": "code",
   "execution_count": 102,
   "id": "059813c8",
   "metadata": {},
   "outputs": [
    {
     "name": "stdout",
     "output_type": "stream",
     "text": [
      "Populating the interactive namespace from numpy and matplotlib\n"
     ]
    }
   ],
   "source": [
    "%pylab inline"
   ]
  },
  {
   "cell_type": "code",
   "execution_count": 109,
   "id": "92ae4785",
   "metadata": {
    "scrolled": false
   },
   "outputs": [
    {
     "data": {
      "text/plain": [
       "<matplotlib.legend.Legend at 0x7f439cb952e0>"
      ]
     },
     "execution_count": 109,
     "metadata": {},
     "output_type": "execute_result"
    },
    {
     "data": {
      "image/png": "[encoded data removed]",
      "text/plain": [
       "<Figure size 720x432 with 1 Axes>"
      ]
     },
     "metadata": {
      "needs_background": "light"
     },
     "output_type": "display_data"
    }
   ],
   "source": [
    "pylab.figure(figsize=(10, 6))\n",
    "scat = pylab.scatter(data_2d_pca[:, 0], data_2d_pca[:, 1], c=list(df[\"cluster\"]))\n",
    "pylab.legend(*scat.legend_elements(num=\"auto\"))"
   ]
  },
  {
   "cell_type": "markdown",
   "id": "5bbd2b73",
   "metadata": {},
   "source": [
    "# Aggregation"
   ]
  },
  {
   "cell_type": "code",
   "execution_count": 104,
   "id": "32a3b95f",
   "metadata": {},
   "outputs": [],
   "source": [
    "df['cluster'] = clusters"
   ]
  },
  {
   "cell_type": "code",
   "execution_count": 105,
   "id": "d1efdb1d",
   "metadata": {},
   "outputs": [],
   "source": [
    "messages = []\n",
    "for i in list(df.loc[df['cluster'] == 2].index):\n",
    "    messages.append(df_logs[1][i][\"message\"])"
   ]
  },
  {
   "cell_type": "code",
   "execution_count": 106,
   "id": "17122cb4",
   "metadata": {
    "scrolled": true
   },
   "outputs": [
    {
     "data": {
      "text/plain": [
       "['<190>date=2021-11-29 time=21:56:50 devname=\"SLX-FG-VM-166\" devid=\"FGVM010000010982\" logid=\"0100020027\" type=\"event\" subtype=\"system\" level=\"information\" vd=\"root\" eventtime=1638212212000307410 tz=\"+0300\" logdesc=\"Outdated report files deleted\" msg=\"Delete 3 old report files\"',\n",
       " '<190>date=2021-11-29 time=21:51:49 devname=\"SLX-FG-VM-166\" devid=\"FGVM010000010982\" logid=\"0100020027\" type=\"event\" subtype=\"system\" level=\"information\" vd=\"root\" eventtime=1638211911997278032 tz=\"+0300\" logdesc=\"Outdated report files deleted\" msg=\"Delete 3 old report files\"',\n",
       " '<190>date=2021-11-29 time=21:51:04 devname=\"SLX-FG-VM-165\" devid=\"FGVM010000010981\" logid=\"0100020027\" type=\"event\" subtype=\"system\" level=\"information\" vd=\"root\" eventtime=1638211865418869407 tz=\"+0300\" logdesc=\"Outdated report files deleted\" msg=\"Delete 13 old report files\"',\n",
       " '<190>date=2021-11-26 time=06:11:50 devname=\"SLX-FG-VM-166\" devid=\"FGVM010000010982\" logid=\"0100020027\" type=\"event\" subtype=\"system\" level=\"information\" vd=\"root\" eventtime=1637896310599479310 tz=\"+0300\" logdesc=\"Outdated report files deleted\" msg=\"Delete 6 old report files\"',\n",
       " '<190>date=2021-11-26 time=19:21:49 devname=\"SLX-FG-VM-166\" devid=\"FGVM010000010982\" logid=\"0100020027\" type=\"event\" subtype=\"system\" level=\"information\" vd=\"root\" eventtime=1637943710817661840 tz=\"+0300\" logdesc=\"Outdated report files deleted\" msg=\"Delete 3 old report files\"',\n",
       " '<190>date=2021-11-25 time=15:11:07 devname=\"SLX-FG-VM-165\" devid=\"FGVM010000010981\" logid=\"0100020027\" type=\"event\" subtype=\"system\" level=\"information\" vd=\"root\" eventtime=1637842268468895016 tz=\"+0300\" logdesc=\"Outdated report files deleted\" msg=\"Delete 2 old report files\"',\n",
       " '<190>date=2021-11-26 time=19:21:37 devname=\"SLX-FG-VM-166\" devid=\"FGVM010000010982\" logid=\"0100020027\" type=\"event\" subtype=\"system\" level=\"information\" vd=\"root\" eventtime=1637943697887889601 tz=\"+0300\" logdesc=\"Outdated report files deleted\" msg=\"Delete 36 old report files\"',\n",
       " '<190>date=2021-11-26 time=06:11:09 devname=\"SLX-FG-VM-165\" devid=\"FGVM010000010981\" logid=\"0100020027\" type=\"event\" subtype=\"system\" level=\"information\" vd=\"root\" eventtime=1637896269238674353 tz=\"+0300\" logdesc=\"Outdated report files deleted\" msg=\"Delete 2 old report files\"',\n",
       " '<190>date=2021-11-25 time=20:06:50 devname=\"SLX-FG-VM-166\" devid=\"FGVM010000010982\" logid=\"0100020027\" type=\"event\" subtype=\"system\" level=\"information\" vd=\"root\" eventtime=1637860010480015188 tz=\"+0300\" logdesc=\"Outdated report files deleted\" msg=\"Delete 3 old report files\"',\n",
       " '<190>date=2021-11-26 time=19:21:09 devname=\"SLX-FG-VM-165\" devid=\"FGVM010000010981\" logid=\"0100020027\" type=\"event\" subtype=\"system\" level=\"information\" vd=\"root\" eventtime=1637943669884845154 tz=\"+0300\" logdesc=\"Outdated report files deleted\" msg=\"Delete 1 old report files\"',\n",
       " '<190>date=2021-11-26 time=09:36:50 devname=\"SLX-FG-VM-166\" devid=\"FGVM010000010982\" logid=\"0100020027\" type=\"event\" subtype=\"system\" level=\"information\" vd=\"root\" eventtime=1637908610606036269 tz=\"+0300\" logdesc=\"Outdated report files deleted\" msg=\"Delete 5 old report files\"',\n",
       " '<190>date=2021-11-25 time=15:01:08 devname=\"SLX-FG-VM-165\" devid=\"FGVM010000010981\" logid=\"0100020027\" type=\"event\" subtype=\"system\" level=\"information\" vd=\"root\" eventtime=1637841668465874620 tz=\"+0300\" logdesc=\"Outdated report files deleted\" msg=\"Delete 3 old report files\"',\n",
       " '<190>date=2021-11-25 time=20:06:07 devname=\"SLX-FG-VM-165\" devid=\"FGVM010000010981\" logid=\"0100020027\" type=\"event\" subtype=\"system\" level=\"information\" vd=\"root\" eventtime=1637859968729731098 tz=\"+0300\" logdesc=\"Outdated report files deleted\" msg=\"Delete 1 old report files\"',\n",
       " '<190>date=2021-11-25 time=15:26:08 devname=\"SLX-FG-VM-165\" devid=\"FGVM010000010981\" logid=\"0100020027\" type=\"event\" subtype=\"system\" level=\"information\" vd=\"root\" eventtime=1637843168467508562 tz=\"+0300\" logdesc=\"Outdated report files deleted\" msg=\"Delete 1 old report files\"',\n",
       " '<190>date=2021-11-25 time=20:11:48 devname=\"SLX-FG-VM-166\" devid=\"FGVM010000010982\" logid=\"0100020027\" type=\"event\" subtype=\"system\" level=\"information\" vd=\"root\" eventtime=1637860310477052809 tz=\"+0300\" logdesc=\"Outdated report files deleted\" msg=\"Delete 5 old report files\"',\n",
       " '<190>date=2021-11-26 time=09:41:08 devname=\"SLX-FG-VM-165\" devid=\"FGVM010000010981\" logid=\"0100020027\" type=\"event\" subtype=\"system\" level=\"information\" vd=\"root\" eventtime=1637908869385965990 tz=\"+0300\" logdesc=\"Outdated report files deleted\" msg=\"Delete 1 old report files\"',\n",
       " '<190>date=2021-11-25 time=15:11:50 devname=\"SLX-FG-VM-166\" devid=\"FGVM010000010982\" logid=\"0100020027\" type=\"event\" subtype=\"system\" level=\"information\" vd=\"root\" eventtime=1637842310386997111 tz=\"+0300\" logdesc=\"Outdated report files deleted\" msg=\"Delete 8 old report files\"',\n",
       " '<190>date=2021-11-25 time=20:11:08 devname=\"SLX-FG-VM-165\" devid=\"FGVM010000010981\" logid=\"0100020027\" type=\"event\" subtype=\"system\" level=\"information\" vd=\"root\" eventtime=1637860268732418659 tz=\"+0300\" logdesc=\"Outdated report files deleted\" msg=\"Delete 2 old report files\"',\n",
       " '<190>date=2021-11-26 time=09:36:50 devname=\"SLX-FG-VM-166\" devid=\"FGVM010000010982\" logid=\"0100020027\" type=\"event\" subtype=\"system\" level=\"information\" vd=\"root\" eventtime=1637908610606036269 tz=\"+0300\" logdesc=\"Outdated report files deleted\" msg=\"Delete 5 old report files\"',\n",
       " '<190>date=2021-11-26 time=09:31:50 devname=\"SLX-FG-VM-166\" devid=\"FGVM010000010982\" logid=\"0100020027\" type=\"event\" subtype=\"system\" level=\"information\" vd=\"root\" eventtime=1637908310608708424 tz=\"+0300\" logdesc=\"Outdated report files deleted\" msg=\"Delete 5 old report files\"',\n",
       " '<190>date=2021-11-26 time=06:16:07 devname=\"SLX-FG-VM-165\" devid=\"FGVM010000010981\" logid=\"0100020027\" type=\"event\" subtype=\"system\" level=\"information\" vd=\"root\" eventtime=1637896569230730032 tz=\"+0300\" logdesc=\"Outdated report files deleted\" msg=\"Delete 1 old report files\"',\n",
       " '<190>date=2021-11-25 time=15:26:08 devname=\"SLX-FG-VM-165\" devid=\"FGVM010000010981\" logid=\"0100020027\" type=\"event\" subtype=\"system\" level=\"information\" vd=\"root\" eventtime=1637843168467508562 tz=\"+0300\" logdesc=\"Outdated report files deleted\" msg=\"Delete 1 old report files\"',\n",
       " '<190>date=2021-11-25 time=20:11:48 devname=\"SLX-FG-VM-166\" devid=\"FGVM010000010982\" logid=\"0100020027\" type=\"event\" subtype=\"system\" level=\"information\" vd=\"root\" eventtime=1637860310477052809 tz=\"+0300\" logdesc=\"Outdated report files deleted\" msg=\"Delete 5 old report files\"',\n",
       " '<190>date=2021-11-25 time=20:11:08 devname=\"SLX-FG-VM-165\" devid=\"FGVM010000010981\" logid=\"0100020027\" type=\"event\" subtype=\"system\" level=\"information\" vd=\"root\" eventtime=1637860268732418659 tz=\"+0300\" logdesc=\"Outdated report files deleted\" msg=\"Delete 2 old report files\"',\n",
       " '<190>date=2021-11-26 time=09:36:50 devname=\"SLX-FG-VM-166\" devid=\"FGVM010000010982\" logid=\"0100020027\" type=\"event\" subtype=\"system\" level=\"information\" vd=\"root\" eventtime=1637908610606036269 tz=\"+0300\" logdesc=\"Outdated report files deleted\" msg=\"Delete 5 old report files\"',\n",
       " '<190>date=2021-11-26 time=09:31:50 devname=\"SLX-FG-VM-166\" devid=\"FGVM010000010982\" logid=\"0100020027\" type=\"event\" subtype=\"system\" level=\"information\" vd=\"root\" eventtime=1637908310608708424 tz=\"+0300\" logdesc=\"Outdated report files deleted\" msg=\"Delete 5 old report files\"',\n",
       " '<190>date=2021-11-26 time=06:16:50 devname=\"SLX-FG-VM-166\" devid=\"FGVM010000010982\" logid=\"0100020027\" type=\"event\" subtype=\"system\" level=\"information\" vd=\"root\" eventtime=1637896610596323885 tz=\"+0300\" logdesc=\"Outdated report files deleted\" msg=\"Delete 2 old report files\"',\n",
       " '<190>date=2021-11-25 time=20:11:48 devname=\"SLX-FG-VM-166\" devid=\"FGVM010000010982\" logid=\"0100020027\" type=\"event\" subtype=\"system\" level=\"information\" vd=\"root\" eventtime=1637860310477052809 tz=\"+0300\" logdesc=\"Outdated report files deleted\" msg=\"Delete 5 old report files\"',\n",
       " '<190>date=2021-11-26 time=14:16:49 devname=\"SLX-FG-VM-166\" devid=\"FGVM010000010982\" logid=\"0100020027\" type=\"event\" subtype=\"system\" level=\"information\" vd=\"root\" eventtime=1637925410652382964 tz=\"+0300\" logdesc=\"Outdated report files deleted\" msg=\"Delete 3 old report files\"',\n",
       " '<190>date=2021-11-26 time=14:16:07 devname=\"SLX-FG-VM-165\" devid=\"FGVM010000010981\" logid=\"0100020027\" type=\"event\" subtype=\"system\" level=\"information\" vd=\"root\" eventtime=1637925369629596687 tz=\"+0300\" logdesc=\"Outdated report files deleted\" msg=\"Delete 1 old report files\"',\n",
       " '<190>date=2021-11-26 time=09:36:50 devname=\"SLX-FG-VM-166\" devid=\"FGVM010000010982\" logid=\"0100020027\" type=\"event\" subtype=\"system\" level=\"information\" vd=\"root\" eventtime=1637908610606036269 tz=\"+0300\" logdesc=\"Outdated report files deleted\" msg=\"Delete 5 old report files\"',\n",
       " '<190>date=2021-11-25 time=20:06:50 devname=\"SLX-FG-VM-166\" devid=\"FGVM010000010982\" logid=\"0100020027\" type=\"event\" subtype=\"system\" level=\"information\" vd=\"root\" eventtime=1637860010480015188 tz=\"+0300\" logdesc=\"Outdated report files deleted\" msg=\"Delete 3 old report files\"',\n",
       " '<190>date=2021-11-26 time=06:11:50 devname=\"SLX-FG-VM-166\" devid=\"FGVM010000010982\" logid=\"0100020027\" type=\"event\" subtype=\"system\" level=\"information\" vd=\"root\" eventtime=1637896310599479310 tz=\"+0300\" logdesc=\"Outdated report files deleted\" msg=\"Delete 6 old report files\"',\n",
       " '<190>date=2021-11-25 time=20:06:07 devname=\"SLX-FG-VM-165\" devid=\"FGVM010000010981\" logid=\"0100020027\" type=\"event\" subtype=\"system\" level=\"information\" vd=\"root\" eventtime=1637859968729731098 tz=\"+0300\" logdesc=\"Outdated report files deleted\" msg=\"Delete 1 old report files\"',\n",
       " '<190>date=2021-11-25 time=15:01:08 devname=\"SLX-FG-VM-165\" devid=\"FGVM010000010981\" logid=\"0100020027\" type=\"event\" subtype=\"system\" level=\"information\" vd=\"root\" eventtime=1637841668465874620 tz=\"+0300\" logdesc=\"Outdated report files deleted\" msg=\"Delete 3 old report files\"',\n",
       " '<190>date=2021-11-26 time=09:31:50 devname=\"SLX-FG-VM-166\" devid=\"FGVM010000010982\" logid=\"0100020027\" type=\"event\" subtype=\"system\" level=\"information\" vd=\"root\" eventtime=1637908310608708424 tz=\"+0300\" logdesc=\"Outdated report files deleted\" msg=\"Delete 5 old report files\"',\n",
       " '<190>date=2021-11-26 time=14:21:37 devname=\"SLX-FG-VM-166\" devid=\"FGVM010000010982\" logid=\"0100020027\" type=\"event\" subtype=\"system\" level=\"information\" vd=\"root\" eventtime=1637925697881931518 tz=\"+0300\" logdesc=\"Outdated report files deleted\" msg=\"Delete 12 old report files\"',\n",
       " '<190>date=2021-11-26 time=14:21:36 devname=\"SLX-FG-VM-166\" devid=\"FGVM010000010982\" logid=\"0100020027\" type=\"event\" subtype=\"system\" level=\"information\" vd=\"root\" eventtime=1637925697881272608 tz=\"+0300\" logdesc=\"Outdated report files deleted\" msg=\"Delete 38 old report files\"',\n",
       " '<190>date=2021-11-26 time=14:21:07 devname=\"SLX-FG-VM-165\" devid=\"FGVM010000010981\" logid=\"0100020027\" type=\"event\" subtype=\"system\" level=\"information\" vd=\"root\" eventtime=1637925669633465073 tz=\"+0300\" logdesc=\"Outdated report files deleted\" msg=\"Delete 2 old report files\"',\n",
       " '<190>date=2021-11-25 time=15:26:08 devname=\"SLX-FG-VM-165\" devid=\"FGVM010000010981\" logid=\"0100020027\" type=\"event\" subtype=\"system\" level=\"information\" vd=\"root\" eventtime=1637843168467508562 tz=\"+0300\" logdesc=\"Outdated report files deleted\" msg=\"Delete 1 old report files\"',\n",
       " '<190>date=2021-11-25 time=20:06:50 devname=\"SLX-FG-VM-166\" devid=\"FGVM010000010982\" logid=\"0100020027\" type=\"event\" subtype=\"system\" level=\"information\" vd=\"root\" eventtime=1637860010480015188 tz=\"+0300\" logdesc=\"Outdated report files deleted\" msg=\"Delete 3 old report files\"',\n",
       " '<190>date=2021-11-26 time=14:16:49 devname=\"SLX-FG-VM-166\" devid=\"FGVM010000010982\" logid=\"0100020027\" type=\"event\" subtype=\"system\" level=\"information\" vd=\"root\" eventtime=1637925410652382964 tz=\"+0300\" logdesc=\"Outdated report files deleted\" msg=\"Delete 3 old report files\"',\n",
       " '<190>date=2021-11-26 time=06:11:50 devname=\"SLX-FG-VM-166\" devid=\"FGVM010000010982\" logid=\"0100020027\" type=\"event\" subtype=\"system\" level=\"information\" vd=\"root\" eventtime=1637896310599479310 tz=\"+0300\" logdesc=\"Outdated report files deleted\" msg=\"Delete 6 old report files\"',\n",
       " '<190>date=2021-11-26 time=14:16:07 devname=\"SLX-FG-VM-165\" devid=\"FGVM010000010981\" logid=\"0100020027\" type=\"event\" subtype=\"system\" level=\"information\" vd=\"root\" eventtime=1637925369629596687 tz=\"+0300\" logdesc=\"Outdated report files deleted\" msg=\"Delete 1 old report files\"',\n",
       " '<190>date=2021-11-25 time=13:11:49 devname=\"SLX-FG-VM-166\" devid=\"FGVM010000010982\" logid=\"0100020027\" type=\"event\" subtype=\"system\" level=\"information\" vd=\"root\" eventtime=1637835110333309825 tz=\"+0300\" logdesc=\"Outdated report files deleted\" msg=\"Delete 5 old report files\"',\n",
       " '<190>date=2021-11-26 time=06:11:09 devname=\"SLX-FG-VM-165\" devid=\"FGVM010000010981\" logid=\"0100020027\" type=\"event\" subtype=\"system\" level=\"information\" vd=\"root\" eventtime=1637896269238674353 tz=\"+0300\" logdesc=\"Outdated report files deleted\" msg=\"Delete 2 old report files\"',\n",
       " '<190>date=2021-11-26 time=09:36:50 devname=\"SLX-FG-VM-166\" devid=\"FGVM010000010982\" logid=\"0100020027\" type=\"event\" subtype=\"system\" level=\"information\" vd=\"root\" eventtime=1637908610606036269 tz=\"+0300\" logdesc=\"Outdated report files deleted\" msg=\"Delete 5 old report files\"',\n",
       " '<190>date=2021-11-26 time=15:31:50 devname=\"SLX-FG-VM-166\" devid=\"FGVM010000010982\" logid=\"0100020027\" type=\"event\" subtype=\"system\" level=\"information\" vd=\"root\" eventtime=1637929910695515820 tz=\"+0300\" logdesc=\"Outdated report files deleted\" msg=\"Delete 5 old report files\"',\n",
       " '<190>date=2021-11-26 time=14:16:49 devname=\"SLX-FG-VM-166\" devid=\"FGVM010000010982\" logid=\"0100020027\" type=\"event\" subtype=\"system\" level=\"information\" vd=\"root\" eventtime=1637925410652382964 tz=\"+0300\" logdesc=\"Outdated report files deleted\" msg=\"Delete 3 old report files\"',\n",
       " '<190>date=2021-11-26 time=09:31:50 devname=\"SLX-FG-VM-166\" devid=\"FGVM010000010982\" logid=\"0100020027\" type=\"event\" subtype=\"system\" level=\"information\" vd=\"root\" eventtime=1637908310608708424 tz=\"+0300\" logdesc=\"Outdated report files deleted\" msg=\"Delete 5 old report files\"',\n",
       " '<190>date=2021-11-25 time=16:01:49 devname=\"SLX-FG-VM-166\" devid=\"FGVM010000010982\" logid=\"0100020027\" type=\"event\" subtype=\"system\" level=\"information\" vd=\"root\" eventtime=1637845310399417055 tz=\"+0300\" logdesc=\"Outdated report files deleted\" msg=\"Delete 3 old report files\"',\n",
       " '<190>date=2021-11-25 time=15:01:08 devname=\"SLX-FG-VM-165\" devid=\"FGVM010000010981\" logid=\"0100020027\" type=\"event\" subtype=\"system\" level=\"information\" vd=\"root\" eventtime=1637841668465874620 tz=\"+0300\" logdesc=\"Outdated report files deleted\" msg=\"Delete 3 old report files\"',\n",
       " '<190>date=2021-11-25 time=20:06:07 devname=\"SLX-FG-VM-165\" devid=\"FGVM010000010981\" logid=\"0100020027\" type=\"event\" subtype=\"system\" level=\"information\" vd=\"root\" eventtime=1637859968729731098 tz=\"+0300\" logdesc=\"Outdated report files deleted\" msg=\"Delete 1 old report files\"',\n",
       " '<190>date=2021-11-25 time=13:11:49 devname=\"SLX-FG-VM-166\" devid=\"FGVM010000010982\" logid=\"0100020027\" type=\"event\" subtype=\"system\" level=\"information\" vd=\"root\" eventtime=1637835110333309825 tz=\"+0300\" logdesc=\"Outdated report files deleted\" msg=\"Delete 5 old report files\"',\n",
       " '<190>date=2021-11-26 time=08:36:50 devname=\"SLX-FG-VM-166\" devid=\"FGVM010000010982\" logid=\"0100020027\" type=\"event\" subtype=\"system\" level=\"information\" vd=\"root\" eventtime=1637905010607575250 tz=\"+0300\" logdesc=\"Outdated report files deleted\" msg=\"Delete 4 old report files\"',\n",
       " '<190>date=2021-11-26 time=05:31:48 devname=\"SLX-FG-VM-166\" devid=\"FGVM010000010982\" logid=\"0100020027\" type=\"event\" subtype=\"system\" level=\"information\" vd=\"root\" eventtime=1637893910587959786 tz=\"+0300\" logdesc=\"Outdated report files deleted\" msg=\"Delete 4 old report files\"',\n",
       " '<190>date=2021-11-26 time=06:11:09 devname=\"SLX-FG-VM-165\" devid=\"FGVM010000010981\" logid=\"0100020027\" type=\"event\" subtype=\"system\" level=\"information\" vd=\"root\" eventtime=1637896269238674353 tz=\"+0300\" logdesc=\"Outdated report files deleted\" msg=\"Delete 2 old report files\"',\n",
       " '<190>date=2021-11-25 time=20:11:48 devname=\"SLX-FG-VM-166\" devid=\"FGVM010000010982\" logid=\"0100020027\" type=\"event\" subtype=\"system\" level=\"information\" vd=\"root\" eventtime=1637860310477052809 tz=\"+0300\" logdesc=\"Outdated report files deleted\" msg=\"Delete 5 old report files\"',\n",
       " '<190>date=2021-11-26 time=09:31:50 devname=\"SLX-FG-VM-166\" devid=\"FGVM010000010982\" logid=\"0100020027\" type=\"event\" subtype=\"system\" level=\"information\" vd=\"root\" eventtime=1637908310608708424 tz=\"+0300\" logdesc=\"Outdated report files deleted\" msg=\"Delete 5 old report files\"',\n",
       " '<190>date=2021-11-26 time=08:36:08 devname=\"SLX-FG-VM-165\" devid=\"FGVM010000010981\" logid=\"0100020027\" type=\"event\" subtype=\"system\" level=\"information\" vd=\"root\" eventtime=1637904969344093097 tz=\"+0300\" logdesc=\"Outdated report files deleted\" msg=\"Delete 1 old report files\"',\n",
       " '<190>date=2021-11-26 time=05:31:09 devname=\"SLX-FG-VM-165\" devid=\"FGVM010000010981\" logid=\"0100020027\" type=\"event\" subtype=\"system\" level=\"information\" vd=\"root\" eventtime=1637893869194615354 tz=\"+0300\" logdesc=\"Outdated report files deleted\" msg=\"Delete 1 old report files\"',\n",
       " '<190>date=2021-11-25 time=20:11:08 devname=\"SLX-FG-VM-165\" devid=\"FGVM010000010981\" logid=\"0100020027\" type=\"event\" subtype=\"system\" level=\"information\" vd=\"root\" eventtime=1637860268732418659 tz=\"+0300\" logdesc=\"Outdated report files deleted\" msg=\"Delete 2 old report files\"',\n",
       " '<190>date=2021-11-25 time=15:01:08 devname=\"SLX-FG-VM-165\" devid=\"FGVM010000010981\" logid=\"0100020027\" type=\"event\" subtype=\"system\" level=\"information\" vd=\"root\" eventtime=1637841668465874620 tz=\"+0300\" logdesc=\"Outdated report files deleted\" msg=\"Delete 3 old report files\"',\n",
       " '<190>date=2021-11-25 time=15:11:50 devname=\"SLX-FG-VM-166\" devid=\"FGVM010000010982\" logid=\"0100020027\" type=\"event\" subtype=\"system\" level=\"information\" vd=\"root\" eventtime=1637842310386997111 tz=\"+0300\" logdesc=\"Outdated report files deleted\" msg=\"Delete 8 old report files\"',\n",
       " '<190>date=2021-11-25 time=15:26:08 devname=\"SLX-FG-VM-165\" devid=\"FGVM010000010981\" logid=\"0100020027\" type=\"event\" subtype=\"system\" level=\"information\" vd=\"root\" eventtime=1637843168467508562 tz=\"+0300\" logdesc=\"Outdated report files deleted\" msg=\"Delete 1 old report files\"',\n",
       " '<190>date=2021-11-25 time=16:01:49 devname=\"SLX-FG-VM-166\" devid=\"FGVM010000010982\" logid=\"0100020027\" type=\"event\" subtype=\"system\" level=\"information\" vd=\"root\" eventtime=1637845310399417055 tz=\"+0300\" logdesc=\"Outdated report files deleted\" msg=\"Delete 3 old report files\"',\n",
       " '<190>date=2021-11-25 time=20:06:50 devname=\"SLX-FG-VM-166\" devid=\"FGVM010000010982\" logid=\"0100020027\" type=\"event\" subtype=\"system\" level=\"information\" vd=\"root\" eventtime=1637860010480015188 tz=\"+0300\" logdesc=\"Outdated report files deleted\" msg=\"Delete 3 old report files\"',\n",
       " '<190>date=2021-11-25 time=20:06:07 devname=\"SLX-FG-VM-165\" devid=\"FGVM010000010981\" logid=\"0100020027\" type=\"event\" subtype=\"system\" level=\"information\" vd=\"root\" eventtime=1637859968729731098 tz=\"+0300\" logdesc=\"Outdated report files deleted\" msg=\"Delete 1 old report files\"',\n",
       " '<190>date=2021-11-26 time=08:31:07 devname=\"SLX-FG-VM-165\" devid=\"FGVM010000010981\" logid=\"0100020027\" type=\"event\" subtype=\"system\" level=\"information\" vd=\"root\" eventtime=1637904669345437162 tz=\"+0300\" logdesc=\"Outdated report files deleted\" msg=\"Delete 1 old report files\"',\n",
       " '<190>date=2021-11-25 time=15:11:07 devname=\"SLX-FG-VM-165\" devid=\"FGVM010000010981\" logid=\"0100020027\" type=\"event\" subtype=\"system\" level=\"information\" vd=\"root\" eventtime=1637842268468895016 tz=\"+0300\" logdesc=\"Outdated report files deleted\" msg=\"Delete 2 old report files\"',\n",
       " '<190>date=2021-11-26 time=04:01:49 devname=\"SLX-FG-VM-166\" devid=\"FGVM010000010982\" logid=\"0100020027\" type=\"event\" subtype=\"system\" level=\"information\" vd=\"root\" eventtime=1637888510564976020 tz=\"+0300\" logdesc=\"Outdated report files deleted\" msg=\"Delete 4 old report files\"',\n",
       " '<190>date=2021-11-26 time=04:01:08 devname=\"SLX-FG-VM-165\" devid=\"FGVM010000010981\" logid=\"0100020027\" type=\"event\" subtype=\"system\" level=\"information\" vd=\"root\" eventtime=1637888469150214778 tz=\"+0300\" logdesc=\"Outdated report files deleted\" msg=\"Delete 2 old report files\"',\n",
       " '<190>date=2021-11-26 time=12:56:08 devname=\"SLX-FG-VM-165\" devid=\"FGVM010000010981\" logid=\"0100020027\" type=\"event\" subtype=\"system\" level=\"information\" vd=\"root\" eventtime=1637920569554128621 tz=\"+0300\" logdesc=\"Outdated report files deleted\" msg=\"Delete 1 old report files\"',\n",
       " '<190>date=2021-11-26 time=12:56:49 devname=\"SLX-FG-VM-166\" devid=\"FGVM010000010982\" logid=\"0100020027\" type=\"event\" subtype=\"system\" level=\"information\" vd=\"root\" eventtime=1637920610636597679 tz=\"+0300\" logdesc=\"Outdated report files deleted\" msg=\"Delete 5 old report files\"',\n",
       " '<190>date=2021-11-25 time=16:01:49 devname=\"SLX-FG-VM-166\" devid=\"FGVM010000010982\" logid=\"0100020027\" type=\"event\" subtype=\"system\" level=\"information\" vd=\"root\" eventtime=1637845310399417055 tz=\"+0300\" logdesc=\"Outdated report files deleted\" msg=\"Delete 3 old report files\"',\n",
       " '<190>date=2021-11-26 time=05:31:48 devname=\"SLX-FG-VM-166\" devid=\"FGVM010000010982\" logid=\"0100020027\" type=\"event\" subtype=\"system\" level=\"information\" vd=\"root\" eventtime=1637893910587959786 tz=\"+0300\" logdesc=\"Outdated report files deleted\" msg=\"Delete 4 old report files\"',\n",
       " '<190>date=2021-11-25 time=13:11:49 devname=\"SLX-FG-VM-166\" devid=\"FGVM010000010982\" logid=\"0100020027\" type=\"event\" subtype=\"system\" level=\"information\" vd=\"root\" eventtime=1637835110333309825 tz=\"+0300\" logdesc=\"Outdated report files deleted\" msg=\"Delete 5 old report files\"',\n",
       " '<190>date=2021-11-26 time=05:31:09 devname=\"SLX-FG-VM-165\" devid=\"FGVM010000010981\" logid=\"0100020027\" type=\"event\" subtype=\"system\" level=\"information\" vd=\"root\" eventtime=1637893869194615354 tz=\"+0300\" logdesc=\"Outdated report files deleted\" msg=\"Delete 1 old report files\"',\n",
       " '<190>date=2021-11-25 time=15:11:07 devname=\"SLX-FG-VM-165\" devid=\"FGVM010000010981\" logid=\"0100020027\" type=\"event\" subtype=\"system\" level=\"information\" vd=\"root\" eventtime=1637842268468895016 tz=\"+0300\" logdesc=\"Outdated report files deleted\" msg=\"Delete 2 old report files\"',\n",
       " '<190>date=2021-11-25 time=20:06:07 devname=\"SLX-FG-VM-165\" devid=\"FGVM010000010981\" logid=\"0100020027\" type=\"event\" subtype=\"system\" level=\"information\" vd=\"root\" eventtime=1637859968729731098 tz=\"+0300\" logdesc=\"Outdated report files deleted\" msg=\"Delete 1 old report files\"',\n",
       " '<190>date=2021-11-26 time=09:36:50 devname=\"SLX-FG-VM-166\" devid=\"FGVM010000010982\" logid=\"0100020027\" type=\"event\" subtype=\"system\" level=\"information\" vd=\"root\" eventtime=1637908610606036269 tz=\"+0300\" logdesc=\"Outdated report files deleted\" msg=\"Delete 5 old report files\"',\n",
       " '<190>date=2021-11-25 time=14:46:49 devname=\"SLX-FG-VM-166\" devid=\"FGVM010000010982\" logid=\"0100020027\" type=\"event\" subtype=\"system\" level=\"information\" vd=\"root\" eventtime=1637840810366009130 tz=\"+0300\" logdesc=\"Outdated report files deleted\" msg=\"Delete 6 old report files\"',\n",
       " '<190>date=2021-11-26 time=08:31:07 devname=\"SLX-FG-VM-165\" devid=\"FGVM010000010981\" logid=\"0100020027\" type=\"event\" subtype=\"system\" level=\"information\" vd=\"root\" eventtime=1637904669345437162 tz=\"+0300\" logdesc=\"Outdated report files deleted\" msg=\"Delete 1 old report files\"',\n",
       " '<190>date=2021-11-26 time=06:11:50 devname=\"SLX-FG-VM-166\" devid=\"FGVM010000010982\" logid=\"0100020027\" type=\"event\" subtype=\"system\" level=\"information\" vd=\"root\" eventtime=1637896310599479310 tz=\"+0300\" logdesc=\"Outdated report files deleted\" msg=\"Delete 6 old report files\"',\n",
       " '<190>date=2021-11-26 time=04:01:49 devname=\"SLX-FG-VM-166\" devid=\"FGVM010000010982\" logid=\"0100020027\" type=\"event\" subtype=\"system\" level=\"information\" vd=\"root\" eventtime=1637888510564976020 tz=\"+0300\" logdesc=\"Outdated report files deleted\" msg=\"Delete 4 old report files\"',\n",
       " '<190>date=2021-11-26 time=05:31:09 devname=\"SLX-FG-VM-165\" devid=\"FGVM010000010981\" logid=\"0100020027\" type=\"event\" subtype=\"system\" level=\"information\" vd=\"root\" eventtime=1637893869194615354 tz=\"+0300\" logdesc=\"Outdated report files deleted\" msg=\"Delete 1 old report files\"',\n",
       " '<190>date=2021-11-26 time=09:31:50 devname=\"SLX-FG-VM-166\" devid=\"FGVM010000010982\" logid=\"0100020027\" type=\"event\" subtype=\"system\" level=\"information\" vd=\"root\" eventtime=1637908310608708424 tz=\"+0300\" logdesc=\"Outdated report files deleted\" msg=\"Delete 5 old report files\"',\n",
       " '<190>date=2021-11-26 time=06:11:09 devname=\"SLX-FG-VM-165\" devid=\"FGVM010000010981\" logid=\"0100020027\" type=\"event\" subtype=\"system\" level=\"information\" vd=\"root\" eventtime=1637896269238674353 tz=\"+0300\" logdesc=\"Outdated report files deleted\" msg=\"Delete 2 old report files\"',\n",
       " '<190>date=2021-11-26 time=04:01:08 devname=\"SLX-FG-VM-165\" devid=\"FGVM010000010981\" logid=\"0100020027\" type=\"event\" subtype=\"system\" level=\"information\" vd=\"root\" eventtime=1637888469150214778 tz=\"+0300\" logdesc=\"Outdated report files deleted\" msg=\"Delete 2 old report files\"',\n",
       " '<190>date=2021-11-25 time=15:01:08 devname=\"SLX-FG-VM-165\" devid=\"FGVM010000010981\" logid=\"0100020027\" type=\"event\" subtype=\"system\" level=\"information\" vd=\"root\" eventtime=1637841668465874620 tz=\"+0300\" logdesc=\"Outdated report files deleted\" msg=\"Delete 3 old report files\"',\n",
       " '<190>date=2021-11-25 time=15:26:08 devname=\"SLX-FG-VM-165\" devid=\"FGVM010000010981\" logid=\"0100020027\" type=\"event\" subtype=\"system\" level=\"information\" vd=\"root\" eventtime=1637843168467508562 tz=\"+0300\" logdesc=\"Outdated report files deleted\" msg=\"Delete 1 old report files\"',\n",
       " '<190>date=2021-11-25 time=15:11:50 devname=\"SLX-FG-VM-166\" devid=\"FGVM010000010982\" logid=\"0100020027\" type=\"event\" subtype=\"system\" level=\"information\" vd=\"root\" eventtime=1637842310386997111 tz=\"+0300\" logdesc=\"Outdated report files deleted\" msg=\"Delete 8 old report files\"',\n",
       " '<190>date=2021-11-26 time=04:06:08 devname=\"SLX-FG-VM-165\" devid=\"FGVM010000010981\" logid=\"0100020027\" type=\"event\" subtype=\"system\" level=\"information\" vd=\"root\" eventtime=1637888769143391060 tz=\"+0300\" logdesc=\"Outdated report files deleted\" msg=\"Delete 1 old report files\"',\n",
       " '<190>date=2021-11-26 time=06:16:07 devname=\"SLX-FG-VM-165\" devid=\"FGVM010000010981\" logid=\"0100020027\" type=\"event\" subtype=\"system\" level=\"information\" vd=\"root\" eventtime=1637896569230730032 tz=\"+0300\" logdesc=\"Outdated report files deleted\" msg=\"Delete 1 old report files\"',\n",
       " '<190>date=2021-11-26 time=12:51:49 devname=\"SLX-FG-VM-166\" devid=\"FGVM010000010982\" logid=\"0100020027\" type=\"event\" subtype=\"system\" level=\"information\" vd=\"root\" eventtime=1637920310633666937 tz=\"+0300\" logdesc=\"Outdated report files deleted\" msg=\"Delete 5 old report files\"',\n",
       " '<190>date=2021-11-25 time=16:01:49 devname=\"SLX-FG-VM-166\" devid=\"FGVM010000010982\" logid=\"0100020027\" type=\"event\" subtype=\"system\" level=\"information\" vd=\"root\" eventtime=1637845310399417055 tz=\"+0300\" logdesc=\"Outdated report files deleted\" msg=\"Delete 3 old report files\"',\n",
       " '<190>date=2021-11-25 time=13:11:49 devname=\"SLX-FG-VM-166\" devid=\"FGVM010000010982\" logid=\"0100020027\" type=\"event\" subtype=\"system\" level=\"information\" vd=\"root\" eventtime=1637835110333309825 tz=\"+0300\" logdesc=\"Outdated report files deleted\" msg=\"Delete 5 old report files\"',\n",
       " '<190>date=2021-11-26 time=12:51:08 devname=\"SLX-FG-VM-165\" devid=\"FGVM010000010981\" logid=\"0100020027\" type=\"event\" subtype=\"system\" level=\"information\" vd=\"root\" eventtime=1637920269549566832 tz=\"+0300\" logdesc=\"Outdated report files deleted\" msg=\"Delete 1 old report files\"',\n",
       " '<190>date=2021-11-25 time=14:46:49 devname=\"SLX-FG-VM-166\" devid=\"FGVM010000010982\" logid=\"0100020027\" type=\"event\" subtype=\"system\" level=\"information\" vd=\"root\" eventtime=1637840810366009130 tz=\"+0300\" logdesc=\"Outdated report files deleted\" msg=\"Delete 6 old report files\"',\n",
       " '<190>date=2021-11-26 time=12:51:01 devname=\"SLX-FG-VM-165\" devid=\"FGVM010000010981\" logid=\"0100020027\" type=\"event\" subtype=\"system\" level=\"information\" vd=\"root\" eventtime=1637920261692538269 tz=\"+0300\" logdesc=\"Outdated report files deleted\" msg=\"Delete 12 old report files\"',\n",
       " '<190>date=2021-11-26 time=12:51:01 devname=\"SLX-FG-VM-165\" devid=\"FGVM010000010981\" logid=\"0100020027\" type=\"event\" subtype=\"system\" level=\"information\" vd=\"root\" eventtime=1637920261691229286 tz=\"+0300\" logdesc=\"Outdated report files deleted\" msg=\"Delete 16 old report files\"',\n",
       " '<190>date=2021-11-26 time=08:36:50 devname=\"SLX-FG-VM-166\" devid=\"FGVM010000010982\" logid=\"0100020027\" type=\"event\" subtype=\"system\" level=\"information\" vd=\"root\" eventtime=1637905010607575250 tz=\"+0300\" logdesc=\"Outdated report files deleted\" msg=\"Delete 4 old report files\"',\n",
       " '<190>date=2021-11-25 time=15:11:07 devname=\"SLX-FG-VM-165\" devid=\"FGVM010000010981\" logid=\"0100020027\" type=\"event\" subtype=\"system\" level=\"information\" vd=\"root\" eventtime=1637842268468895016 tz=\"+0300\" logdesc=\"Outdated report files deleted\" msg=\"Delete 2 old report files\"',\n",
       " '<190>date=2021-11-25 time=15:11:50 devname=\"SLX-FG-VM-166\" devid=\"FGVM010000010982\" logid=\"0100020027\" type=\"event\" subtype=\"system\" level=\"information\" vd=\"root\" eventtime=1637842310386997111 tz=\"+0300\" logdesc=\"Outdated report files deleted\" msg=\"Delete 8 old report files\"',\n",
       " '<190>date=2021-11-25 time=13:11:49 devname=\"SLX-FG-VM-166\" devid=\"FGVM010000010982\" logid=\"0100020027\" type=\"event\" subtype=\"system\" level=\"information\" vd=\"root\" eventtime=1637835110333309825 tz=\"+0300\" logdesc=\"Outdated report files deleted\" msg=\"Delete 5 old report files\"',\n",
       " '<190>date=2021-11-26 time=11:16:50 devname=\"SLX-FG-VM-166\" devid=\"FGVM010000010982\" logid=\"0100020027\" type=\"event\" subtype=\"system\" level=\"information\" vd=\"root\" eventtime=1637914610612551125 tz=\"+0300\" logdesc=\"Outdated report files deleted\" msg=\"Delete 2 old report files\"',\n",
       " '<190>date=2021-11-26 time=09:06:09 devname=\"SLX-FG-VM-165\" devid=\"FGVM010000010981\" logid=\"0100020027\" type=\"event\" subtype=\"system\" level=\"information\" vd=\"root\" eventtime=1637906769377808075 tz=\"+0300\" logdesc=\"Outdated report files deleted\" msg=\"Delete 1 old report files\"',\n",
       " '<190>date=2021-11-25 time=14:46:49 devname=\"SLX-FG-VM-166\" devid=\"FGVM010000010982\" logid=\"0100020027\" type=\"event\" subtype=\"system\" level=\"information\" vd=\"root\" eventtime=1637840810366009130 tz=\"+0300\" logdesc=\"Outdated report files deleted\" msg=\"Delete 6 old report files\"',\n",
       " '<190>date=2021-11-26 time=08:11:49 devname=\"SLX-FG-VM-166\" devid=\"FGVM010000010982\" logid=\"0100020027\" type=\"event\" subtype=\"system\" level=\"information\" vd=\"root\" eventtime=1637903510598883291 tz=\"+0300\" logdesc=\"Outdated report files deleted\" msg=\"Delete 5 old report files\"',\n",
       " '<190>date=2021-11-25 time=20:06:50 devname=\"SLX-FG-VM-166\" devid=\"FGVM010000010982\" logid=\"0100020027\" type=\"event\" subtype=\"system\" level=\"information\" vd=\"root\" eventtime=1637860010480015188 tz=\"+0300\" logdesc=\"Outdated report files deleted\" msg=\"Delete 3 old report files\"',\n",
       " '<190>date=2021-11-26 time=04:01:49 devname=\"SLX-FG-VM-166\" devid=\"FGVM010000010982\" logid=\"0100020027\" type=\"event\" subtype=\"system\" level=\"information\" vd=\"root\" eventtime=1637888510564976020 tz=\"+0300\" logdesc=\"Outdated report files deleted\" msg=\"Delete 4 old report files\"',\n",
       " '<190>date=2021-11-25 time=15:11:07 devname=\"SLX-FG-VM-165\" devid=\"FGVM010000010981\" logid=\"0100020027\" type=\"event\" subtype=\"system\" level=\"information\" vd=\"root\" eventtime=1637842268468895016 tz=\"+0300\" logdesc=\"Outdated report files deleted\" msg=\"Delete 2 old report files\"',\n",
       " '<190>date=2021-11-25 time=15:26:08 devname=\"SLX-FG-VM-165\" devid=\"FGVM010000010981\" logid=\"0100020027\" type=\"event\" subtype=\"system\" level=\"information\" vd=\"root\" eventtime=1637843168467508562 tz=\"+0300\" logdesc=\"Outdated report files deleted\" msg=\"Delete 1 old report files\"',\n",
       " '<190>date=2021-11-26 time=06:16:50 devname=\"SLX-FG-VM-166\" devid=\"FGVM010000010982\" logid=\"0100020027\" type=\"event\" subtype=\"system\" level=\"information\" vd=\"root\" eventtime=1637896610596323885 tz=\"+0300\" logdesc=\"Outdated report files deleted\" msg=\"Delete 2 old report files\"',\n",
       " '<190>date=2021-11-26 time=04:01:08 devname=\"SLX-FG-VM-165\" devid=\"FGVM010000010981\" logid=\"0100020027\" type=\"event\" subtype=\"system\" level=\"information\" vd=\"root\" eventtime=1637888469150214778 tz=\"+0300\" logdesc=\"Outdated report files deleted\" msg=\"Delete 2 old report files\"',\n",
       " '<190>date=2021-11-26 time=09:41:08 devname=\"SLX-FG-VM-165\" devid=\"FGVM010000010981\" logid=\"0100020027\" type=\"event\" subtype=\"system\" level=\"information\" vd=\"root\" eventtime=1637908869385965990 tz=\"+0300\" logdesc=\"Outdated report files deleted\" msg=\"Delete 1 old report files\"',\n",
       " '<190>date=2021-11-26 time=05:36:09 devname=\"SLX-FG-VM-165\" devid=\"FGVM010000010981\" logid=\"0100020027\" type=\"event\" subtype=\"system\" level=\"information\" vd=\"root\" eventtime=1637894169192562897 tz=\"+0300\" logdesc=\"Outdated report files deleted\" msg=\"Delete 2 old report files\"',\n",
       " '<190>date=2021-11-26 time=11:06:50 devname=\"SLX-FG-VM-166\" devid=\"FGVM010000010982\" logid=\"0100020027\" type=\"event\" subtype=\"system\" level=\"information\" vd=\"root\" eventtime=1637914010615925303 tz=\"+0300\" logdesc=\"Outdated report files deleted\" msg=\"Delete 4 old report files\"',\n",
       " '<190>date=2021-11-25 time=15:01:08 devname=\"SLX-FG-VM-165\" devid=\"FGVM010000010981\" logid=\"0100020027\" type=\"event\" subtype=\"system\" level=\"information\" vd=\"root\" eventtime=1637841668465874620 tz=\"+0300\" logdesc=\"Outdated report files deleted\" msg=\"Delete 3 old report files\"',\n",
       " '<190>date=2021-11-26 time=11:06:08 devname=\"SLX-FG-VM-165\" devid=\"FGVM010000010981\" logid=\"0100020027\" type=\"event\" subtype=\"system\" level=\"information\" vd=\"root\" eventtime=1637913969487758605 tz=\"+0300\" logdesc=\"Outdated report files deleted\" msg=\"Delete 1 old report files\"',\n",
       " '<190>date=2021-11-25 time=18:36:49 devname=\"SLX-FG-VM-166\" devid=\"FGVM010000010982\" logid=\"0100020027\" type=\"event\" subtype=\"system\" level=\"information\" vd=\"root\" eventtime=1637854610455694716 tz=\"+0300\" logdesc=\"Outdated report files deleted\" msg=\"Delete 2 old report files\"',\n",
       " '<190>date=2021-11-26 time=09:11:50 devname=\"SLX-FG-VM-166\" devid=\"FGVM010000010982\" logid=\"0100020027\" type=\"event\" subtype=\"system\" level=\"information\" vd=\"root\" eventtime=1637907110602846537 tz=\"+0300\" logdesc=\"Outdated report files deleted\" msg=\"Delete 5 old report files\"',\n",
       " '<190>date=2021-11-26 time=09:11:07 devname=\"SLX-FG-VM-165\" devid=\"FGVM010000010981\" logid=\"0100020027\" type=\"event\" subtype=\"system\" level=\"information\" vd=\"root\" eventtime=1637907069378849031 tz=\"+0300\" logdesc=\"Outdated report files deleted\" msg=\"Delete 2 old report files\"',\n",
       " '<190>date=2021-11-26 time=08:06:49 devname=\"SLX-FG-VM-166\" devid=\"FGVM010000010982\" logid=\"0100020027\" type=\"event\" subtype=\"system\" level=\"information\" vd=\"root\" eventtime=1637903210600360439 tz=\"+0300\" logdesc=\"Outdated report files deleted\" msg=\"Delete 3 old report files\"',\n",
       " '<190>date=2021-11-26 time=06:11:50 devname=\"SLX-FG-VM-166\" devid=\"FGVM010000010982\" logid=\"0100020027\" type=\"event\" subtype=\"system\" level=\"information\" vd=\"root\" eventtime=1637896310599479310 tz=\"+0300\" logdesc=\"Outdated report files deleted\" msg=\"Delete 6 old report files\"',\n",
       " '<190>date=2021-11-26 time=06:11:09 devname=\"SLX-FG-VM-165\" devid=\"FGVM010000010981\" logid=\"0100020027\" type=\"event\" subtype=\"system\" level=\"information\" vd=\"root\" eventtime=1637896269238674353 tz=\"+0300\" logdesc=\"Outdated report files deleted\" msg=\"Delete 2 old report files\"',\n",
       " '<190>date=2021-11-26 time=05:31:48 devname=\"SLX-FG-VM-166\" devid=\"FGVM010000010982\" logid=\"0100020027\" type=\"event\" subtype=\"system\" level=\"information\" vd=\"root\" eventtime=1637893910587959786 tz=\"+0300\" logdesc=\"Outdated report files deleted\" msg=\"Delete 4 old report files\"',\n",
       " '<190>date=2021-11-26 time=08:31:50 devname=\"SLX-FG-VM-166\" devid=\"FGVM010000010982\" logid=\"0100020027\" type=\"event\" subtype=\"system\" level=\"information\" vd=\"root\" eventtime=1637904710602222629 tz=\"+0300\" logdesc=\"Outdated report files deleted\" msg=\"Delete 4 old report files\"',\n",
       " '<190>date=2021-11-26 time=05:31:09 devname=\"SLX-FG-VM-165\" devid=\"FGVM010000010981\" logid=\"0100020027\" type=\"event\" subtype=\"system\" level=\"information\" vd=\"root\" eventtime=1637893869194615354 tz=\"+0300\" logdesc=\"Outdated report files deleted\" msg=\"Delete 1 old report files\"',\n",
       " '<190>date=2021-11-26 time=09:31:50 devname=\"SLX-FG-VM-166\" devid=\"FGVM010000010982\" logid=\"0100020027\" type=\"event\" subtype=\"system\" level=\"information\" vd=\"root\" eventtime=1637908310608708424 tz=\"+0300\" logdesc=\"Outdated report files deleted\" msg=\"Delete 5 old report files\"',\n",
       " '<190>date=2021-11-26 time=09:06:49 devname=\"SLX-FG-VM-166\" devid=\"FGVM010000010982\" logid=\"0100020027\" type=\"event\" subtype=\"system\" level=\"information\" vd=\"root\" eventtime=1637906810605200376 tz=\"+0300\" logdesc=\"Outdated report files deleted\" msg=\"Delete 3 old report files\"',\n",
       " '<190>date=2021-11-26 time=09:06:09 devname=\"SLX-FG-VM-165\" devid=\"FGVM010000010981\" logid=\"0100020027\" type=\"event\" subtype=\"system\" level=\"information\" vd=\"root\" eventtime=1637906769377808075 tz=\"+0300\" logdesc=\"Outdated report files deleted\" msg=\"Delete 1 old report files\"',\n",
       " '<190>date=2021-11-26 time=05:36:48 devname=\"SLX-FG-VM-166\" devid=\"FGVM010000010982\" logid=\"0100020027\" type=\"event\" subtype=\"system\" level=\"information\" vd=\"root\" eventtime=1637894210594546028 tz=\"+0300\" logdesc=\"Outdated report files deleted\" msg=\"Delete 3 old report files\"',\n",
       " '<190>date=2021-11-26 time=08:11:08 devname=\"SLX-FG-VM-165\" devid=\"FGVM010000010981\" logid=\"0100020027\" type=\"event\" subtype=\"system\" level=\"information\" vd=\"root\" eventtime=1637903469340360008 tz=\"+0300\" logdesc=\"Outdated report files deleted\" msg=\"Delete 2 old report files\"',\n",
       " '<190>date=2021-11-25 time=13:11:49 devname=\"SLX-FG-VM-166\" devid=\"FGVM010000010982\" logid=\"0100020027\" type=\"event\" subtype=\"system\" level=\"information\" vd=\"root\" eventtime=1637835110333309825 tz=\"+0300\" logdesc=\"Outdated report files deleted\" msg=\"Delete 5 old report files\"',\n",
       " '<190>date=2021-11-26 time=05:36:09 devname=\"SLX-FG-VM-165\" devid=\"FGVM010000010981\" logid=\"0100020027\" type=\"event\" subtype=\"system\" level=\"information\" vd=\"root\" eventtime=1637894169192562897 tz=\"+0300\" logdesc=\"Outdated report files deleted\" msg=\"Delete 2 old report files\"',\n",
       " '<190>date=2021-11-26 time=11:11:50 devname=\"SLX-FG-VM-166\" devid=\"FGVM010000010982\" logid=\"0100020027\" type=\"event\" subtype=\"system\" level=\"information\" vd=\"root\" eventtime=1637914310617512370 tz=\"+0300\" logdesc=\"Outdated report files deleted\" msg=\"Delete 9 old report files\"',\n",
       " '<190>date=2021-11-25 time=15:11:07 devname=\"SLX-FG-VM-165\" devid=\"FGVM010000010981\" logid=\"0100020027\" type=\"event\" subtype=\"system\" level=\"information\" vd=\"root\" eventtime=1637842268468895016 tz=\"+0300\" logdesc=\"Outdated report files deleted\" msg=\"Delete 2 old report files\"',\n",
       " '<190>date=2021-11-25 time=18:36:49 devname=\"SLX-FG-VM-166\" devid=\"FGVM010000010982\" logid=\"0100020027\" type=\"event\" subtype=\"system\" level=\"information\" vd=\"root\" eventtime=1637854610455694716 tz=\"+0300\" logdesc=\"Outdated report files deleted\" msg=\"Delete 2 old report files\"',\n",
       " '<190>date=2021-11-25 time=15:26:08 devname=\"SLX-FG-VM-165\" devid=\"FGVM010000010981\" logid=\"0100020027\" type=\"event\" subtype=\"system\" level=\"information\" vd=\"root\" eventtime=1637843168467508562 tz=\"+0300\" logdesc=\"Outdated report files deleted\" msg=\"Delete 1 old report files\"',\n",
       " '<190>date=2021-11-26 time=09:36:50 devname=\"SLX-FG-VM-166\" devid=\"FGVM010000010982\" logid=\"0100020027\" type=\"event\" subtype=\"system\" level=\"information\" vd=\"root\" eventtime=1637908610606036269 tz=\"+0300\" logdesc=\"Outdated report files deleted\" msg=\"Delete 5 old report files\"',\n",
       " '<190>date=2021-11-25 time=20:06:50 devname=\"SLX-FG-VM-166\" devid=\"FGVM010000010982\" logid=\"0100020027\" type=\"event\" subtype=\"system\" level=\"information\" vd=\"root\" eventtime=1637860010480015188 tz=\"+0300\" logdesc=\"Outdated report files deleted\" msg=\"Delete 3 old report files\"',\n",
       " '<190>date=2021-11-26 time=09:31:50 devname=\"SLX-FG-VM-166\" devid=\"FGVM010000010982\" logid=\"0100020027\" type=\"event\" subtype=\"system\" level=\"information\" vd=\"root\" eventtime=1637908310608708424 tz=\"+0300\" logdesc=\"Outdated report files deleted\" msg=\"Delete 5 old report files\"',\n",
       " '<190>date=2021-11-25 time=15:01:08 devname=\"SLX-FG-VM-165\" devid=\"FGVM010000010981\" logid=\"0100020027\" type=\"event\" subtype=\"system\" level=\"information\" vd=\"root\" eventtime=1637841668465874620 tz=\"+0300\" logdesc=\"Outdated report files deleted\" msg=\"Delete 3 old report files\"',\n",
       " '<190>date=2021-11-25 time=20:06:07 devname=\"SLX-FG-VM-165\" devid=\"FGVM010000010981\" logid=\"0100020027\" type=\"event\" subtype=\"system\" level=\"information\" vd=\"root\" eventtime=1637859968729731098 tz=\"+0300\" logdesc=\"Outdated report files deleted\" msg=\"Delete 1 old report files\"',\n",
       " '<190>date=2021-11-25 time=15:01:08 devname=\"SLX-FG-VM-165\" devid=\"FGVM010000010981\" logid=\"0100020027\" type=\"event\" subtype=\"system\" level=\"information\" vd=\"root\" eventtime=1637841668465874620 tz=\"+0300\" logdesc=\"Outdated report files deleted\" msg=\"Delete 3 old report files\"',\n",
       " '<190>date=2021-11-25 time=14:46:49 devname=\"SLX-FG-VM-166\" devid=\"FGVM010000010982\" logid=\"0100020027\" type=\"event\" subtype=\"system\" level=\"information\" vd=\"root\" eventtime=1637840810366009130 tz=\"+0300\" logdesc=\"Outdated report files deleted\" msg=\"Delete 6 old report files\"',\n",
       " '<190>date=2021-11-25 time=15:26:08 devname=\"SLX-FG-VM-165\" devid=\"FGVM010000010981\" logid=\"0100020027\" type=\"event\" subtype=\"system\" level=\"information\" vd=\"root\" eventtime=1637843168467508562 tz=\"+0300\" logdesc=\"Outdated report files deleted\" msg=\"Delete 1 old report files\"',\n",
       " '<190>date=2021-11-25 time=15:11:07 devname=\"SLX-FG-VM-165\" devid=\"FGVM010000010981\" logid=\"0100020027\" type=\"event\" subtype=\"system\" level=\"information\" vd=\"root\" eventtime=1637842268468895016 tz=\"+0300\" logdesc=\"Outdated report files deleted\" msg=\"Delete 2 old report files\"',\n",
       " '<190>date=2021-11-25 time=15:11:07 devname=\"SLX-FG-VM-165\" devid=\"FGVM010000010981\" logid=\"0100020027\" type=\"event\" subtype=\"system\" level=\"information\" vd=\"root\" eventtime=1637842268468895016 tz=\"+0300\" logdesc=\"Outdated report files deleted\" msg=\"Delete 2 old report files\"',\n",
       " '<190>date=2021-11-25 time=14:46:49 devname=\"SLX-FG-VM-166\" devid=\"FGVM010000010982\" logid=\"0100020027\" type=\"event\" subtype=\"system\" level=\"information\" vd=\"root\" eventtime=1637840810366009130 tz=\"+0300\" logdesc=\"Outdated report files deleted\" msg=\"Delete 6 old report files\"',\n",
       " '<190>date=2021-11-26 time=09:31:08 devname=\"SLX-FG-VM-165\" devid=\"FGVM010000010981\" logid=\"0100020027\" type=\"event\" subtype=\"system\" level=\"information\" vd=\"root\" eventtime=1637908269382871752 tz=\"+0300\" logdesc=\"Outdated report files deleted\" msg=\"Delete 1 old report files\"',\n",
       " '<190>date=2021-11-25 time=13:11:49 devname=\"SLX-FG-VM-166\" devid=\"FGVM010000010982\" logid=\"0100020027\" type=\"event\" subtype=\"system\" level=\"information\" vd=\"root\" eventtime=1637835110333309825 tz=\"+0300\" logdesc=\"Outdated report files deleted\" msg=\"Delete 5 old report files\"',\n",
       " '<190>date=2021-11-25 time=13:06:49 devname=\"SLX-FG-VM-166\" devid=\"FGVM010000010982\" logid=\"0100020027\" type=\"event\" subtype=\"system\" level=\"information\" vd=\"root\" eventtime=1637834810337363068 tz=\"+0300\" logdesc=\"Outdated report files deleted\" msg=\"Delete 3 old report files\"']"
      ]
     },
     "execution_count": 106,
     "metadata": {},
     "output_type": "execute_result"
    }
   ],
   "source": [
    "messages"
   ]
  },
  {
   "cell_type": "code",
   "execution_count": 78,
   "id": "45397eec",
   "metadata": {
    "scrolled": true
   },
   "outputs": [
    {
     "data": {
      "text/plain": [
       "['<190>date=2021-11-29',\n",
       " 'time=21:56:50',\n",
       " 'devname=\"SLX-FG-VM-166\"',\n",
       " 'devid=\"FGVM010000010982\"',\n",
       " 'logid=\"0100020027\"',\n",
       " 'type=\"event\"',\n",
       " 'subtype=\"system\"',\n",
       " 'level=\"information\"',\n",
       " 'vd=\"root\"',\n",
       " 'eventtime=1638212212000307410',\n",
       " 'tz=\"+0300\"',\n",
       " 'logdesc=\"Outdated',\n",
       " 'report',\n",
       " 'files',\n",
       " 'deleted\"',\n",
       " 'msg=\"Delete',\n",
       " '3',\n",
       " 'old',\n",
       " 'report',\n",
       " 'files\"']"
      ]
     },
     "execution_count": 78,
     "metadata": {},
     "output_type": "execute_result"
    }
   ],
   "source": [
    "splited_messages = [x.split() for x in messages]\n",
    "splited_messages[0]"
   ]
  },
  {
   "cell_type": "code",
   "execution_count": 76,
   "id": "d1782371",
   "metadata": {},
   "outputs": [
    {
     "data": {
      "text/plain": [
       "154"
      ]
     },
     "execution_count": 76,
     "metadata": {},
     "output_type": "execute_result"
    }
   ],
   "source": [
    "len(messages)"
   ]
  }
 ],
 "metadata": {
  "kernelspec": {
   "display_name": "Python 3",
   "language": "python",
   "name": "python3"
  },
  "language_info": {
   "codemirror_mode": {
    "name": "ipython",
    "version": 3
   },
   "file_extension": ".py",
   "mimetype": "text/x-python",
   "name": "python",
   "nbconvert_exporter": "python",
   "pygments_lexer": "ipython3",
   "version": "3.8.10"
  }
 },
 "nbformat": 4,
 "nbformat_minor": 5
}
