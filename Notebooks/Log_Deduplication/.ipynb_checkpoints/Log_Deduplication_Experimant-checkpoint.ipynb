{
 "cells": [
  {
   "cell_type": "code",
   "execution_count": 1,
   "id": "cf052f04",
   "metadata": {},
   "outputs": [],
   "source": [
    "import sys\n",
    "sys.path.append('/home/nadzya/Apps/log-anomaly-detector/')"
   ]
  },
  {
   "cell_type": "code",
   "execution_count": 2,
   "id": "f12f48fd",
   "metadata": {},
   "outputs": [],
   "source": [
    "import pandas as pd\n",
    "from anomaly_detector.storage.mongodb_storage import MongoDBDataStorageSource\n",
    "from anomaly_detector.config import Configuration\n",
    "from anomaly_detector.storage.storage_attribute import MGStorageAttribute\n",
    "from anomaly_detector.core.encoder import LogEncoderCatalog\n",
    "\n",
    "from sklearn.cluster import DBSCAN"
   ]
  },
  {
   "cell_type": "code",
   "execution_count": 3,
   "id": "f3345fde",
   "metadata": {},
   "outputs": [],
   "source": [
    "import logging\n",
    "\n",
    "logger = logging.getLogger()\n",
    "logger.setLevel(logging.CRITICAL)"
   ]
  },
  {
   "cell_type": "code",
   "execution_count": 51,
   "id": "6de57d2c",
   "metadata": {},
   "outputs": [],
   "source": [
    "def config():\n",
    "    \"\"\"Initialize configurations before testing.\"\"\"\n",
    "    cfg = Configuration()\n",
    "    cfg.MG_HOST = \"172.17.18.83\"\n",
    "    cfg.MG_PORT = 27017\n",
    "    cfg.MG_CERT_DIR = \"\"\n",
    "    cfg.MG_INPUT_DB = \"anomalydb\"\n",
    "    cfg.MG_INPUT_COL = \"utm_anomaly\"\n",
    "    cfg.HOSTNAME_INDEX = \"hostname\"\n",
    "    cfg.DATETIME_INDEX = \"timestamp\"\n",
    "    cfg.MG_USER = ''\n",
    "    cfg.MG_PASSWORD = ''\n",
    "    cfg.TRAIN_VECTOR_LENGTH = 25\n",
    "    cfg.TRAIN_WINDOW = 5\n",
    "    return cfg"
   ]
  },
  {
   "cell_type": "code",
   "execution_count": 52,
   "id": "2ddc0986",
   "metadata": {},
   "outputs": [],
   "source": [
    "cfg = config()\n",
    "mg_attr = MGStorageAttribute(2592000, 1000)"
   ]
  },
  {
   "cell_type": "code",
   "execution_count": 53,
   "id": "5ade825a",
   "metadata": {},
   "outputs": [],
   "source": [
    "mg = MongoDBDataStorageSource(cfg)"
   ]
  },
  {
   "cell_type": "code",
   "execution_count": 54,
   "id": "738060fd",
   "metadata": {
    "scrolled": true
   },
   "outputs": [],
   "source": [
    "df_logs = mg.retrieve(mg_attr)\n",
    "df = df_logs[0]"
   ]
  },
  {
   "cell_type": "code",
   "execution_count": 55,
   "id": "362743f7",
   "metadata": {
    "scrolled": true
   },
   "outputs": [
    {
     "name": "stdout",
     "output_type": "stream",
     "text": [
      "6\n"
     ]
    },
    {
     "data": {
      "text/plain": [
       "{'NovUvectrastandardcampaignsCAMPAIGNcampaignidactionADDreasonConnectiondvcdvchostdetectionIdNonehostnameavaskincurrentIPsourceidURLhttpscampaignsdstHostviyajivositecomDestinationIPdestIDexternaltimestamp',\n",
       " 'datetimedevnameSLXFGVMdevidFGVMlogidtypeeventsubtypesystemlevelinformationvdrooteventtimetzlogdescDHCPstatisticsinterfaceporttotalusedmsgDHCPstatistics',\n",
       " 'datetimedevnameSLXFGVMdevidFGVMlogidtypeeventsubtypesystemlevelinformationvdrooteventtimetzlogdescOutdatedreportfilesdeletedmsgDeleteoldreportfiles',\n",
       " 'datetimedevnameSLXFGVMdevidFGVMlogidtypeeventsubtypesystemlevelnoticevdrooteventtimetzlogdescSystemperformancestatisticsactionperfstatscpumemtotalsessiondiskbandwidthsetupratedisklogratefazlogratefreediskstoragesysuptimemsgPerformancestatisticsaverageCPUmemoryconcurrentsessionssetuprate',\n",
       " 'datetimedevnameSLXFGVMdevidFGVMlogidtypetrafficsubtypeforwardlevelnoticevdrooteventtimetzsrcipsrcnamesrcportsrcintfportsrcintfrolelandstipdstnamesiptelecombydstportdstintfportdstintfrolewansessionidprotoactionacceptpolicyidpolicytypepolicypoluuidddaabeffcserviceSIPdstcountryBelarussrccountryReservedtrandispsnattransiptransportdurationsentbytercvdbytesentpktrcvdpktappcatunscannedsentdeltarcvddeltamastersrcmacccadesrcmacccadesrcserver',\n",
       " 'datetimedevnameSLXFGVMdevidFGVMlogidtypeutmsubtypevoipeventtypevoiplevelinformationvdrooteventtimetzsessionidepocheventidsrcipsrcportdstipdstportprotosrcintportdstintportpolicyidprofiledefaultvoipprotosipkindregisteractionpermitstatussucceededdurationdirsessionorigincallidafabaeccbfromsipsiptelecombytosipsiptelecomby'}"
      ]
     },
     "execution_count": 55,
     "metadata": {},
     "output_type": "execute_result"
    }
   ],
   "source": [
    "# Get different messages\n",
    "print(len(set(df[\"message\"])))\n",
    "set(df[\"message\"])"
   ]
  },
  {
   "cell_type": "code",
   "execution_count": 110,
   "id": "63d0a5c5",
   "metadata": {},
   "outputs": [],
   "source": [
    "enc = LogEncoderCatalog('w2v_encoder', cfg)\n",
    "enc.build()\n",
    "\n",
    "enc.encode_log(df_logs[0])"
   ]
  },
  {
   "cell_type": "code",
   "execution_count": 111,
   "id": "83090aa9",
   "metadata": {},
   "outputs": [],
   "source": [
    "vectors = enc.one_vector(df_logs[0])"
   ]
  },
  {
   "cell_type": "code",
   "execution_count": 128,
   "id": "203fd1dc",
   "metadata": {},
   "outputs": [
    {
     "data": {
      "text/plain": [
       "array([ 0,  0,  0,  0,  0,  0,  0,  0, -1, -1,  1,  1,  1,  1,  1,  1,  1,\n",
       "        1,  1,  1,  1,  1,  1,  1,  1,  1,  1,  1,  1,  1,  1,  1,  1,  1,\n",
       "        1,  1,  2,  2,  2,  2,  2,  2,  2,  2,  2,  2,  2,  2,  2,  2,  2,\n",
       "        2,  2,  2,  2,  2,  2,  2,  2,  2,  2,  2,  2,  2,  2,  2,  2,  2,\n",
       "        2,  2,  2,  2,  2,  2,  2,  2,  2,  2,  2,  2,  2,  2,  2,  2,  2,\n",
       "        2,  2,  2,  2,  2,  2,  2,  2,  1,  1,  1,  1,  1,  1,  1,  1,  1,\n",
       "        1,  1,  1,  1,  1,  1,  1,  1,  1,  1,  1,  1,  1,  1,  1,  1,  1,\n",
       "        1, -1, -1,  1,  1,  1,  1,  1,  1,  1,  1,  1,  1,  1,  1,  1,  1,\n",
       "        1,  1,  1,  1,  1,  1,  1,  1,  1,  1,  1,  1,  1,  1,  1,  1,  1,\n",
       "        1,  1,  1,  1,  1,  1,  1,  1,  1,  1,  1,  1,  1,  1,  1,  1,  1,\n",
       "        1,  1,  2,  2,  2,  2,  2,  2,  2,  2,  2,  2,  2,  2,  2,  2,  2,\n",
       "        2,  2,  2,  2,  2,  2,  2,  2,  2,  2,  2,  2,  2,  2,  2,  2,  2,\n",
       "        2,  2,  2,  2,  2,  2,  2,  2,  2,  2,  2,  2,  2,  2,  2,  2,  2,\n",
       "        1,  1,  1,  1,  1,  1,  1,  1,  1,  1,  1,  1,  1,  1,  1,  1,  1,\n",
       "        1,  1,  1,  1,  1,  1,  1,  1,  1,  1,  1,  1,  1,  1,  1,  1,  1,\n",
       "        1,  1,  1,  1,  1,  1,  1,  1,  1,  1,  1,  1,  1,  1,  1,  1,  1])"
      ]
     },
     "execution_count": 128,
     "metadata": {},
     "output_type": "execute_result"
    }
   ],
   "source": [
    "dbscan = DBSCAN(eps=0.05, min_samples=5)\n",
    "clusters = dbscan.fit_predict(vectors)\n",
    "np.unique(clusters)\n",
    "clusters"
   ]
  },
  {
   "cell_type": "markdown",
   "id": "27e1a2e1",
   "metadata": {},
   "source": [
    "# Visualization"
   ]
  },
  {
   "cell_type": "markdown",
   "id": "ab418955",
   "metadata": {},
   "source": [
    "## PCA"
   ]
  },
  {
   "cell_type": "code",
   "execution_count": 113,
   "id": "26ee5163",
   "metadata": {},
   "outputs": [],
   "source": [
    "from sklearn.decomposition import PCA"
   ]
  },
  {
   "cell_type": "code",
   "execution_count": 114,
   "id": "ca961241",
   "metadata": {},
   "outputs": [],
   "source": [
    "pca = PCA(n_components = 2, random_state = 0)\n",
    "data_2d_pca = pca.fit_transform(vectors)"
   ]
  },
  {
   "cell_type": "code",
   "execution_count": 115,
   "id": "77036f0d",
   "metadata": {},
   "outputs": [
    {
     "name": "stdout",
     "output_type": "stream",
     "text": [
      "Populating the interactive namespace from numpy and matplotlib\n"
     ]
    }
   ],
   "source": [
    "%pylab inline"
   ]
  },
  {
   "cell_type": "code",
   "execution_count": 116,
   "id": "671e395a",
   "metadata": {
    "scrolled": false
   },
   "outputs": [
    {
     "data": {
      "text/plain": [
       "<matplotlib.collections.PathCollection at 0x7f7e952a5d30>"
      ]
     },
     "execution_count": 116,
     "metadata": {},
     "output_type": "execute_result"
    },
    {
     "data": {
      "image/png": "[encoded data removed]",
      "text/plain": [
       "<Figure size 720x432 with 1 Axes>"
      ]
     },
     "metadata": {
      "needs_background": "light"
     },
     "output_type": "display_data"
    }
   ],
   "source": [
    "pylab.figure(figsize=(10, 6))\n",
    "pylab.scatter(data_2d_pca[:, 0], data_2d_pca[:, 1])"
   ]
  },
  {
   "cell_type": "markdown",
   "id": "fc3c3bbc",
   "metadata": {},
   "source": [
    "---"
   ]
  },
  {
   "cell_type": "code",
   "execution_count": 129,
   "id": "59846bc1",
   "metadata": {},
   "outputs": [],
   "source": [
    "df['cluster'] = clusters"
   ]
  },
  {
   "cell_type": "code",
   "execution_count": 130,
   "id": "4f1634b9",
   "metadata": {},
   "outputs": [],
   "source": [
    "messages = []\n",
    "for i in list(df.loc[df['cluster'] == 1].index):\n",
    "    messages.append(df_logs[1][i][\"message\"])"
   ]
  },
  {
   "cell_type": "code",
   "execution_count": 133,
   "id": "167ac05a",
   "metadata": {
    "scrolled": true
   },
   "outputs": [
    {
     "data": {
      "text/plain": [
       "['<190>date=2021-11-29',\n",
       " 'time=21:51:49',\n",
       " 'devname=\"SLX-FG-VM-166\"',\n",
       " 'devid=\"FGVM010000010982\"',\n",
       " 'logid=\"0100020027\"',\n",
       " 'type=\"event\"',\n",
       " 'subtype=\"system\"',\n",
       " 'level=\"information\"',\n",
       " 'vd=\"root\"',\n",
       " 'eventtime=1638211911997278032',\n",
       " 'tz=\"+0300\"',\n",
       " 'logdesc=\"Outdated',\n",
       " 'report',\n",
       " 'files',\n",
       " 'deleted\"',\n",
       " 'msg=\"Delete',\n",
       " '3',\n",
       " 'old',\n",
       " 'report',\n",
       " 'files\"']"
      ]
     },
     "execution_count": 133,
     "metadata": {},
     "output_type": "execute_result"
    }
   ],
   "source": [
    "[x.split() for x in messages][1]"
   ]
  },
  {
   "cell_type": "code",
   "execution_count": 120,
   "id": "79233f03",
   "metadata": {},
   "outputs": [
    {
     "data": {
      "text/plain": [
       "['<190>date=2021-11-30 time=23:27:21 devname=\"SLX-FG-VM-166\" devid=\"FGVM010000010982\" logid=\"0814044032\" type=\"utm\" subtype=\"voip\" eventtype=\"voip\" level=\"information\" vd=\"root\" eventtime=1638304041682242881 tz=\"+0300\" session_id=188257872 epoch=0 event_id=14408 srcip=172.17.15.3 src_port=5060 dstip=93.125.5.100 dst_port=5060 proto=17 src_int=\"port4\" dst_int=\"port2\" policy_id=96 profile=\"default\" voip_proto=\"sip\" kind=\"register\" action=\"permit\" status=\"succeeded\" duration=0 dir=\"session_origin\" call_id=\"2afa35b0-2a69-11ec-9632-072cb2431610\" from=\"sip:375173361195@sip.telecom.by\" to=\"sip:375173361195@sip.telecom.by\"']"
      ]
     },
     "execution_count": 120,
     "metadata": {},
     "output_type": "execute_result"
    }
   ],
   "source": [
    "messages"
   ]
  }
 ],
 "metadata": {
  "kernelspec": {
   "display_name": "Python 3",
   "language": "python",
   "name": "python3"
  },
  "language_info": {
   "codemirror_mode": {
    "name": "ipython",
    "version": 3
   },
   "file_extension": ".py",
   "mimetype": "text/x-python",
   "name": "python",
   "nbconvert_exporter": "python",
   "pygments_lexer": "ipython3",
   "version": "3.8.10"
  }
 },
 "nbformat": 4,
 "nbformat_minor": 5
}
