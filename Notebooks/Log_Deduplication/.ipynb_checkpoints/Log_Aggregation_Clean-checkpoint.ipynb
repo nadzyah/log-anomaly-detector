{
 "cells": [
  {
   "cell_type": "code",
   "execution_count": 1,
   "id": "e7a9a8b4",
   "metadata": {},
   "outputs": [],
   "source": [
    "import sys\n",
    "sys.path.append('/home/nadzya/Apps/log-anomaly-detector/')\n",
    "\n",
    "import logging\n",
    "\n",
    "logger = logging.getLogger()\n",
    "logger.setLevel(logging.CRITICAL)"
   ]
  },
  {
   "cell_type": "code",
   "execution_count": 2,
   "id": "665956df",
   "metadata": {},
   "outputs": [],
   "source": [
    "import pandas as pd\n",
    "import numpy as np \n",
    "import datetime\n",
    "import json\n",
    "\n",
    "from anomaly_detector.config import Configuration\n",
    "from anomaly_detector.storage.mongodb_storage import MongoDBStorage\n",
    "from anomaly_detector.storage.storage_attribute import MGStorageAttribute\n",
    "\n",
    "from bson.json_util import dumps\n",
    "\n",
    "from sklearn.cluster import DBSCAN\n",
    "from sklearn.decomposition import PCA\n",
    "from gensim.models import Word2Vec\n",
    "import re"
   ]
  },
  {
   "cell_type": "code",
   "execution_count": 3,
   "id": "e4854ad7",
   "metadata": {},
   "outputs": [],
   "source": [
    "def config():\n",
    "    \"\"\"Initialize configurations before testing.\"\"\"\n",
    "    cfg = Configuration()\n",
    "    cfg.MG_HOST = \"172.17.18.83\"\n",
    "    cfg.MG_PORT = 27017\n",
    "    cfg.MG_CERT_DIR = \"\"\n",
    "    cfg.MG_INPUT_DB = \"anomalydb\"\n",
    "    cfg.MG_INPUT_COL = \"utm_anomaly\"\n",
    "    cfg.HOSTNAME_INDEX = \"hostname\"\n",
    "    cfg.DATETIME_INDEX = \"timestamp\"\n",
    "    cfg.MG_CA_CERT = \"/home/nadzya/Apps/log-anomaly-detector/config_files/LAD_CA.crt\"\n",
    "    cfg.MG_USER = 'dbadmin'\n",
    "    cfg.MG_PASSWORD = 'password123'\n",
    "    cfg.AGGR_VECTOR_LENGTH = 25\n",
    "    cfg.AGGR_WINDOW = 5\n",
    "    cfg.AGGR_EPS = 0.05\n",
    "    cfg.AGGR_MIN_SAMPLES = 2\n",
    "    return cfg"
   ]
  },
  {
   "cell_type": "code",
   "execution_count": 4,
   "id": "823e2387",
   "metadata": {},
   "outputs": [],
   "source": [
    "class DataCleaner:\n",
    "    \"\"\"Data cleaning utility functions.\"\"\"\n",
    "\n",
    "    @classmethod\n",
    "    def _clean_message(cls, line):\n",
    "        \"\"\"Remove all none alphabetical characters from message strings.\"\"\"\n",
    "        words = list(re.findall(\"[a-zA-Z]+\", line))\n",
    "        return words\n",
    "        \n",
    "    @classmethod\n",
    "    def _preprocess(cls, data):\n",
    "        \"\"\"Provide preprocessing for the data before running it through W2V and SOM.\"\"\"\n",
    "        def to_str(x):\n",
    "            \"\"\"Convert all non-str lists to string lists for Word2Vec.\"\"\"\n",
    "            ret = \" \".join([str(y) for y in x]) if isinstance(x, list) else str(x)\n",
    "            return ret\n",
    "\n",
    "        for col in data.columns:\n",
    "            if col == \"message\":\n",
    "                data[col] = data[col].apply(cls._clean_message)\n",
    "            else:\n",
    "                data[col] = data[col].apply(to_str)\n",
    "\n",
    "        data = data.fillna(\"EMPTY\")\n",
    "\n",
    "    @classmethod\n",
    "    def format_log(cls, config, es_dataset):\n",
    "        \"\"\"Format log will extract prefix out of the message.\"\"\"\n",
    "        if config.LOG_FORMATTER == \"strip_prefix\":\n",
    "            for es_data in es_dataset:\n",
    "                try:\n",
    "                    if len(es_data['message'].split(\"] \")) > 1:\n",
    "                        es_data[\"orig_message\"] = es_data[\"message\"]\n",
    "                        es_data[\"message\"] = es_data[\"message\"].split(\"] \")[1]\n",
    "                except Exception as ex:\n",
    "                    logging.debug(\"Error {} in log formatter: {}\".format(ex, config.ES_LOG_FORMATTER))"
   ]
  },
  {
   "cell_type": "code",
   "execution_count": 5,
   "id": "64bf9fbf",
   "metadata": {},
   "outputs": [],
   "source": [
    "class MongoDBDataStorageSource(DataCleaner, MongoDBStorage):\n",
    "    \"\"\"MongoDB data source implementation.\"\"\"\n",
    "\n",
    "    NAME = \"mg.source\"\n",
    "\n",
    "    def __init__(self, config):\n",
    "        \"\"\"Initialize mongodb storage backend.\"\"\"\n",
    "        self.config = config\n",
    "        MongoDBStorage.__init__(self, config)\n",
    "\n",
    "    def retrieve(self, storage_attribute: MGStorageAttribute):\n",
    "        \"\"\"Retrieve data from MongoDB.\"\"\"\n",
    "\n",
    "        mg_input_db = self.mg[self.config.MG_INPUT_DB]\n",
    "        now = datetime.datetime.now()\n",
    "\n",
    "        mg_data = mg_input_db[self.config.MG_INPUT_COL]\n",
    "\n",
    "        if self.config.LOGSOURCE_HOSTNAME != 'localhost':\n",
    "            query = {\n",
    "                self.config.DATETIME_INDEX:  {\n",
    "                    '$gte': now - datetime.timedelta(seconds=storage_attribute.time_range),\n",
    "                    '$lt': now\n",
    "                },\n",
    "                self.config.HOSTNAME_INDEX: self.config.LOGSOURCE_HOSTNAME\n",
    "            }\n",
    "        else:\n",
    "            query = {\n",
    "                self.config.DATETIME_INDEX:  {\n",
    "                    '$gte': now - datetime.timedelta(seconds=storage_attribute.time_range),\n",
    "                    '$lt': now\n",
    "                }\n",
    "            }\n",
    "        mg_data = mg_data.find(query).sort(self.config.DATETIME_INDEX, -1).limit(storage_attribute.number_of_entries)\n",
    "        self.mg.close()\n",
    "\n",
    "        if not mg_data.count():   # if it equials 0:\n",
    "            return pandas.Dataframe(), mg_data\n",
    "\n",
    "        mg_data = dumps(mg_data, sort_keys=False)\n",
    "\n",
    "        mg_data_normalized = pd.DataFrame(pd.json_normalize(json.loads(mg_data)))\n",
    "    \n",
    "        self._preprocess(mg_data_normalized)\n",
    "\n",
    "        return mg_data_normalized, json.loads(mg_data)"
   ]
  },
  {
   "cell_type": "code",
   "execution_count": 6,
   "id": "fcad5160",
   "metadata": {},
   "outputs": [],
   "source": [
    "def get_lad_word2vec(config, df):\n",
    "    w2v = W2VModel(config)\n",
    "    w2v.create(df, config.AGGR_VECTOR_LENGTH, config.AGGR_WINDOW)\n",
    "    return (w2v.one_vector(df), w2v.model[\"message\"].wv)"
   ]
  },
  {
   "cell_type": "code",
   "execution_count": 7,
   "id": "a7cd755c",
   "metadata": {},
   "outputs": [],
   "source": [
    "def get_gensin_w2v(config, df):\n",
    "    w2v = Word2Vec(sentences=list(df[\"message\"]), size=config.AGGR_VECTOR_LENGTH, window=config.AGGR_WINDOW)\n",
    "    \n",
    "    vectors = []\n",
    "    for x in list(df[\"message\"]):\n",
    "        temp = []\n",
    "        for word in x:\n",
    "            if word in w2v.wv:\n",
    "                #print(len(w2v.wv[word]))\n",
    "                temp.append(w2v.wv[word])\n",
    "            else:\n",
    "                temp.append(np.array([0]*config.AGGR_VECTOR_LENGTH))\n",
    "        vectors.append(temp)\n",
    "    return vectors"
   ]
  },
  {
   "cell_type": "code",
   "execution_count": 8,
   "id": "ea01591c",
   "metadata": {},
   "outputs": [],
   "source": [
    "def log_words_to_vector(log_list):\n",
    "    result = []\n",
    "    log_array_transposed = np.array(log_list, dtype=object).transpose()\n",
    "    for coord in log_array_transposed:\n",
    "        result.append(np.mean(coord)) \n",
    "    return result"
   ]
  },
  {
   "cell_type": "code",
   "execution_count": 9,
   "id": "fe854493",
   "metadata": {},
   "outputs": [],
   "source": [
    "def all_logs_to_vectors(logs):\n",
    "    result = []\n",
    "    for log in logs:\n",
    "        result.append(log_words_to_vector(log))\n",
    "    return np.array(result)"
   ]
  },
  {
   "cell_type": "code",
   "execution_count": 10,
   "id": "54bdbd8f",
   "metadata": {},
   "outputs": [],
   "source": [
    "def add_cluster_label_to_df_dbscan(config, df, vectors):\n",
    "    dbscan = DBSCAN(eps=config.AGGR_EPS, min_samples=cfg.AGGR_MIN_SAMPLES)\n",
    "    clusters = dbscan.fit_predict(vectors)\n",
    "    df[\"cluster\"] = clusters\n",
    "    return clusters"
   ]
  },
  {
   "cell_type": "code",
   "execution_count": 11,
   "id": "7f0897ec",
   "metadata": {},
   "outputs": [],
   "source": [
    "def aggregate_logs(df, df_json, clusters):\n",
    "    aggregated = []\n",
    "    for cluster in np.unique(clusters):\n",
    "        messages = []\n",
    "        for i in list(df.loc[df['cluster'] == cluster].index):\n",
    "            messages.append(df_json[i][\"message\"])\n",
    "\n",
    "        if cluster == -1:\n",
    "            for msg in messages:\n",
    "                aggregated.append((msg, 1, []))\n",
    "                #aggregated.append(msg)\n",
    "        else:\n",
    "            splited_messages = [x.split() for x in messages]\n",
    "            splited_transpose = [list(row) for row in zip(*splited_messages)]\n",
    "            result_string = \"\"\n",
    "            var_num = 0\n",
    "\n",
    "            for x in splited_transpose:\n",
    "                if len(set(x)) == 1:\n",
    "                    result_string += x[0] + \" \"\n",
    "                else:\n",
    "                    result_string += \"***\" + \" \"\n",
    "\n",
    "            msg_num = len(messages)\n",
    "            aggregated.append((result_string[:-1], msg_num, messages))\n",
    "            #aggregated.append(result_string[:-1])\n",
    "\n",
    "    return aggregated"
   ]
  },
  {
   "cell_type": "code",
   "execution_count": 12,
   "id": "6edc5074",
   "metadata": {},
   "outputs": [
    {
     "name": "stderr",
     "output_type": "stream",
     "text": [
      "Loading Configuration\n",
      "Conecting to MongoDB without SSL/TLS encryption.\n",
      "<ipython-input-5-5062e907c919>:37: DeprecationWarning: count is deprecated. Use Collection.count_documents instead.\n",
      "  if not mg_data.count():   # if it equials 0:\n"
     ]
    },
    {
     "ename": "ServerSelectionTimeoutError",
     "evalue": "connection closed, Timeout: 30s, Topology Description: <TopologyDescription id: 61b1dcc5c448cc63293b18ce, topology_type: Single, servers: [<ServerDescription ('172.17.18.83', 27017) server_type: Unknown, rtt: None, error=AutoReconnect('connection closed')>]>",
     "output_type": "error",
     "traceback": [
      "\u001b[0;31m---------------------------------------------------------------------------\u001b[0m",
      "\u001b[0;31mServerSelectionTimeoutError\u001b[0m               Traceback (most recent call last)",
      "\u001b[0;32m<ipython-input-12-c0a8e8da91bf>\u001b[0m in \u001b[0;36m<module>\u001b[0;34m\u001b[0m\n\u001b[1;32m      1\u001b[0m \u001b[0mcfg\u001b[0m \u001b[0;34m=\u001b[0m \u001b[0mconfig\u001b[0m\u001b[0;34m(\u001b[0m\u001b[0;34m)\u001b[0m\u001b[0;34m\u001b[0m\u001b[0;34m\u001b[0m\u001b[0m\n\u001b[1;32m      2\u001b[0m \u001b[0mmg\u001b[0m \u001b[0;34m=\u001b[0m \u001b[0mMongoDBDataStorageSource\u001b[0m\u001b[0;34m(\u001b[0m\u001b[0mcfg\u001b[0m\u001b[0;34m)\u001b[0m\u001b[0;34m\u001b[0m\u001b[0;34m\u001b[0m\u001b[0m\n\u001b[0;32m----> 3\u001b[0;31m \u001b[0mdf\u001b[0m\u001b[0;34m,\u001b[0m \u001b[0mjson_logs\u001b[0m \u001b[0;34m=\u001b[0m \u001b[0mmg\u001b[0m\u001b[0;34m.\u001b[0m\u001b[0mretrieve\u001b[0m\u001b[0;34m(\u001b[0m\u001b[0mMGStorageAttribute\u001b[0m\u001b[0;34m(\u001b[0m\u001b[0;36m30\u001b[0m\u001b[0;34m*\u001b[0m\u001b[0;36m86400\u001b[0m\u001b[0;34m,\u001b[0m \u001b[0;36m1000\u001b[0m\u001b[0;34m)\u001b[0m\u001b[0;34m)\u001b[0m\u001b[0;34m\u001b[0m\u001b[0;34m\u001b[0m\u001b[0m\n\u001b[0m",
      "\u001b[0;32m<ipython-input-5-5062e907c919>\u001b[0m in \u001b[0;36mretrieve\u001b[0;34m(self, storage_attribute)\u001b[0m\n\u001b[1;32m     35\u001b[0m         \u001b[0mself\u001b[0m\u001b[0;34m.\u001b[0m\u001b[0mmg\u001b[0m\u001b[0;34m.\u001b[0m\u001b[0mclose\u001b[0m\u001b[0;34m(\u001b[0m\u001b[0;34m)\u001b[0m\u001b[0;34m\u001b[0m\u001b[0;34m\u001b[0m\u001b[0m\n\u001b[1;32m     36\u001b[0m \u001b[0;34m\u001b[0m\u001b[0m\n\u001b[0;32m---> 37\u001b[0;31m         \u001b[0;32mif\u001b[0m \u001b[0;32mnot\u001b[0m \u001b[0mmg_data\u001b[0m\u001b[0;34m.\u001b[0m\u001b[0mcount\u001b[0m\u001b[0;34m(\u001b[0m\u001b[0;34m)\u001b[0m\u001b[0;34m:\u001b[0m   \u001b[0;31m# if it equials 0:\u001b[0m\u001b[0;34m\u001b[0m\u001b[0;34m\u001b[0m\u001b[0m\n\u001b[0m\u001b[1;32m     38\u001b[0m             \u001b[0;32mreturn\u001b[0m \u001b[0mpandas\u001b[0m\u001b[0;34m.\u001b[0m\u001b[0mDataframe\u001b[0m\u001b[0;34m(\u001b[0m\u001b[0;34m)\u001b[0m\u001b[0;34m,\u001b[0m \u001b[0mmg_data\u001b[0m\u001b[0;34m\u001b[0m\u001b[0;34m\u001b[0m\u001b[0m\n\u001b[1;32m     39\u001b[0m \u001b[0;34m\u001b[0m\u001b[0m\n",
      "\u001b[0;32m~/Apps/venv/lib/python3.8/site-packages/pymongo/cursor.py\u001b[0m in \u001b[0;36mcount\u001b[0;34m(self, with_limit_and_skip)\u001b[0m\n\u001b[1;32m    865\u001b[0m                 \u001b[0mcmd\u001b[0m\u001b[0;34m[\u001b[0m\u001b[0;34m\"skip\"\u001b[0m\u001b[0;34m]\u001b[0m \u001b[0;34m=\u001b[0m \u001b[0mself\u001b[0m\u001b[0;34m.\u001b[0m\u001b[0m__skip\u001b[0m\u001b[0;34m\u001b[0m\u001b[0;34m\u001b[0m\u001b[0m\n\u001b[1;32m    866\u001b[0m \u001b[0;34m\u001b[0m\u001b[0m\n\u001b[0;32m--> 867\u001b[0;31m         return self.__collection._count(\n\u001b[0m\u001b[1;32m    868\u001b[0m             cmd, self.__collation, session=self.__session)\n\u001b[1;32m    869\u001b[0m \u001b[0;34m\u001b[0m\u001b[0m\n",
      "\u001b[0;32m~/Apps/venv/lib/python3.8/site-packages/pymongo/collection.py\u001b[0m in \u001b[0;36m_count\u001b[0;34m(self, cmd, collation, session)\u001b[0m\n\u001b[1;32m   1678\u001b[0m                 session, sock_info, secondary_ok, cmd, collation)\n\u001b[1;32m   1679\u001b[0m \u001b[0;34m\u001b[0m\u001b[0m\n\u001b[0;32m-> 1680\u001b[0;31m         return self.__database.client._retryable_read(\n\u001b[0m\u001b[1;32m   1681\u001b[0m             _cmd, self._read_preference_for(session), session)\n\u001b[1;32m   1682\u001b[0m \u001b[0;34m\u001b[0m\u001b[0m\n",
      "\u001b[0;32m~/Apps/venv/lib/python3.8/site-packages/pymongo/mongo_client.py\u001b[0m in \u001b[0;36m_retryable_read\u001b[0;34m(self, func, read_pref, session, address, retryable)\u001b[0m\n\u001b[1;32m   1512\u001b[0m         \u001b[0;32mwhile\u001b[0m \u001b[0;32mTrue\u001b[0m\u001b[0;34m:\u001b[0m\u001b[0;34m\u001b[0m\u001b[0;34m\u001b[0m\u001b[0m\n\u001b[1;32m   1513\u001b[0m             \u001b[0;32mtry\u001b[0m\u001b[0;34m:\u001b[0m\u001b[0;34m\u001b[0m\u001b[0;34m\u001b[0m\u001b[0m\n\u001b[0;32m-> 1514\u001b[0;31m                 server = self._select_server(\n\u001b[0m\u001b[1;32m   1515\u001b[0m                     read_pref, session, address=address)\n\u001b[1;32m   1516\u001b[0m                 \u001b[0;32mif\u001b[0m \u001b[0;32mnot\u001b[0m \u001b[0mserver\u001b[0m\u001b[0;34m.\u001b[0m\u001b[0mdescription\u001b[0m\u001b[0;34m.\u001b[0m\u001b[0mretryable_reads_supported\u001b[0m\u001b[0;34m:\u001b[0m\u001b[0;34m\u001b[0m\u001b[0;34m\u001b[0m\u001b[0m\n",
      "\u001b[0;32m~/Apps/venv/lib/python3.8/site-packages/pymongo/mongo_client.py\u001b[0m in \u001b[0;36m_select_server\u001b[0;34m(self, server_selector, session, address)\u001b[0m\n\u001b[1;32m   1344\u001b[0m                                         % address)\n\u001b[1;32m   1345\u001b[0m             \u001b[0;32melse\u001b[0m\u001b[0;34m:\u001b[0m\u001b[0;34m\u001b[0m\u001b[0;34m\u001b[0m\u001b[0m\n\u001b[0;32m-> 1346\u001b[0;31m                 \u001b[0mserver\u001b[0m \u001b[0;34m=\u001b[0m \u001b[0mtopology\u001b[0m\u001b[0;34m.\u001b[0m\u001b[0mselect_server\u001b[0m\u001b[0;34m(\u001b[0m\u001b[0mserver_selector\u001b[0m\u001b[0;34m)\u001b[0m\u001b[0;34m\u001b[0m\u001b[0;34m\u001b[0m\u001b[0m\n\u001b[0m\u001b[1;32m   1347\u001b[0m             \u001b[0;32mreturn\u001b[0m \u001b[0mserver\u001b[0m\u001b[0;34m\u001b[0m\u001b[0;34m\u001b[0m\u001b[0m\n\u001b[1;32m   1348\u001b[0m         \u001b[0;32mexcept\u001b[0m \u001b[0mPyMongoError\u001b[0m \u001b[0;32mas\u001b[0m \u001b[0mexc\u001b[0m\u001b[0;34m:\u001b[0m\u001b[0;34m\u001b[0m\u001b[0;34m\u001b[0m\u001b[0m\n",
      "\u001b[0;32m~/Apps/venv/lib/python3.8/site-packages/pymongo/topology.py\u001b[0m in \u001b[0;36mselect_server\u001b[0;34m(self, selector, server_selection_timeout, address)\u001b[0m\n\u001b[1;32m    242\u001b[0m                       address=None):\n\u001b[1;32m    243\u001b[0m         \u001b[0;34m\"\"\"Like select_servers, but choose a random server if several match.\"\"\"\u001b[0m\u001b[0;34m\u001b[0m\u001b[0;34m\u001b[0m\u001b[0m\n\u001b[0;32m--> 244\u001b[0;31m         return random.choice(self.select_servers(selector,\n\u001b[0m\u001b[1;32m    245\u001b[0m                                                  \u001b[0mserver_selection_timeout\u001b[0m\u001b[0;34m,\u001b[0m\u001b[0;34m\u001b[0m\u001b[0;34m\u001b[0m\u001b[0m\n\u001b[1;32m    246\u001b[0m                                                  address))\n",
      "\u001b[0;32m~/Apps/venv/lib/python3.8/site-packages/pymongo/topology.py\u001b[0m in \u001b[0;36mselect_servers\u001b[0;34m(self, selector, server_selection_timeout, address)\u001b[0m\n\u001b[1;32m    200\u001b[0m \u001b[0;34m\u001b[0m\u001b[0m\n\u001b[1;32m    201\u001b[0m         \u001b[0;32mwith\u001b[0m \u001b[0mself\u001b[0m\u001b[0;34m.\u001b[0m\u001b[0m_lock\u001b[0m\u001b[0;34m:\u001b[0m\u001b[0;34m\u001b[0m\u001b[0;34m\u001b[0m\u001b[0m\n\u001b[0;32m--> 202\u001b[0;31m             server_descriptions = self._select_servers_loop(\n\u001b[0m\u001b[1;32m    203\u001b[0m                 selector, server_timeout, address)\n\u001b[1;32m    204\u001b[0m \u001b[0;34m\u001b[0m\u001b[0m\n",
      "\u001b[0;32m~/Apps/venv/lib/python3.8/site-packages/pymongo/topology.py\u001b[0m in \u001b[0;36m_select_servers_loop\u001b[0;34m(self, selector, timeout, address)\u001b[0m\n\u001b[1;32m    216\u001b[0m             \u001b[0;31m# No suitable servers.\u001b[0m\u001b[0;34m\u001b[0m\u001b[0;34m\u001b[0m\u001b[0;34m\u001b[0m\u001b[0m\n\u001b[1;32m    217\u001b[0m             \u001b[0;32mif\u001b[0m \u001b[0mtimeout\u001b[0m \u001b[0;34m==\u001b[0m \u001b[0;36m0\u001b[0m \u001b[0;32mor\u001b[0m \u001b[0mnow\u001b[0m \u001b[0;34m>\u001b[0m \u001b[0mend_time\u001b[0m\u001b[0;34m:\u001b[0m\u001b[0;34m\u001b[0m\u001b[0;34m\u001b[0m\u001b[0m\n\u001b[0;32m--> 218\u001b[0;31m                 raise ServerSelectionTimeoutError(\n\u001b[0m\u001b[1;32m    219\u001b[0m                     \u001b[0;34m\"%s, Timeout: %ss, Topology Description: %r\"\u001b[0m \u001b[0;34m%\u001b[0m\u001b[0;34m\u001b[0m\u001b[0;34m\u001b[0m\u001b[0m\n\u001b[1;32m    220\u001b[0m                     (self._error_message(selector), timeout, self.description))\n",
      "\u001b[0;31mServerSelectionTimeoutError\u001b[0m: connection closed, Timeout: 30s, Topology Description: <TopologyDescription id: 61b1dcc5c448cc63293b18ce, topology_type: Single, servers: [<ServerDescription ('172.17.18.83', 27017) server_type: Unknown, rtt: None, error=AutoReconnect('connection closed')>]>"
     ]
    }
   ],
   "source": [
    "cfg = config()\n",
    "mg = MongoDBDataStorageSource(cfg)\n",
    "df, json_logs = mg.retrieve(MGStorageAttribute(30*86400, 1000))"
   ]
  },
  {
   "cell_type": "code",
   "execution_count": null,
   "id": "e5eaa6e4",
   "metadata": {
    "scrolled": true
   },
   "outputs": [],
   "source": [
    "df = pd.DataFrame(df[\"message\"])\n",
    "vectors = get_gensin_w2v(cfg, df)"
   ]
  },
  {
   "cell_type": "code",
   "execution_count": null,
   "id": "226d942d",
   "metadata": {},
   "outputs": [],
   "source": [
    "mean_vectors = all_logs_to_vectors(vectors)"
   ]
  },
  {
   "cell_type": "code",
   "execution_count": null,
   "id": "1cc80a3b",
   "metadata": {},
   "outputs": [],
   "source": [
    "clusters = add_cluster_label_to_df_dbscan(cfg, df, mean_vectors)\n",
    "clusters"
   ]
  },
  {
   "cell_type": "code",
   "execution_count": null,
   "id": "f0210c89",
   "metadata": {},
   "outputs": [],
   "source": [
    "%pylab inline\n",
    "\n",
    "pca = PCA(n_components=2, random_state=0)\n",
    "data_2d_pca = pca.fit_transform(mean_vectors)\n",
    "\n",
    "pylab.figure(figsize=(10, 6))\n",
    "scat = pylab.scatter(data_2d_pca[:, 0], data_2d_pca[:, 1], c=list(df[\"cluster\"]))\n",
    "pylab.legend(*scat.legend_elements(num=\"auto\"))"
   ]
  },
  {
   "cell_type": "code",
   "execution_count": null,
   "id": "612be5df",
   "metadata": {},
   "outputs": [],
   "source": [
    "[\" \".join(x) for x in list(df.loc[df[\"cluster\"] == -1][\"message\"])]"
   ]
  },
  {
   "cell_type": "code",
   "execution_count": null,
   "id": "05e12260",
   "metadata": {
    "scrolled": true
   },
   "outputs": [],
   "source": [
    "aggregate_logs(df, json_logs, clusters)"
   ]
  }
 ],
 "metadata": {
  "kernelspec": {
   "display_name": "Python 3",
   "language": "python",
   "name": "python3"
  },
  "language_info": {
   "codemirror_mode": {
    "name": "ipython",
    "version": 3
   },
   "file_extension": ".py",
   "mimetype": "text/x-python",
   "name": "python",
   "nbconvert_exporter": "python",
   "pygments_lexer": "ipython3",
   "version": "3.8.10"
  }
 },
 "nbformat": 4,
 "nbformat_minor": 5
}
