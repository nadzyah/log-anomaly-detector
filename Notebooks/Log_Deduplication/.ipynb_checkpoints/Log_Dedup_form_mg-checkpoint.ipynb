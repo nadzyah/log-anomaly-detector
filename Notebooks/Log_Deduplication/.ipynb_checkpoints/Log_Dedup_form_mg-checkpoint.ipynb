{
 "cells": [
  {
   "cell_type": "code",
   "execution_count": 1,
   "id": "3b5d11ba",
   "metadata": {},
   "outputs": [],
   "source": [
    "import sys\n",
    "sys.path.append('/home/nadzya/Apps/log-anomaly-detector/')"
   ]
  },
  {
   "cell_type": "code",
   "execution_count": 2,
   "id": "05e7a778",
   "metadata": {},
   "outputs": [],
   "source": [
    "import pandas as pd\n",
    "import numpy as np \n",
    "\n",
    "from anomaly_detector.storage.mongodb_storage import MongoDBDataStorageSource\n",
    "from anomaly_detector.config import Configuration\n",
    "from anomaly_detector.storage.storage_attribute import MGStorageAttribute\n",
    "from anomaly_detector.model.w2v_model import W2VModel\n",
    "\n",
    "from sklearn.cluster import DBSCAN\n",
    "from sklearn.decomposition import PCA\n",
    "\n",
    "import matplotlib.cm as cm"
   ]
  },
  {
   "cell_type": "code",
   "execution_count": 3,
   "id": "b7c46631",
   "metadata": {},
   "outputs": [],
   "source": [
    "import logging\n",
    "\n",
    "logger = logging.getLogger()\n",
    "logger.setLevel(logging.CRITICAL)"
   ]
  },
  {
   "cell_type": "code",
   "execution_count": 4,
   "id": "9fa1ea96",
   "metadata": {},
   "outputs": [],
   "source": [
    "def config():\n",
    "    \"\"\"Initialize configurations before testing.\"\"\"\n",
    "    cfg = Configuration()\n",
    "    cfg.MG_HOST = \"172.17.18.83\"\n",
    "    cfg.MG_PORT = 27017\n",
    "    cfg.MG_CERT_DIR = \"\"\n",
    "    cfg.MG_INPUT_DB = \"anomalydb\"\n",
    "    cfg.MG_INPUT_COL = \"network_anomaly\"\n",
    "    cfg.HOSTNAME_INDEX = \"hostname\"\n",
    "    cfg.DATETIME_INDEX = \"timestamp\"\n",
    "    cfg.MG_USER = ''\n",
    "    cfg.MG_PASSWORD = ''\n",
    "    cfg.TRAIN_VECTOR_LENGTH = 25\n",
    "    cfg.TRAIN_WINDOW = 5\n",
    "    return cfg"
   ]
  },
  {
   "cell_type": "code",
   "execution_count": 5,
   "id": "93c91cbf",
   "metadata": {},
   "outputs": [],
   "source": [
    "cfg = config()\n",
    "mg_attr = MGStorageAttribute(2592000, 1000)"
   ]
  },
  {
   "cell_type": "code",
   "execution_count": 6,
   "id": "b88f54f9",
   "metadata": {},
   "outputs": [],
   "source": [
    "mg = MongoDBDataStorageSource(cfg)"
   ]
  },
  {
   "cell_type": "code",
   "execution_count": 7,
   "id": "2315eb9a",
   "metadata": {
    "scrolled": true
   },
   "outputs": [],
   "source": [
    "df_logs = mg.retrieve(mg_attr)\n",
    "df = df_logs[0]"
   ]
  },
  {
   "cell_type": "code",
   "execution_count": 8,
   "id": "1a6b08de",
   "metadata": {},
   "outputs": [
    {
     "data": {
      "text/html": [
       "<div>\n",
       "<style scoped>\n",
       "    .dataframe tbody tr th:only-of-type {\n",
       "        vertical-align: middle;\n",
       "    }\n",
       "\n",
       "    .dataframe tbody tr th {\n",
       "        vertical-align: top;\n",
       "    }\n",
       "\n",
       "    .dataframe thead th {\n",
       "        text-align: right;\n",
       "    }\n",
       "</style>\n",
       "<table border=\"1\" class=\"dataframe\">\n",
       "  <thead>\n",
       "    <tr style=\"text-align: right;\">\n",
       "      <th></th>\n",
       "      <th>message</th>\n",
       "      <th>host_ip</th>\n",
       "      <th>hostname</th>\n",
       "      <th>anomaly_score</th>\n",
       "      <th>anomaly</th>\n",
       "      <th>_id.$oid</th>\n",
       "      <th>timestamp.$date</th>\n",
       "    </tr>\n",
       "  </thead>\n",
       "  <tbody>\n",
       "    <tr>\n",
       "      <th>0</th>\n",
       "      <td>DeccumulusCRONpamunixcronsessionsessionclosedf...</td>\n",
       "      <td>172.17.18.51</td>\n",
       "      <td>kvm1.lab.solidex.by</td>\n",
       "      <td>0.9959847494175206</td>\n",
       "      <td>1</td>\n",
       "      <td>61a81a9c3a0b8eefbee392eb</td>\n",
       "      <td>1638428408249</td>\n",
       "    </tr>\n",
       "    <tr>\n",
       "      <th>1</th>\n",
       "      <td>DeccumulusCRONpamunixcronsessionsessionclosedf...</td>\n",
       "      <td>172.17.18.51</td>\n",
       "      <td>kvm1.lab.solidex.by</td>\n",
       "      <td>0.9964440392175928</td>\n",
       "      <td>1</td>\n",
       "      <td>61a813933a0b8eefbee392ea</td>\n",
       "      <td>1638426609169</td>\n",
       "    </tr>\n",
       "    <tr>\n",
       "      <th>2</th>\n",
       "      <td>DeccumulusCRONpamunixcronsessionsessionclosedf...</td>\n",
       "      <td>172.17.18.51</td>\n",
       "      <td>kvm1.lab.solidex.by</td>\n",
       "      <td>0.9971919545806718</td>\n",
       "      <td>1</td>\n",
       "      <td>61a810873a0b8eefbee392e9</td>\n",
       "      <td>1638425823446</td>\n",
       "    </tr>\n",
       "    <tr>\n",
       "      <th>3</th>\n",
       "      <td>DeccumulusCRONpamunixcronsessionsessionclosedf...</td>\n",
       "      <td>172.17.18.51</td>\n",
       "      <td>kvm1.lab.solidex.by</td>\n",
       "      <td>0.9960455552525892</td>\n",
       "      <td>1</td>\n",
       "      <td>61a80c8d3a0b8eefbee392e8</td>\n",
       "      <td>1638424808395</td>\n",
       "    </tr>\n",
       "    <tr>\n",
       "      <th>4</th>\n",
       "      <td>DeccumulusCRONpamunixcronsessionsessionclosedf...</td>\n",
       "      <td>172.17.18.51</td>\n",
       "      <td>kvm1.lab.solidex.by</td>\n",
       "      <td>0.9968604117973736</td>\n",
       "      <td>1</td>\n",
       "      <td>61a802713a0b8eefbee392e7</td>\n",
       "      <td>1638422222894</td>\n",
       "    </tr>\n",
       "    <tr>\n",
       "      <th>...</th>\n",
       "      <td>...</td>\n",
       "      <td>...</td>\n",
       "      <td>...</td>\n",
       "      <td>...</td>\n",
       "      <td>...</td>\n",
       "      <td>...</td>\n",
       "      <td>...</td>\n",
       "    </tr>\n",
       "    <tr>\n",
       "      <th>94</th>\n",
       "      <td>NovvlanmsgsPortlinkUPatspeedGbpsandfullduplex</td>\n",
       "      <td>172.17.18.178</td>\n",
       "      <td>fortiauthenticator.solidex.minsk.by</td>\n",
       "      <td>0.9626082151900027</td>\n",
       "      <td>1</td>\n",
       "      <td>61a4e1b896e1633204fc96f4</td>\n",
       "      <td>1638217203923</td>\n",
       "    </tr>\n",
       "    <tr>\n",
       "      <th>95</th>\n",
       "      <td>NovvlanmsgsPortlinkdown</td>\n",
       "      <td>172.17.18.178</td>\n",
       "      <td>fortiauthenticator.solidex.minsk.by</td>\n",
       "      <td>0.9992102249675073</td>\n",
       "      <td>1</td>\n",
       "      <td>61a4e17c96e1633204fc96f3</td>\n",
       "      <td>1638217143858</td>\n",
       "    </tr>\n",
       "    <tr>\n",
       "      <th>96</th>\n",
       "      <td>NovvlanmsgsPortlinkUPatspeedGbpsandfullduplex</td>\n",
       "      <td>172.17.18.178</td>\n",
       "      <td>fortiauthenticator.solidex.minsk.by</td>\n",
       "      <td>0.9633322612361822</td>\n",
       "      <td>1</td>\n",
       "      <td>61a4e14096e1633204fc96f2</td>\n",
       "      <td>1638217113899</td>\n",
       "    </tr>\n",
       "    <tr>\n",
       "      <th>97</th>\n",
       "      <td>Novcumulussudopamunixsudosessionsessionclosedf...</td>\n",
       "      <td>172.17.18.51</td>\n",
       "      <td>kvm1.lab.solidex.by</td>\n",
       "      <td>0.9823206198726778</td>\n",
       "      <td>1</td>\n",
       "      <td>61a0b4777d4c80b7b192b131</td>\n",
       "      <td>1637943454662</td>\n",
       "    </tr>\n",
       "    <tr>\n",
       "      <th>98</th>\n",
       "      <td>Novcumulussudopamunixsudosessionsessionopenedf...</td>\n",
       "      <td>172.17.18.51</td>\n",
       "      <td>kvm1.lab.solidex.by</td>\n",
       "      <td>0.9980798825587976</td>\n",
       "      <td>1</td>\n",
       "      <td>61a0b4777d4c80b7b192b132</td>\n",
       "      <td>1637943454575</td>\n",
       "    </tr>\n",
       "  </tbody>\n",
       "</table>\n",
       "<p>99 rows × 7 columns</p>\n",
       "</div>"
      ],
      "text/plain": [
       "                                              message        host_ip  \\\n",
       "0   DeccumulusCRONpamunixcronsessionsessionclosedf...   172.17.18.51   \n",
       "1   DeccumulusCRONpamunixcronsessionsessionclosedf...   172.17.18.51   \n",
       "2   DeccumulusCRONpamunixcronsessionsessionclosedf...   172.17.18.51   \n",
       "3   DeccumulusCRONpamunixcronsessionsessionclosedf...   172.17.18.51   \n",
       "4   DeccumulusCRONpamunixcronsessionsessionclosedf...   172.17.18.51   \n",
       "..                                                ...            ...   \n",
       "94      NovvlanmsgsPortlinkUPatspeedGbpsandfullduplex  172.17.18.178   \n",
       "95                            NovvlanmsgsPortlinkdown  172.17.18.178   \n",
       "96      NovvlanmsgsPortlinkUPatspeedGbpsandfullduplex  172.17.18.178   \n",
       "97  Novcumulussudopamunixsudosessionsessionclosedf...   172.17.18.51   \n",
       "98  Novcumulussudopamunixsudosessionsessionopenedf...   172.17.18.51   \n",
       "\n",
       "                               hostname       anomaly_score anomaly  \\\n",
       "0                   kvm1.lab.solidex.by  0.9959847494175206       1   \n",
       "1                   kvm1.lab.solidex.by  0.9964440392175928       1   \n",
       "2                   kvm1.lab.solidex.by  0.9971919545806718       1   \n",
       "3                   kvm1.lab.solidex.by  0.9960455552525892       1   \n",
       "4                   kvm1.lab.solidex.by  0.9968604117973736       1   \n",
       "..                                  ...                 ...     ...   \n",
       "94  fortiauthenticator.solidex.minsk.by  0.9626082151900027       1   \n",
       "95  fortiauthenticator.solidex.minsk.by  0.9992102249675073       1   \n",
       "96  fortiauthenticator.solidex.minsk.by  0.9633322612361822       1   \n",
       "97                  kvm1.lab.solidex.by  0.9823206198726778       1   \n",
       "98                  kvm1.lab.solidex.by  0.9980798825587976       1   \n",
       "\n",
       "                    _id.$oid timestamp.$date  \n",
       "0   61a81a9c3a0b8eefbee392eb   1638428408249  \n",
       "1   61a813933a0b8eefbee392ea   1638426609169  \n",
       "2   61a810873a0b8eefbee392e9   1638425823446  \n",
       "3   61a80c8d3a0b8eefbee392e8   1638424808395  \n",
       "4   61a802713a0b8eefbee392e7   1638422222894  \n",
       "..                       ...             ...  \n",
       "94  61a4e1b896e1633204fc96f4   1638217203923  \n",
       "95  61a4e17c96e1633204fc96f3   1638217143858  \n",
       "96  61a4e14096e1633204fc96f2   1638217113899  \n",
       "97  61a0b4777d4c80b7b192b131   1637943454662  \n",
       "98  61a0b4777d4c80b7b192b132   1637943454575  \n",
       "\n",
       "[99 rows x 7 columns]"
      ]
     },
     "execution_count": 8,
     "metadata": {},
     "output_type": "execute_result"
    }
   ],
   "source": [
    "df"
   ]
  },
  {
   "cell_type": "code",
   "execution_count": 9,
   "id": "50b2ef30",
   "metadata": {
    "scrolled": true
   },
   "outputs": [
    {
     "name": "stdout",
     "output_type": "stream",
     "text": [
      "16\n"
     ]
    },
    {
     "data": {
      "text/plain": [
       "{'DecEXOSVMAAALoginfailedforuserrootthroughssh',\n",
       " 'DecEXOSVMAAALoginfailedforuseruserthroughssh',\n",
       " 'DecEXOSVMSNMPMasterSNMPiscurrentlydisabledHencedroppingtheSNMPrequest',\n",
       " 'DeccumulusCRONpamunixcronsessionsessionclosedforuserroot',\n",
       " 'DeccumulusCRONpamunixcronsessionsessionopenedforuserrootbyuid',\n",
       " 'DeccumulusCRONrootENDusrsbinlogrotateetclogrotateconf',\n",
       " 'NovcumulussshdAcceptedpasswordforcumulusfromportssh',\n",
       " 'NovcumulussshdInvaliduseruserfrom',\n",
       " 'NovcumulussshdReceiveddisconnectfromSessionclosedpreauth',\n",
       " 'Novcumulussshdinputuserauthrequestinvaliduseruserpreauth',\n",
       " 'Novcumulussshdpamunixsshdauthauthenticationfailurelognameuideuidttysshruserrhost',\n",
       " 'Novcumulussshdpamunixsshdauthcheckpassuserunknown',\n",
       " 'Novcumulussudopamunixsudosessionsessionclosedforuserroot',\n",
       " 'Novcumulussudopamunixsudosessionsessionopenedforuserrootbycumulusuid',\n",
       " 'NovvlanmsgsPortlinkUPatspeedGbpsandfullduplex',\n",
       " 'NovvlanmsgsPortlinkdown'}"
      ]
     },
     "execution_count": 9,
     "metadata": {},
     "output_type": "execute_result"
    }
   ],
   "source": [
    "# Get different messages\n",
    "print(len(set(df[\"message\"])))\n",
    "set(df[\"message\"])"
   ]
  },
  {
   "cell_type": "code",
   "execution_count": 24,
   "id": "fb661c08",
   "metadata": {},
   "outputs": [
    {
     "name": "stdout",
     "output_type": "stream",
     "text": [
      "['DeccumulusCRONpamunixcronsessionsessionclosedforuserroot', 'DeccumulusCRONpamunixcronsessionsessionclosedforuserroot', 'DeccumulusCRONpamunixcronsessionsessionclosedforuserroot', 'DeccumulusCRONpamunixcronsessionsessionclosedforuserroot', 'DeccumulusCRONpamunixcronsessionsessionclosedforuserroot', 'DecEXOSVMAAALoginfailedforuserrootthroughssh', 'DecEXOSVMAAALoginfailedforuseruserthroughssh', 'DecEXOSVMSNMPMasterSNMPiscurrentlydisabledHencedroppingtheSNMPrequest', 'DecEXOSVMSNMPMasterSNMPiscurrentlydisabledHencedroppingtheSNMPrequest', 'DecEXOSVMSNMPMasterSNMPiscurrentlydisabledHencedroppingtheSNMPrequest', 'DecEXOSVMSNMPMasterSNMPiscurrentlydisabledHencedroppingtheSNMPrequest', 'DecEXOSVMSNMPMasterSNMPiscurrentlydisabledHencedroppingtheSNMPrequest', 'DecEXOSVMSNMPMasterSNMPiscurrentlydisabledHencedroppingtheSNMPrequest', 'DecEXOSVMSNMPMasterSNMPiscurrentlydisabledHencedroppingtheSNMPrequest', 'DecEXOSVMSNMPMasterSNMPiscurrentlydisabledHencedroppingtheSNMPrequest', 'DecEXOSVMSNMPMasterSNMPiscurrentlydisabledHencedroppingtheSNMPrequest', 'DecEXOSVMSNMPMasterSNMPiscurrentlydisabledHencedroppingtheSNMPrequest', 'DecEXOSVMSNMPMasterSNMPiscurrentlydisabledHencedroppingtheSNMPrequest', 'DecEXOSVMSNMPMasterSNMPiscurrentlydisabledHencedroppingtheSNMPrequest', 'DecEXOSVMSNMPMasterSNMPiscurrentlydisabledHencedroppingtheSNMPrequest', 'DecEXOSVMSNMPMasterSNMPiscurrentlydisabledHencedroppingtheSNMPrequest', 'DecEXOSVMSNMPMasterSNMPiscurrentlydisabledHencedroppingtheSNMPrequest', 'DecEXOSVMSNMPMasterSNMPiscurrentlydisabledHencedroppingtheSNMPrequest', 'DecEXOSVMSNMPMasterSNMPiscurrentlydisabledHencedroppingtheSNMPrequest', 'DecEXOSVMSNMPMasterSNMPiscurrentlydisabledHencedroppingtheSNMPrequest', 'DecEXOSVMSNMPMasterSNMPiscurrentlydisabledHencedroppingtheSNMPrequest', 'DeccumulusCRONpamunixcronsessionsessionclosedforuserroot', 'DeccumulusCRONrootENDusrsbinlogrotateetclogrotateconf', 'DeccumulusCRONpamunixcronsessionsessionopenedforuserrootbyuid', 'DeccumulusCRONpamunixcronsessionsessionclosedforuserroot', 'DeccumulusCRONrootENDusrsbinlogrotateetclogrotateconf', 'DeccumulusCRONpamunixcronsessionsessionopenedforuserrootbyuid', 'DeccumulusCRONpamunixcronsessionsessionclosedforuserroot', 'DeccumulusCRONrootENDusrsbinlogrotateetclogrotateconf', 'DeccumulusCRONpamunixcronsessionsessionopenedforuserrootbyuid', 'DeccumulusCRONpamunixcronsessionsessionclosedforuserroot', 'DeccumulusCRONrootENDusrsbinlogrotateetclogrotateconf', 'DeccumulusCRONpamunixcronsessionsessionopenedforuserrootbyuid', 'DeccumulusCRONpamunixcronsessionsessionclosedforuserroot', 'DeccumulusCRONpamunixcronsessionsessionopenedforuserrootbyuid', 'DeccumulusCRONpamunixcronsessionsessionclosedforuserroot', 'DeccumulusCRONrootENDusrsbinlogrotateetclogrotateconf', 'DeccumulusCRONpamunixcronsessionsessionopenedforuserrootbyuid', 'DeccumulusCRONpamunixcronsessionsessionclosedforuserroot', 'DeccumulusCRONrootENDusrsbinlogrotateetclogrotateconf', 'DeccumulusCRONpamunixcronsessionsessionopenedforuserrootbyuid', 'DeccumulusCRONpamunixcronsessionsessionclosedforuserroot', 'DeccumulusCRONrootENDusrsbinlogrotateetclogrotateconf', 'DeccumulusCRONpamunixcronsessionsessionopenedforuserrootbyuid', 'DeccumulusCRONpamunixcronsessionsessionclosedforuserroot', 'DeccumulusCRONrootENDusrsbinlogrotateetclogrotateconf', 'DeccumulusCRONpamunixcronsessionsessionopenedforuserrootbyuid', 'DeccumulusCRONpamunixcronsessionsessionclosedforuserroot', 'DeccumulusCRONrootENDusrsbinlogrotateetclogrotateconf', 'DeccumulusCRONpamunixcronsessionsessionopenedforuserrootbyuid', 'DeccumulusCRONpamunixcronsessionsessionclosedforuserroot', 'DeccumulusCRONpamunixcronsessionsessionopenedforuserrootbyuid', 'DeccumulusCRONpamunixcronsessionsessionclosedforuserroot', 'DeccumulusCRONrootENDusrsbinlogrotateetclogrotateconf', 'DeccumulusCRONpamunixcronsessionsessionopenedforuserrootbyuid', 'DeccumulusCRONpamunixcronsessionsessionclosedforuserroot', 'DeccumulusCRONrootENDusrsbinlogrotateetclogrotateconf', 'DeccumulusCRONpamunixcronsessionsessionopenedforuserrootbyuid', 'DeccumulusCRONpamunixcronsessionsessionclosedforuserroot', 'DeccumulusCRONrootENDusrsbinlogrotateetclogrotateconf', 'DeccumulusCRONpamunixcronsessionsessionopenedforuserrootbyuid', 'DeccumulusCRONpamunixcronsessionsessionclosedforuserroot', 'DeccumulusCRONrootENDusrsbinlogrotateetclogrotateconf', 'DeccumulusCRONpamunixcronsessionsessionopenedforuserrootbyuid', 'DeccumulusCRONpamunixcronsessionsessionclosedforuserroot', 'DeccumulusCRONpamunixcronsessionsessionopenedforuserrootbyuid', 'DeccumulusCRONpamunixcronsessionsessionclosedforuserroot', 'DeccumulusCRONrootENDusrsbinlogrotateetclogrotateconf', 'DeccumulusCRONpamunixcronsessionsessionopenedforuserrootbyuid', 'DeccumulusCRONpamunixcronsessionsessionclosedforuserroot', 'DeccumulusCRONrootENDusrsbinlogrotateetclogrotateconf', 'DeccumulusCRONpamunixcronsessionsessionopenedforuserrootbyuid', 'DeccumulusCRONpamunixcronsessionsessionclosedforuserroot', 'DeccumulusCRONrootENDusrsbinlogrotateetclogrotateconf', 'DeccumulusCRONpamunixcronsessionsessionopenedforuserrootbyuid', 'DeccumulusCRONpamunixcronsessionsessionclosedforuserroot', 'NovcumulussshdReceiveddisconnectfromSessionclosedpreauth', 'NovcumulussshdReceiveddisconnectfromSessionclosedpreauth', 'Novcumulussshdpamunixsshdauthauthenticationfailurelognameuideuidttysshruserrhost', 'Novcumulussshdpamunixsshdauthcheckpassuserunknown', 'Novcumulussshdinputuserauthrequestinvaliduseruserpreauth', 'NovcumulussshdInvaliduseruserfrom', 'NovcumulussshdReceiveddisconnectfromSessionclosedpreauth', 'NovcumulussshdAcceptedpasswordforcumulusfromportssh', 'NovcumulussshdReceiveddisconnectfromSessionclosedpreauth', 'NovcumulussshdReceiveddisconnectfromSessionclosedpreauth', 'Novcumulussshdpamunixsshdauthcheckpassuserunknown', 'Novcumulussshdinputuserauthrequestinvaliduseruserpreauth', 'NovcumulussshdReceiveddisconnectfromSessionclosedpreauth', 'NovvlanmsgsPortlinkUPatspeedGbpsandfullduplex', 'NovvlanmsgsPortlinkdown', 'NovvlanmsgsPortlinkUPatspeedGbpsandfullduplex', 'Novcumulussudopamunixsudosessionsessionclosedforuserroot', 'Novcumulussudopamunixsudosessionsessionopenedforuserrootbycumulusuid']\n"
     ]
    },
    {
     "data": {
      "text/plain": [
       "array([[ 0.00000000e+00, -1.14678610e-02, -4.20763390e-03, ...,\n",
       "        -1.31447418e-02, -6.10517280e-04,  6.74845744e-03],\n",
       "       [ 0.00000000e+00, -1.14678610e-02, -4.20763390e-03, ...,\n",
       "        -1.31447418e-02, -6.10517280e-04,  6.74845744e-03],\n",
       "       [ 0.00000000e+00, -1.14678610e-02, -4.20763390e-03, ...,\n",
       "        -1.31447418e-02, -6.10517280e-04,  6.74845744e-03],\n",
       "       ...,\n",
       "       [ 0.00000000e+00,  6.42113434e-03,  1.17303506e-02, ...,\n",
       "        -1.81977600e-02,  1.22229848e-02, -1.68779455e-02],\n",
       "       [ 0.00000000e+00, -1.34417936e-02, -1.47967897e-02, ...,\n",
       "        -7.08765630e-03,  7.19124218e-05,  2.58617778e-03],\n",
       "       [ 0.00000000e+00,  1.04181319e-02,  3.25882575e-03, ...,\n",
       "        -1.50220897e-02,  1.30875912e-02, -3.03678820e-03]])"
      ]
     },
     "execution_count": 24,
     "metadata": {},
     "output_type": "execute_result"
    }
   ],
   "source": [
    "w2v = W2VModel(cfg)\n",
    "w2v.create(df, cfg.TRAIN_VECTOR_LENGTH, cfg.TRAIN_WINDOW)\n",
    "\n",
    "w2v.one_vector(df)"
   ]
  },
  {
   "cell_type": "code",
   "execution_count": 25,
   "id": "e3cbb2c6",
   "metadata": {},
   "outputs": [
    {
     "data": {
      "text/plain": [
       "Index(['message', 'host_ip', 'hostname', 'anomaly_score', 'anomaly',\n",
       "       '_id.$oid', 'timestamp.$date', 'cluster'],\n",
       "      dtype='object')"
      ]
     },
     "execution_count": 25,
     "metadata": {},
     "output_type": "execute_result"
    }
   ],
   "source": [
    "df.columns"
   ]
  },
  {
   "cell_type": "code",
   "execution_count": 26,
   "id": "8cadb30a",
   "metadata": {},
   "outputs": [],
   "source": [
    "vectors = w2v.one_vector(df)"
   ]
  },
  {
   "cell_type": "code",
   "execution_count": 27,
   "id": "a5ff1201",
   "metadata": {},
   "outputs": [
    {
     "name": "stdout",
     "output_type": "stream",
     "text": [
      "[-1  0  1  2  3  4  5  6  7]\n"
     ]
    },
    {
     "data": {
      "text/plain": [
       "array([ 0,  0,  0,  0,  0, -1, -1,  1,  1,  1,  1,  1,  1,  1,  1,  1,  1,\n",
       "        1,  1,  1,  1,  1,  1,  1,  1,  1,  0,  2,  3,  0,  2,  3,  0,  2,\n",
       "        3,  0,  2,  3,  0,  3,  0,  2,  3,  0,  2,  3,  0,  2,  3,  0,  2,\n",
       "        3,  0,  2,  3,  0,  3,  0,  2,  3,  0,  2,  3,  0,  2,  3,  0,  2,\n",
       "        3,  0,  3,  0,  2,  3,  0,  2,  3,  0,  2,  3,  0,  4,  4, -1,  5,\n",
       "        6, -1,  4, -1,  4,  4,  5,  6,  4,  7, -1,  7, -1, -1])"
      ]
     },
     "execution_count": 27,
     "metadata": {},
     "output_type": "execute_result"
    }
   ],
   "source": [
    "dbscan = DBSCAN(eps=0.01, min_samples=2)\n",
    "clusters = dbscan.fit_predict(vectors)\n",
    "print(np.unique(clusters))\n",
    "clusters"
   ]
  },
  {
   "cell_type": "code",
   "execution_count": 28,
   "id": "2156c41d",
   "metadata": {},
   "outputs": [
    {
     "name": "stdout",
     "output_type": "stream",
     "text": [
      "[-1  0  1  2  3  4  5  6  7]\n"
     ]
    },
    {
     "data": {
      "text/plain": [
       "array([ 0,  0,  0,  0,  0,  1,  2,  3,  3,  3,  3,  3,  3,  3,  3,  3,  3,\n",
       "        3,  3,  3,  3,  3,  3,  3,  3,  3,  0,  4,  5,  0,  4,  5,  0,  4,\n",
       "        5,  0,  4,  5,  0,  5,  0,  4,  5,  0,  4,  5,  0,  4,  5,  0,  4,\n",
       "        5,  0,  4,  5,  0,  5,  0,  4,  5,  0,  4,  5,  0,  4,  5,  0,  4,\n",
       "        5,  0,  5,  0,  4,  5,  0,  4,  5,  0,  4,  5,  0,  6,  6, -1,  1,\n",
       "        2, -1,  6,  6,  6,  6,  1,  2,  6,  7,  1,  7, -1, -1])"
      ]
     },
     "execution_count": 28,
     "metadata": {},
     "output_type": "execute_result"
    }
   ],
   "source": [
    "dbscan = DBSCAN(eps=0.01, min_samples=2)\n",
    "pca = PCA(n_components = 3, random_state = 0)\n",
    "data_2d_pca = pca.fit_transform(vectors)\n",
    "\n",
    "clusters = dbscan.fit_predict(data_2d_pca)\n",
    "print(np.unique(clusters))\n",
    "clusters"
   ]
  },
  {
   "cell_type": "code",
   "execution_count": 29,
   "id": "08998e74",
   "metadata": {},
   "outputs": [],
   "source": [
    "df['cluster'] = clusters"
   ]
  },
  {
   "cell_type": "markdown",
   "id": "429f9c5a",
   "metadata": {},
   "source": [
    "# Visualization"
   ]
  },
  {
   "cell_type": "markdown",
   "id": "896f8079",
   "metadata": {},
   "source": [
    "## PCA"
   ]
  },
  {
   "cell_type": "code",
   "execution_count": 30,
   "id": "a59e4623",
   "metadata": {},
   "outputs": [],
   "source": [
    "from sklearn.decomposition import PCA"
   ]
  },
  {
   "cell_type": "code",
   "execution_count": 31,
   "id": "acb64e4c",
   "metadata": {},
   "outputs": [],
   "source": [
    "pca = PCA(n_components = 2, random_state = 0)\n",
    "data_2d_pca = pca.fit_transform(vectors)"
   ]
  },
  {
   "cell_type": "code",
   "execution_count": 32,
   "id": "0c7de97f",
   "metadata": {},
   "outputs": [
    {
     "name": "stdout",
     "output_type": "stream",
     "text": [
      "Populating the interactive namespace from numpy and matplotlib\n"
     ]
    }
   ],
   "source": [
    "%pylab inline"
   ]
  },
  {
   "cell_type": "code",
   "execution_count": 33,
   "id": "da35496f",
   "metadata": {
    "scrolled": false
   },
   "outputs": [
    {
     "data": {
      "text/plain": [
       "<matplotlib.legend.Legend at 0x7f2d8c611970>"
      ]
     },
     "execution_count": 33,
     "metadata": {},
     "output_type": "execute_result"
    },
    {
     "data": {
      "image/png": "[encoded data removed]",
      "text/plain": [
       "<Figure size 720x432 with 1 Axes>"
      ]
     },
     "metadata": {
      "needs_background": "light"
     },
     "output_type": "display_data"
    }
   ],
   "source": [
    "pylab.figure(figsize=(10, 6))\n",
    "scat = pylab.scatter(data_2d_pca[:, 0], data_2d_pca[:, 1], c=list(df[\"cluster\"]))\n",
    "pylab.legend(*scat.legend_elements(num=\"auto\"))"
   ]
  },
  {
   "cell_type": "markdown",
   "id": "c33a4fea",
   "metadata": {},
   "source": [
    "# Aggregation"
   ]
  },
  {
   "cell_type": "code",
   "execution_count": 20,
   "id": "1ae50e20",
   "metadata": {},
   "outputs": [],
   "source": [
    "aggregated = []\n",
    "\n",
    "for cluster in np.unique(clusters):\n",
    "    \n",
    "    messages = []\n",
    "    for i in list(df.loc[df['cluster'] == cluster].index):\n",
    "        messages.append(df_logs[1][i][\"message\"])\n",
    "\n",
    "    result_string = messages[0]\n",
    "    msg_num = len(messages)\n",
    "        \n",
    "    aggregated.append([result_string, msg_num])        "
   ]
  },
  {
   "cell_type": "code",
   "execution_count": 21,
   "id": "fa213396",
   "metadata": {
    "scrolled": false
   },
   "outputs": [
    {
     "name": "stdout",
     "output_type": "stream",
     "text": [
      "['<132> Dec  1 19:59:47 EXOS-VM AAA: Login failed for user root through ssh (172.17.18.50)', 13] \n",
      "\n",
      "['<86>Dec  2 04:00:01 cumulus CRON[30641]: pam_unix(cron:session): session closed for user root', 25] \n",
      "\n",
      "['<131> Dec  1 19:59:07 EXOS-VM SNMP.Master: SNMP is currently disabled. Hence dropping the SNMP request.\\x00', 19] \n",
      "\n",
      "['<78>Dec  1 17:15:01 cumulus CRON[25368]: (root) END (   /usr/sbin/logrotate /etc/logrotate.conf)', 16] \n",
      "\n",
      "['<86>Dec  1 17:15:01 cumulus CRON[25368]: pam_unix(cron:session): session opened for user root by (uid=0)', 17] \n",
      "\n",
      "['<38>Nov 30 23:00:43 cumulus sshd[16295]: Received disconnect from 172.17.18.50: 11: Session closed [preauth]', 9] \n",
      "\n"
     ]
    }
   ],
   "source": [
    "for x in aggregated:\n",
    "    print(x, \"\\n\")"
   ]
  },
  {
   "cell_type": "code",
   "execution_count": 22,
   "id": "2772c00b",
   "metadata": {
    "scrolled": false
   },
   "outputs": [
    {
     "name": "stdout",
     "output_type": "stream",
     "text": [
      "<132> Dec  1 19:59:47 EXOS-VM AAA: Login failed for user root through ssh (172.17.18.50) \n",
      "\n",
      "<132> Dec  1 19:59:32 EXOS-VM AAA: Login failed for user user through ssh (172.17.18.50) \n",
      "\n",
      "<86>Dec  1 16:00:01 cumulus CRON[24765]: pam_unix(cron:session): session opened for user root by (uid=0) \n",
      "\n",
      "<86>Dec  1 15:45:01 cumulus CRON[24649]: pam_unix(cron:session): session opened for user root by (uid=0) \n",
      "\n",
      "<84>Nov 30 23:00:40 cumulus sshd[16293]: pam_unix(sshd:auth): check pass; user unknown \n",
      "\n",
      "<38>Nov 30 23:00:40 cumulus sshd[16293]: input_userauth_request: invalid user user [preauth] \n",
      "\n",
      "<38>Nov 30 23:00:40 cumulus sshd[16293]: Invalid user user from 172.17.18.50 \n",
      "\n",
      "<84>Nov 29 23:00:33 cumulus sshd[4349]: pam_unix(sshd:auth): check pass; user unknown \n",
      "\n",
      "<134> Nov 29 17:19:58 vlan.msgs: Port 38 link UP at speed 1 Gbps and full-duplex \n",
      "\n",
      "<134> Nov 29 17:18:55 vlan.msgs: Port 38 link down \n",
      "\n",
      "<134> Nov 29 17:18:29 vlan.msgs: Port 38 link UP at speed 1 Gbps and full-duplex \n",
      "\n",
      "<86>Nov 26 13:12:58 cumulus sudo: pam_unix(sudo:session): session closed for user root \n",
      "\n",
      "<86>Nov 26 13:12:58 cumulus sudo: pam_unix(sudo:session): session opened for user root by cumulus(uid=0) \n",
      "\n",
      "<86>Dec * ** cumulus *** pam_unix(cron:session): session closed for user root \n",
      "* 1, 2\n",
      "** 15:30:01, 17:15:01, 02:17:01, 16:17:01, 09:45:01, 11:00:01, 15:45:01, 16:30:01, 04:00:01, 10:17:01, 17:00:01, 11:30:01, 03:30:01, 16:00:01, 11:17:01, 10:00:01, 08:15:01, 10:15:01, 16:45:01, 10:45:01, 10:30:01, 16:15:01, 03:00:01, 03:17:01, 11:15:01\n",
      "*** CRON[21836]:, CRON[30408]:, CRON[24765]:, CRON[22209]:, CRON[25252]:, CRON[24533]:, CRON[25019]:, CRON[22581]:, CRON[22442]:, CRON[20969]:, CRON[24649]:, CRON[22326]:, CRON[21719]:, CRON[22478]:, CRON[29813]:, CRON[21989]:, CRON[24915]:, CRON[30151]:, CRON[30304]:, CRON[24880]:, CRON[22093]:, CRON[30641]:, CRON[25136]:, CRON[25368]:, CRON[21953]: \n",
      "\n",
      "<131> Dec 1 * EXOS-VM SNMP.Master: SNMP is currently disabled. Hence dropping the SNMP request.\u0000 \n",
      "* 19:58:40, 19:58:04, 19:57:54, 19:57:41, 19:58:53, 19:58:08, 19:58:31, 19:58:35, 19:58:44, 19:58:26, 19:57:45, 19:59:02, 19:57:59, 19:59:07, 19:58:58, 19:57:50, 19:58:22, 19:58:17, 19:58:49 \n",
      "\n",
      "<78>Dec 1 * cumulus ** (root) END ( /usr/sbin/logrotate /etc/logrotate.conf) \n",
      "* 10:30:01, 16:00:01, 11:00:01, 15:45:01, 16:30:01, 15:30:01, 17:15:01, 10:00:01, 16:15:01, 11:15:01, 09:45:01, 17:00:01, 10:15:01, 16:45:01, 10:45:01, 11:30:01\n",
      "** CRON[21836]:, CRON[24533]:, CRON[25019]:, CRON[24765]:, CRON[22209]:, CRON[24880]:, CRON[24649]:, CRON[22581]:, CRON[22442]:, CRON[25252]:, CRON[22093]:, CRON[22326]:, CRON[21719]:, CRON[25136]:, CRON[25368]:, CRON[21953]: \n",
      "\n",
      "<86>Dec 1 * cumulus ** pam_unix(cron:session): session opened for user root by (uid=0) \n",
      "* 10:30:01, 11:00:01, 11:17:01, 15:30:01, 16:30:01, 10:15:01, 17:15:01, 10:00:01, 10:17:01, 16:15:01, 11:15:01, 09:45:01, 17:00:01, 16:17:01, 16:45:01, 10:45:01, 11:30:01\n",
      "** CRON[21836]:, CRON[24533]:, CRON[21989]:, CRON[24915]:, CRON[25019]:, CRON[22209]:, CRON[24880]:, CRON[22581]:, CRON[22442]:, CRON[22093]:, CRON[25252]:, CRON[22326]:, CRON[21719]:, CRON[25136]:, CRON[25368]:, CRON[21953]:, CRON[22478]: \n",
      "\n",
      "* ** *** cumulus **** ***** ****** ******* ******** ********* \n",
      "* <85>Nov, <38>Nov\n",
      "** 30, 29\n",
      "*** 23:00:35, 23:00:40, 09:41:01, 23:00:43, 23:00:33\n",
      "**** sshd[9710]:, sshd[4351]:, sshd[16291]:, sshd[4349]:, sshd[16295]:, sshd[4347]:, sshd[16293]:\n",
      "***** input_userauth_request:, Received, pam_unix(sshd:auth):, Accepted\n",
      "****** password, disconnect, invalid, authentication\n",
      "******* from, failure;, user, for\n",
      "******** cumulus, logname=, 172.17.18.50:, user\n",
      "********* [preauth], from, 11:, uid=0 \n",
      "\n"
     ]
    }
   ],
   "source": [
    "aggregated2 = []\n",
    "\n",
    "for cluster in np.unique(clusters):\n",
    "    messages = []\n",
    "    for i in list(df.loc[df['cluster'] == cluster].index):\n",
    "        messages.append(df_logs[1][i][\"message\"])\n",
    "\n",
    "    if cluster == -1:\n",
    "        aggregated2.extend(messages)\n",
    "    else:\n",
    "        splited_messages = [x.split() for x in messages]\n",
    "        splited_transpose = [list(row) for row in zip(*splited_messages)]\n",
    "        result_string = \"\"\n",
    "        variable_params = \"\"\n",
    "        var_num = 0\n",
    "\n",
    "        for x in splited_transpose:\n",
    "            if len(set(x)) == 1:\n",
    "                result_string += x[0] + \" \"\n",
    "            else:\n",
    "                var_num += 1\n",
    "                result_string += var_num*\"*\" + \" \"\n",
    "                variable_params += var_num*\"*\" + \" \" + \", \".join(set(x)) + \"\\n\"\n",
    "\n",
    "        result_string += \"\\n\" + variable_params\n",
    "\n",
    "        aggregated2.append(result_string[:-1])\n",
    "\n",
    "for x in aggregated2:\n",
    "    print(x, \"\\n\")"
   ]
  },
  {
   "cell_type": "code",
   "execution_count": null,
   "id": "ca410568",
   "metadata": {},
   "outputs": [],
   "source": []
  }
 ],
 "metadata": {
  "kernelspec": {
   "display_name": "Python 3",
   "language": "python",
   "name": "python3"
  },
  "language_info": {
   "codemirror_mode": {
    "name": "ipython",
    "version": 3
   },
   "file_extension": ".py",
   "mimetype": "text/x-python",
   "name": "python",
   "nbconvert_exporter": "python",
   "pygments_lexer": "ipython3",
   "version": "3.8.10"
  }
 },
 "nbformat": 4,
 "nbformat_minor": 5
}
