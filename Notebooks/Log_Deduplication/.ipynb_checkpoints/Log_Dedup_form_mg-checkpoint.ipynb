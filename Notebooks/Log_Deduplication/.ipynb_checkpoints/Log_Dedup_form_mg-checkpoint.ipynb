{
 "cells": [
  {
   "cell_type": "code",
   "execution_count": 140,
   "id": "156173df",
   "metadata": {},
   "outputs": [],
   "source": [
    "import sys\n",
    "sys.path.append('/home/nadzya/Apps/log-anomaly-detector/')"
   ]
  },
  {
   "cell_type": "code",
   "execution_count": 141,
   "id": "b4ccade0",
   "metadata": {},
   "outputs": [],
   "source": [
    "import pandas as pd\n",
    "import numpy as np \n",
    "\n",
    "from anomaly_detector.storage.mongodb_storage import MongoDBDataStorageSource\n",
    "from anomaly_detector.config import Configuration\n",
    "from anomaly_detector.storage.storage_attribute import MGStorageAttribute\n",
    "from anomaly_detector.core.encoder import LogEncoderCatalog\n",
    "\n",
    "from sklearn.cluster import DBSCAN\n",
    "\n",
    "import matplotlib.cm as cm"
   ]
  },
  {
   "cell_type": "code",
   "execution_count": 142,
   "id": "9187c0d3",
   "metadata": {},
   "outputs": [],
   "source": [
    "import logging\n",
    "\n",
    "logger = logging.getLogger()\n",
    "logger.setLevel(logging.CRITICAL)"
   ]
  },
  {
   "cell_type": "code",
   "execution_count": 143,
   "id": "df3631ff",
   "metadata": {},
   "outputs": [],
   "source": [
    "def config():\n",
    "    \"\"\"Initialize configurations before testing.\"\"\"\n",
    "    cfg = Configuration()\n",
    "    cfg.MG_HOST = \"172.17.18.83\"\n",
    "    cfg.MG_PORT = 27017\n",
    "    cfg.MG_CERT_DIR = \"\"\n",
    "    cfg.MG_INPUT_DB = \"anomalydb\"\n",
    "    cfg.MG_INPUT_COL = \"utm_anomaly\"\n",
    "    cfg.HOSTNAME_INDEX = \"hostname\"\n",
    "    cfg.DATETIME_INDEX = \"timestamp\"\n",
    "    cfg.MG_USER = ''\n",
    "    cfg.MG_PASSWORD = ''\n",
    "    cfg.TRAIN_VECTOR_LENGTH = 25\n",
    "    cfg.TRAIN_WINDOW = 5\n",
    "    return cfg"
   ]
  },
  {
   "cell_type": "code",
   "execution_count": 144,
   "id": "13904edd",
   "metadata": {},
   "outputs": [],
   "source": [
    "cfg = config()\n",
    "mg_attr = MGStorageAttribute(2592000, 1000)"
   ]
  },
  {
   "cell_type": "code",
   "execution_count": 145,
   "id": "4ca6ee99",
   "metadata": {},
   "outputs": [],
   "source": [
    "mg = MongoDBDataStorageSource(cfg)"
   ]
  },
  {
   "cell_type": "code",
   "execution_count": 79,
   "id": "a4071767",
   "metadata": {
    "scrolled": true
   },
   "outputs": [],
   "source": [
    "df_logs = mg.retrieve(mg_attr)\n",
    "df = df_logs[0]"
   ]
  },
  {
   "cell_type": "code",
   "execution_count": 146,
   "id": "930b9301",
   "metadata": {},
   "outputs": [
    {
     "data": {
      "text/html": [
       "<div>\n",
       "<style scoped>\n",
       "    .dataframe tbody tr th:only-of-type {\n",
       "        vertical-align: middle;\n",
       "    }\n",
       "\n",
       "    .dataframe tbody tr th {\n",
       "        vertical-align: top;\n",
       "    }\n",
       "\n",
       "    .dataframe thead th {\n",
       "        text-align: right;\n",
       "    }\n",
       "</style>\n",
       "<table border=\"1\" class=\"dataframe\">\n",
       "  <thead>\n",
       "    <tr style=\"text-align: right;\">\n",
       "      <th></th>\n",
       "      <th>message</th>\n",
       "      <th>host_ip</th>\n",
       "      <th>hostname</th>\n",
       "      <th>anomaly_score</th>\n",
       "      <th>anomaly</th>\n",
       "      <th>_id.$oid</th>\n",
       "      <th>timestamp.$date</th>\n",
       "      <th>cluster</th>\n",
       "    </tr>\n",
       "  </thead>\n",
       "  <tbody>\n",
       "    <tr>\n",
       "      <th>0</th>\n",
       "      <td>DecUvectrastandardDETECTdetectioncategoryCOMMA...</td>\n",
       "      <td>172.17.18.39</td>\n",
       "      <td>172.17.18.39</td>\n",
       "      <td>0.9997423818203224</td>\n",
       "      <td>1</td>\n",
       "      <td>61a8745a42382df2d78f7340</td>\n",
       "      <td>1638451383512</td>\n",
       "      <td>0</td>\n",
       "    </tr>\n",
       "    <tr>\n",
       "      <th>1</th>\n",
       "      <td>DecUvectrastandardDETECTdetectioncategoryCOMMA...</td>\n",
       "      <td>172.17.18.39</td>\n",
       "      <td>172.17.18.39</td>\n",
       "      <td>0.9989977175511838</td>\n",
       "      <td>1</td>\n",
       "      <td>61a871e242382df2d78f733d</td>\n",
       "      <td>1638450716438</td>\n",
       "      <td>0</td>\n",
       "    </tr>\n",
       "    <tr>\n",
       "      <th>2</th>\n",
       "      <td>DecUvectrastandardDETECTdetectioncategoryCOMMA...</td>\n",
       "      <td>172.17.18.39</td>\n",
       "      <td>172.17.18.39</td>\n",
       "      <td>0.9992758145788644</td>\n",
       "      <td>1</td>\n",
       "      <td>61a8671642382df2d78f733c</td>\n",
       "      <td>1638447957859</td>\n",
       "      <td>0</td>\n",
       "    </tr>\n",
       "    <tr>\n",
       "      <th>3</th>\n",
       "      <td>DecUvectrastandardDETECTdetectioncategoryCOMMA...</td>\n",
       "      <td>172.17.18.39</td>\n",
       "      <td>172.17.18.39</td>\n",
       "      <td>0.9806888508728289</td>\n",
       "      <td>1</td>\n",
       "      <td>61a7793a30a6e5e8a18672be</td>\n",
       "      <td>1638387096513</td>\n",
       "      <td>0</td>\n",
       "    </tr>\n",
       "    <tr>\n",
       "      <th>4</th>\n",
       "      <td>DecUvectrastandardDETECTdetectioncategoryINFOt...</td>\n",
       "      <td>172.17.18.39</td>\n",
       "      <td>172.17.18.39</td>\n",
       "      <td>0.9911523706084335</td>\n",
       "      <td>1</td>\n",
       "      <td>61a774a330a6e5e8a18672bd</td>\n",
       "      <td>1638385920085</td>\n",
       "      <td>-1</td>\n",
       "    </tr>\n",
       "    <tr>\n",
       "      <th>...</th>\n",
       "      <td>...</td>\n",
       "      <td>...</td>\n",
       "      <td>...</td>\n",
       "      <td>...</td>\n",
       "      <td>...</td>\n",
       "      <td>...</td>\n",
       "      <td>...</td>\n",
       "      <td>...</td>\n",
       "    </tr>\n",
       "    <tr>\n",
       "      <th>276</th>\n",
       "      <td>datetimedevnameSLXFGVMdevidFGVMlogidtypeevents...</td>\n",
       "      <td>172.17.31.10</td>\n",
       "      <td>172.17.31.10</td>\n",
       "      <td>0.9987055763863761</td>\n",
       "      <td>1</td>\n",
       "      <td>61a08f57160d61b58c7b156d</td>\n",
       "      <td>1637933975169</td>\n",
       "      <td>3</td>\n",
       "    </tr>\n",
       "    <tr>\n",
       "      <th>277</th>\n",
       "      <td>datetimedevnameSLXFGVMdevidFGVMlogidtypeevents...</td>\n",
       "      <td>172.17.31.10</td>\n",
       "      <td>172.17.31.10</td>\n",
       "      <td>0.9987309965766161</td>\n",
       "      <td>1</td>\n",
       "      <td>61a08f57160d61b58c7b156e</td>\n",
       "      <td>1637933972628</td>\n",
       "      <td>3</td>\n",
       "    </tr>\n",
       "    <tr>\n",
       "      <th>278</th>\n",
       "      <td>datetimedevnameSLXFGVMdevidFGVMlogidtypeevents...</td>\n",
       "      <td>172.17.31.10</td>\n",
       "      <td>172.17.31.10</td>\n",
       "      <td>0.9985239082124043</td>\n",
       "      <td>1</td>\n",
       "      <td>61a08f57160d61b58c7b156f</td>\n",
       "      <td>1637933962122</td>\n",
       "      <td>3</td>\n",
       "    </tr>\n",
       "    <tr>\n",
       "      <th>279</th>\n",
       "      <td>datetimedevnameSLXFGVMdevidFGVMlogidtypeevents...</td>\n",
       "      <td>172.17.31.10</td>\n",
       "      <td>172.17.31.10</td>\n",
       "      <td>0.9982561498428673</td>\n",
       "      <td>1</td>\n",
       "      <td>61a08ea2160d61b58c7b156b</td>\n",
       "      <td>1637933776694</td>\n",
       "      <td>3</td>\n",
       "    </tr>\n",
       "    <tr>\n",
       "      <th>280</th>\n",
       "      <td>datetimedevnameSLXFGVMdevidFGVMlogidtypeevents...</td>\n",
       "      <td>172.17.31.10</td>\n",
       "      <td>172.17.31.10</td>\n",
       "      <td>0.9985322274280978</td>\n",
       "      <td>1</td>\n",
       "      <td>61a08ea2160d61b58c7b156c</td>\n",
       "      <td>1637933763439</td>\n",
       "      <td>3</td>\n",
       "    </tr>\n",
       "  </tbody>\n",
       "</table>\n",
       "<p>281 rows × 8 columns</p>\n",
       "</div>"
      ],
      "text/plain": [
       "                                               message       host_ip  \\\n",
       "0    DecUvectrastandardDETECTdetectioncategoryCOMMA...  172.17.18.39   \n",
       "1    DecUvectrastandardDETECTdetectioncategoryCOMMA...  172.17.18.39   \n",
       "2    DecUvectrastandardDETECTdetectioncategoryCOMMA...  172.17.18.39   \n",
       "3    DecUvectrastandardDETECTdetectioncategoryCOMMA...  172.17.18.39   \n",
       "4    DecUvectrastandardDETECTdetectioncategoryINFOt...  172.17.18.39   \n",
       "..                                                 ...           ...   \n",
       "276  datetimedevnameSLXFGVMdevidFGVMlogidtypeevents...  172.17.31.10   \n",
       "277  datetimedevnameSLXFGVMdevidFGVMlogidtypeevents...  172.17.31.10   \n",
       "278  datetimedevnameSLXFGVMdevidFGVMlogidtypeevents...  172.17.31.10   \n",
       "279  datetimedevnameSLXFGVMdevidFGVMlogidtypeevents...  172.17.31.10   \n",
       "280  datetimedevnameSLXFGVMdevidFGVMlogidtypeevents...  172.17.31.10   \n",
       "\n",
       "         hostname       anomaly_score anomaly                  _id.$oid  \\\n",
       "0    172.17.18.39  0.9997423818203224       1  61a8745a42382df2d78f7340   \n",
       "1    172.17.18.39  0.9989977175511838       1  61a871e242382df2d78f733d   \n",
       "2    172.17.18.39  0.9992758145788644       1  61a8671642382df2d78f733c   \n",
       "3    172.17.18.39  0.9806888508728289       1  61a7793a30a6e5e8a18672be   \n",
       "4    172.17.18.39  0.9911523706084335       1  61a774a330a6e5e8a18672bd   \n",
       "..            ...                 ...     ...                       ...   \n",
       "276  172.17.31.10  0.9987055763863761       1  61a08f57160d61b58c7b156d   \n",
       "277  172.17.31.10  0.9987309965766161       1  61a08f57160d61b58c7b156e   \n",
       "278  172.17.31.10  0.9985239082124043       1  61a08f57160d61b58c7b156f   \n",
       "279  172.17.31.10  0.9982561498428673       1  61a08ea2160d61b58c7b156b   \n",
       "280  172.17.31.10  0.9985322274280978       1  61a08ea2160d61b58c7b156c   \n",
       "\n",
       "    timestamp.$date  cluster  \n",
       "0     1638451383512        0  \n",
       "1     1638450716438        0  \n",
       "2     1638447957859        0  \n",
       "3     1638387096513        0  \n",
       "4     1638385920085       -1  \n",
       "..              ...      ...  \n",
       "276   1637933975169        3  \n",
       "277   1637933972628        3  \n",
       "278   1637933962122        3  \n",
       "279   1637933776694        3  \n",
       "280   1637933763439        3  \n",
       "\n",
       "[281 rows x 8 columns]"
      ]
     },
     "execution_count": 146,
     "metadata": {},
     "output_type": "execute_result"
    }
   ],
   "source": [
    "df"
   ]
  },
  {
   "cell_type": "code",
   "execution_count": 80,
   "id": "181de65c",
   "metadata": {
    "scrolled": true
   },
   "outputs": [
    {
     "name": "stdout",
     "output_type": "stream",
     "text": [
      "11\n"
     ]
    },
    {
     "data": {
      "text/plain": [
       "{'DecUvectrastandardDETECTdetectioncategoryCOMMANDCONTROLtypeHiddenHTTPSTunnelhostnameavaskincurrentIPdvchostthreatcertaintyURLhttpsdetectionsdetailidDestinationIPDestinationDomainserankinghelpcrunchcomDestinationPortPrototcptriagedFalseBytesSentBytesRcvdUTCTimeStartUTCTimeEnd',\n",
       " 'DecUvectrastandardDETECTdetectioncategoryINFOtypeNovelExternalDestinationPorthostnamefaxsolidexminskbycurrentIPdvchostthreatcertaintyURLhttpsdetectionsdetailidDestinationIPDestinationDomainsiptelecombyDestinationPortProtoudptriagedFalseBytesSentBytesRcvdUTCTimeStartUTCTimeEnd',\n",
       " 'DecUvectrastandardHOSThostcategoryHOSTSCORINGhostNamematveypccurrentIPdvchostthreatcertaintyprivilegescoreDecreasesFalseURLhttpshostsUTCTimesourceKeyAssetFalsedestKeyAssetFalsehostRoles',\n",
       " 'DecUvectrastandardHOSThostcategoryHOSTSCORINGhostNamepaullptpcurrentIPdvchostthreatcertaintyprivilegescoreDecreasesFalseURLhttpshostsUTCTimesourceKeyAssetFalsedestKeyAssetTruehostRoles',\n",
       " 'DecUvectrastandardcampaignsCAMPAIGNcampaignidactionADDreasonConnectiondvcdvchostdetectionIdNonehostnameavaskincurrentIPsourceidURLhttpscampaignsdstHostviyajivositecomDestinationIPdestIDexternaltimestamp',\n",
       " 'NovUvectrastandardcampaignsCAMPAIGNcampaignidactionADDreasonConnectiondvcdvchostdetectionIdNonehostnameavaskincurrentIPsourceidURLhttpscampaignsdstHostviyajivositecomDestinationIPdestIDexternaltimestamp',\n",
       " 'datetimedevnameSLXFGVMdevidFGVMlogidtypeeventsubtypesystemlevelinformationvdrooteventtimetzlogdescDHCPstatisticsinterfaceporttotalusedmsgDHCPstatistics',\n",
       " 'datetimedevnameSLXFGVMdevidFGVMlogidtypeeventsubtypesystemlevelinformationvdrooteventtimetzlogdescOutdatedreportfilesdeletedmsgDeleteoldreportfiles',\n",
       " 'datetimedevnameSLXFGVMdevidFGVMlogidtypeeventsubtypesystemlevelnoticevdrooteventtimetzlogdescSystemperformancestatisticsactionperfstatscpumemtotalsessiondiskbandwidthsetupratedisklogratefazlogratefreediskstoragesysuptimemsgPerformancestatisticsaverageCPUmemoryconcurrentsessionssetuprate',\n",
       " 'datetimedevnameSLXFGVMdevidFGVMlogidtypetrafficsubtypeforwardlevelnoticevdrooteventtimetzsrcipsrcnamesrcportsrcintfportsrcintfrolelandstipdstnamesiptelecombydstportdstintfportdstintfrolewansessionidprotoactionacceptpolicyidpolicytypepolicypoluuidddaabeffcserviceSIPdstcountryBelarussrccountryReservedtrandispsnattransiptransportdurationsentbytercvdbytesentpktrcvdpktappcatunscannedsentdeltarcvddeltamastersrcmacccadesrcmacccadesrcserver',\n",
       " 'datetimedevnameSLXFGVMdevidFGVMlogidtypeutmsubtypevoipeventtypevoiplevelinformationvdrooteventtimetzsessionidepocheventidsrcipsrcportdstipdstportprotosrcintportdstintportpolicyidprofiledefaultvoipprotosipkindregisteractionpermitstatussucceededdurationdirsessionorigincallidafabaeccbfromsipsiptelecombytosipsiptelecomby'}"
      ]
     },
     "execution_count": 80,
     "metadata": {},
     "output_type": "execute_result"
    }
   ],
   "source": [
    "# Get different messages\n",
    "print(len(set(df[\"message\"])))\n",
    "set(df[\"message\"])"
   ]
  },
  {
   "cell_type": "code",
   "execution_count": 81,
   "id": "db4e55f6",
   "metadata": {},
   "outputs": [],
   "source": [
    "enc = LogEncoderCatalog('w2v_encoder', cfg)\n",
    "enc.build()\n",
    "\n",
    "enc.encode_log(df)"
   ]
  },
  {
   "cell_type": "code",
   "execution_count": 82,
   "id": "588cc0c7",
   "metadata": {},
   "outputs": [],
   "source": [
    "vectors = enc.one_vector(df_logs[0])"
   ]
  },
  {
   "cell_type": "code",
   "execution_count": 91,
   "id": "0397898b",
   "metadata": {},
   "outputs": [
    {
     "name": "stdout",
     "output_type": "stream",
     "text": [
      "[-1  0  1  2  3  4  5]\n"
     ]
    },
    {
     "data": {
      "text/plain": [
       "array([ 0,  0,  0,  0, -1,  1, -1, -1,  1,  2,  2,  2,  2,  2,  2,  2,  2,\n",
       "       -1, -1,  3,  3,  3,  3,  3,  3,  3,  3,  3,  3,  3,  3,  3,  3,  3,\n",
       "        3,  3,  3,  3,  3,  3,  3,  3,  3,  3,  3,  4,  4,  4,  4,  4,  4,\n",
       "        4,  4,  4,  4,  4,  4,  4,  4,  4,  4,  4,  4,  4,  4,  4,  4,  4,\n",
       "        4,  4,  4,  4,  4,  4,  4,  4,  4,  4,  4,  4,  4,  4,  4,  4,  4,\n",
       "        4,  4,  4,  4,  4,  4,  4,  4,  4,  4,  4,  4,  4,  4,  4,  4,  4,\n",
       "        3,  3,  3,  3,  3,  3,  3,  3,  3,  3,  3,  3,  3,  3,  3,  3,  3,\n",
       "        3,  3,  3,  3,  3,  3,  3,  3,  3,  3,  5,  5,  3,  3,  3,  3,  3,\n",
       "        3,  3,  3,  3,  3,  3,  3,  3,  3,  3,  3,  3,  3,  3,  3,  3,  3,\n",
       "        3,  3,  3,  3,  3,  3,  3,  3,  3,  3,  3,  3,  3,  3,  3,  3,  3,\n",
       "        3,  3,  3,  3,  3,  3,  3,  3,  3,  3,  3,  4,  4,  4,  4,  4,  4,\n",
       "        4,  4,  4,  4,  4,  4,  4,  4,  4,  4,  4,  4,  4,  4,  4,  4,  4,\n",
       "        4,  4,  4,  4,  4,  4,  4,  4,  4,  4,  4,  4,  4,  4,  4,  4,  4,\n",
       "        4,  4,  4,  4,  4,  4,  4,  4,  4,  3,  3,  3,  3,  3,  3,  3,  3,\n",
       "        3,  3,  3,  3,  3,  3,  3,  3,  3,  3,  3,  3,  3,  3,  3,  3,  3,\n",
       "        3,  3,  3,  3,  3,  3,  3,  3,  3,  3,  3,  3,  3,  3,  3,  3,  3,\n",
       "        3,  3,  3,  3,  3,  3,  3,  3,  3])"
      ]
     },
     "execution_count": 91,
     "metadata": {},
     "output_type": "execute_result"
    }
   ],
   "source": [
    "dbscan = DBSCAN(eps=0.05, min_samples=2)\n",
    "clusters = dbscan.fit_predict(vectors)\n",
    "print(np.unique(clusters))\n",
    "clusters"
   ]
  },
  {
   "cell_type": "code",
   "execution_count": 92,
   "id": "4bebd8f2",
   "metadata": {},
   "outputs": [],
   "source": [
    "df['cluster'] = clusters"
   ]
  },
  {
   "cell_type": "markdown",
   "id": "dba15681",
   "metadata": {},
   "source": [
    "# Visualization"
   ]
  },
  {
   "cell_type": "markdown",
   "id": "1e7f7b13",
   "metadata": {},
   "source": [
    "## PCA"
   ]
  },
  {
   "cell_type": "code",
   "execution_count": 93,
   "id": "abe3aed5",
   "metadata": {},
   "outputs": [],
   "source": [
    "from sklearn.decomposition import PCA"
   ]
  },
  {
   "cell_type": "code",
   "execution_count": 94,
   "id": "0df0275d",
   "metadata": {},
   "outputs": [],
   "source": [
    "pca = PCA(n_components = 2, random_state = 0)\n",
    "data_2d_pca = pca.fit_transform(vectors)"
   ]
  },
  {
   "cell_type": "code",
   "execution_count": 95,
   "id": "0789a791",
   "metadata": {},
   "outputs": [
    {
     "name": "stdout",
     "output_type": "stream",
     "text": [
      "Populating the interactive namespace from numpy and matplotlib\n"
     ]
    }
   ],
   "source": [
    "%pylab inline"
   ]
  },
  {
   "cell_type": "code",
   "execution_count": 96,
   "id": "ec66f824",
   "metadata": {
    "scrolled": false
   },
   "outputs": [
    {
     "data": {
      "text/plain": [
       "<matplotlib.legend.Legend at 0x7fd664165670>"
      ]
     },
     "execution_count": 96,
     "metadata": {},
     "output_type": "execute_result"
    },
    {
     "data": {
      "image/png": "[encoded data removed]",
      "text/plain": [
       "<Figure size 720x432 with 1 Axes>"
      ]
     },
     "metadata": {
      "needs_background": "light"
     },
     "output_type": "display_data"
    }
   ],
   "source": [
    "pylab.figure(figsize=(10, 6))\n",
    "scat = pylab.scatter(data_2d_pca[:, 0], data_2d_pca[:, 1], c=list(df[\"cluster\"]))\n",
    "pylab.legend(*scat.legend_elements(num=\"auto\"))"
   ]
  },
  {
   "cell_type": "markdown",
   "id": "c5c0d4a6",
   "metadata": {},
   "source": [
    "# Aggregation"
   ]
  },
  {
   "cell_type": "code",
   "execution_count": 113,
   "id": "95f1bfae",
   "metadata": {},
   "outputs": [],
   "source": [
    "aggregated = []\n",
    "\n",
    "for cluster in np.unique(clusters):\n",
    "    \n",
    "    messages = []\n",
    "    for i in list(df.loc[df['cluster'] == cluster].index):\n",
    "        messages.append(df_logs[1][i][\"message\"])\n",
    "\n",
    "    result_string = messages[0]\n",
    "    msg_num = len(messages)\n",
    "        \n",
    "    aggregated.append([result_string, msg_num])        "
   ]
  },
  {
   "cell_type": "code",
   "execution_count": 114,
   "id": "da4ca28c",
   "metadata": {
    "scrolled": false
   },
   "outputs": [
    {
     "name": "stdout",
     "output_type": "stream",
     "text": [
      "['<13>Dec  1 16:11:53 U22020000000877 vectra_standard -: DETECT [detection@41261 category=\"INFO\" type=\"Novel External Destination Port\" hostname=\"fax.solidex.minsk.by\" currentIP=\"172.17.15.3\" dvchost=\"172.17.18.39\" threat=\"0\" certainty=\"0\" URL=\"https://172.17.18.39/detections/3320?detail_id\\\\=244128\" DestinationIP=\"93.125.5.100\" DestinationDomain=\"sip.telecom.by\" DestinationPort=\"11062\" Proto=\"udp\" triaged=\"False\" BytesSent=\"6182540\" BytesRcvd=\"6193376\" UTCTimeStart=\"2021-11-25 11:53:09\" UTCTimeEnd=\"2021-12-01 13:11:17\"]', 5] \n",
      "\n",
      "['<13>Dec  2 10:22:53 U22020000000877 vectra_standard -: DETECT [detection@41261 category=\"COMMAND & CONTROL\" type=\"Hidden HTTPS Tunnel\" hostname=\"avaskin\" currentIP=\"172.17.17.98\" dvchost=\"172.17.18.39\" threat=\"50\" certainty=\"50\" URL=\"https://172.17.18.39/detections/3383?detail_id\\\\=244246\" DestinationIP=\"95.216.72.81\" DestinationDomain=\"seranking.helpcrunch.com\" DestinationPort=\"443\" Proto=\"tcp\" triaged=\"False\" BytesSent=\"1671\" BytesRcvd=\"11377\" UTCTimeStart=\"2021-12-02 06:12:33\" UTCTimeEnd=\"2021-12-02 07:20:32\"]', 4] \n",
      "\n",
      "['<13>Dec  1 16:05:31 U22020000000877 vectra_standard_campaigns -: CAMPAIGN [campaign@41261 id=\"1237\" action=\"ADD\" reason=\"Connection\" dvc=\"172.17.18.39\" dvchost=\"172.17.18.39\" detectionId=\"None\" hostname=\"avaskin\" currentIP=\"172.17.17.98\" source_id=\"124\" URL=\"https://172.17.18.39/campaigns/1237\" dstHost=\"vi-ya2.jivosite.com\" DestinationIP=\"84.201.136.165\" destID=\"external\" timestamp=\"1638358963.0\"]', 2] \n",
      "\n",
      "['<190>date=2021-12-01 time=09:59:22 devname=\"SLX-FG-VM-165\" devid=\"FGVM010000010981\" logid=\"0100026003\" type=\"event\" subtype=\"system\" level=\"information\" vd=\"root\" eventtime=1638341963335414356 tz=\"+0300\" logdesc=\"DHCP statistics\" interface=\"port6\" total=91 used=0 msg=\"DHCP statistics\"', 8] \n",
      "\n",
      "['<190>date=2021-11-29 time=21:56:50 devname=\"SLX-FG-VM-166\" devid=\"FGVM010000010982\" logid=\"0100020027\" type=\"event\" subtype=\"system\" level=\"information\" vd=\"root\" eventtime=1638212212000307410 tz=\"+0300\" logdesc=\"Outdated report files deleted\" msg=\"Delete 3 old report files\"', 154] \n",
      "\n",
      "['<189>date=2021-11-25 time=20:12:00 devname=\"SLX-FG-VM-166\" devid=\"FGVM010000010982\" logid=\"0100040704\" type=\"event\" subtype=\"system\" level=\"notice\" vd=\"root\" eventtime=1637860320790430456 tz=\"+0300\" logdesc=\"System performance statistics\" action=\"perf-stats\" cpu=2 mem=79 totalsession=160 disk=1 bandwidth=\"78/384\" setuprate=2 disklograte=0 fazlograte=0 freediskstorage=28402 sysuptime=19864256 msg=\"Performance statistics: average CPU: 2, memory:  79, concurrent sessions:  160, setup-rate: 2\"', 106] \n",
      "\n",
      "['<13>Nov 26 15:20:57 U22020000000877 vectra_standard_campaigns -: CAMPAIGN [campaign@41261 id=\"1237\" action=\"ADD\" reason=\"Connection\" dvc=\"172.17.18.39\" dvchost=\"172.17.18.39\" detectionId=\"None\" hostname=\"avaskin\" currentIP=\"172.17.17.98\" source_id=\"124\" URL=\"https://172.17.18.39/campaigns/1237\" dstHost=\"vi-ya2.jivosite.com\" DestinationIP=\"84.201.136.165\" destID=\"external\" timestamp=\"1637927207.0\"]', 2] \n",
      "\n"
     ]
    }
   ],
   "source": [
    "for x in aggregated:\n",
    "    print(x, \"\\n\")"
   ]
  },
  {
   "cell_type": "code",
   "execution_count": 139,
   "id": "8f981e40",
   "metadata": {
    "scrolled": true
   },
   "outputs": [
    {
     "name": "stdout",
     "output_type": "stream",
     "text": [
      "<13>Dec * ** U22020000000877 vectra_standard -: DETECT [detection@41261 category=\"COMMAND & CONTROL\" type=\"Hidden HTTPS Tunnel\" hostname=\"avaskin\" currentIP=\"172.17.17.98\" dvchost=\"172.17.18.39\" threat=\"50\" certainty=\"50\" *** DestinationIP=\"95.216.72.81\" DestinationDomain=\"seranking.helpcrunch.com\" DestinationPort=\"443\" Proto=\"tcp\" triaged=\"False\" **** ***** ****** ******* ******** ********* \n",
      "* 1, 2\n",
      "** 10:11:50, 09:25:47, 10:22:53, 16:31:27\n",
      "*** URL=\"https://172.17.18.39/detections/3383?detail_id\\=244229\", URL=\"https://172.17.18.39/detections/3383?detail_id\\=244165\", URL=\"https://172.17.18.39/detections/3370?detail_id\\=244132\", URL=\"https://172.17.18.39/detections/3383?detail_id\\=244246\"\n",
      "**** BytesSent=\"21792\", BytesSent=\"1671\", BytesSent=\"1507\"\n",
      "***** BytesRcvd=\"10479\", BytesRcvd=\"11377\", BytesRcvd=\"16243\", BytesRcvd=\"11353\"\n",
      "****** UTCTimeStart=\"2021-12-01, UTCTimeStart=\"2021-12-02\n",
      "******* 06:12:33\", 06:31:53\"\n",
      "******** UTCTimeEnd=\"2021-12-02, UTCTimeEnd=\"2021-12-01\n",
      "********* 07:20:32\"], 13:29:15\"], 06:23:33\"], 07:08:50\"]\n"
     ]
    }
   ],
   "source": [
    "aggregated2 = []\n",
    "\n",
    "for cluster in np.unique(clusters):\n",
    "    messages = []\n",
    "    for i in list(df.loc[df['cluster'] == cluster].index):\n",
    "        messages.append(df_logs[1][i][\"message\"])\n",
    "\n",
    "    if cluster == -1:\n",
    "        aggregated2.extend(messages)\n",
    "    else:\n",
    "        splited_messages = [x.split() for x in messages]\n",
    "        splited_transpose = [list(row) for row in zip(*splited_messages)]\n",
    "        result_string = \"\"\n",
    "        variable_params = \"\"\n",
    "        var_num = 0\n",
    "\n",
    "        for x in splited_transpose:\n",
    "            if len(set(x)) == 1:\n",
    "                result_string += x[0] + \" \"\n",
    "            else:\n",
    "                var_num += 1\n",
    "                result_string += var_num*\"*\" + \" \"\n",
    "                variable_params += var_num*\"*\" + \" \" + \", \".join(set(x)) + \"\\n\"\n",
    "\n",
    "        result_string += \"\\n\" + variable_params\n",
    "\n",
    "        aggregated2.append(result_string[:-1])\n",
    "\n",
    "print(aggregated2[5])"
   ]
  }
 ],
 "metadata": {
  "kernelspec": {
   "display_name": "Python 3",
   "language": "python",
   "name": "python3"
  },
  "language_info": {
   "codemirror_mode": {
    "name": "ipython",
    "version": 3
   },
   "file_extension": ".py",
   "mimetype": "text/x-python",
   "name": "python",
   "nbconvert_exporter": "python",
   "pygments_lexer": "ipython3",
   "version": "3.8.10"
  }
 },
 "nbformat": 4,
 "nbformat_minor": 5
}
