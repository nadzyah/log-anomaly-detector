{
 "cells": [
  {
   "cell_type": "code",
   "execution_count": 11,
   "id": "657f3da9",
   "metadata": {},
   "outputs": [],
   "source": [
    "import sys\n",
    "sys.path.append('/home/nadzya/Apps/log-anomaly-detector/')\n",
    "\n",
    "import logging\n",
    "\n",
    "logger = logging.getLogger()\n",
    "logger.setLevel(logging.CRITICAL)"
   ]
  },
  {
   "cell_type": "code",
   "execution_count": 12,
   "id": "b135d671",
   "metadata": {},
   "outputs": [],
   "source": [
    "import pandas as pd\n",
    "import numpy as np \n",
    "import datetime\n",
    "import json\n",
    "\n",
    "\n",
    "from anomaly_detector.config import Configuration\n",
    "from anomaly_detector.storage.storage import DataCleaner\n",
    "from anomaly_detector.storage.mongodb_storage import MongoDBDataStorageSource\n",
    "from anomaly_detector.storage.storage_attribute import MGStorageAttribute\n",
    "from anomaly_detector.model.w2v_model import W2VModel\n",
    "\n",
    "from bson.json_util import dumps\n",
    "\n",
    "from sklearn.cluster import DBSCAN\n",
    "from sklearn.decomposition import PCA\n",
    "from gensim.models import Word2Vec\n",
    "import re\n",
    "import string"
   ]
  },
  {
   "cell_type": "code",
   "execution_count": 13,
   "id": "fc8b3052",
   "metadata": {},
   "outputs": [],
   "source": [
    "def config():\n",
    "    \"\"\"Initialize configurations before testing.\"\"\"\n",
    "    cfg = Configuration()\n",
    "    cfg.MG_HOST = \"172.17.18.83\"\n",
    "    cfg.MG_PORT = 27017\n",
    "    cfg.MG_CERT_DIR = \"\"\n",
    "    cfg.MG_INPUT_DB = \"anomalydb\"\n",
    "    cfg.MG_INPUT_COL = \"utm_anomaly\"\n",
    "    cfg.HOSTNAME_INDEX = \"hostname\"\n",
    "    cfg.DATETIME_INDEX = \"timestamp\"\n",
    "    cfg.MG_USER = ''\n",
    "    cfg.MG_PASSWORD = ''\n",
    "    cfg.AGGR_VECTOR_LENGTH = 25\n",
    "    cfg.AGGR_WINDOW = 5\n",
    "    cfg.AGGR_EPS = 0.01\n",
    "    cfg.AGGR_MIN_SAMPLES = 2\n",
    "    return cfg"
   ]
  },
  {
   "cell_type": "code",
   "execution_count": 14,
   "id": "b523563e",
   "metadata": {},
   "outputs": [],
   "source": [
    "def get_lad_word2vec(config, df):\n",
    "    w2v = W2VModel(config)\n",
    "    w2v.create(df, config.AGGR_VECTOR_LENGTH, config.AGGR_WINDOW)\n",
    "\n",
    "    return w2v.one_vector(df)"
   ]
  },
  {
   "cell_type": "code",
   "execution_count": 15,
   "id": "4e6f94f5",
   "metadata": {},
   "outputs": [],
   "source": [
    "def get_gensin_w2v(config, df):\n",
    "    w2v = Word2Vec(sentences=list(df[\"message\"]), size=config.AGGR_VECTOR_LENGTH, window=config.AGGR_WINDOW)\n",
    "    \n",
    "    vectors = np.ndarray()\n",
    "    for x in list(df[\"message\"]):\n",
    "        temp = []\n",
    "        for word in x:\n",
    "            if word in w2v.wv:\n",
    "                #print(len(w2v.wv[word]))\n",
    "                temp.append(w2v.wv[word])\n",
    "            else:\n",
    "                temp.append(np.array([0]*config.AGGR_VECTOR_LENGTH))\n",
    "        vectors.append(temp)\n",
    "    return vectors"
   ]
  },
  {
   "cell_type": "code",
   "execution_count": 16,
   "id": "4e07d0ea",
   "metadata": {},
   "outputs": [],
   "source": [
    "def reduce_dim_pca(n_components, vectors):\n",
    "    pca = PCA(n_components=n_components, random_state=0)\n",
    "    data_pca = pca.fit_transform(vectors)\n",
    "    return data_pca"
   ]
  },
  {
   "cell_type": "code",
   "execution_count": 17,
   "id": "5ad13ae4",
   "metadata": {},
   "outputs": [],
   "source": [
    "def add_cluster_label_to_df(config, df, vectors):\n",
    "    dbscan = DBSCAN(eps=config.AGGR_EPS, min_samples=cfg.AGGR_MIN_SAMPLES)\n",
    "    clusters = dbscan.fit_predict(vectors)\n",
    "    df[\"cluster\"] = clusters\n",
    "    return clusters"
   ]
  },
  {
   "cell_type": "code",
   "execution_count": 18,
   "id": "6e776b65",
   "metadata": {},
   "outputs": [],
   "source": [
    "def aggregate_logs(df, df_json, clusters):\n",
    "    aggregated = []\n",
    "    for cluster in np.unique(clusters):\n",
    "        messages = []\n",
    "        for i in list(df.loc[df['cluster'] == cluster].index):\n",
    "            messages.append(df_json[i][\"message\"])\n",
    "\n",
    "        if cluster == -1:\n",
    "            for msg in messages:\n",
    "                #aggregated.append((msg, 1, []))\n",
    "                aggregated.append(msg)\n",
    "        else:\n",
    "            splited_messages = [x.split() for x in messages]\n",
    "            splited_transpose = [list(row) for row in zip(*splited_messages)]\n",
    "            result_string = \"\"\n",
    "            var_num = 0\n",
    "\n",
    "            for x in splited_transpose:\n",
    "                if len(set(x)) == 1:\n",
    "                    result_string += x[0] + \" \"\n",
    "                else:\n",
    "                    result_string += \"***\" + \" \"\n",
    "\n",
    "            msg_num = len(messages)\n",
    "            #aggregated.append((result_string[:-1], msg_num, messages))\n",
    "            aggregated.append(result_string[:-1])\n",
    "\n",
    "    return aggregated"
   ]
  },
  {
   "cell_type": "code",
   "execution_count": 22,
   "id": "90e21e41",
   "metadata": {},
   "outputs": [
    {
     "data": {
      "text/plain": [
       "array([ 0,  0,  0,  0,  0,  0,  1,  1,  1,  1,  1,  1,  1,  1,  1,  1,  1,\n",
       "        1,  1,  1,  1,  1,  0,  0,  0,  0,  0,  0,  0,  0,  0,  0,  0, -1,\n",
       "        0,  0,  0,  0,  0,  0,  0,  0,  0,  0,  0,  0,  0,  0,  0,  0,  0,\n",
       "        0,  2,  2,  2,  2,  2,  2,  2,  2,  2,  2,  2,  2,  2,  2,  3,  3,\n",
       "        2,  2,  2,  2, -1,  4, -1, -1,  4,  5,  5,  5,  5,  5,  5,  5,  5,\n",
       "       -1, -1,  6,  6,  6,  6,  6,  6,  6,  6,  6,  6,  6,  6,  6,  6,  6,\n",
       "        6,  6,  6,  6,  6,  6,  6,  6,  6,  6,  6,  7,  7,  7,  7,  7,  7,\n",
       "        7,  7,  7,  7,  7,  7,  7,  7,  7,  7,  7,  7,  7,  7,  7,  7,  7,\n",
       "        7,  7,  7,  7,  7,  7,  7,  7,  7,  7,  7,  7,  7,  7,  7,  7,  7,\n",
       "        7,  7,  7,  7,  7,  7,  7,  7,  7,  7,  7,  7,  7,  7,  7,  7,  7,\n",
       "        6,  6,  6,  6,  6,  6,  6,  6,  6,  6,  6,  6,  6,  6,  6,  6,  6,\n",
       "        6,  6,  6,  6,  6,  6,  6,  6,  6,  6,  8,  8,  6,  6,  6,  6,  6,\n",
       "        6,  6,  6,  6,  6,  6,  6,  6,  6,  6,  6,  6,  6,  6,  6,  6,  6,\n",
       "        6,  6,  6,  6,  6,  6,  6,  6,  6,  6,  6,  6,  6,  6,  6,  6,  6,\n",
       "        6,  6,  6,  6,  6,  6,  6,  6,  6,  6,  6,  7,  7,  7,  7,  7,  7,\n",
       "        7,  7,  7,  7,  7,  7,  7,  7,  7,  7,  7,  7,  7,  7,  7,  7,  7,\n",
       "        7,  7,  7,  7,  7,  7,  7,  7,  7,  7,  7,  7,  7,  7,  7,  7,  7,\n",
       "        7,  7,  7,  7,  7,  7,  7,  7,  7,  6,  6,  6,  6,  6,  6,  6,  6,\n",
       "        6,  6,  6,  6,  6,  6,  6,  6,  6,  6,  6,  6,  6,  6,  6,  6,  6,\n",
       "        6,  6,  6,  6,  6,  6,  6,  6,  6,  6,  6,  6,  6,  6,  6,  6,  6,\n",
       "        6,  6,  6,  6,  6,  6,  6,  6,  6])"
      ]
     },
     "execution_count": 22,
     "metadata": {},
     "output_type": "execute_result"
    }
   ],
   "source": [
    "cfg = config()\n",
    "mg = MongoDBDataStorageSource(cfg)\n",
    "df, json_logs = mg.retrieve(MGStorageAttribute(30*86400, 1000))\n",
    "\n",
    "df = pd.DataFrame(df[\"message\"])\n",
    "vectors = get_lad_word2vec(cfg, df)\n",
    "\n",
    "#vectors_pca = reduce_dim_pca(4, vectors)\n",
    "clusters = add_cluster_label_to_df(cfg, df, vectors)\n",
    "clusters"
   ]
  },
  {
   "cell_type": "code",
   "execution_count": 23,
   "id": "b6984965",
   "metadata": {},
   "outputs": [
    {
     "name": "stdout",
     "output_type": "stream",
     "text": [
      "Populating the interactive namespace from numpy and matplotlib\n"
     ]
    },
    {
     "data": {
      "text/plain": [
       "<matplotlib.legend.Legend at 0x7f6b406cd0d0>"
      ]
     },
     "execution_count": 23,
     "metadata": {},
     "output_type": "execute_result"
    },
    {
     "data": {
      "image/png": "[encoded data removed]",
      "text/plain": [
       "<Figure size 720x432 with 1 Axes>"
      ]
     },
     "metadata": {
      "needs_background": "light"
     },
     "output_type": "display_data"
    }
   ],
   "source": [
    "%pylab inline\n",
    "\n",
    "data_2d_pca = reduce_dim_pca(2, vectors)\n",
    "\n",
    "pylab.figure(figsize=(10, 6))\n",
    "scat = pylab.scatter(data_2d_pca[:, 0], data_2d_pca[:, 1], c=list(df[\"cluster\"]))\n",
    "pylab.legend(*scat.legend_elements(num=\"auto\"))"
   ]
  },
  {
   "cell_type": "code",
   "execution_count": 24,
   "id": "cf96a57b",
   "metadata": {
    "scrolled": false
   },
   "outputs": [
    {
     "data": {
      "text/plain": [
       "['<13>Dec  3 03:15:23 U22020000000877 vectra_standard -: HOST [host@41261 category=\"HOST SCORING\" hostName=\"Samsung-Galaxy-S7\" currentIP=\"172.17.42.156\" dvchost=\"172.17.18.39\" threat=\"21\" certainty=\"12\" privilege=\"0\" scoreDecreases=\"False\" URL=\"https://172.17.18.39/hosts/14808\" UTCTime=\"1638490523.952734\" sourceKeyAsset=\"False\" destKeyAsset=\"False\" hostRoles=\"\"]',\n",
       " '<13>Dec  1 16:11:53 U22020000000877 vectra_standard -: DETECT [detection@41261 category=\"INFO\" type=\"Novel External Destination Port\" hostname=\"fax.solidex.minsk.by\" currentIP=\"172.17.15.3\" dvchost=\"172.17.18.39\" threat=\"0\" certainty=\"0\" URL=\"https://172.17.18.39/detections/3320?detail_id\\\\=244128\" DestinationIP=\"93.125.5.100\" DestinationDomain=\"sip.telecom.by\" DestinationPort=\"11062\" Proto=\"udp\" triaged=\"False\" BytesSent=\"6182540\" BytesRcvd=\"6193376\" UTCTimeStart=\"2021-11-25 11:53:09\" UTCTimeEnd=\"2021-12-01 13:11:17\"]',\n",
       " '<13>Dec  1 15:15:23 U22020000000877 vectra_standard -: HOST [host@41261 category=\"HOST SCORING\" hostName=\"matvey-pc\" currentIP=\"172.17.17.102\" dvchost=\"172.17.18.39\" threat=\"12\" certainty=\"70\" privilege=\"1\" scoreDecreases=\"False\" URL=\"https://172.17.18.39/hosts/1770\" UTCTime=\"1638360923.058996\" sourceKeyAsset=\"False\" destKeyAsset=\"False\" hostRoles=\"\"]',\n",
       " '<13>Dec  1 15:15:22 U22020000000877 vectra_standard -: HOST [host@41261 category=\"HOST SCORING\" hostName=\"paul-lptp\" currentIP=\"172.17.17.151\" dvchost=\"172.17.18.39\" threat=\"66\" certainty=\"75\" privilege=\"1\" scoreDecreases=\"False\" URL=\"https://172.17.18.39/hosts/4113\" UTCTime=\"1638360922.921209\" sourceKeyAsset=\"False\" destKeyAsset=\"True\" hostRoles=\"\"]',\n",
       " '<190>date=2021-11-30 time=23:27:21 devname=\"SLX-FG-VM-166\" devid=\"FGVM010000010982\" logid=\"0814044032\" type=\"utm\" subtype=\"voip\" eventtype=\"voip\" level=\"information\" vd=\"root\" eventtime=1638304041682242881 tz=\"+0300\" session_id=188257872 epoch=0 event_id=14408 srcip=172.17.15.3 src_port=5060 dstip=93.125.5.100 dst_port=5060 proto=17 src_int=\"port4\" dst_int=\"port2\" policy_id=96 profile=\"default\" voip_proto=\"sip\" kind=\"register\" action=\"permit\" status=\"succeeded\" duration=0 dir=\"session_origin\" call_id=\"2afa35b0-2a69-11ec-9632-072cb2431610\" from=\"sip:375173361195@sip.telecom.by\" to=\"sip:375173361195@sip.telecom.by\"',\n",
       " '<189>date=2021-11-30 time=17:17:01 devname=\"SLX-FG-VM-166\" devid=\"FGVM010000010982\" logid=\"0000000020\" type=\"traffic\" subtype=\"forward\" level=\"notice\" vd=\"root\" eventtime=1638281822665893147 tz=\"+0300\" srcip=172.17.15.3 srcname=\"172.17.15.3\" srcport=5060 srcintf=\"port4\" srcintfrole=\"lan\" dstip=93.125.5.100 dstname=\"sip.telecom.by\" dstport=5060 dstintf=\"port2\" dstintfrole=\"wan\" sessionid=188257872 proto=17 action=\"accept\" policyid=96 policytype=\"policy\" poluuid=\"d1382da0-a4b6-51e9-1f28-9639f07021c5\" service=\"SIP\" dstcountry=\"Belarus\" srccountry=\"Reserved\" trandisp=\"snat\" transip=37.17.54.156 transport=65476 duration=7587381 sentbyte=13949328 rcvdbyte=8970004 sentpkt=15651 rcvdpkt=15918 appcat=\"unscanned\" sentdelta=886 rcvddelta=527 mastersrcmac=\"2c:60:0c:95:ad:e5\" srcmac=\"2c:60:0c:95:ad:e5\" srcserver=0',\n",
       " '<190>date=2021-12-03 *** devname=\"SLX-FG-VM-166\" devid=\"FGVM010000010982\" logid=\"0100026001\" type=\"event\" subtype=\"system\" level=\"information\" vd=\"root\" *** tz=\"+0300\" logdesc=\"DHCP Ack log\" interface=\"port5\" dhcp_msg=\"Ack\" mac=\"00:50:56:A0:35:7D\" *** lease=259200 hostname=\"debian10-dev\" msg=\"DHCP server sends a DHCPACK\"',\n",
       " '<13>Dec 3 *** U22020000000877 vectra_standard -: DETECT [detection@41261 category=\"RECONNAISSANCE\" type=\"RPC Targeted Recon\" hostname=\"avaskin\" currentIP=\"172.17.17.98\" dvchost=\"172.17.18.39\" threat=\"34\" certainty=\"29\" *** DestinationIP=\"172.17.17.5\" DestinationDomain=\"\" DestinationPort=\"445\" Proto=\"\" triaged=\"False\" BytesSent=\"None\" BytesRcvd=\"None\" UTCTimeStart=\"2021-12-03 04:11:12\" UTCTimeEnd=\"2021-12-03 ***',\n",
       " '<13>Dec *** *** U22020000000877 vectra_standard -: DETECT [detection@41261 category=\"COMMAND & CONTROL\" type=\"Hidden HTTPS Tunnel\" hostname=\"avaskin\" currentIP=\"172.17.17.98\" dvchost=\"172.17.18.39\" threat=\"50\" certainty=\"50\" *** DestinationIP=\"95.216.72.81\" DestinationDomain=\"seranking.helpcrunch.com\" DestinationPort=\"443\" Proto=\"tcp\" triaged=\"False\" *** *** *** *** *** ***',\n",
       " '<188>date=2021-12-02 *** devname=\"SLX-FG-VM-166\" devid=\"FGVM010000010982\" logid=\"0000000011\" type=\"traffic\" subtype=\"forward\" level=\"warning\" vd=\"root\" *** tz=\"+0300\" srcip=172.17.42.151 srcname=\"Local-FortiGate\" *** srcintf=\"port5\" srcintfrole=\"lan\" dstip=172.17.18.198 dstname=\"172.17.18.198\" dstport=8080 dstintf=\"port4\" dstintfrole=\"lan\" *** proto=6 action=\"ip-conn\" policyid=141 policytype=\"policy\" poluuid=\"c2b51090-b030-51eb-db09-4a50e4975e94\" service=\"HTTP8080\" dstcountry=\"Reserved\" srccountry=\"Reserved\" appcat=\"unscanned\" crscore=5 craction=262144 crlevel=\"low\" srchwvendor=\"Fortinet\" devtype=\"Router\" srcfamily=\"FortiGate\" osname=\"FortiOS\" srchwversion=\"VM64\" mastersrcmac=\"00:50:56:a0:b4:d2\" srcmac=\"00:50:56:a0:b4:d2\" srcserver=0 masterdstmac=\"2c:60:0c:83:a9:47\" dstmac=\"2c:60:0c:83:a9:47\" dstserver=1',\n",
       " '<13>Dec 1 *** U22020000000877 vectra_standard_campaigns -: CAMPAIGN [campaign@41261 id=\"1237\" action=\"ADD\" reason=\"Connection\" dvc=\"172.17.18.39\" dvchost=\"172.17.18.39\" detectionId=\"None\" hostname=\"avaskin\" currentIP=\"172.17.17.98\" source_id=\"124\" URL=\"https://172.17.18.39/campaigns/1237\" dstHost=\"vi-ya2.jivosite.com\" DestinationIP=\"84.201.136.165\" destID=\"external\" ***',\n",
       " '<190>date=2021-12-01 *** *** *** logid=\"0100026003\" type=\"event\" subtype=\"system\" level=\"information\" vd=\"root\" *** tz=\"+0300\" logdesc=\"DHCP statistics\" *** *** *** msg=\"DHCP statistics\"',\n",
       " '*** *** *** *** logid=\"0100020027\" type=\"event\" subtype=\"system\" level=\"information\" vd=\"root\" *** tz=\"+0300\" logdesc=\"Outdated report files deleted\" msg=\"Delete *** old report files\"',\n",
       " '*** *** *** *** logid=\"0100040704\" type=\"event\" subtype=\"system\" level=\"notice\" vd=\"root\" *** tz=\"+0300\" logdesc=\"System performance statistics\" action=\"perf-stats\" *** *** *** disk=1 *** *** *** *** *** *** msg=\"Performance statistics: average CPU: *** memory: *** concurrent sessions: *** setup-rate: ***',\n",
       " '<13>Nov 26 *** U22020000000877 vectra_standard_campaigns -: CAMPAIGN [campaign@41261 id=\"1237\" action=\"ADD\" reason=\"Connection\" dvc=\"172.17.18.39\" dvchost=\"172.17.18.39\" detectionId=\"None\" hostname=\"avaskin\" currentIP=\"172.17.17.98\" source_id=\"124\" URL=\"https://172.17.18.39/campaigns/1237\" dstHost=\"vi-ya2.jivosite.com\" DestinationIP=\"84.201.136.165\" destID=\"external\" ***']"
      ]
     },
     "execution_count": 24,
     "metadata": {},
     "output_type": "execute_result"
    }
   ],
   "source": [
    "aggregate_logs(df, json_logs, clusters)"
   ]
  },
  {
   "cell_type": "code",
   "execution_count": null,
   "id": "4da0d74b",
   "metadata": {},
   "outputs": [],
   "source": []
  }
 ],
 "metadata": {
  "kernelspec": {
   "display_name": "Python 3",
   "language": "python",
   "name": "python3"
  },
  "language_info": {
   "codemirror_mode": {
    "name": "ipython",
    "version": 3
   },
   "file_extension": ".py",
   "mimetype": "text/x-python",
   "name": "python",
   "nbconvert_exporter": "python",
   "pygments_lexer": "ipython3",
   "version": "3.8.10"
  }
 },
 "nbformat": 4,
 "nbformat_minor": 5
}
