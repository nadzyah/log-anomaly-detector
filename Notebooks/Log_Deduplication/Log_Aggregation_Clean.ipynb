{
 "cells": [
  {
   "cell_type": "code",
   "execution_count": 1,
   "id": "cda0b31e",
   "metadata": {},
   "outputs": [],
   "source": [
    "import sys\n",
    "sys.path.append('/home/nadzya/Apps/log-anomaly-detector/')\n",
    "\n",
    "import logging\n",
    "\n",
    "logger = logging.getLogger()\n",
    "logger.setLevel(logging.CRITICAL)"
   ]
  },
  {
   "cell_type": "code",
   "execution_count": 2,
   "id": "33eb136b",
   "metadata": {},
   "outputs": [],
   "source": [
    "import pandas as pd\n",
    "import numpy as np \n",
    "import datetime\n",
    "import json\n",
    "\n",
    "\n",
    "from anomaly_detector.config import Configuration\n",
    "from anomaly_detector.storage.storage import DataCleaner\n",
    "from anomaly_detector.storage.mongodb_storage import MongoDBDataStorageSource\n",
    "from anomaly_detector.storage.storage_attribute import MGStorageAttribute\n",
    "from anomaly_detector.model.w2v_model import W2VModel\n",
    "\n",
    "from bson.json_util import dumps\n",
    "\n",
    "from sklearn.cluster import DBSCAN\n",
    "from sklearn.decomposition import PCA\n",
    "from gensim.models import Word2Vec\n",
    "import re\n",
    "import string"
   ]
  },
  {
   "cell_type": "code",
   "execution_count": 3,
   "id": "f95d2954",
   "metadata": {},
   "outputs": [],
   "source": [
    "def config():\n",
    "    \"\"\"Initialize configurations before testing.\"\"\"\n",
    "    cfg = Configuration()\n",
    "    cfg.MG_HOST = \"172.17.18.83\"\n",
    "    cfg.MG_PORT = 27017\n",
    "    cfg.MG_CERT_DIR = \"\"\n",
    "    cfg.MG_INPUT_DB = \"anomalydb\"\n",
    "    cfg.MG_INPUT_COL = \"utm_anomaly\"\n",
    "    cfg.HOSTNAME_INDEX = \"hostname\"\n",
    "    cfg.DATETIME_INDEX = \"timestamp\"\n",
    "    cfg.MG_USER = ''\n",
    "    cfg.MG_PASSWORD = ''\n",
    "    cfg.AGGR_VECTOR_LENGTH = 25\n",
    "    cfg.AGGR_WINDOW = 5\n",
    "    cfg.AGGR_EPS = 0.01\n",
    "    cfg.AGGR_MIN_SAMPLES = 2\n",
    "    return cfg"
   ]
  },
  {
   "cell_type": "code",
   "execution_count": 36,
   "id": "88f5d9dd",
   "metadata": {},
   "outputs": [],
   "source": [
    "def get_lad_word2vec(config, df):\n",
    "    w2v = W2VModel(config)\n",
    "    w2v.create(df, config.AGGR_VECTOR_LENGTH, config.AGGR_WINDOW)\n",
    "    return (w2v.one_vector(df), w2v.model[\"message\"].wv)"
   ]
  },
  {
   "cell_type": "code",
   "execution_count": 26,
   "id": "3f0e0e39",
   "metadata": {},
   "outputs": [],
   "source": [
    "def get_gensin_w2v(config, df):\n",
    "    w2v = Word2Vec(sentences=list(df[\"message\"]), size=config.AGGR_VECTOR_LENGTH, window=config.AGGR_WINDOW)\n",
    "    \n",
    "    vectors = np.ndarray()\n",
    "    for x in list(df[\"message\"]):\n",
    "        temp = []\n",
    "        for word in x:\n",
    "            if word in w2v.wv:\n",
    "                #print(len(w2v.wv[word]))\n",
    "                temp.append(w2v.wv[word])\n",
    "            else:\n",
    "                temp.append(np.array([0]*config.AGGR_VECTOR_LENGTH))\n",
    "        vectors.append(temp)\n",
    "    return vectors"
   ]
  },
  {
   "cell_type": "code",
   "execution_count": 27,
   "id": "e3e1aaf9",
   "metadata": {},
   "outputs": [],
   "source": [
    "def add_cluster_label_to_df(config, df, vectors):\n",
    "    dbscan = DBSCAN(eps=config.AGGR_EPS, min_samples=cfg.AGGR_MIN_SAMPLES)\n",
    "    clusters = dbscan.fit_predict(vectors)\n",
    "    df[\"cluster\"] = clusters\n",
    "    return clusters"
   ]
  },
  {
   "cell_type": "code",
   "execution_count": 28,
   "id": "844da8fe",
   "metadata": {},
   "outputs": [],
   "source": [
    "def aggregate_logs(df, df_json, clusters):\n",
    "    aggregated = []\n",
    "    for cluster in np.unique(clusters):\n",
    "        messages = []\n",
    "        for i in list(df.loc[df['cluster'] == cluster].index):\n",
    "            messages.append(df_json[i][\"message\"])\n",
    "\n",
    "        if cluster == -1:\n",
    "            for msg in messages:\n",
    "                #aggregated.append((msg, 1, []))\n",
    "                aggregated.append(msg)\n",
    "        else:\n",
    "            splited_messages = [x.split() for x in messages]\n",
    "            splited_transpose = [list(row) for row in zip(*splited_messages)]\n",
    "            result_string = \"\"\n",
    "            var_num = 0\n",
    "\n",
    "            for x in splited_transpose:\n",
    "                if len(set(x)) == 1:\n",
    "                    result_string += x[0] + \" \"\n",
    "                else:\n",
    "                    result_string += \"***\" + \" \"\n",
    "\n",
    "            msg_num = len(messages)\n",
    "            #aggregated.append((result_string[:-1], msg_num, messages))\n",
    "            aggregated.append(result_string[:-1])\n",
    "\n",
    "    return aggregated"
   ]
  },
  {
   "cell_type": "code",
   "execution_count": 37,
   "id": "89b1e81b",
   "metadata": {
    "scrolled": true
   },
   "outputs": [
    {
     "name": "stderr",
     "output_type": "stream",
     "text": [
      "Loading Configuration\n",
      "Conecting to MongoDB without SSL/TLS encryption.\n",
      "Reading 386 log entries in last 2592000 seconds from mongodb://172.17.18.83:27017\n",
      "386 logs loaded in from last 2592000 seconds\n",
      "consider setting layer size to a multiple of 4 for greater performance\n",
      "collecting all words and their counts\n",
      "PROGRESS: at sentence #0, processed 0 words, keeping 0 word types\n",
      "collected 16 word types from a corpus of 386 raw words and 1 sentences\n",
      "Loading a fresh vocabulary\n",
      "effective_min_count=1 retains 16 unique words (100% of original 16, drops 0)\n",
      "effective_min_count=1 leaves 386 word corpus (100% of original 386, drops 0)\n",
      "deleting the raw counts dictionary of 16 items\n",
      "sample=0.001 downsamples 11 most-common words\n",
      "downsampling leaves estimated 40 word corpus (10.6% of prior 386)\n",
      "estimated required memory for 16 words and 25 dimensions: 11200 bytes\n",
      "resetting layer weights\n",
      "training model with 3 workers on 16 vocabulary and 25 features, using sg=0 hs=0 sample=0.001 negative=5 window=5\n",
      "job loop exiting, total 1 jobs\n",
      "worker exiting, processed 0 jobs\n",
      "worker exiting, processed 0 jobs\n",
      "worker exiting, processed 1 jobs\n",
      "worker thread finished; awaiting finish of 2 more threads\n",
      "worker thread finished; awaiting finish of 1 more threads\n",
      "worker thread finished; awaiting finish of 0 more threads\n",
      "EPOCH - 1 : training on 386 raw words (41 effective words) took 0.0s, 3808 effective words/s\n",
      "job loop exiting, total 1 jobs\n",
      "worker exiting, processed 0 jobs\n",
      "worker exiting, processed 0 jobs\n",
      "worker thread finished; awaiting finish of 2 more threads\n",
      "worker exiting, processed 1 jobs\n",
      "worker thread finished; awaiting finish of 1 more threads\n",
      "worker thread finished; awaiting finish of 0 more threads\n",
      "EPOCH - 2 : training on 386 raw words (50 effective words) took 0.0s, 3466 effective words/s\n",
      "job loop exiting, total 1 jobs\n",
      "worker exiting, processed 1 jobs\n",
      "worker thread finished; awaiting finish of 2 more threads\n",
      "worker thread finished; awaiting finish of 1 more threads\n",
      "worker thread finished; awaiting finish of 0 more threads\n",
      "EPOCH - 3 : training on 386 raw words (36 effective words) took 0.0s, 4496 effective words/s\n",
      "worker exiting, processed 0 jobs\n",
      "worker exiting, processed 0 jobs\n",
      "job loop exiting, total 1 jobs\n",
      "worker exiting, processed 0 jobs\n",
      "worker exiting, processed 0 jobs\n",
      "worker thread finished; awaiting finish of 2 more threads\n",
      "worker exiting, processed 1 jobs\n",
      "worker thread finished; awaiting finish of 1 more threads\n",
      "worker thread finished; awaiting finish of 0 more threads\n",
      "EPOCH - 4 : training on 386 raw words (39 effective words) took 0.0s, 1749 effective words/s\n",
      "job loop exiting, total 1 jobs\n",
      "worker exiting, processed 0 jobs\n",
      "worker exiting, processed 0 jobs\n",
      "worker thread finished; awaiting finish of 2 more threads\n",
      "worker exiting, processed 1 jobs\n",
      "worker thread finished; awaiting finish of 1 more threads\n",
      "worker thread finished; awaiting finish of 0 more threads\n",
      "EPOCH - 5 : training on 386 raw words (49 effective words) took 0.0s, 2606 effective words/s\n",
      "training on a 1930 raw words (215 effective words) took 0.1s, 2089 effective words/s\n",
      "under 10 jobs per worker: consider setting a smaller `batch_words' for smoother alpha decay\n"
     ]
    },
    {
     "data": {
      "text/plain": [
       "array([ 0,  0,  0,  0,  0,  0,  0,  0,  0,  0,  0,  0,  0,  0,  0,  0,  0,\n",
       "        0,  1,  2,  2,  2,  2,  2,  2,  2,  2,  2,  2,  2,  2,  2,  3,  3,\n",
       "        3,  2,  2,  2,  2,  2,  2,  2,  2,  3,  3,  3,  3,  3,  3,  3,  3,\n",
       "        3,  3,  3,  3,  3,  3,  3,  3,  2,  2,  2,  2,  2,  2,  2,  2,  2,\n",
       "        2,  2,  1,  2,  2,  2,  2,  2,  2,  2,  2,  2,  2,  2,  2,  2,  2,\n",
       "        2,  2,  2,  2,  4,  4,  4,  4,  4,  4,  4,  4,  4,  4,  4,  4,  4,\n",
       "        4,  5,  5,  4,  4,  4,  4, -1,  6, -1, -1,  6,  7,  7,  7,  7,  7,\n",
       "        7,  7,  7, -1, -1,  8,  8,  8,  8,  8,  8,  8,  8,  8,  8,  8,  8,\n",
       "        8,  8,  8,  8,  8,  8,  8,  8,  8,  8,  8,  8,  8,  8,  9,  9,  9,\n",
       "        9,  9,  9,  9,  9,  9,  9,  9,  9,  9,  9,  9,  9,  9,  9,  9,  9,\n",
       "        9,  9,  9,  9,  9,  9,  9,  9,  9,  9,  9,  9,  9,  9,  9,  9,  9,\n",
       "        9,  9,  9,  9,  9,  9,  9,  9,  9,  9,  9,  9,  9,  9,  9,  9,  9,\n",
       "        9,  9,  9,  8,  8,  8,  8,  8,  8,  8,  8,  8,  8,  8,  8,  8,  8,\n",
       "        8,  8,  8,  8,  8,  8,  8,  8,  8,  8,  8,  8,  8, 10, 10,  8,  8,\n",
       "        8,  8,  8,  8,  8,  8,  8,  8,  8,  8,  8,  8,  8,  8,  8,  8,  8,\n",
       "        8,  8,  8,  8,  8,  8,  8,  8,  8,  8,  8,  8,  8,  8,  8,  8,  8,\n",
       "        8,  8,  8,  8,  8,  8,  8,  8,  8,  8,  8,  8,  8,  8,  9,  9,  9,\n",
       "        9,  9,  9,  9,  9,  9,  9,  9,  9,  9,  9,  9,  9,  9,  9,  9,  9,\n",
       "        9,  9,  9,  9,  9,  9,  9,  9,  9,  9,  9,  9,  9,  9,  9,  9,  9,\n",
       "        9,  9,  9,  9,  9,  9,  9,  9,  9,  9,  9,  9,  8,  8,  8,  8,  8,\n",
       "        8,  8,  8,  8,  8,  8,  8,  8,  8,  8,  8,  8,  8,  8,  8,  8,  8,\n",
       "        8,  8,  8,  8,  8,  8,  8,  8,  8,  8,  8,  8,  8,  8,  8,  8,  8,\n",
       "        8,  8,  8,  8,  8,  8,  8,  8,  8,  8,  8,  8])"
      ]
     },
     "execution_count": 37,
     "metadata": {},
     "output_type": "execute_result"
    }
   ],
   "source": [
    "cfg = config()\n",
    "mg = MongoDBDataStorageSource(cfg)\n",
    "df, json_logs = mg.retrieve(MGStorageAttribute(30*86400, 1000))\n",
    "\n",
    "df = pd.DataFrame(df[\"message\"])\n",
    "vectors, wv = get_lad_word2vec(cfg, df)\n",
    "\n",
    "#vectors_pca = reduce_dim_pca(4, vectors)\n",
    "clusters = add_cluster_label_to_df(cfg, df, vectors)\n",
    "clusters"
   ]
  },
  {
   "cell_type": "code",
   "execution_count": 11,
   "id": "d71de5c7",
   "metadata": {},
   "outputs": [
    {
     "name": "stderr",
     "output_type": "stream",
     "text": [
      "Loaded backend module://matplotlib_inline.backend_inline version unknown.\n"
     ]
    },
    {
     "name": "stdout",
     "output_type": "stream",
     "text": [
      "Populating the interactive namespace from numpy and matplotlib\n"
     ]
    },
    {
     "data": {
      "text/plain": [
       "<matplotlib.legend.Legend at 0x7f46802cc6d0>"
      ]
     },
     "execution_count": 11,
     "metadata": {},
     "output_type": "execute_result"
    },
    {
     "data": {
      "image/png": "[encoded data removed]",
      "text/plain": [
       "<Figure size 720x432 with 1 Axes>"
      ]
     },
     "metadata": {
      "needs_background": "light"
     },
     "output_type": "display_data"
    }
   ],
   "source": [
    "%pylab inline\n",
    "\n",
    "data_2d_pca = reduce_dim_pca(2, vectors)\n",
    "\n",
    "pylab.figure(figsize=(10, 6))\n",
    "scat = pylab.scatter(data_2d_pca[:, 0], data_2d_pca[:, 1], c=list(df[\"cluster\"]))\n",
    "pylab.legend(*scat.legend_elements(num=\"auto\"))"
   ]
  },
  {
   "cell_type": "code",
   "execution_count": 12,
   "id": "b2cc9eb4",
   "metadata": {
    "scrolled": false
   },
   "outputs": [],
   "source": [
    "#aggregate_logs(df, json_logs, clusters)"
   ]
  },
  {
   "cell_type": "code",
   "execution_count": null,
   "id": "1c05cdb8",
   "metadata": {},
   "outputs": [],
   "source": []
  }
 ],
 "metadata": {
  "kernelspec": {
   "display_name": "Python 3",
   "language": "python",
   "name": "python3"
  },
  "language_info": {
   "codemirror_mode": {
    "name": "ipython",
    "version": 3
   },
   "file_extension": ".py",
   "mimetype": "text/x-python",
   "name": "python",
   "nbconvert_exporter": "python",
   "pygments_lexer": "ipython3",
   "version": "3.8.10"
  }
 },
 "nbformat": 4,
 "nbformat_minor": 5
}
