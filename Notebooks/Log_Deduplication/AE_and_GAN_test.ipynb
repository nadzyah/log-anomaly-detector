{
 "cells": [
  {
   "cell_type": "markdown",
   "id": "7331e614",
   "metadata": {},
   "source": [
    "# AutoEncoder and Generative Adversarial Networks\n",
    "\n",
    "Here we want to understand if AE or GAN can be more efficient than LOF"
   ]
  },
  {
   "cell_type": "code",
   "execution_count": 1,
   "id": "3825350c",
   "metadata": {},
   "outputs": [],
   "source": [
    "import os\n",
    "import time\n",
    "import numpy as np\n",
    "import logging\n",
    "\n",
    "from itertools import product\n",
    "import pandas as pd\n",
    "import re\n",
    "import gensim as gs\n",
    "import matplotlib.pyplot as plt\n",
    "from scipy.spatial.distance import cosine\n",
    "from sklearn.preprocessing import normalize\n",
    "from sklearn.neighbors import LocalOutlierFactor\n",
    "import matplotlib.pyplot as plt\n",
    "\n",
    "from multiprocessing import Pool\n",
    "from functools import partial\n",
    "\n",
    "from sklearn.preprocessing import MinMaxScaler\n",
    "from tensorflow.keras import Model, Sequential\n",
    "from tensorflow.keras.layers import Dense, Dropout\n",
    "import tensorflow"
   ]
  },
  {
   "cell_type": "markdown",
   "id": "34df9f01",
   "metadata": {},
   "source": [
    "# Define functions\n",
    "\n",
    "#### 1. Log Preprocesing"
   ]
  },
  {
   "cell_type": "code",
   "execution_count": 2,
   "id": "c69f365e",
   "metadata": {},
   "outputs": [],
   "source": [
    "def preprocess(data):\n",
    "    for col in data.columns:\n",
    "        if col == \"message\":\n",
    "            data[col] = data[col].apply(clean_message)\n",
    "        else:\n",
    "            data[col] = data[col].apply(to_str)\n",
    "\n",
    "    data = data.fillna(\"EMPTY\")\n",
    "    \n",
    "def clean_message(line):\n",
    "    \"\"\"Remove all none alphabetical characters from message strings.\"\"\"\n",
    "    words = list(re.findall(\"[a-zA-Z]+\", line))\n",
    "    return words\n",
    "\n",
    "def to_str(x):\n",
    "    \"\"\"Convert all non-str lists to string lists for Word2Vec.\"\"\"\n",
    "    ret = \" \".join([str(y) for y in x]) if isinstance(x, list) else str(x)\n",
    "    return ret"
   ]
  },
  {
   "cell_type": "markdown",
   "id": "38145fc9",
   "metadata": {},
   "source": [
    "#### 2. Text encoding"
   ]
  },
  {
   "cell_type": "code",
   "execution_count": 3,
   "id": "41cc08cf",
   "metadata": {},
   "outputs": [],
   "source": [
    "def create(logs, vector_length, window_size):\n",
    "    \"\"\"Create new word2vec model.\"\"\"\n",
    "    model = gs.models.Word2Vec(sentences=list(logs), size=vector_length, window=window_size)\n",
    "    return model\n",
    "\n",
    "def get_vectors(model, logs, vector_length):\n",
    "    \"\"\"Return logs as list of vectorized words\"\"\"\n",
    "    vectors = []\n",
    "    for x in logs:\n",
    "        temp = []\n",
    "        for word in x:\n",
    "            if word in model.wv:\n",
    "                temp.append(model.wv[word])\n",
    "            else:\n",
    "                temp.append(np.array([0]*vector_length))\n",
    "        vectors.append(temp)\n",
    "    return vectors\n",
    "\n",
    "def _log_words_to_one_vector(log_words_vectors):\n",
    "        result = []\n",
    "        log_array_transposed = np.array(log_words_vectors, dtype=object).transpose()\n",
    "        for coord in log_array_transposed:\n",
    "            result.append(np.mean(coord))\n",
    "        return result\n",
    "\n",
    "def vectorized_logs_to_single_vectors(vectors):\n",
    "    \"\"\"Represent log messages as vectors according to the vectors\n",
    "    of the words in these logs\n",
    "\n",
    "    :params vectors: list of log messages, represented as list of words vectors\n",
    "            [[wordvec11, wordvec12], [wordvec21, wordvec22], ...]\n",
    "    \"\"\"\n",
    "    result = []\n",
    "    for log_words_vector in vectors:\n",
    "        result.append(_log_words_to_one_vector(log_words_vector))\n",
    "    return np.array(result)"
   ]
  },
  {
   "cell_type": "markdown",
   "id": "007c057f",
   "metadata": {},
   "source": [
    "#### 3. Training"
   ]
  },
  {
   "cell_type": "markdown",
   "id": "3cb08a92",
   "metadata": {},
   "source": [
    "Time measure decorator"
   ]
  },
  {
   "cell_type": "code",
   "execution_count": 4,
   "id": "6bc4cacf",
   "metadata": {},
   "outputs": [],
   "source": [
    "def timeit(method):\n",
    "    def timed(*args, **kw):\n",
    "        ts = time.time()\n",
    "        result = method(*args, **kw)\n",
    "        te = time.time()\n",
    "        if 'log_time' in kw:\n",
    "            name = kw.get('log_name', method.__name__.upper())\n",
    "            kw['log_time'][name] = int((te - ts) * 1000)\n",
    "        else:\n",
    "            print('%r  %2.2f ms' % \\\n",
    "                  (method.__name__, (te - ts) * 1000))\n",
    "        return result\n",
    "    return timed"
   ]
  },
  {
   "cell_type": "code",
   "execution_count": 5,
   "id": "f4ae16be",
   "metadata": {},
   "outputs": [],
   "source": [
    "@timeit\n",
    "def train_lof(X, n_neighbors, metric):\n",
    "    lof = LocalOutlierFactor(n_neighbors=n_neighbors, metric=metric)\n",
    "    pred = lof.fit_predict(X)\n",
    "    lof_model = LocalOutlierFactor(n_neighbors=n_neighbors, metric=metric, novelty=True)\n",
    "    lof_model.fit(X)\n",
    "    return pred, lof_model"
   ]
  },
  {
   "cell_type": "code",
   "execution_count": 6,
   "id": "50ef7154",
   "metadata": {},
   "outputs": [],
   "source": [
    "class AutoEncoder(Model):\n",
    "    \"\"\"\n",
    "    Parameters\n",
    "    ----------\n",
    "    output_units: int\n",
    "      Number of output units\n",
    "  \n",
    "    code_size: int\n",
    "      Number of units in bottle neck\n",
    "    \"\"\"\n",
    "\n",
    "    def __init__(self, output_units, code_size=8):\n",
    "        super().__init__()\n",
    "        self.encoder = Sequential([\n",
    "          Dense(64, activation='relu'),\n",
    "          Dropout(0.1),\n",
    "          Dense(32, activation='relu'),\n",
    "          Dropout(0.1),\n",
    "          Dense(16, activation='relu'),\n",
    "          Dropout(0.1),\n",
    "          Dense(code_size, activation='relu')\n",
    "        ])\n",
    "        self.decoder = Sequential([\n",
    "          Dense(16, activation='relu'),\n",
    "          Dropout(0.1),\n",
    "          Dense(32, activation='relu'),\n",
    "          Dropout(0.1),\n",
    "          Dense(64, activation='relu'),\n",
    "          Dropout(0.1),\n",
    "          Dense(output_units, activation='sigmoid')\n",
    "        ])\n",
    "  \n",
    "    def call(self, inputs):\n",
    "        encoded = self.encoder(inputs)\n",
    "        decoded = self.decoder(encoded)\n",
    "        return decoded\n",
    "\n",
    "    @timeit\n",
    "    def fitit(self, *args, **kwargs):\n",
    "        super().fit(*args, **kwargs)"
   ]
  },
  {
   "cell_type": "code",
   "execution_count": 7,
   "id": "291ec652",
   "metadata": {},
   "outputs": [],
   "source": [
    "def find_threshold(model, x_train_scaled):\n",
    "    reconstructions = model.predict(x_train_scaled)\n",
    "    # provides losses of individual instances\n",
    "    reconstruction_errors = tensorflow.keras.losses.msle(reconstructions, x_train_scaled)\n",
    "    # threshold for anomaly scores\n",
    "    threshold = np.mean(reconstruction_errors.numpy()) \\\n",
    "                + np.std(reconstruction_errors.numpy())\n",
    "    return threshold\n",
    "\n",
    "def get_predictions(model, x_test_scaled, threshold):\n",
    "    predictions = model.predict(x_test_scaled)\n",
    "    # provides losses of individual instances\n",
    "    errors = tensorflow.keras.losses.msle(predictions, x_test_scaled)\n",
    "    # 1 = anomaly, 0 = normal\n",
    "    anomaly_mask = pd.Series(errors) > threshold\n",
    "    preds = anomaly_mask.map(lambda x: 1 if x == True else 0)\n",
    "    return preds"
   ]
  },
  {
   "cell_type": "markdown",
   "id": "7eb1e1f3",
   "metadata": {},
   "source": [
    "#### 4. Prediction"
   ]
  },
  {
   "cell_type": "code",
   "execution_count": 8,
   "id": "3eadcbf8",
   "metadata": {},
   "outputs": [],
   "source": [
    "def infer_lof(log, lof, loglist):\n",
    "    log = pd.DataFrame({\"message\": log}, index=[1])\n",
    "    preprocess(log)\n",
    "    \n",
    "    vector = []\n",
    "    w2v = gs.models.Word2Vec([log.message.iloc[0]] + loglist,\n",
    "                             min_count=1, size=25, window=5)\n",
    "    for word in log.message.iloc[0]:\n",
    "        if word in w2v.wv.vocab.keys():\n",
    "            vector.append(w2v.wv[word])\n",
    "        else:\n",
    "            vector.append(np.array([0]*25))\n",
    "    one_vector = _log_words_to_one_vector(vector)\n",
    "    pred = lof.predict([one_vector])\n",
    "    score = abs(lof.score_samples([one_vector])[0])\n",
    "    if pred[0] == -1:\n",
    "        return 1, score\n",
    "    return 0, score"
   ]
  },
  {
   "cell_type": "markdown",
   "id": "f1415543",
   "metadata": {},
   "source": [
    "# Implementation"
   ]
  },
  {
   "cell_type": "code",
   "execution_count": 29,
   "id": "4211ddb0",
   "metadata": {},
   "outputs": [],
   "source": [
    "data_path = r\"file:///home/nadzya/Apps/log-anomaly-detector/validation_data/kvm1.lab.solidex.by.json\"\n",
    "data = pd.DataFrame(pd.read_json(data_path, orient=str).message).iloc[:10000]\n",
    "\n",
    "preprocessed_data = data.copy()\n",
    "preprocess(preprocessed_data)\n",
    "\n",
    "logs_list = list(preprocessed_data.message)"
   ]
  },
  {
   "cell_type": "code",
   "execution_count": 30,
   "id": "12d8c174",
   "metadata": {
    "scrolled": true
   },
   "outputs": [],
   "source": [
    "w2v = create(logs_list, vector_length=25, window_size=5)"
   ]
  },
  {
   "cell_type": "code",
   "execution_count": 31,
   "id": "424c1c97",
   "metadata": {},
   "outputs": [],
   "source": [
    "vectors = get_vectors(model=w2v, logs=logs_list, vector_length=25)\n",
    "logs_as_vectors = vectorized_logs_to_single_vectors(vectors)"
   ]
  },
  {
   "cell_type": "markdown",
   "id": "6a878fab",
   "metadata": {},
   "source": [
    "## LOF"
   ]
  },
  {
   "cell_type": "code",
   "execution_count": 32,
   "id": "a3490102",
   "metadata": {},
   "outputs": [
    {
     "name": "stdout",
     "output_type": "stream",
     "text": [
      "'train_lof'  3818.01 ms\n"
     ]
    }
   ],
   "source": [
    "pred, lof = train_lof(logs_as_vectors, 100, 'euclidean')"
   ]
  },
  {
   "cell_type": "code",
   "execution_count": 33,
   "id": "db853c2c",
   "metadata": {},
   "outputs": [],
   "source": [
    "anomaly_lof = []\n",
    "for x in pred:\n",
    "    if x == 1:\n",
    "        anomaly_lof.append(0)\n",
    "    else:\n",
    "        anomaly_lof.append(1)"
   ]
  },
  {
   "cell_type": "code",
   "execution_count": 34,
   "id": "98d47701",
   "metadata": {},
   "outputs": [
    {
     "data": {
      "text/plain": [
       "2.06"
      ]
     },
     "execution_count": 34,
     "metadata": {},
     "output_type": "execute_result"
    }
   ],
   "source": [
    "100*len([x for x in anomaly_lof if x == 1])/len(data)"
   ]
  },
  {
   "cell_type": "code",
   "execution_count": 35,
   "id": "1cd2acb2",
   "metadata": {},
   "outputs": [],
   "source": [
    "data_lof = data.copy()\n",
    "data_lof[\"anomaly\"] = anomaly_lof"
   ]
  },
  {
   "cell_type": "markdown",
   "id": "8750bdd2",
   "metadata": {},
   "source": [
    "## AE"
   ]
  },
  {
   "cell_type": "code",
   "execution_count": 36,
   "id": "31f7b85e",
   "metadata": {},
   "outputs": [],
   "source": [
    "min_max_scaler = MinMaxScaler(feature_range=(0, 1))\n",
    "logs_scaled = min_max_scaler.fit_transform(logs_as_vectors.copy())"
   ]
  },
  {
   "cell_type": "code",
   "execution_count": 37,
   "id": "ffad6916",
   "metadata": {},
   "outputs": [],
   "source": [
    "ae = AutoEncoder(output_units=logs_scaled.shape[1])\n",
    "ae.compile(loss='msle', metrics=['mse'], optimizer='adam')"
   ]
  },
  {
   "cell_type": "code",
   "execution_count": 38,
   "id": "d5a9f65e",
   "metadata": {
    "scrolled": true
   },
   "outputs": [
    {
     "name": "stdout",
     "output_type": "stream",
     "text": [
      "Epoch 1/20\n",
      "20/20 [==============================] - 1s 4ms/step - loss: 0.0541 - mse: 0.1071\n",
      "Epoch 2/20\n",
      "20/20 [==============================] - 0s 5ms/step - loss: 0.0331 - mse: 0.0648\n",
      "Epoch 3/20\n",
      "20/20 [==============================] - 0s 4ms/step - loss: 0.0213 - mse: 0.0414\n",
      "Epoch 4/20\n",
      "20/20 [==============================] - 0s 4ms/step - loss: 0.0142 - mse: 0.0281\n",
      "Epoch 5/20\n",
      "20/20 [==============================] - 0s 5ms/step - loss: 0.0100 - mse: 0.0206\n",
      "Epoch 6/20\n",
      "20/20 [==============================] - 0s 4ms/step - loss: 0.0084 - mse: 0.0176\n",
      "Epoch 7/20\n",
      "20/20 [==============================] - 0s 5ms/step - loss: 0.0071 - mse: 0.0151\n",
      "Epoch 8/20\n",
      "20/20 [==============================] - 0s 6ms/step - loss: 0.0060 - mse: 0.0129\n",
      "Epoch 9/20\n",
      "20/20 [==============================] - 0s 5ms/step - loss: 0.0052 - mse: 0.0112\n",
      "Epoch 10/20\n",
      "20/20 [==============================] - 0s 4ms/step - loss: 0.0046 - mse: 0.0100\n",
      "Epoch 11/20\n",
      "20/20 [==============================] - 0s 5ms/step - loss: 0.0044 - mse: 0.0094\n",
      "Epoch 12/20\n",
      "20/20 [==============================] - 0s 5ms/step - loss: 0.0040 - mse: 0.0086\n",
      "Epoch 13/20\n",
      "20/20 [==============================] - 0s 10ms/step - loss: 0.0037 - mse: 0.0079\n",
      "Epoch 14/20\n",
      "20/20 [==============================] - 0s 11ms/step - loss: 0.0033 - mse: 0.0071\n",
      "Epoch 15/20\n",
      "20/20 [==============================] - 0s 5ms/step - loss: 0.0030 - mse: 0.0065\n",
      "Epoch 16/20\n",
      "20/20 [==============================] - 0s 4ms/step - loss: 0.0027 - mse: 0.0058\n",
      "Epoch 17/20\n",
      "20/20 [==============================] - 0s 5ms/step - loss: 0.0024 - mse: 0.0051\n",
      "Epoch 18/20\n",
      "20/20 [==============================] - 0s 4ms/step - loss: 0.0022 - mse: 0.0047\n",
      "Epoch 19/20\n",
      "20/20 [==============================] - 0s 5ms/step - loss: 0.0021 - mse: 0.0044\n",
      "Epoch 20/20\n",
      "20/20 [==============================] - 0s 4ms/step - loss: 0.0020 - mse: 0.0041\n",
      "'fitit'  2814.51 ms\n"
     ]
    }
   ],
   "source": [
    "ae_result = ae.fitit(logs_scaled, logs_scaled, epochs=20, batch_size=512)"
   ]
  },
  {
   "cell_type": "code",
   "execution_count": 39,
   "id": "b39dde2e",
   "metadata": {},
   "outputs": [
    {
     "data": {
      "text/plain": [
       "0.0031062847391382965"
      ]
     },
     "execution_count": 39,
     "metadata": {},
     "output_type": "execute_result"
    }
   ],
   "source": [
    "threshold = find_threshold(ae, logs_scaled)\n",
    "threshold"
   ]
  },
  {
   "cell_type": "code",
   "execution_count": 40,
   "id": "19c2b30a",
   "metadata": {},
   "outputs": [],
   "source": [
    "predictions = get_predictions(ae, logs_scaled, threshold)"
   ]
  },
  {
   "cell_type": "code",
   "execution_count": 41,
   "id": "9efae75c",
   "metadata": {},
   "outputs": [
    {
     "data": {
      "text/plain": [
       "5.15"
      ]
     },
     "execution_count": 41,
     "metadata": {},
     "output_type": "execute_result"
    }
   ],
   "source": [
    "100*len(predictions.loc[predictions == 1])/len(data)"
   ]
  },
  {
   "cell_type": "code",
   "execution_count": 42,
   "id": "639c1661",
   "metadata": {},
   "outputs": [],
   "source": [
    "data_ae = data.copy()\n",
    "data_ae[\"anomaly\"] = predictions"
   ]
  },
  {
   "cell_type": "markdown",
   "id": "b58fd467",
   "metadata": {},
   "source": [
    "## AE vs LOF"
   ]
  },
  {
   "cell_type": "code",
   "execution_count": 43,
   "id": "95556ab3",
   "metadata": {},
   "outputs": [],
   "source": [
    "lof_anomaly_msgs = list(data_lof.loc[data_lof[\"anomaly\"] == 1].message)"
   ]
  },
  {
   "cell_type": "code",
   "execution_count": 44,
   "id": "cb0fdb78",
   "metadata": {
    "scrolled": true
   },
   "outputs": [],
   "source": [
    "ae_anomaly_msgs = list(data_ae.loc[data_ae[\"anomaly\"] == 1].message)"
   ]
  },
  {
   "cell_type": "code",
   "execution_count": 45,
   "id": "c422bb2b",
   "metadata": {
    "scrolled": true
   },
   "outputs": [],
   "source": [
    "lof_diff_logs = []\n",
    "ae_diff_logs = []\n",
    "for x in list(set(ae_anomaly_msgs) - set(lof_anomaly_msgs)) + list(set(lof_anomaly_msgs) - set(ae_anomaly_msgs)) :\n",
    "    if (x in lof_anomaly_msgs) and (not x in ae_anomaly_msgs):\n",
    "        lof_diff_logs.append(x)\n",
    "    if x in ae_anomaly_msgs and not x in lof_anomaly_msgs:\n",
    "        ae_diff_logs.append(x)"
   ]
  },
  {
   "cell_type": "code",
   "execution_count": 46,
   "id": "24677825",
   "metadata": {},
   "outputs": [
    {
     "name": "stdout",
     "output_type": "stream",
     "text": [
      "Total logs 10000\n",
      "Anomalies, detected by LOF: 206\n",
      "Anomaly percentage, detected by LOF: 2.06 %\n",
      "Anomalies, detected by AE: 515\n",
      "Anomaly percentage, detected by AE: 5.15 %\n",
      "Number of messages, that LOF detected, but AE did not: 97\n",
      "Number of messages, that AE detected, but LOF did not: 297\n"
     ]
    }
   ],
   "source": [
    "print(\"Total logs\", len(data))\n",
    "print(\"Anomalies, detected by LOF:\", len(lof_anomaly_msgs))\n",
    "print(\"Anomaly percentage, detected by LOF:\", len(lof_anomaly_msgs)*100/len(data), \"%\")\n",
    "\n",
    "print(\"Anomalies, detected by AE:\", len(ae_anomaly_msgs))\n",
    "print(\"Anomaly percentage, detected by AE:\", len(ae_anomaly_msgs)*100/len(data), \"%\")\n",
    "\n",
    "print(\"Number of messages, that LOF detected, but AE did not:\", len(lof_diff_logs))\n",
    "print(\"Number of messages, that AE detected, but LOF did not:\", len(ae_diff_logs))"
   ]
  },
  {
   "cell_type": "code",
   "execution_count": 47,
   "id": "3ecf6ac3",
   "metadata": {
    "scrolled": true
   },
   "outputs": [
    {
     "data": {
      "text/plain": [
       "['<78>Nov 15 07:15:01 cumulus CRON[22187]: (root) END (   /usr/sbin/logrotate /etc/logrotate.conf)\\n<86>Nov 15 07:15:01 cumulus CRON[22187]: pam_unix(cron:session): session closed for user root\\n',\n",
       " '<78>Nov 15 03:00:01 cumulus CRON[19969]: (root) END (   /usr/sbin/logrotate /etc/logrotate.conf)\\n<86>Nov 15 03:00:01 cumulus CRON[19969]: pam_unix(cron:session): session closed for user root\\n',\n",
       " '<78>Nov  9 19:45:01 cumulus CRON[18439]: (root) END (   /usr/sbin/logrotate /etc/logrotate.conf)\\n<86>Nov  9 19:45:01 cumulus CRON[18439]: pam_unix(cron:session): session closed for user root\\n',\n",
       " '<78>Nov 12 16:15:01 cumulus CRON[23324]: (root) END (   /usr/sbin/logrotate /etc/logrotate.conf)\\n<86>Nov 12 16:15:01 cumulus CRON[23324]: pam_unix(cron:session): session closed for user root\\n',\n",
       " '<78>Nov 11 02:30:01 cumulus CRON[4084]: (root) END (   /usr/sbin/logrotate /etc/logrotate.conf)\\n<86>Nov 11 02:30:01 cumulus CRON[4084]: pam_unix(cron:session): session closed for user root\\n',\n",
       " '<78>Nov 10 16:45:01 cumulus CRON[31723]: (root) END (   /usr/sbin/logrotate /etc/logrotate.conf)\\n<86>Nov 10 16:45:01 cumulus CRON[31723]: pam_unix(cron:session): session closed for user root\\n',\n",
       " '<78>Nov 12 04:00:01 cumulus CRON[17202]: (root) END (   /usr/sbin/logrotate /etc/logrotate.conf)\\n<86>Nov 12 04:00:01 cumulus CRON[17202]: pam_unix(cron:session): session closed for user root\\n',\n",
       " '<78>Nov 15 08:30:01 cumulus CRON[22820]: (root) END (   /usr/sbin/logrotate /etc/logrotate.conf)\\n<86>Nov 15 08:30:01 cumulus CRON[22820]: pam_unix(cron:session): session closed for user root\\n',\n",
       " '<78>Nov 14 02:15:01 cumulus CRON[7702]: (root) END (   /usr/sbin/logrotate /etc/logrotate.conf)\\n<86>Nov 14 02:15:01 cumulus CRON[7702]: pam_unix(cron:session): session closed for user root\\n',\n",
       " '<78>Nov  9 09:45:01 cumulus CRON[13547]: (root) END (   /usr/sbin/logrotate /etc/logrotate.conf)\\n<86>Nov  9 09:45:01 cumulus CRON[13547]: pam_unix(cron:session): session closed for user root\\n',\n",
       " '<78>Nov  8 21:45:01 cumulus CRON[7537]: (root) END (   /usr/sbin/logrotate /etc/logrotate.conf)\\n<86>Nov  8 21:45:01 cumulus CRON[7537]: pam_unix(cron:session): session closed for user root\\n',\n",
       " '<78>Nov 10 20:00:01 cumulus CRON[886]: (root) END (   /usr/sbin/logrotate /etc/logrotate.conf)\\n<86>Nov 10 20:00:01 cumulus CRON[886]: pam_unix(cron:session): session closed for user root\\n',\n",
       " '<78>Nov 11 05:45:01 cumulus CRON[5663]: (root) END (   /usr/sbin/logrotate /etc/logrotate.conf)\\n<86>Nov 11 05:45:01 cumulus CRON[5663]: pam_unix(cron:session): session closed for user root\\n',\n",
       " '<78>Nov 10 12:45:01 cumulus CRON[26877]: (root) END (   /usr/sbin/logrotate /etc/logrotate.conf)\\n<86>Nov 10 12:45:01 cumulus CRON[26877]: pam_unix(cron:session): session closed for user root\\n',\n",
       " '<78>Nov 12 20:45:01 cumulus CRON[25530]: (root) END (   /usr/sbin/logrotate /etc/logrotate.conf)\\n<86>Nov 12 20:45:01 cumulus CRON[25530]: pam_unix(cron:session): session closed for user root\\n',\n",
       " '<78>Nov 15 06:15:01 cumulus CRON[21549]: (root) END (   /usr/sbin/logrotate /etc/logrotate.conf)\\n<86>Nov 15 06:15:01 cumulus CRON[21549]: pam_unix(cron:session): session closed for user root\\n',\n",
       " '<78>Nov 12 17:15:01 cumulus CRON[23811]: (root) END (   /usr/sbin/logrotate /etc/logrotate.conf)\\n<86>Nov 12 17:15:01 cumulus CRON[23811]: pam_unix(cron:session): session closed for user root\\n',\n",
       " '<78>Nov 14 07:45:01 cumulus CRON[10582]: (root) END (   /usr/sbin/logrotate /etc/logrotate.conf)\\n<86>Nov 14 07:45:01 cumulus CRON[10582]: pam_unix(cron:session): session closed for user root\\n',\n",
       " '<78>Nov  9 19:00:01 cumulus CRON[18067]: (root) END (   /usr/sbin/logrotate /etc/logrotate.conf)\\n<86>Nov  9 19:00:01 cumulus CRON[18067]: pam_unix(cron:session): session closed for user root\\n',\n",
       " '<78>Nov 10 22:45:01 cumulus CRON[2239]: (root) END (   /usr/sbin/logrotate /etc/logrotate.conf)\\n<86>Nov 10 22:45:01 cumulus CRON[2239]: pam_unix(cron:session): session closed for user root\\n',\n",
       " '<78>Nov  8 13:45:01 cumulus CRON[3636]: (root) END (   /usr/sbin/logrotate /etc/logrotate.conf)\\n<86>Nov  8 13:45:01 cumulus CRON[3636]: pam_unix(cron:session): session closed for user root\\n',\n",
       " '<78>Nov  8 18:00:01 cumulus CRON[5702]: (root) END (   /usr/sbin/logrotate /etc/logrotate.conf)\\n<86>Nov  8 18:00:01 cumulus CRON[5702]: pam_unix(cron:session): session closed for user root\\n',\n",
       " '<78>Nov  9 18:30:01 cumulus CRON[17835]: (root) END (   /usr/sbin/logrotate /etc/logrotate.conf)\\n<86>Nov  9 18:30:01 cumulus CRON[17835]: pam_unix(cron:session): session closed for user root\\n',\n",
       " '<78>Nov 10 19:30:01 cumulus CRON[632]: (root) END (   /usr/sbin/logrotate /etc/logrotate.conf)\\n<86>Nov 10 19:30:01 cumulus CRON[632]: pam_unix(cron:session): session closed for user root\\n',\n",
       " '<78>Nov 15 11:45:01 cumulus CRON[24398]: (root) END (   /usr/sbin/logrotate /etc/logrotate.conf)\\n<86>Nov 15 11:45:01 cumulus CRON[24398]: pam_unix(cron:session): session closed for user root\\n',\n",
       " '<78>Nov 13 07:30:01 cumulus CRON[30940]: (root) END (   /usr/sbin/logrotate /etc/logrotate.conf)\\n<86>Nov 13 07:30:01 cumulus CRON[30940]: pam_unix(cron:session): session closed for user root\\n',\n",
       " '<78>Nov  9 00:30:01 cumulus CRON[8891]: (root) END (   /usr/sbin/logrotate /etc/logrotate.conf)\\n<86>Nov  9 00:30:01 cumulus CRON[8891]: pam_unix(cron:session): session closed for user root\\n',\n",
       " '<78>Nov 10 00:30:01 cumulus CRON[20765]: (root) END (   /usr/sbin/logrotate /etc/logrotate.conf)\\n<86>Nov 10 00:30:01 cumulus CRON[20765]: pam_unix(cron:session): session closed for user root\\n',\n",
       " '<78>Nov 10 05:45:01 cumulus CRON[23320]: (root) END (   /usr/sbin/logrotate /etc/logrotate.conf)\\n<86>Nov 10 05:45:01 cumulus CRON[23320]: pam_unix(cron:session): session closed for user root\\n',\n",
       " '<78>Nov  8 15:00:01 cumulus CRON[4241]: (root) END (   /usr/sbin/logrotate /etc/logrotate.conf)\\n<86>Nov  8 15:00:01 cumulus CRON[4241]: pam_unix(cron:session): session closed for user root\\n',\n",
       " '<78>Nov 12 17:45:01 cumulus CRON[24067]: (root) END (   /usr/sbin/logrotate /etc/logrotate.conf)\\n<86>Nov 12 17:45:01 cumulus CRON[24067]: pam_unix(cron:session): session closed for user root\\n',\n",
       " '<78>Nov 14 10:30:01 cumulus CRON[11928]: (root) END (   /usr/sbin/logrotate /etc/logrotate.conf)\\n<86>Nov 14 10:30:01 cumulus CRON[11928]: pam_unix(cron:session): session closed for user root\\n',\n",
       " '<78>Nov 13 07:15:01 cumulus CRON[30801]: (root) END (   /usr/sbin/logrotate /etc/logrotate.conf)\\n<86>Nov 13 07:15:01 cumulus CRON[30801]: pam_unix(cron:session): session closed for user root\\n',\n",
       " '<78>Nov  8 16:00:01 cumulus CRON[4728]: (root) END (   /usr/sbin/logrotate /etc/logrotate.conf)\\n<86>Nov  8 16:00:01 cumulus CRON[4728]: pam_unix(cron:session): session closed for user root\\n',\n",
       " '<78>Nov  9 02:45:01 cumulus CRON[9982]: (root) END (   /usr/sbin/logrotate /etc/logrotate.conf)\\n<86>Nov  9 02:45:01 cumulus CRON[9982]: pam_unix(cron:session): session closed for user root\\n',\n",
       " '<78>Nov 10 12:00:01 cumulus CRON[26506]: (root) END (   /usr/sbin/logrotate /etc/logrotate.conf)\\n<86>Nov 10 12:00:01 cumulus CRON[26506]: pam_unix(cron:session): session closed for user root\\n',\n",
       " '<78>Nov 13 19:45:01 cumulus CRON[4501]: (root) END (   /usr/sbin/logrotate /etc/logrotate.conf)\\n<86>Nov 13 19:45:01 cumulus CRON[4501]: pam_unix(cron:session): session closed for user root\\n',\n",
       " '<78>Nov 15 07:00:01 cumulus CRON[22070]: (root) END (   /usr/sbin/logrotate /etc/logrotate.conf)\\n<86>Nov 15 07:00:01 cumulus CRON[22070]: pam_unix(cron:session): session closed for user root\\n',\n",
       " '<78>Nov 14 01:00:01 cumulus CRON[7100]: (root) END (   /usr/sbin/logrotate /etc/logrotate.conf)\\n<86>Nov 14 01:00:01 cumulus CRON[7100]: pam_unix(cron:session): session closed for user root\\n',\n",
       " '<78>Nov 10 03:15:01 cumulus CRON[22089]: (root) END (   /usr/sbin/logrotate /etc/logrotate.conf)\\n<86>Nov 10 03:15:01 cumulus CRON[22089]: pam_unix(cron:session): session closed for user root\\n',\n",
       " '<78>Nov 14 23:45:01 cumulus CRON[18390]: (root) END (   /usr/sbin/logrotate /etc/logrotate.conf)\\n<86>Nov 14 23:45:01 cumulus CRON[18390]: pam_unix(cron:session): session closed for user root\\n',\n",
       " '<78>Nov 11 00:30:01 cumulus CRON[3105]: (root) END (   /usr/sbin/logrotate /etc/logrotate.conf)\\n<86>Nov 11 00:30:01 cumulus CRON[3105]: pam_unix(cron:session): session closed for user root\\n',\n",
       " '<78>Nov 12 00:30:01 cumulus CRON[15509]: (root) END (   /usr/sbin/logrotate /etc/logrotate.conf)\\n<86>Nov 12 00:30:01 cumulus CRON[15509]: pam_unix(cron:session): session closed for user root\\n',\n",
       " '<78>Nov 12 22:30:01 cumulus CRON[26387]: (root) END (   /usr/sbin/logrotate /etc/logrotate.conf)\\n<86>Nov 12 22:30:01 cumulus CRON[26387]: pam_unix(cron:session): session closed for user root\\n',\n",
       " '<78>Nov 10 10:30:01 cumulus CRON[25787]: (root) END (   /usr/sbin/logrotate /etc/logrotate.conf)\\n<86>Nov 10 10:30:01 cumulus CRON[25787]: pam_unix(cron:session): session closed for user root\\n',\n",
       " '<78>Nov 11 21:30:01 cumulus CRON[14038]: (root) END (   /usr/sbin/logrotate /etc/logrotate.conf)\\n<86>Nov 11 21:30:01 cumulus CRON[14038]: pam_unix(cron:session): session closed for user root\\n',\n",
       " '<78>Nov 10 02:00:01 cumulus CRON[21485]: (root) END (   /usr/sbin/logrotate /etc/logrotate.conf)\\n<86>Nov 10 02:00:01 cumulus CRON[21485]: pam_unix(cron:session): session closed for user root\\n',\n",
       " 'Nov 12 10:00:01 cumulus CRON[20283]: (root) END ( /usr/sbin/logrotate /etc/logrotate.conf) Nov 12 10:00:01 cumulus CRON[20283]: pam_unix(cron:session): session closed for user root\\t\\n',\n",
       " '<78>Nov 11 14:00:01 cumulus CRON[10363]: (root) END (   /usr/sbin/logrotate /etc/logrotate.conf)\\n<86>Nov 11 14:00:01 cumulus CRON[10363]: pam_unix(cron:session): session closed for user root\\n',\n",
       " '<78>Nov 11 12:30:01 cumulus CRON[9644]: (root) END (   /usr/sbin/logrotate /etc/logrotate.conf)\\n<86>Nov 11 12:30:01 cumulus CRON[9644]: pam_unix(cron:session): session closed for user root\\n',\n",
       " '<78>Nov  9 21:45:01 cumulus CRON[19415]: (root) END (   /usr/sbin/logrotate /etc/logrotate.conf)\\n<86>Nov  9 21:45:01 cumulus CRON[19415]: pam_unix(cron:session): session closed for user root\\n',\n",
       " '<78>Nov 12 09:45:01 cumulus CRON[20167]: (root) END (   /usr/sbin/logrotate /etc/logrotate.conf)\\n<86>Nov 12 09:45:01 cumulus CRON[20167]: pam_unix(cron:session): session closed for user root\\n',\n",
       " '<78>Nov 13 16:00:01 cumulus CRON[2657]: (root) END (   /usr/sbin/logrotate /etc/logrotate.conf)\\n<86>Nov 13 16:00:01 cumulus CRON[2657]: pam_unix(cron:session): session closed for user root\\n',\n",
       " '<78>Nov  9 04:00:01 cumulus CRON[10586]: (root) END (   /usr/sbin/logrotate /etc/logrotate.conf)\\n<86>Nov  9 04:00:01 cumulus CRON[10586]: pam_unix(cron:session): session closed for user root\\n',\n",
       " '<78>Nov  9 11:15:01 cumulus CRON[14266]: (root) END (   /usr/sbin/logrotate /etc/logrotate.conf)\\n<86>Nov  9 11:15:01 cumulus CRON[14266]: pam_unix(cron:session): session closed for user root\\n',\n",
       " '<78>Nov 11 07:15:01 cumulus CRON[7064]: (root) END (   /usr/sbin/logrotate /etc/logrotate.conf)\\n<86>Nov 11 07:15:01 cumulus CRON[7064]: pam_unix(cron:session): session closed for user root\\n',\n",
       " '<78>Nov 12 12:00:01 cumulus CRON[21258]: (root) END (   /usr/sbin/logrotate /etc/logrotate.conf)\\n<86>Nov 12 12:00:01 cumulus CRON[21258]: pam_unix(cron:session): session closed for user root\\n',\n",
       " '<78>Nov 14 12:00:01 cumulus CRON[12649]: (root) END (   /usr/sbin/logrotate /etc/logrotate.conf)\\n<86>Nov 14 12:00:01 cumulus CRON[12649]: pam_unix(cron:session): session closed for user root\\n',\n",
       " '<78>Nov 10 10:00:01 cumulus CRON[25532]: (root) END (   /usr/sbin/logrotate /etc/logrotate.conf)\\n<86>Nov 10 10:00:01 cumulus CRON[25532]: pam_unix(cron:session): session closed for user root\\n',\n",
       " '<78>Nov 10 01:45:01 cumulus CRON[21369]: (root) END (   /usr/sbin/logrotate /etc/logrotate.conf)\\n<86>Nov 10 01:45:01 cumulus CRON[21369]: pam_unix(cron:session): session closed for user root\\n',\n",
       " '<78>Nov 12 21:45:01 cumulus CRON[26016]: (root) END (   /usr/sbin/logrotate /etc/logrotate.conf)\\n<86>Nov 12 21:45:01 cumulus CRON[26016]: pam_unix(cron:session): session closed for user root\\n',\n",
       " '<78>Nov  9 13:45:01 cumulus CRON[15508]: (root) END (   /usr/sbin/logrotate /etc/logrotate.conf)\\n<86>Nov  9 13:45:01 cumulus CRON[15508]: pam_unix(cron:session): session closed for user root\\n',\n",
       " '<78>Nov 14 08:30:01 cumulus CRON[10953]: (root) END (   /usr/sbin/logrotate /etc/logrotate.conf)\\n<86>Nov 14 08:30:01 cumulus CRON[10953]: pam_unix(cron:session): session closed for user root\\n',\n",
       " '<78>Nov 15 06:00:01 cumulus CRON[21432]: (root) END (   /usr/sbin/logrotate /etc/logrotate.conf)\\n<86>Nov 15 06:00:01 cumulus CRON[21432]: pam_unix(cron:session): session closed for user root\\n',\n",
       " '<78>Nov  8 13:00:01 cumulus CRON[3265]: (root) END (   /usr/sbin/logrotate /etc/logrotate.conf)\\n<86>Nov  8 13:00:01 cumulus CRON[3265]: pam_unix(cron:session): session closed for user root\\n',\n",
       " '<78>Nov 10 14:30:01 cumulus CRON[30622]: (root) END (   /usr/sbin/logrotate /etc/logrotate.conf)\\n<86>Nov 10 14:30:01 cumulus CRON[30622]: pam_unix(cron:session): session closed for user root\\n',\n",
       " '<78>Nov 12 01:45:01 cumulus CRON[16110]: (root) END (   /usr/sbin/logrotate /etc/logrotate.conf)\\n<86>Nov 12 01:45:01 cumulus CRON[16110]: pam_unix(cron:session): session closed for user root\\n',\n",
       " '<78>Nov 13 08:30:01 cumulus CRON[31429]: (root) END (   /usr/sbin/logrotate /etc/logrotate.conf)\\n<86>Nov 13 08:30:01 cumulus CRON[31429]: pam_unix(cron:session): session closed for user root\\n',\n",
       " '<78>Nov 15 09:45:01 cumulus CRON[23424]: (root) END (   /usr/sbin/logrotate /etc/logrotate.conf)\\n<86>Nov 15 09:45:01 cumulus CRON[23424]: pam_unix(cron:session): session closed for user root\\n',\n",
       " '<78>Nov 11 11:00:01 cumulus CRON[8901]: (root) END (   /usr/sbin/logrotate /etc/logrotate.conf)\\n<86>Nov 11 11:00:01 cumulus CRON[8901]: pam_unix(cron:session): session closed for user root\\n',\n",
       " '<78>Nov 14 20:45:01 cumulus CRON[16921]: (root) END (   /usr/sbin/logrotate /etc/logrotate.conf)\\n<86>Nov 14 20:45:01 cumulus CRON[16921]: pam_unix(cron:session): session closed for user root\\n',\n",
       " '<78>Nov  9 20:15:01 cumulus CRON[18671]: (root) END (   /usr/sbin/logrotate /etc/logrotate.conf)\\n<86>Nov  9 20:15:01 cumulus CRON[18671]: pam_unix(cron:session): session closed for user root\\n',\n",
       " '<78>Nov 12 10:00:01 cumulus CRON[20283]: (root) END (   /usr/sbin/logrotate /etc/logrotate.conf)\\n<86>Nov 12 10:00:01 cumulus CRON[20283]: pam_unix(cron:session): session closed for user root\\n',\n",
       " '<78>Nov 11 02:45:01 cumulus CRON[4200]: (root) END (   /usr/sbin/logrotate /etc/logrotate.conf)\\n<86>Nov 11 02:45:01 cumulus CRON[4200]: pam_unix(cron:session): session closed for user root\\n',\n",
       " '<78>Nov 11 05:00:01 cumulus CRON[5292]: (root) END (   /usr/sbin/logrotate /etc/logrotate.conf)\\n<86>Nov 11 05:00:01 cumulus CRON[5292]: pam_unix(cron:session): session closed for user root\\n',\n",
       " '<78>Nov 12 01:15:01 cumulus CRON[15855]: (root) END (   /usr/sbin/logrotate /etc/logrotate.conf)\\n<86>Nov 12 01:15:01 cumulus CRON[15855]: pam_unix(cron:session): session closed for user root\\n',\n",
       " '<78>Nov 12 02:45:01 cumulus CRON[16599]: (root) END (   /usr/sbin/logrotate /etc/logrotate.conf)\\n<86>Nov 12 02:45:01 cumulus CRON[16599]: pam_unix(cron:session): session closed for user root\\n',\n",
       " '<78>Nov 11 01:15:01 cumulus CRON[3454]: (root) END (   /usr/sbin/logrotate /etc/logrotate.conf)\\n<86>Nov 11 01:15:01 cumulus CRON[3454]: pam_unix(cron:session): session closed for user root\\n',\n",
       " '<78>Nov 13 04:30:02 cumulus CRON[29325]: (root) END (   /usr/sbin/logrotate /etc/logrotate.conf)\\n<86>Nov 13 04:30:02 cumulus CRON[29325]: pam_unix(cron:session): session closed for user root\\n',\n",
       " '<78>Nov 13 02:30:01 cumulus CRON[28347]: (root) END (   /usr/sbin/logrotate /etc/logrotate.conf)\\n<86>Nov 13 02:30:01 cumulus CRON[28347]: pam_unix(cron:session): session closed for user root\\n',\n",
       " '<78>Nov 10 16:00:01 cumulus CRON[31343]: (root) END (   /usr/sbin/logrotate /etc/logrotate.conf)\\n<86>Nov 10 16:00:01 cumulus CRON[31343]: pam_unix(cron:session): session closed for user root\\n',\n",
       " '<78>Nov 15 03:45:01 cumulus CRON[20341]: (root) END (   /usr/sbin/logrotate /etc/logrotate.conf)\\n<86>Nov 15 03:45:01 cumulus CRON[20341]: pam_unix(cron:session): session closed for user root\\n',\n",
       " '<78>Nov  9 18:00:01 cumulus CRON[17580]: (root) END (   /usr/sbin/logrotate /etc/logrotate.conf)\\n<86>Nov  9 18:00:01 cumulus CRON[17580]: pam_unix(cron:session): session closed for user root\\n',\n",
       " '<78>Nov  9 03:00:01 cumulus CRON[10098]: (root) END (   /usr/sbin/logrotate /etc/logrotate.conf)\\n<86>Nov  9 03:00:01 cumulus CRON[10098]: pam_unix(cron:session): session closed for user root\\n',\n",
       " '<78>Nov 10 11:30:01 cumulus CRON[26274]: (root) END (   /usr/sbin/logrotate /etc/logrotate.conf)\\n<86>Nov 10 11:30:01 cumulus CRON[26274]: pam_unix(cron:session): session closed for user root\\n',\n",
       " '<78>Nov 12 07:15:01 cumulus CRON[18934]: (root) END (   /usr/sbin/logrotate /etc/logrotate.conf)\\n<86>Nov 12 07:15:01 cumulus CRON[18934]: pam_unix(cron:session): session closed for user root\\n',\n",
       " '<78>Nov 10 17:00:01 cumulus CRON[31841]: (root) END (   /usr/sbin/logrotate /etc/logrotate.conf)\\n<86>Nov 10 17:00:01 cumulus CRON[31841]: pam_unix(cron:session): session closed for user root\\n',\n",
       " '<78>Nov 10 12:30:01 cumulus CRON[26761]: (root) END (   /usr/sbin/logrotate /etc/logrotate.conf)\\n<86>Nov 10 12:30:01 cumulus CRON[26761]: pam_unix(cron:session): session closed for user root\\n',\n",
       " '<78>Nov 13 02:15:01 cumulus CRON[28208]: (root) END (   /usr/sbin/logrotate /etc/logrotate.conf)\\n<86>Nov 13 02:15:01 cumulus CRON[28208]: pam_unix(cron:session): session closed for user root\\n',\n",
       " '<78>Nov  8 18:30:01 cumulus CRON[5959]: (root) END (   /usr/sbin/logrotate /etc/logrotate.conf)\\n<86>Nov  8 18:30:01 cumulus CRON[5959]: pam_unix(cron:session): session closed for user root\\n',\n",
       " '<78>Nov  8 20:00:01 cumulus CRON[6679]: (root) END (   /usr/sbin/logrotate /etc/logrotate.conf)\\n<86>Nov  8 20:00:01 cumulus CRON[6679]: pam_unix(cron:session): session closed for user root\\n',\n",
       " '<78>Nov 10 20:30:01 cumulus CRON[1143]: (root) END (   /usr/sbin/logrotate /etc/logrotate.conf)\\n<86>Nov 10 20:30:01 cumulus CRON[1143]: pam_unix(cron:session): session closed for user root\\n',\n",
       " '<78>Nov 13 16:45:01 cumulus CRON[3030]: (root) END (   /usr/sbin/logrotate /etc/logrotate.conf)\\n<86>Nov 13 16:45:01 cumulus CRON[3030]: pam_unix(cron:session): session closed for user root\\n',\n",
       " '<78>Nov 10 17:15:01 cumulus CRON[31958]: (root) END (   /usr/sbin/logrotate /etc/logrotate.conf)\\n<86>Nov 10 17:15:01 cumulus CRON[31958]: pam_unix(cron:session): session closed for user root\\n',\n",
       " '<78>Nov 10 12:15:01 cumulus CRON[26622]: (root) END (   /usr/sbin/logrotate /etc/logrotate.conf)\\n<86>Nov 10 12:15:01 cumulus CRON[26622]: pam_unix(cron:session): session closed for user root\\n',\n",
       " '<78>Nov 11 04:30:01 cumulus CRON[5060]: (root) END (   /usr/sbin/logrotate /etc/logrotate.conf)\\n<86>Nov 11 04:30:01 cumulus CRON[5060]: pam_unix(cron:session): session closed for user root\\n',\n",
       " '<78>Nov  9 20:30:01 cumulus CRON[18810]: (root) END (   /usr/sbin/logrotate /etc/logrotate.conf)\\n<86>Nov  9 20:30:01 cumulus CRON[18810]: pam_unix(cron:session): session closed for user root\\n']"
      ]
     },
     "execution_count": 47,
     "metadata": {},
     "output_type": "execute_result"
    }
   ],
   "source": [
    "lof_diff_logs"
   ]
  },
  {
   "cell_type": "code",
   "execution_count": 48,
   "id": "49845d64",
   "metadata": {
    "scrolled": true
   },
   "outputs": [
    {
     "data": {
      "text/plain": [
       "['<38>Nov 18 12:56:29 cumulus sshd[28290]: Failed password for cumulus from 172.17.17.100 port 59226 ssh2\\n',\n",
       " '<84>Nov  9 23:00:39 cumulus sshd[20045]: pam_unix(sshd:auth): check pass; user unknown\\n',\n",
       " '<38>Nov 22 23:00:32 cumulus sshd[16044]: Invalid user user from 172.17.18.50\\n<38>Nov 22 23:00:32 cumulus sshd[16044]: input_userauth_request: invalid user user [preauth]\\n',\n",
       " '<30>Nov 11 12:54:07 cumulus systemd[1]: Starting Cleanup of Temporary Directories...\\n',\n",
       " '<38>Nov 18 09:04:15 cumulus sshd[26309]: Failed password for cumulus from 172.17.17.100 port 53680 ssh2\\n',\n",
       " '<38>Nov 18 09:03:31 cumulus sshd[26307]: Failed password for cumulus from 172.17.17.100 port 53648 ssh2\\n',\n",
       " '<84>Nov  4 22:00:36 cumulus sshd[24927]: pam_unix(sshd:auth): check pass; user unknown',\n",
       " '<38>Nov  9 23:00:37 cumulus sshd[20042]: Did not receive identification string from 172.17.18.50\\n',\n",
       " '<13>Nov 10 13:09:51 cumulus Policy: No services to stop or start\\n',\n",
       " '<38>Nov  5 22:00:32 cumulus sshd[4397]: Received disconnect from 172.17.18.50: 11: Session closed [preauth]',\n",
       " '<38>Nov  2 22:00:38 cumulus sshd[926]: Received disconnect from 172.17.18.50: 11: Session closed [preauth]',\n",
       " '<85>Nov 10 13:05:04 cumulus sudo:  cumulus : TTY=pts/0 ; PWD=/home/cumulus ; USER=root ; COMMAND=/usr/bin/apt-get install ruby-dev\\n',\n",
       " '<38>Nov  7 23:00:34 cumulus sshd[28709]: Received disconnect from 172.17.18.50: 11: Session closed [preauth]',\n",
       " '<38>Nov  8 23:00:33 cumulus sshd[8164]: Received disconnect from 172.17.18.50: 11: Session closed [preauth]\\n',\n",
       " '<38>Nov  7 23:00:33 cumulus sshd[28708]: Did not receive identification string from 172.17.18.50',\n",
       " '<38>Nov 13 23:00:37 cumulus sshd[6115]: Received disconnect from 172.17.18.50: 11: Session closed [preauth]\\n',\n",
       " '<38>Nov 25 23:00:35 cumulus sshd[21491]: Failed password for invalid user user from 172.17.18.50 port 50681 ssh2',\n",
       " '<85>Nov 10 12:59:42 cumulus sudo:  cumulus : TTY=pts/0 ; PWD=/home/cumulus ; USER=root ; COMMAND=/usr/bin/vi /etc/apt/sources.list\\n',\n",
       " \"<46>Nov  2 13:15:01 cumulus rsyslogd0: action 'action 1' resumed (module 'builtin:omfwd') [try http://www.rsyslog.com/e/0 ]\",\n",
       " '<38>Nov 16 23:00:40 cumulus sshd[9338]: Invalid user user from 172.17.18.50\\n',\n",
       " '<38>Nov 17 23:00:46 cumulus sshd[21199]: Received disconnect from 172.17.18.50: 11: Session closed [preauth]\\n',\n",
       " '<30>Nov 21 12:55:26 cumulus systemd[1]: Starting Cleanup of Temporary Directories...\\n',\n",
       " '<38>Nov  3 22:00:35 cumulus sshd[12826]: Did not receive identification string from 172.17.18.50',\n",
       " \"<46>Nov  2 13:00:01 cumulus rsyslogd0: action 'action 1' resumed (module 'builtin:omfwd') [try http://www.rsyslog.com/e/0 ]\",\n",
       " \"<46>Nov  2 12:30:01 cumulus rsyslogd-2359: action 'action 1' resumed (module 'builtin:omfwd') [try http://www.rsyslog.com/e/2359 ]\",\n",
       " \"<46>Nov 18 17:30:01 cumulus rsyslogd0: action 'action 1' resumed (module 'builtin:omfwd') [try http://www.rsyslog.com/e/0 ]\\n<46>Nov 18 17:30:01 cumulus rsyslogd-2359: action 'action 1' resumed (module 'builtin:omfwd') [try http://www.rsyslog.com/e/2359 ]\\n\",\n",
       " '<13>Nov 10 13:09:51 cumulus Policy: Removed /usr/sbin/policy-rc.d\\n<13>Nov 10 13:09:51 cumulus Policy: Upgrade is finished\\n',\n",
       " '<38>Nov  3 22:00:36 cumulus sshd[12827]: Received disconnect from 172.17.18.50: 11: Session closed [preauth]',\n",
       " \"<46>Nov  3 15:15:01 cumulus rsyslogd0: action 'action 1' resumed (module 'builtin:omfwd') [try http://www.rsyslog.com/e/0 ]\",\n",
       " '<38>Nov 15 23:00:47 cumulus sshd[29904]: Invalid user user from 172.17.18.50\\n',\n",
       " '<38>Nov 19 23:00:36 cumulus sshd[12830]: Received disconnect from 172.17.18.50: 11: Session closed [preauth]\\n',\n",
       " '<30>Nov  4 12:52:56 cumulus systemd[1]: Starting Cleanup of Temporary Directories...',\n",
       " '<38>Nov 18 09:03:20 cumulus sshd[26307]: Failed password for cumulus from 172.17.17.100 port 53648 ssh2\\n',\n",
       " '<38>Nov 10 23:00:34 cumulus sshd[2388]: Invalid user user from 172.17.18.50\\n<38>Nov 10 23:00:34 cumulus sshd[2388]: input_userauth_request: invalid user user [preauth]\\n',\n",
       " \"<46>Nov  8 10:45:01 cumulus rsyslogd-2359: action 'action 1' resumed (module 'builtin:omfwd') [try http://www.rsyslog.com/e/2359 ]\",\n",
       " \"<46>Nov  4 11:30:01 cumulus rsyslogd0: action 'action 1' resumed (module 'builtin:omfwd') [try http://www.rsyslog.com/e/0 ]\",\n",
       " \"<86>Nov  8 16:00:01 cumulus CRON[4728]: pam_unix(cron:session): session opened for user root by (uid=0)\\n<46>Nov  8 16:00:01 cumulus rsyslogd0: action 'action 1' resumed (module 'builtin:omfwd') [try http://www.rsyslog.com/e/0 ]\\n<46>Nov  8 16:00:01 cumulus rsyslogd-2359: action 'action 1' resumed (module 'builtin:omfwd') [try http://www.rsyslog.com/e/2359 ]\\n\",\n",
       " '<38>Nov  3 22:00:38 cumulus sshd[12831]: Received disconnect from 172.17.18.50: 11: Session closed [preauth]',\n",
       " \"<46>Nov  4 15:45:01 cumulus rsyslogd-2359: action 'action 1' resumed (module 'builtin:omfwd') [try http://www.rsyslog.com/e/2359 ]\",\n",
       " '<38>Nov 17 23:00:46 cumulus sshd[21199]: Failed password for invalid user user from 172.17.18.50 port 57303 ssh2\\n',\n",
       " '<38>Nov 14 23:00:38 cumulus sshd[18040]: Received disconnect from 172.17.18.50: 11: Session closed [preauth]\\n',\n",
       " \"<46>Nov  2 13:30:01 cumulus rsyslogd0: action 'action 1' resumed (module 'builtin:omfwd') [try http://www.rsyslog.com/e/0 ]\",\n",
       " '<38>Nov 25 23:00:33 cumulus sshd[21489]: Received disconnect from 172.17.18.50: 11: Session closed [preauth]',\n",
       " '<38>Nov 16 23:00:42 cumulus sshd[9340]: Received disconnect from 172.17.18.50: 11: Session closed [preauth]\\n',\n",
       " '<85>Nov 10 13:10:54 cumulus sudo:  cumulus : TTY=pts/0 ; PWD=/home/cumulus ; USER=root ; COMMAND=/usr/bin/dpkg -i ruby-dev_2.7+2_amd64.deb\\n',\n",
       " '<38>Nov  4 22:00:38 cumulus sshd[24929]: Received disconnect from 172.17.18.50: 11: Session closed [preauth]',\n",
       " \"<46>Nov  2 12:15:01 cumulus rsyslogd0: action 'action 1' resumed (module 'builtin:omfwd') [try http://www.rsyslog.com/e/0 ]\",\n",
       " '<30>Nov  4 12:52:56 cumulus systemd[1]: Started Cleanup of Temporary Directories.',\n",
       " '<30>Nov 20 12:55:16 cumulus systemd[1]: Started Cleanup of Temporary Directories.\\n',\n",
       " '<38>Nov  6 22:00:34 cumulus sshd[16287]: Received disconnect from 172.17.18.50: 11: Session closed [preauth]',\n",
       " '<85>Nov 10 13:11:23 cumulus sudo:  cumulus : TTY=pts/0 ; PWD=/home/cumulus ; USER=root ; COMMAND=/usr/bin/apt-get install ruby2.7-dev\\n',\n",
       " '<38>Nov  2 22:00:39 cumulus sshd[928]: Received disconnect from 172.17.18.50: 11: Session closed [preauth]',\n",
       " '<38>Nov  3 22:00:38 cumulus sshd[12829]: Received disconnect from 172.17.18.50: 11: Session closed [preauth]',\n",
       " \"<46>Nov  2 11:30:01 cumulus rsyslogd0: action 'action 1' resumed (module 'builtin:omfwd') [try http://www.rsyslog.com/e/0 ]\",\n",
       " '<85>Nov 10 13:05:25 cumulus sudo:  cumulus : TTY=pts/0 ; PWD=/home/cumulus ; USER=root ; COMMAND=/usr/bin/apt-cache search ruby1.8\\n',\n",
       " '<38>Nov 10 23:00:36 cumulus sshd[2388]: Failed password for invalid user user from 172.17.18.50 port 65255 ssh2\\n',\n",
       " \"<46>Nov  4 11:17:01 cumulus rsyslogd-2359: action 'action 1' resumed (module 'builtin:omfwd') [try http://www.rsyslog.com/e/2359 ]\",\n",
       " '<30>Nov  3 12:52:56 cumulus systemd[1]: Started Cleanup of Temporary Directories.',\n",
       " '<38>Nov  8 23:00:35 cumulus sshd[8166]: Received disconnect from 172.17.18.50: 11: Session closed [preauth]\\n',\n",
       " '<38>Nov 14 23:00:34 cumulus sshd[18034]: Did not receive identification string from 172.17.18.50\\n',\n",
       " '<13>Nov 10 13:11:29 cumulus Policy: No services to stop or start\\n',\n",
       " \"<46>Nov  2 09:30:01 cumulus rsyslogd-2359: action 'action 1' resumed (module 'builtin:omfwd') [try http://www.rsyslog.com/e/2359 ]\",\n",
       " '<38>Nov  9 23:00:39 cumulus sshd[20043]: Received disconnect from 172.17.18.50: 11: Session closed [preauth]\\n',\n",
       " \"<46>Nov  2 11:15:01 cumulus rsyslogd0: action 'action 1' resumed (module 'builtin:omfwd') [try http://www.rsyslog.com/e/0 ]\",\n",
       " \"<46>Nov  2 15:15:01 cumulus rsyslogd0: action 'action 1' resumed (module 'builtin:omfwd') [try http://www.rsyslog.com/e/0 ]\",\n",
       " \"<46>Nov  2 11:15:01 cumulus rsyslogd-2359: action 'action 1' resumed (module 'builtin:omfwd') [try http://www.rsyslog.com/e/2359 ]\",\n",
       " '<38>Nov 15 23:00:50 cumulus sshd[29906]: Received disconnect from 172.17.18.50: 11: Session closed [preauth]\\n',\n",
       " '<38>Nov 18 12:58:03 cumulus sshd[28308]: Received disconnect from 172.17.17.100: 11: disconnected by user\\n',\n",
       " '<84>Nov 18 19:59:42 cumulus sshd[31881]: pam_unix(sshd:auth): check pass; user unknown\\n',\n",
       " '<38>Nov 20 23:00:42 cumulus sshd[24676]: Received disconnect from 172.17.18.50: 11: Session closed [preauth]\\n',\n",
       " '<85>Nov 18 09:04:36 cumulus sudo:  cumulus : TTY=pts/0 ; PWD=/home/cumulus ; USER=root ; COMMAND=/usr/bin/apt-get update\\n',\n",
       " \"<46>Nov  4 11:17:01 cumulus rsyslogd0: action 'action 1' resumed (module 'builtin:omfwd') [try http://www.rsyslog.com/e/0 ]\",\n",
       " '<38>Nov 20 23:00:44 cumulus sshd[24678]: Received disconnect from 172.17.18.50: 11: Session closed [preauth]\\n',\n",
       " '<38>Nov 18 09:04:18 cumulus sshd[26309]: Accepted password for cumulus from 172.17.17.100 port 53680 ssh2\\n',\n",
       " '<38>Nov 20 23:00:42 cumulus sshd[24678]: input_userauth_request: invalid user user [preauth]\\n',\n",
       " \"<46>Nov  8 10:45:01 cumulus rsyslogd0: action 'action 1' resumed (module 'builtin:omfwd') [try http://www.rsyslog.com/e/0 ]\",\n",
       " '<38>Nov  7 23:00:34 cumulus sshd[28711]: input_userauth_request: invalid user user [preauth]',\n",
       " '<38>Nov  2 22:00:37 cumulus sshd[925]: Did not receive identification string from 172.17.18.50',\n",
       " '<85>Nov 10 13:03:50 cumulus sudo:  cumulus : TTY=pts/0 ; PWD=/tmp/zlog-collector-install.27478 ; USER=root ; COMMAND=/usr/bin/apt-get install -y build-essential ruby-dev\\n<86>Nov 10 13:03:50 cumulus sudo: pam_unix(sudo:session): session opened for user root by cumulus(uid=0)\\n',\n",
       " '<38>Nov 20 23:00:39 cumulus sshd[24675]: Did not receive identification string from 172.17.18.50\\n',\n",
       " '<85>Nov 10 12:59:09 cumulus sudo:  cumulus : TTY=pts/0 ; PWD=/tmp/zlog-collector-install.27050 ; USER=root ; COMMAND=/usr/bin/apt-get install -y build-essential ruby-dev\\n<86>Nov 10 12:59:09 cumulus sudo: pam_unix(sudo:session): session opened for user root by cumulus(uid=0)\\n',\n",
       " '<38>Nov 21 23:00:39 cumulus sshd[4180]: Received disconnect from 172.17.18.50: 11: Session closed [preauth]\\n',\n",
       " \"<46>Nov 18 19:59:41 cumulus rsyslogd0: action 'action 1' resumed (module 'builtin:omfwd') [try http://www.rsyslog.com/e/0 ]\\n<46>Nov 18 19:59:41 cumulus rsyslogd-2359: action 'action 1' resumed (module 'builtin:omfwd') [try http://www.rsyslog.com/e/2359 ]\\n\",\n",
       " '<38>Nov  8 23:00:35 cumulus sshd[8166]: Failed password for invalid user user from 172.17.18.50 port 62888 ssh2\\n',\n",
       " '<85>Nov 10 13:04:20 cumulus sudo:  cumulus : TTY=pts/0 ; PWD=/home/cumulus ; USER=root ; COMMAND=/usr/bin/apt install ruby-dev\\n',\n",
       " '<38>Nov 19 23:00:34 cumulus sshd[12828]: Invalid user user from 172.17.18.50\\n<38>Nov 19 23:00:34 cumulus sshd[12828]: input_userauth_request: invalid user user [preauth]\\n',\n",
       " \"<46>Nov  2 15:15:01 cumulus rsyslogd-2359: action 'action 1' resumed (module 'builtin:omfwd') [try http://www.rsyslog.com/e/2359 ]\",\n",
       " '<38>Nov 11 23:00:39 cumulus sshd[14790]: Received disconnect from 172.17.18.50: 11: Session closed [preauth]\\n',\n",
       " '<30>Nov 16 12:54:46 cumulus systemd[1]: Starting Cleanup of Temporary Directories...\\n',\n",
       " '<38>Nov 21 23:00:39 cumulus sshd[4180]: Failed password for invalid user user from 172.17.18.50 port 62243 ssh2\\n',\n",
       " '<30>Nov 16 12:54:46 cumulus systemd[1]: Started Cleanup of Temporary Directories.\\n',\n",
       " '<38>Nov 21 23:00:37 cumulus sshd[4180]: Invalid user user from 172.17.18.50\\n<38>Nov 21 23:00:37 cumulus sshd[4180]: input_userauth_request: invalid user user [preauth]\\n',\n",
       " '<38>Nov 18 12:56:36 cumulus sshd[28290]: Accepted password for cumulus from 172.17.17.100 port 59226 ssh2\\n',\n",
       " '<38>Nov 10 12:58:46 cumulus sshd[26992]: Failed password for cumulus from 172.17.17.100 port 38016 ssh2\\n',\n",
       " '<30>Nov 20 12:55:16 cumulus systemd[1]: Starting Cleanup of Temporary Directories...\\n',\n",
       " '<85>Nov 18 12:57:03 cumulus sudo:  cumulus : TTY=pts/0 ; PWD=/home/cumulus ; USER=root ; COMMAND=/usr/bin/vi /etc/nginx/sites-available/default\\n',\n",
       " '<85>Nov 10 13:04:41 cumulus sudo:  cumulus : TTY=pts/0 ; PWD=/home/cumulus ; USER=root ; COMMAND=/usr/bin/apt install ruby1.8-dev\\n',\n",
       " '<85>Nov 10 13:03:41 cumulus sudo:  cumulus : TTY=pts/0 ; PWD=/tmp/zlog-collector-install.27478 ; USER=root ; COMMAND=/usr/bin/apt-get update\\n',\n",
       " '<38>Nov 12 23:00:41 cumulus sshd[26652]: Failed password for invalid user user from 172.17.18.50 port 51302 ssh2\\n',\n",
       " '<30>Nov 24 12:55:54 cumulus systemd[1]: Started Cleanup of Temporary Directories.',\n",
       " '<85>Nov 25 23:00:33 cumulus sshd[21491]: pam_unix(sshd:auth): authentication failure; logname= uid=0 euid=0 tty=ssh ruser= rhost=172.17.18.50',\n",
       " '<30>Nov 19 12:55:15 cumulus systemd[1]: Starting Cleanup of Temporary Directories...\\n',\n",
       " \"<46>Nov  8 15:00:01 cumulus rsyslogd0: action 'action 1' resumed (module 'builtin:omfwd') [try http://www.rsyslog.com/e/0 ]\\n<46>Nov  8 15:00:01 cumulus rsyslogd-2359: action 'action 1' resumed (module 'builtin:omfwd') [try http://www.rsyslog.com/e/2359 ]\\n\",\n",
       " '<38>Nov 18 09:03:16 cumulus sshd[26264]: Received disconnect from 172.17.17.100: 11: disconnected by user\\n',\n",
       " '<38>Nov 13 23:00:34 cumulus sshd[6107]: Invalid user user from 172.17.18.50\\n<38>Nov 13 23:00:34 cumulus sshd[6107]: input_userauth_request: invalid user user [preauth]\\n',\n",
       " '<84>Nov 25 23:00:33 cumulus sshd[21491]: pam_unix(sshd:auth): check pass; user unknown',\n",
       " '<38>Nov 16 23:00:40 cumulus sshd[9336]: Received disconnect from 172.17.18.50: 11: Session closed [preauth]\\n',\n",
       " '<38>Nov 14 23:00:38 cumulus sshd[18038]: Received disconnect from 172.17.18.50: 11: Session closed [preauth]\\n',\n",
       " '<38>Nov 12 23:00:38 cumulus sshd[26649]: Did not receive identification string from 172.17.18.50\\n',\n",
       " '<30>Nov  3 12:52:56 cumulus systemd[1]: Starting Cleanup of Temporary Directories...',\n",
       " \"<46>Nov  3 09:30:01 cumulus rsyslogd-2359: action 'action 1' resumed (module 'builtin:omfwd') [try http://www.rsyslog.com/e/2359 ]\",\n",
       " '<38>Nov  7 23:00:36 cumulus sshd[28711]: Received disconnect from 172.17.18.50: 11: Session closed [preauth]',\n",
       " '<38>Nov 17 23:00:43 cumulus sshd[21197]: Received disconnect from 172.17.18.50: 11: Session closed [preauth]\\n',\n",
       " '<38>Nov  6 22:00:34 cumulus sshd[16289]: Received disconnect from 172.17.18.50: 11: Session closed [preauth]',\n",
       " '<38>Nov 13 23:00:37 cumulus sshd[6107]: Received disconnect from 172.17.18.50: 11: Session closed [preauth]\\n',\n",
       " '<30>Nov 10 12:53:58 cumulus systemd[1]: Starting Cleanup of Temporary Directories...\\n',\n",
       " '<14>Nov  4 16:05:47 cumulus netd:    INFO:  RXed: user cumulus, command \"/usr/bin/net show commit history\"',\n",
       " '<85>Nov 10 13:11:18 cumulus sudo:  cumulus : TTY=pts/0 ; PWD=/home/cumulus ; USER=root ; COMMAND=/usr/bin/apt-get install ruby-dev\\n',\n",
       " '<38>Nov  3 22:00:36 cumulus sshd[12829]: Invalid user user from 172.17.18.50',\n",
       " \"<46>Nov  2 11:30:01 cumulus rsyslogd-2359: action 'action 1' resumed (module 'builtin:omfwd') [try http://www.rsyslog.com/e/2359 ]\",\n",
       " '<30>Nov 10 12:53:58 cumulus systemd[1]: Started Cleanup of Temporary Directories.\\n',\n",
       " '<38>Nov 14 23:00:36 cumulus sshd[18038]: Invalid user user from 172.17.18.50\\n<38>Nov 14 23:00:36 cumulus sshd[18038]: input_userauth_request: invalid user user [preauth]\\n',\n",
       " '<30>Nov  2 12:52:48 cumulus systemd[1]: Started Cleanup of Temporary Directories.',\n",
       " \"<86>Nov  8 13:00:01 cumulus CRON[3265]: pam_unix(cron:session): session opened for user root by (uid=0)\\n<46>Nov  8 13:00:01 cumulus rsyslogd0: action 'action 1' resumed (module 'builtin:omfwd') [try http://www.rsyslog.com/e/0 ]\\n<46>Nov  8 13:00:01 cumulus rsyslogd-2359: action 'action 1' resumed (module 'builtin:omfwd') [try http://www.rsyslog.com/e/2359 ]\\n\",\n",
       " '<85>Nov 10 13:06:41 cumulus sudo:  cumulus : TTY=pts/0 ; PWD=/home/cumulus ; USER=root ; COMMAND=/usr/bin/apt-get install ruby-full\\n',\n",
       " '<30>Nov 19 12:55:15 cumulus systemd[1]: Started Cleanup of Temporary Directories.\\n',\n",
       " \"<46>Nov  2 10:00:01 cumulus rsyslogd0: action 'action 1' resumed (module 'builtin:omfwd') [try http://www.rsyslog.com/e/0 ]\",\n",
       " \"<46>Nov  2 13:30:01 cumulus rsyslogd-2359: action 'action 1' resumed (module 'builtin:omfwd') [try http://www.rsyslog.com/e/2359 ]\",\n",
       " '<30>Nov 12 12:54:16 cumulus systemd[1]: Started Cleanup of Temporary Directories.\\n',\n",
       " '<38>Nov 12 23:00:41 cumulus sshd[26654]: Received disconnect from 172.17.18.50: 11: Session closed [preauth]\\n',\n",
       " \"<46>Nov  3 09:30:01 cumulus rsyslogd0: action 'action 1' resumed (module 'builtin:omfwd') [try http://www.rsyslog.com/e/0 ]\",\n",
       " '<85>Nov 10 13:07:35 cumulus sudo:  cumulus : TTY=pts/0 ; PWD=/tmp/zlog-collector-install.27751 ; USER=root ; COMMAND=/usr/bin/apt-get update\\n',\n",
       " '<38>Nov 25 23:00:32 cumulus sshd[21487]: Did not receive identification string from 172.17.18.50',\n",
       " '<38>Nov  4 22:00:36 cumulus sshd[24925]: Received disconnect from 172.17.18.50: 11: Session closed [preauth]',\n",
       " '<85>Nov 10 13:01:53 cumulus sudo:  cumulus : TTY=pts/0 ; PWD=/home/cumulus ; USER=root ; COMMAND=/usr/bin/apt-get update\\n',\n",
       " '<38>Nov 16 23:00:42 cumulus sshd[9338]: Received disconnect from 172.17.18.50: 11: Session closed [preauth]\\n',\n",
       " '<30>Nov  6 12:53:16 cumulus systemd[1]: Started Cleanup of Temporary Directories.',\n",
       " \"<46>Nov 15 15:15:01 cumulus rsyslogd0: action 'action 1' resumed (module 'builtin:omfwd') [try http://www.rsyslog.com/e/0 ]\\n\",\n",
       " '<38>Nov  4 16:05:08 cumulus sshd[21799]: Accepted password for cumulus from 172.17.17.100 port 46360 ssh2',\n",
       " '<38>Nov 25 23:00:33 cumulus sshd[21491]: Invalid user user from 172.17.18.50',\n",
       " '<30>Nov 17 12:54:58 cumulus systemd[1]: Started Cleanup of Temporary Directories.\\n',\n",
       " 'Nov 16 11:10:58 cumulus sudo: cumulus : TTY=pts/0 ; PWD=/home/cumulus ; USER=root ; COMMAND=/usr/bin/apt-key adv --keyserver by.ubuntu.com --recv-keys 4094092040214\\n',\n",
       " '<30>Nov  7 12:53:31 cumulus systemd[1]: Started Cleanup of Temporary Directories.',\n",
       " '<38>Nov 22 23:00:34 cumulus sshd[16044]: Failed password for invalid user user from 172.17.18.50 port 63476 ssh2\\n',\n",
       " '<85>Nov 10 13:03:18 cumulus sudo:  cumulus : TTY=pts/0 ; PWD=/home/cumulus ; USER=root ; COMMAND=/usr/bin/apt-get update\\n',\n",
       " '<30>Nov 21 12:55:26 cumulus systemd[1]: Started Cleanup of Temporary Directories.\\n',\n",
       " '<30>Nov  7 12:53:31 cumulus systemd[1]: Starting Cleanup of Temporary Directories...',\n",
       " '<38>Nov 19 23:00:33 cumulus sshd[12825]: Did not receive identification string from 172.17.18.50\\n',\n",
       " '<85>Nov 10 13:11:28 cumulus sudo:  cumulus : TTY=pts/0 ; PWD=/home/cumulus ; USER=root ; COMMAND=/usr/bin/apt-get install -f\\n',\n",
       " '<38>Nov 12 23:00:41 cumulus sshd[26652]: Received disconnect from 172.17.18.50: 11: Session closed [preauth]\\n',\n",
       " '<38>Nov  8 23:00:33 cumulus sshd[8166]: Invalid user user from 172.17.18.50\\n',\n",
       " '<84>Nov 16 23:00:40 cumulus sshd[9338]: pam_unix(sshd:auth): check pass; user unknown\\n',\n",
       " '<85>Nov 10 13:11:08 cumulus sudo:  cumulus : TTY=pts/0 ; PWD=/home/cumulus ; USER=root ; COMMAND=/usr/bin/apt-get install ruby2.7-dev\\n',\n",
       " '<38>Nov 15 23:00:44 cumulus sshd[29901]: Did not receive identification string from 172.17.18.50\\n',\n",
       " '<38>Nov  2 22:00:39 cumulus sshd[930]: Received disconnect from 172.17.18.50: 11: Session closed [preauth]',\n",
       " '<85>Nov 10 13:05:08 cumulus sudo:  cumulus : TTY=pts/0 ; PWD=/home/cumulus ; USER=root ; COMMAND=/usr/bin/apt-get install ruby\\n',\n",
       " '<84>Nov  7 23:00:34 cumulus sshd[28711]: pam_unix(sshd:auth): check pass; user unknown',\n",
       " '<85>Nov 10 13:00:24 cumulus sudo:  cumulus : TTY=pts/0 ; PWD=/home/cumulus ; USER=root ; COMMAND=/usr/bin/vi /etc/apt/sources.list\\n',\n",
       " '<38>Nov  6 22:00:33 cumulus sshd[16287]: Invalid user user from 172.17.18.50',\n",
       " '<14>Nov  4 16:05:53 cumulus netd:    INFO:  RXed: user cumulus, command \"/usr/bin/net show commit last\"',\n",
       " '<38>Nov 17 23:00:42 cumulus sshd[21196]: Did not receive identification string from 172.17.18.50\\n',\n",
       " '<38>Nov  5 22:00:34 cumulus sshd[4399]: Failed password for invalid user user from 172.17.18.50 port 59504 ssh2',\n",
       " '<38>Nov 15 23:00:50 cumulus sshd[29904]: Received disconnect from 172.17.18.50: 11: Session closed [preauth]\\n',\n",
       " '<38>Nov 13 23:00:31 cumulus sshd[6103]: Did not receive identification string from 172.17.18.50\\n',\n",
       " '<30>Nov  6 12:53:16 cumulus systemd[1]: Starting Cleanup of Temporary Directories...',\n",
       " '<38>Nov  7 23:00:36 cumulus sshd[28713]: Received disconnect from 172.17.18.50: 11: Session closed [preauth]',\n",
       " '<30>Nov 15 12:54:36 cumulus systemd[1]: Started Cleanup of Temporary Directories.\\n',\n",
       " '<38>Nov 20 23:00:44 cumulus sshd[24680]: Received disconnect from 172.17.18.50: 11: Session closed [preauth]\\n',\n",
       " '<84>Nov  3 22:00:36 cumulus sshd[12829]: pam_unix(sshd:auth): check pass; user unknown',\n",
       " '<85>Nov 10 13:01:23 cumulus sudo:  cumulus : TTY=pts/0 ; PWD=/home/cumulus ; USER=root ; COMMAND=/usr/bin/vi /etc/apt/sources.list\\n',\n",
       " '<38>Nov 10 12:58:52 cumulus sshd[26992]: Accepted password for cumulus from 172.17.17.100 port 38016 ssh2\\n',\n",
       " '<30>Nov 14 12:54:34 cumulus systemd[1]: Starting Cleanup of Temporary Directories...\\n',\n",
       " '<38>Nov  6 22:00:33 cumulus sshd[16287]: input_userauth_request: invalid user user [preauth]',\n",
       " \"<46>Nov  2 13:00:01 cumulus rsyslogd-2359: action 'action 1' resumed (module 'builtin:omfwd') [try http://www.rsyslog.com/e/2359 ]\",\n",
       " '<38>Nov 10 23:00:33 cumulus sshd[2385]: Did not receive identification string from 172.17.18.50\\n',\n",
       " '<38>Nov 19 23:00:34 cumulus sshd[12826]: Received disconnect from 172.17.18.50: 11: Session closed [preauth]\\n',\n",
       " '<38>Nov  6 22:00:34 cumulus sshd[16287]: Failed password for invalid user user from 172.17.18.50 port 60634 ssh2',\n",
       " '<85>Nov 10 13:00:50 cumulus sudo:  cumulus : TTY=pts/0 ; PWD=/home/cumulus ; USER=root ; COMMAND=/usr/bin/apt-get update\\n',\n",
       " '<85>Nov 10 13:09:49 cumulus sudo:  cumulus : TTY=pts/0 ; PWD=/home/cumulus ; USER=root ; COMMAND=/usr/bin/apt-get install -f\\n',\n",
       " '<38>Nov  4 22:00:36 cumulus sshd[24927]: input_userauth_request: invalid user user [preauth]',\n",
       " '<30>Nov 13 12:54:16 cumulus systemd[1]: Starting Cleanup of Temporary Directories...\\n',\n",
       " '<38>Nov 11 23:00:37 cumulus sshd[14790]: Invalid user user from 172.17.18.50\\n<38>Nov 11 23:00:37 cumulus sshd[14790]: input_userauth_request: invalid user user [preauth]\\n',\n",
       " '<38>Nov 11 23:00:39 cumulus sshd[14790]: Failed password for invalid user user from 172.17.18.50 port 50073 ssh2\\n',\n",
       " '<38>Nov  7 23:00:36 cumulus sshd[28711]: Failed password for invalid user user from 172.17.18.50 port 61773 ssh2',\n",
       " '<38>Nov 11 23:00:39 cumulus sshd[14792]: Received disconnect from 172.17.18.50: 11: Session closed [preauth]\\n',\n",
       " \"<46>Nov  4 11:15:01 cumulus rsyslogd-2359: action 'action 1' resumed (module 'builtin:omfwd') [try http://www.rsyslog.com/e/2359 ]\",\n",
       " '<38>Nov 10 23:00:36 cumulus sshd[2390]: Received disconnect from 172.17.18.50: 11: Session closed [preauth]\\n',\n",
       " '<30>Nov 17 12:54:58 cumulus systemd[1]: Starting Cleanup of Temporary Directories...\\n',\n",
       " '<85>Nov 10 13:01:46 cumulus sudo:  cumulus : TTY=pts/0 ; PWD=/home/cumulus ; USER=root ; COMMAND=/usr/bin/vi /etc/apt/sources.list\\n',\n",
       " '<38>Nov  8 23:00:32 cumulus sshd[8163]: Did not receive identification string from 172.17.18.50\\n',\n",
       " \"<46>Nov  2 12:30:01 cumulus rsyslogd0: action 'action 1' resumed (module 'builtin:omfwd') [try http://www.rsyslog.com/e/0 ]\",\n",
       " '<30>Nov 22 12:55:41 cumulus systemd[1]: Started Cleanup of Temporary Directories.\\n',\n",
       " '<38>Nov 16 23:00:38 cumulus sshd[9335]: Did not receive identification string from 172.17.18.50\\n',\n",
       " '<38>Nov 18 09:03:15 cumulus sshd[26246]: Accepted password for cumulus from 172.17.17.100 port 53644 ssh2\\n',\n",
       " \"<46>Nov  4 15:45:01 cumulus rsyslogd0: action 'action 1' resumed (module 'builtin:omfwd') [try http://www.rsyslog.com/e/0 ]\",\n",
       " '<38>Nov 10 23:00:36 cumulus sshd[2388]: Received disconnect from 172.17.18.50: 11: Session closed [preauth]\\n',\n",
       " '<30>Nov  5 12:53:13 cumulus systemd[1]: Starting Cleanup of Temporary Directories...',\n",
       " '<38>Nov  3 22:00:36 cumulus sshd[12829]: input_userauth_request: invalid user user [preauth]',\n",
       " '<38>Nov 20 23:00:42 cumulus sshd[24678]: Invalid user user from 172.17.18.50\\n',\n",
       " '<84>Nov  6 22:00:33 cumulus sshd[16287]: pam_unix(sshd:auth): check pass; user unknown',\n",
       " '<30>Nov 12 12:54:16 cumulus systemd[1]: Starting Cleanup of Temporary Directories...\\n',\n",
       " '<84>Nov  2 22:00:38 cumulus sshd[928]: pam_unix(sshd:auth): check pass; user unknown',\n",
       " '<85>Nov 10 13:07:48 cumulus sudo:  cumulus : TTY=pts/0 ; PWD=/tmp/zlog-collector-install.27751 ; USER=root ; COMMAND=/usr/bin/apt-get install -y build-essential ruby-dev\\n<86>Nov 10 13:07:48 cumulus sudo: pam_unix(sudo:session): session opened for user root by cumulus(uid=0)\\n',\n",
       " '<38>Nov  2 22:00:38 cumulus sshd[928]: input_userauth_request: invalid user user [preauth]',\n",
       " '<85>Nov 10 13:01:17 cumulus sudo:  cumulus : TTY=pts/0 ; PWD=/home/cumulus ; USER=root ; COMMAND=/usr/bin/vi /etc/apt/sources.listsudo add-apt-repository universe\\n',\n",
       " '<38>Nov 25 23:00:35 cumulus sshd[21493]: Received disconnect from 172.17.18.50: 11: Session closed [preauth]',\n",
       " '<38>Nov 22 23:00:30 cumulus sshd[16041]: Did not receive identification string from 172.17.18.50\\n',\n",
       " '<30>Nov  9 12:53:49 cumulus systemd[1]: Started Cleanup of Temporary Directories.\\n',\n",
       " '<14>Nov  4 16:05:38 cumulus netd:    INFO:  RXed: user cumulus, command \"/usr/bin/net p\"',\n",
       " '<30>Nov 13 12:54:16 cumulus systemd[1]: Started Cleanup of Temporary Directories.\\n',\n",
       " '<85>Nov 10 13:01:13 cumulus sudo:  cumulus : TTY=pts/0 ; PWD=/home/cumulus ; USER=root ; COMMAND=/usr/bin/vi /etc/apt/sources.listsudo add-apt-repository universe\\n',\n",
       " '<38>Nov  8 23:00:35 cumulus sshd[8169]: Received disconnect from 172.17.18.50: 11: Session closed [preauth]\\n',\n",
       " '<38>Nov  4 22:00:35 cumulus sshd[24924]: Did not receive identification string from 172.17.18.50',\n",
       " '<38>Nov  5 22:00:32 cumulus sshd[4399]: Invalid user user from 172.17.18.50',\n",
       " '<85>Nov 10 13:00:11 cumulus sudo:  cumulus : TTY=pts/0 ; PWD=/home/cumulus ; USER=root ; COMMAND=/usr/bin/apt-get update\\n',\n",
       " '<14>Nov  4 16:05:39 cumulus netd:    INFO:  RXed: user cumulus, command \"/usr/bin/net c\"',\n",
       " '<38>Nov 22 23:00:32 cumulus sshd[16042]: Received disconnect from 172.17.18.50: 11: Session closed [preauth]\\n',\n",
       " '<38>Nov 17 23:00:46 cumulus sshd[21201]: Received disconnect from 172.17.18.50: 11: Session closed [preauth]\\n',\n",
       " '<38>Nov 12 23:00:39 cumulus sshd[26652]: Invalid user user from 172.17.18.50\\n',\n",
       " '<38>Nov 13 23:00:34 cumulus sshd[6105]: Received disconnect from 172.17.18.50: 11: Session closed [preauth]\\n',\n",
       " \"<46>Nov  4 11:15:01 cumulus rsyslogd0: action 'action 1' resumed (module 'builtin:omfwd') [try http://www.rsyslog.com/e/0 ]\",\n",
       " '<38>Nov 10 16:06:30 cumulus sshd[27010]: Received disconnect from 172.17.17.100: 11: disconnected by user\\n',\n",
       " '<38>Nov  7 23:00:34 cumulus sshd[28711]: Invalid user user from 172.17.18.50',\n",
       " '<38>Nov  5 22:00:32 cumulus sshd[4399]: input_userauth_request: invalid user user [preauth]',\n",
       " '<38>Nov 11 23:00:36 cumulus sshd[14787]: Did not receive identification string from 172.17.18.50\\n',\n",
       " '<85>Nov 10 13:09:44 cumulus sudo:  cumulus : TTY=pts/0 ; PWD=/home/cumulus ; USER=root ; COMMAND=/usr/bin/dpkg -i ruby-dev_2.7+2_amd64.deb\\n',\n",
       " '<38>Nov  2 22:00:38 cumulus sshd[928]: Invalid user user from 172.17.18.50',\n",
       " '<30>Nov 22 12:55:41 cumulus systemd[1]: Starting Cleanup of Temporary Directories...\\n',\n",
       " '<38>Nov 15 23:00:50 cumulus sshd[29904]: Failed password for invalid user user from 172.17.18.50 port 54930 ssh2\\n',\n",
       " '<38>Nov 25 23:00:35 cumulus sshd[21491]: Received disconnect from 172.17.18.50: 11: Session closed [preauth]',\n",
       " '<30>Nov 11 12:54:07 cumulus systemd[1]: Started Cleanup of Temporary Directories.\\n',\n",
       " \"<46>Nov  2 09:30:01 cumulus rsyslogd0: action 'action 1' resumed (module 'builtin:omfwd') [try http://www.rsyslog.com/e/0 ]\",\n",
       " \"<46>Nov  2 13:15:01 cumulus rsyslogd-2359: action 'action 1' resumed (module 'builtin:omfwd') [try http://www.rsyslog.com/e/2359 ]\",\n",
       " '<38>Nov 18 12:56:32 cumulus sshd[28290]: Failed password for cumulus from 172.17.17.100 port 59226 ssh2\\n',\n",
       " '<38>Nov  6 22:00:31 cumulus sshd[16283]: Did not receive identification string from 172.17.18.50',\n",
       " '<85>Nov 10 13:05:00 cumulus sudo:  cumulus : TTY=pts/0 ; PWD=/home/cumulus ; USER=root ; COMMAND=/usr/bin/apt-get install ruby-devise\\n',\n",
       " '<38>Nov  5 22:00:34 cumulus sshd[4401]: Received disconnect from 172.17.18.50: 11: Session closed [preauth]',\n",
       " '<38>Nov  9 23:00:41 cumulus sshd[20047]: Received disconnect from 172.17.18.50: 11: Session closed [preauth]\\n',\n",
       " '<85>Nov 10 13:11:16 cumulus sudo:  cumulus : TTY=pts/0 ; PWD=/home/cumulus ; USER=root ; COMMAND=/usr/bin/apt-get install rubydev\\n',\n",
       " '<38>Nov 10 23:00:34 cumulus sshd[2386]: Received disconnect from 172.17.18.50: 11: Session closed [preauth]\\n',\n",
       " 'Nov 9 21:30:01 cumulus CRON[19299]: this is just a message. nothing happpens!\\n',\n",
       " '<38>Nov 25 23:00:33 cumulus sshd[21491]: input_userauth_request: invalid user user [preauth]',\n",
       " '<85>Nov 10 12:59:03 cumulus sudo:  cumulus : TTY=pts/0 ; PWD=/tmp/zlog-collector-install.27050 ; USER=root ; COMMAND=/usr/bin/apt-get update\\n',\n",
       " \"<46>Nov  2 12:15:01 cumulus rsyslogd-2359: action 'action 1' resumed (module 'builtin:omfwd') [try http://www.rsyslog.com/e/2359 ]\",\n",
       " '<38>Nov  5 22:00:31 cumulus sshd[4395]: Did not receive identification string from 172.17.18.50',\n",
       " '<38>Nov  4 22:00:36 cumulus sshd[24927]: Invalid user user from 172.17.18.50',\n",
       " '<38>Nov 17 23:00:43 cumulus sshd[21199]: Invalid user user from 172.17.18.50\\n<38>Nov 17 23:00:43 cumulus sshd[21199]: input_userauth_request: invalid user user [preauth]\\n',\n",
       " '<30>Nov  5 12:53:13 cumulus systemd[1]: Started Cleanup of Temporary Directories.',\n",
       " '<38>Nov 21 23:00:35 cumulus sshd[4177]: Did not receive identification string from 172.17.18.50\\n',\n",
       " '<38>Nov  9 23:00:41 cumulus sshd[20045]: Failed password for invalid user user from 172.17.18.50 port 64081 ssh2\\n',\n",
       " '<30>Nov  9 12:53:49 cumulus systemd[1]: Starting Cleanup of Temporary Directories...\\n',\n",
       " '<38>Nov  6 22:00:33 cumulus sshd[16285]: Received disconnect from 172.17.18.50: 11: Session closed [preauth]',\n",
       " '<30>Nov 18 12:55:07 cumulus systemd[1]: Started Cleanup of Temporary Directories.\\n',\n",
       " '<38>Nov  9 23:00:39 cumulus sshd[20045]: Invalid user user from 172.17.18.50\\n<38>Nov  9 23:00:39 cumulus sshd[20045]: input_userauth_request: invalid user user [preauth]\\n',\n",
       " '<38>Nov 18 19:59:44 cumulus sshd[31881]: Failed password for invalid user user from 172.17.31.10 port 38550 ssh2\\n',\n",
       " '<38>Nov 18 09:03:27 cumulus sshd[26307]: Failed password for cumulus from 172.17.17.100 port 53648 ssh2\\n',\n",
       " '<85>Nov 10 13:09:34 cumulus sudo:  cumulus : TTY=pts/0 ; PWD=/home/cumulus ; USER=root ; COMMAND=/usr/bin/dpkg -i ruby-dev_2.7+2_amd64.deb\\n',\n",
       " '<38>Nov 22 23:00:34 cumulus sshd[16044]: Received disconnect from 172.17.18.50: 11: Session closed [preauth]\\n',\n",
       " '<38>Nov 12 23:00:39 cumulus sshd[26650]: Received disconnect from 172.17.18.50: 11: Session closed [preauth]\\n',\n",
       " '<30>Nov 15 12:54:36 cumulus systemd[1]: Starting Cleanup of Temporary Directories...\\n',\n",
       " '<38>Nov 14 23:00:38 cumulus sshd[18038]: Failed password for invalid user user from 172.17.18.50 port 53677 ssh2\\n',\n",
       " '<38>Nov 11 23:00:37 cumulus sshd[14788]: Received disconnect from 172.17.18.50: 11: Session closed [preauth]\\n',\n",
       " \"<46>Nov  3 15:15:01 cumulus rsyslogd-2359: action 'action 1' resumed (module 'builtin:omfwd') [try http://www.rsyslog.com/e/2359 ]\",\n",
       " '<38>Nov 16 23:00:40 cumulus sshd[9338]: input_userauth_request: invalid user user [preauth]\\n',\n",
       " '<85>Nov 10 13:11:32 cumulus sudo:  cumulus : TTY=pts/0 ; PWD=/home/cumulus ; USER=root ; COMMAND=/usr/bin/apt-get install ruby2.7-dev\\n',\n",
       " '<84>Nov 15 23:00:47 cumulus sshd[29904]: pam_unix(sshd:auth): check pass; user unknown\\n',\n",
       " '<38>Nov 19 23:00:36 cumulus sshd[12828]: Failed password for invalid user user from 172.17.18.50 port 59765 ssh2\\n',\n",
       " \"<46>Nov  2 14:15:01 cumulus rsyslogd0: action 'action 1' resumed (module 'builtin:omfwd') [try http://www.rsyslog.com/e/0 ]\",\n",
       " '<38>Nov  4 22:00:38 cumulus sshd[24927]: Received disconnect from 172.17.18.50: 11: Session closed [preauth]',\n",
       " '<38>Nov 15 23:00:47 cumulus sshd[29902]: Received disconnect from 172.17.18.50: 11: Session closed [preauth]\\n',\n",
       " '<38>Nov 21 23:00:36 cumulus sshd[4178]: Received disconnect from 172.17.18.50: 11: Session closed [preauth]\\n',\n",
       " '<38>Nov  2 22:00:39 cumulus sshd[928]: Failed password for invalid user user from 172.17.18.50 port 56130 ssh2',\n",
       " '<38>Nov 14 23:00:36 cumulus sshd[18036]: Received disconnect from 172.17.18.50: 11: Session closed [preauth]\\n',\n",
       " \"<46>Nov  2 14:15:01 cumulus rsyslogd-2359: action 'action 1' resumed (module 'builtin:omfwd') [try http://www.rsyslog.com/e/2359 ]\",\n",
       " '<38>Nov 18 09:06:32 cumulus sshd[26333]: Received disconnect from 172.17.17.100: 11: disconnected by user\\n',\n",
       " '<38>Nov 15 23:00:47 cumulus sshd[29904]: input_userauth_request: invalid user user [preauth]\\n',\n",
       " '<38>Nov  3 22:00:38 cumulus sshd[12829]: Failed password for invalid user user from 172.17.18.50 port 57244 ssh2',\n",
       " '<38>Nov  5 22:00:34 cumulus sshd[4399]: Received disconnect from 172.17.18.50: 11: Session closed [preauth]',\n",
       " '<38>Nov 13 23:00:36 cumulus sshd[6107]: Failed password for invalid user user from 172.17.18.50 port 52488 ssh2\\n',\n",
       " '<30>Nov 14 12:54:34 cumulus systemd[1]: Started Cleanup of Temporary Directories.\\n',\n",
       " '<84>Nov 20 23:00:42 cumulus sshd[24678]: pam_unix(sshd:auth): check pass; user unknown\\n',\n",
       " \"<46>Nov  2 10:00:01 cumulus rsyslogd-2359: action 'action 1' resumed (module 'builtin:omfwd') [try http://www.rsyslog.com/e/2359 ]\",\n",
       " \"<46>Nov 15 15:15:01 cumulus rsyslogd-2359: action 'action 1' resumed (module 'builtin:omfwd') [try http://www.rsyslog.com/e/2359 ]\\n\",\n",
       " '<30>Nov 18 12:55:07 cumulus systemd[1]: Starting Cleanup of Temporary Directories...\\n',\n",
       " '<38>Nov 21 23:00:39 cumulus sshd[4182]: Received disconnect from 172.17.18.50: 11: Session closed [preauth]\\n',\n",
       " '<38>Nov  4 16:06:14 cumulus sshd[21817]: Received disconnect from 172.17.17.100: 11: disconnected by user',\n",
       " '<38>Nov  4 22:00:38 cumulus sshd[24927]: Failed password for invalid user user from 172.17.18.50 port 58377 ssh2',\n",
       " '<38>Nov 16 23:00:42 cumulus sshd[9338]: Failed password for invalid user user from 172.17.18.50 port 56100 ssh2\\n',\n",
       " '<38>Nov 20 23:00:44 cumulus sshd[24678]: Failed password for invalid user user from 172.17.18.50 port 61025 ssh2\\n',\n",
       " '<84>Nov  5 22:00:32 cumulus sshd[4399]: pam_unix(sshd:auth): check pass; user unknown',\n",
       " '<38>Nov 22 23:00:34 cumulus sshd[16046]: Received disconnect from 172.17.18.50: 11: Session closed [preauth]\\n',\n",
       " '<30>Nov  2 12:52:48 cumulus systemd[1]: Starting Cleanup of Temporary Directories...',\n",
       " '<13>Nov 10 13:11:29 cumulus Policy: Removed /usr/sbin/policy-rc.d\\n<13>Nov 10 13:11:29 cumulus Policy: Upgrade is finished\\n',\n",
       " \"<46>Nov  4 11:30:01 cumulus rsyslogd-2359: action 'action 1' resumed (module 'builtin:omfwd') [try http://www.rsyslog.com/e/2359 ]\",\n",
       " '<38>Nov 19 23:00:36 cumulus sshd[12828]: Received disconnect from 172.17.18.50: 11: Session closed [preauth]\\n',\n",
       " 'Nov 16 11:54:08 cumulus sudo: cumulus : TTY=pts/0 ; PWD=/home/cumulus ; USER=root ; COMMAND=/usr/bin/apt-get show python3\\n',\n",
       " '<38>Nov  9 23:00:41 cumulus sshd[20045]: Received disconnect from 172.17.18.50: 11: Session closed [preauth]\\n']"
      ]
     },
     "execution_count": 48,
     "metadata": {},
     "output_type": "execute_result"
    }
   ],
   "source": [
    "ae_diff_logs"
   ]
  },
  {
   "cell_type": "markdown",
   "id": "dbb0b228",
   "metadata": {},
   "source": [
    "### The result\n",
    "\n",
    "AE detects more anomaly messages than LOF, but some of these messages are not actually anomalies.\n",
    "\n",
    "Both LOF and AE detects the same types of anomaly messages, but AE marks all messages of such type (for example, login failed) as anomalies. In contrast, LOF detects only part of such messages"
   ]
  },
  {
   "cell_type": "markdown",
   "id": "4f4fdd19",
   "metadata": {},
   "source": [
    "## GAN"
   ]
  },
  {
   "cell_type": "markdown",
   "id": "e9327774",
   "metadata": {},
   "source": [
    "GAN works for labeled data"
   ]
  }
 ],
 "metadata": {
  "kernelspec": {
   "display_name": "Python 3",
   "language": "python",
   "name": "python3"
  },
  "language_info": {
   "codemirror_mode": {
    "name": "ipython",
    "version": 3
   },
   "file_extension": ".py",
   "mimetype": "text/x-python",
   "name": "python",
   "nbconvert_exporter": "python",
   "pygments_lexer": "ipython3",
   "version": "3.8.10"
  }
 },
 "nbformat": 4,
 "nbformat_minor": 5
}
