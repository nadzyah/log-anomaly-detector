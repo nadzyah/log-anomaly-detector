{
 "cells": [
  {
   "cell_type": "code",
   "execution_count": 211,
   "id": "d366f8f2",
   "metadata": {},
   "outputs": [],
   "source": [
    "import sys\n",
    "sys.path.append('/home/nadzya/Apps/log-anomaly-detector/')"
   ]
  },
  {
   "cell_type": "code",
   "execution_count": 212,
   "id": "3d4fe91a",
   "metadata": {},
   "outputs": [],
   "source": [
    "import pandas as pd\n",
    "import numpy as np \n",
    "\n",
    "from anomaly_detector.storage.mongodb_storage import MongoDBDataStorageSource\n",
    "from anomaly_detector.config import Configuration\n",
    "from anomaly_detector.storage.storage_attribute import MGStorageAttribute\n",
    "from anomaly_detector.model.w2v_model import W2VModel\n",
    "\n",
    "from sklearn.cluster import DBSCAN\n",
    "from sklearn.decomposition import PCA\n",
    "from gensim.models import Word2Vec\n",
    "from nltk.tokenize import word_tokenize\n",
    "import re\n",
    "import string"
   ]
  },
  {
   "cell_type": "code",
   "execution_count": 213,
   "id": "c115a8d2",
   "metadata": {},
   "outputs": [],
   "source": [
    "import logging\n",
    "\n",
    "logger = logging.getLogger()\n",
    "logger.setLevel(logging.CRITICAL)"
   ]
  },
  {
   "cell_type": "code",
   "execution_count": 214,
   "id": "d057af74",
   "metadata": {},
   "outputs": [],
   "source": [
    "def config():\n",
    "    \"\"\"Initialize configurations before testing.\"\"\"\n",
    "    cfg = Configuration()\n",
    "    cfg.MG_HOST = \"172.17.18.83\"\n",
    "    cfg.MG_PORT = 27017\n",
    "    cfg.MG_CERT_DIR = \"\"\n",
    "    cfg.MG_INPUT_DB = \"anomalydb\"\n",
    "    cfg.MG_INPUT_COL = \"utm_anomaly\"\n",
    "    cfg.HOSTNAME_INDEX = \"hostname\"\n",
    "    cfg.DATETIME_INDEX = \"timestamp\"\n",
    "    cfg.MG_USER = ''\n",
    "    cfg.MG_PASSWORD = ''\n",
    "    cfg.TRAIN_VECTOR_LENGTH = 25\n",
    "    cfg.TRAIN_WINDOW = 5\n",
    "    return cfg"
   ]
  },
  {
   "cell_type": "code",
   "execution_count": 215,
   "id": "aa6324a9",
   "metadata": {},
   "outputs": [],
   "source": [
    "cfg = config()\n",
    "mg_attr = MGStorageAttribute(2592000, 1000)"
   ]
  },
  {
   "cell_type": "code",
   "execution_count": 216,
   "id": "3aa07b56",
   "metadata": {},
   "outputs": [],
   "source": [
    "mg = MongoDBDataStorageSource(cfg)"
   ]
  },
  {
   "cell_type": "code",
   "execution_count": 217,
   "id": "efa5f4d2",
   "metadata": {
    "scrolled": true
   },
   "outputs": [],
   "source": [
    "df_logs = mg.retrieve(mg_attr)\n",
    "df = df_logs[0]\n",
    "orig_log_df = pd.DataFrame(df_logs[1])"
   ]
  },
  {
   "cell_type": "code",
   "execution_count": 218,
   "id": "2fbe4297",
   "metadata": {},
   "outputs": [
    {
     "data": {
      "text/html": [
       "<div>\n",
       "<style scoped>\n",
       "    .dataframe tbody tr th:only-of-type {\n",
       "        vertical-align: middle;\n",
       "    }\n",
       "\n",
       "    .dataframe tbody tr th {\n",
       "        vertical-align: top;\n",
       "    }\n",
       "\n",
       "    .dataframe thead th {\n",
       "        text-align: right;\n",
       "    }\n",
       "</style>\n",
       "<table border=\"1\" class=\"dataframe\">\n",
       "  <thead>\n",
       "    <tr style=\"text-align: right;\">\n",
       "      <th></th>\n",
       "      <th>message</th>\n",
       "      <th>host_ip</th>\n",
       "      <th>hostname</th>\n",
       "      <th>anomaly_score</th>\n",
       "      <th>anomaly</th>\n",
       "      <th>_id.$oid</th>\n",
       "      <th>timestamp.$date</th>\n",
       "    </tr>\n",
       "  </thead>\n",
       "  <tbody>\n",
       "    <tr>\n",
       "      <th>0</th>\n",
       "      <td>datetimedevnameSLXFGVMdevidFGVMlogidtypeevents...</td>\n",
       "      <td>172.17.31.10</td>\n",
       "      <td>172.17.31.10</td>\n",
       "      <td>0.9991423856651589</td>\n",
       "      <td>1</td>\n",
       "      <td>61a99feb9cb803c81b5bda84</td>\n",
       "      <td>1638528050248</td>\n",
       "    </tr>\n",
       "    <tr>\n",
       "      <th>1</th>\n",
       "      <td>datetimedevnameSLXFGVMdevidFGVMlogidtypeevents...</td>\n",
       "      <td>172.17.31.10</td>\n",
       "      <td>172.17.31.10</td>\n",
       "      <td>0.999608230019406</td>\n",
       "      <td>1</td>\n",
       "      <td>61a99feb9cb803c81b5bda85</td>\n",
       "      <td>1638528039227</td>\n",
       "    </tr>\n",
       "    <tr>\n",
       "      <th>2</th>\n",
       "      <td>datetimedevnameSLXFGVMdevidFGVMlogidtypeevents...</td>\n",
       "      <td>172.17.31.10</td>\n",
       "      <td>172.17.31.10</td>\n",
       "      <td>0.9993481720974164</td>\n",
       "      <td>1</td>\n",
       "      <td>61a99feb9cb803c81b5bda86</td>\n",
       "      <td>1638528028258</td>\n",
       "    </tr>\n",
       "    <tr>\n",
       "      <th>3</th>\n",
       "      <td>datetimedevnameSLXFGVMdevidFGVMlogidtypeevents...</td>\n",
       "      <td>172.17.31.10</td>\n",
       "      <td>172.17.31.10</td>\n",
       "      <td>0.9996155402061178</td>\n",
       "      <td>1</td>\n",
       "      <td>61a99feb9cb803c81b5bda87</td>\n",
       "      <td>1638528017223</td>\n",
       "    </tr>\n",
       "    <tr>\n",
       "      <th>4</th>\n",
       "      <td>datetimedevnameSLXFGVMdevidFGVMlogidtypeevents...</td>\n",
       "      <td>172.17.31.10</td>\n",
       "      <td>172.17.31.10</td>\n",
       "      <td>0.9994007642295138</td>\n",
       "      <td>1</td>\n",
       "      <td>61a99feb9cb803c81b5bda88</td>\n",
       "      <td>1638528006225</td>\n",
       "    </tr>\n",
       "    <tr>\n",
       "      <th>...</th>\n",
       "      <td>...</td>\n",
       "      <td>...</td>\n",
       "      <td>...</td>\n",
       "      <td>...</td>\n",
       "      <td>...</td>\n",
       "      <td>...</td>\n",
       "      <td>...</td>\n",
       "    </tr>\n",
       "    <tr>\n",
       "      <th>344</th>\n",
       "      <td>datetimedevnameSLXFGVMdevidFGVMlogidtypeevents...</td>\n",
       "      <td>172.17.31.10</td>\n",
       "      <td>172.17.31.10</td>\n",
       "      <td>0.9987055763863761</td>\n",
       "      <td>1</td>\n",
       "      <td>61a08f57160d61b58c7b156d</td>\n",
       "      <td>1637933975169</td>\n",
       "    </tr>\n",
       "    <tr>\n",
       "      <th>345</th>\n",
       "      <td>datetimedevnameSLXFGVMdevidFGVMlogidtypeevents...</td>\n",
       "      <td>172.17.31.10</td>\n",
       "      <td>172.17.31.10</td>\n",
       "      <td>0.9987309965766161</td>\n",
       "      <td>1</td>\n",
       "      <td>61a08f57160d61b58c7b156e</td>\n",
       "      <td>1637933972628</td>\n",
       "    </tr>\n",
       "    <tr>\n",
       "      <th>346</th>\n",
       "      <td>datetimedevnameSLXFGVMdevidFGVMlogidtypeevents...</td>\n",
       "      <td>172.17.31.10</td>\n",
       "      <td>172.17.31.10</td>\n",
       "      <td>0.9985239082124043</td>\n",
       "      <td>1</td>\n",
       "      <td>61a08f57160d61b58c7b156f</td>\n",
       "      <td>1637933962122</td>\n",
       "    </tr>\n",
       "    <tr>\n",
       "      <th>347</th>\n",
       "      <td>datetimedevnameSLXFGVMdevidFGVMlogidtypeevents...</td>\n",
       "      <td>172.17.31.10</td>\n",
       "      <td>172.17.31.10</td>\n",
       "      <td>0.9982561498428673</td>\n",
       "      <td>1</td>\n",
       "      <td>61a08ea2160d61b58c7b156b</td>\n",
       "      <td>1637933776694</td>\n",
       "    </tr>\n",
       "    <tr>\n",
       "      <th>348</th>\n",
       "      <td>datetimedevnameSLXFGVMdevidFGVMlogidtypeevents...</td>\n",
       "      <td>172.17.31.10</td>\n",
       "      <td>172.17.31.10</td>\n",
       "      <td>0.9985322274280978</td>\n",
       "      <td>1</td>\n",
       "      <td>61a08ea2160d61b58c7b156c</td>\n",
       "      <td>1637933763439</td>\n",
       "    </tr>\n",
       "  </tbody>\n",
       "</table>\n",
       "<p>349 rows × 7 columns</p>\n",
       "</div>"
      ],
      "text/plain": [
       "                                               message       host_ip  \\\n",
       "0    datetimedevnameSLXFGVMdevidFGVMlogidtypeevents...  172.17.31.10   \n",
       "1    datetimedevnameSLXFGVMdevidFGVMlogidtypeevents...  172.17.31.10   \n",
       "2    datetimedevnameSLXFGVMdevidFGVMlogidtypeevents...  172.17.31.10   \n",
       "3    datetimedevnameSLXFGVMdevidFGVMlogidtypeevents...  172.17.31.10   \n",
       "4    datetimedevnameSLXFGVMdevidFGVMlogidtypeevents...  172.17.31.10   \n",
       "..                                                 ...           ...   \n",
       "344  datetimedevnameSLXFGVMdevidFGVMlogidtypeevents...  172.17.31.10   \n",
       "345  datetimedevnameSLXFGVMdevidFGVMlogidtypeevents...  172.17.31.10   \n",
       "346  datetimedevnameSLXFGVMdevidFGVMlogidtypeevents...  172.17.31.10   \n",
       "347  datetimedevnameSLXFGVMdevidFGVMlogidtypeevents...  172.17.31.10   \n",
       "348  datetimedevnameSLXFGVMdevidFGVMlogidtypeevents...  172.17.31.10   \n",
       "\n",
       "         hostname       anomaly_score anomaly                  _id.$oid  \\\n",
       "0    172.17.31.10  0.9991423856651589       1  61a99feb9cb803c81b5bda84   \n",
       "1    172.17.31.10   0.999608230019406       1  61a99feb9cb803c81b5bda85   \n",
       "2    172.17.31.10  0.9993481720974164       1  61a99feb9cb803c81b5bda86   \n",
       "3    172.17.31.10  0.9996155402061178       1  61a99feb9cb803c81b5bda87   \n",
       "4    172.17.31.10  0.9994007642295138       1  61a99feb9cb803c81b5bda88   \n",
       "..            ...                 ...     ...                       ...   \n",
       "344  172.17.31.10  0.9987055763863761       1  61a08f57160d61b58c7b156d   \n",
       "345  172.17.31.10  0.9987309965766161       1  61a08f57160d61b58c7b156e   \n",
       "346  172.17.31.10  0.9985239082124043       1  61a08f57160d61b58c7b156f   \n",
       "347  172.17.31.10  0.9982561498428673       1  61a08ea2160d61b58c7b156b   \n",
       "348  172.17.31.10  0.9985322274280978       1  61a08ea2160d61b58c7b156c   \n",
       "\n",
       "    timestamp.$date  \n",
       "0     1638528050248  \n",
       "1     1638528039227  \n",
       "2     1638528028258  \n",
       "3     1638528017223  \n",
       "4     1638528006225  \n",
       "..              ...  \n",
       "344   1637933975169  \n",
       "345   1637933972628  \n",
       "346   1637933962122  \n",
       "347   1637933776694  \n",
       "348   1637933763439  \n",
       "\n",
       "[349 rows x 7 columns]"
      ]
     },
     "execution_count": 218,
     "metadata": {},
     "output_type": "execute_result"
    }
   ],
   "source": [
    "df"
   ]
  },
  {
   "cell_type": "code",
   "execution_count": 219,
   "id": "75918219",
   "metadata": {
    "scrolled": true
   },
   "outputs": [
    {
     "name": "stdout",
     "output_type": "stream",
     "text": [
      "15\n"
     ]
    },
    {
     "data": {
      "text/plain": [
       "{'DecUvectrastandardDETECTdetectioncategoryCOMMANDCONTROLtypeHiddenHTTPSTunnelhostnameavaskincurrentIPdvchostthreatcertaintyURLhttpsdetectionsdetailidDestinationIPDestinationDomainserankinghelpcrunchcomDestinationPortPrototcptriagedFalseBytesSentBytesRcvdUTCTimeStartUTCTimeEnd',\n",
       " 'DecUvectrastandardDETECTdetectioncategoryINFOtypeNovelExternalDestinationPorthostnamefaxsolidexminskbycurrentIPdvchostthreatcertaintyURLhttpsdetectionsdetailidDestinationIPDestinationDomainsiptelecombyDestinationPortProtoudptriagedFalseBytesSentBytesRcvdUTCTimeStartUTCTimeEnd',\n",
       " 'DecUvectrastandardDETECTdetectioncategoryRECONNAISSANCEtypeRPCTargetedReconhostnameavaskincurrentIPdvchostthreatcertaintyURLhttpsdetectionsdetailidDestinationIPDestinationDomainDestinationPortPrototriagedFalseBytesSentNoneBytesRcvdNoneUTCTimeStartUTCTimeEnd',\n",
       " 'DecUvectrastandardHOSThostcategoryHOSTSCORINGhostNameSamsungGalaxyScurrentIPdvchostthreatcertaintyprivilegescoreDecreasesFalseURLhttpshostsUTCTimesourceKeyAssetFalsedestKeyAssetFalsehostRoles',\n",
       " 'DecUvectrastandardHOSThostcategoryHOSTSCORINGhostNamematveypccurrentIPdvchostthreatcertaintyprivilegescoreDecreasesFalseURLhttpshostsUTCTimesourceKeyAssetFalsedestKeyAssetFalsehostRoles',\n",
       " 'DecUvectrastandardHOSThostcategoryHOSTSCORINGhostNamepaullptpcurrentIPdvchostthreatcertaintyprivilegescoreDecreasesFalseURLhttpshostsUTCTimesourceKeyAssetFalsedestKeyAssetTruehostRoles',\n",
       " 'DecUvectrastandardcampaignsCAMPAIGNcampaignidactionADDreasonConnectiondvcdvchostdetectionIdNonehostnameavaskincurrentIPsourceidURLhttpscampaignsdstHostviyajivositecomDestinationIPdestIDexternaltimestamp',\n",
       " 'NovUvectrastandardcampaignsCAMPAIGNcampaignidactionADDreasonConnectiondvcdvchostdetectionIdNonehostnameavaskincurrentIPsourceidURLhttpscampaignsdstHostviyajivositecomDestinationIPdestIDexternaltimestamp',\n",
       " 'datetimedevnameSLXFGVMdevidFGVMlogidtypeeventsubtypesystemlevelinformationvdrooteventtimetzlogdescDHCPAckloginterfaceportdhcpmsgAckmacADipleasehostnamedebiandevmsgDHCPserversendsaDHCPACK',\n",
       " 'datetimedevnameSLXFGVMdevidFGVMlogidtypeeventsubtypesystemlevelinformationvdrooteventtimetzlogdescDHCPstatisticsinterfaceporttotalusedmsgDHCPstatistics',\n",
       " 'datetimedevnameSLXFGVMdevidFGVMlogidtypeeventsubtypesystemlevelinformationvdrooteventtimetzlogdescOutdatedreportfilesdeletedmsgDeleteoldreportfiles',\n",
       " 'datetimedevnameSLXFGVMdevidFGVMlogidtypeeventsubtypesystemlevelnoticevdrooteventtimetzlogdescSystemperformancestatisticsactionperfstatscpumemtotalsessiondiskbandwidthsetupratedisklogratefazlogratefreediskstoragesysuptimemsgPerformancestatisticsaverageCPUmemoryconcurrentsessionssetuprate',\n",
       " 'datetimedevnameSLXFGVMdevidFGVMlogidtypetrafficsubtypeforwardlevelnoticevdrooteventtimetzsrcipsrcnamesrcportsrcintfportsrcintfrolelandstipdstnamesiptelecombydstportdstintfportdstintfrolewansessionidprotoactionacceptpolicyidpolicytypepolicypoluuidddaabeffcserviceSIPdstcountryBelarussrccountryReservedtrandispsnattransiptransportdurationsentbytercvdbytesentpktrcvdpktappcatunscannedsentdeltarcvddeltamastersrcmacccadesrcmacccadesrcserver',\n",
       " 'datetimedevnameSLXFGVMdevidFGVMlogidtypetrafficsubtypeforwardlevelwarningvdrooteventtimetzsrcipsrcnameLocalFortiGatesrcportsrcintfportsrcintfrolelandstipdstnamedstportdstintfportdstintfrolelansessionidprotoactionipconnpolicyidpolicytypepolicypoluuidcbbebdbaeeserviceHTTPdstcountryReservedsrccountryReservedappcatunscannedcrscorecractioncrlevellowsrchwvendorFortinetdevtypeRoutersrcfamilyFortiGateosnameFortiOSsrchwversionVMmastersrcmacabdsrcmacabdsrcservermasterdstmacccadstmacccadstserver',\n",
       " 'datetimedevnameSLXFGVMdevidFGVMlogidtypeutmsubtypevoipeventtypevoiplevelinformationvdrooteventtimetzsessionidepocheventidsrcipsrcportdstipdstportprotosrcintportdstintportpolicyidprofiledefaultvoipprotosipkindregisteractionpermitstatussucceededdurationdirsessionorigincallidafabaeccbfromsipsiptelecombytosipsiptelecomby'}"
      ]
     },
     "execution_count": 219,
     "metadata": {},
     "output_type": "execute_result"
    }
   ],
   "source": [
    "# Get different messages\n",
    "print(len(set(df[\"message\"])))\n",
    "set(df[\"message\"])"
   ]
  },
  {
   "cell_type": "markdown",
   "id": "e9f8ba31",
   "metadata": {},
   "source": [
    "# Word2Vec"
   ]
  },
  {
   "cell_type": "markdown",
   "id": "64c7a928",
   "metadata": {},
   "source": [
    "## LAD Word2Vec"
   ]
  },
  {
   "cell_type": "code",
   "execution_count": 220,
   "id": "61b77cb7",
   "metadata": {},
   "outputs": [
    {
     "data": {
      "text/plain": [
       "array([[ 0.        ,  0.01267824,  0.004896  , ...,  0.00672585,\n",
       "        -0.0037499 ,  0.00570934],\n",
       "       [ 0.        ,  0.01267824,  0.004896  , ..., -0.01134453,\n",
       "        -0.00685935, -0.00987832],\n",
       "       [ 0.        ,  0.01267824,  0.004896  , ..., -0.01381398,\n",
       "         0.01193529, -0.01952809],\n",
       "       ...,\n",
       "       [ 0.        , -0.02364423, -0.00011205, ...,  0.01080099,\n",
       "         0.0138407 , -0.01361845],\n",
       "       [ 0.        , -0.02364423, -0.00011205, ...,  0.00318209,\n",
       "        -0.00412208,  0.00924612],\n",
       "       [ 0.        , -0.02364423, -0.00011205, ...,  0.00267049,\n",
       "         0.01057099,  0.01799545]])"
      ]
     },
     "execution_count": 220,
     "metadata": {},
     "output_type": "execute_result"
    }
   ],
   "source": [
    "w2v = W2VModel(cfg)\n",
    "w2v.create(df, cfg.TRAIN_VECTOR_LENGTH, cfg.TRAIN_WINDOW)\n",
    "\n",
    "w2v.one_vector(df)"
   ]
  },
  {
   "cell_type": "code",
   "execution_count": 221,
   "id": "e0d9103e",
   "metadata": {},
   "outputs": [
    {
     "data": {
      "text/plain": [
       "array([ 0.        ,  0.01267824,  0.004896  , -0.0009156 ,  0.02317804,\n",
       "        0.03240282, -0.02723909,  0.0254297 ,  0.0231503 ,  0.02165456,\n",
       "       -0.02051493, -0.01668166, -0.01131846, -0.00174012,  0.02291298,\n",
       "        0.03854341, -0.00868392, -0.01619083, -0.00276302, -0.00528248,\n",
       "        0.01667681,  0.0171638 ,  0.02542208, -0.00743796, -0.01633213,\n",
       "       -0.00662678, -0.02243953,  0.0156064 ,  0.01377263,  0.00520192,\n",
       "       -0.01302635, -0.01443502,  0.02052924, -0.01755954,  0.01832593,\n",
       "        0.01892999,  0.00732696, -0.01377543, -0.01551516, -0.01854444,\n",
       "       -0.02294392,  0.00878729,  0.0113026 ,  0.01075757, -0.00265127,\n",
       "        0.00255445,  0.01875045, -0.00884338,  0.00645847,  0.00054199,\n",
       "        0.01881537, -0.02243953,  0.0156064 ,  0.01377263,  0.00520192,\n",
       "       -0.01302635, -0.01443502,  0.02052924, -0.01755954,  0.01832593,\n",
       "        0.01892999,  0.00732696, -0.01377543, -0.01551516, -0.01854444,\n",
       "       -0.02294392,  0.00878729,  0.0113026 ,  0.01075757, -0.00265127,\n",
       "        0.00255445,  0.01875045, -0.00884338,  0.00645847,  0.00054199,\n",
       "        0.01881537,  0.00273782, -0.00354421,  0.01006171,  0.0189676 ,\n",
       "       -0.01252747, -0.00801091, -0.01035976,  0.00411161, -0.00308073,\n",
       "       -0.00090125,  0.00081917,  0.004093  ,  0.00063815, -0.0153155 ,\n",
       "        0.01095771, -0.01482444, -0.01654231,  0.00472817,  0.01667155,\n",
       "        0.01080857, -0.01133725,  0.0085382 ,  0.00100212, -0.01278866,\n",
       "       -0.01798109,  0.02724115, -0.0269739 ,  0.02514844, -0.02871838,\n",
       "       -0.02758429, -0.01045788,  0.01028496,  0.0102364 ,  0.02921527,\n",
       "       -0.02095523, -0.01531347,  0.02144324, -0.01759971,  0.02568984,\n",
       "        0.01981802, -0.00661261,  0.02111991,  0.01047944,  0.02443699,\n",
       "        0.00902208,  0.02473476,  0.02018787,  0.00926301,  0.02114053,\n",
       "       -0.01314002, -0.0123033 , -0.01707317,  0.00462797, -0.0106572 ,\n",
       "        0.00024639, -0.00865601,  0.0164642 ,  0.01877577,  0.01529388,\n",
       "       -0.00358007,  0.0035076 , -0.01135932, -0.01428215, -0.01385242,\n",
       "        0.0172292 , -0.01324512, -0.01332951,  0.01138348,  0.01550927,\n",
       "        0.00697901,  0.00452607, -0.01523006, -0.01248862, -0.00401861,\n",
       "        0.01672773,  0.01646635,  0.00894137, -0.01246276, -0.01110911,\n",
       "       -0.0005224 ,  0.01640854,  0.00238183,  0.00663635, -0.01158781,\n",
       "       -0.00687643, -0.01156012, -0.0007659 , -0.00356924,  0.01253862,\n",
       "        0.00539578,  0.00157212, -0.00629962, -0.01692015,  0.0058079 ,\n",
       "       -0.00840177, -0.01380489,  0.01406606,  0.01143913, -0.0075494 ,\n",
       "        0.00509389])"
      ]
     },
     "execution_count": 221,
     "metadata": {},
     "output_type": "execute_result"
    }
   ],
   "source": [
    "vectors = w2v.one_vector(df)\n",
    "vectors[4]"
   ]
  },
  {
   "cell_type": "markdown",
   "id": "5a6047df",
   "metadata": {},
   "source": [
    "## Gensim Word2Vec"
   ]
  },
  {
   "cell_type": "code",
   "execution_count": 223,
   "id": "20656c2e",
   "metadata": {},
   "outputs": [
    {
     "ename": "IndentationError",
     "evalue": "expected an indented block (<ipython-input-223-9d5b1ee973f4>, line 16)",
     "output_type": "error",
     "traceback": [
      "\u001b[0;36m  File \u001b[0;32m\"<ipython-input-223-9d5b1ee973f4>\"\u001b[0;36m, line \u001b[0;32m16\u001b[0m\n\u001b[0;31m    vectors_gensim.append(temp)\u001b[0m\n\u001b[0m    ^\u001b[0m\n\u001b[0;31mIndentationError\u001b[0m\u001b[0;31m:\u001b[0m expected an indented block\n"
     ]
    }
   ],
   "source": [
    "words = []\n",
    "for x in orig_log_df[\"message\"]:\n",
    "    words.append(re.sub('[%s]' % re.escape('!\"#$%&\\'()*+,-/;<=>?@[\\\\]^_`{|}~'), \n",
    "                        ' ', x).replace(\" : \", \"\").split())\n",
    "word2vec_model = Word2Vec(sentences=words, size=cfg.TRAIN_VECTOR_LENGTH, window=cfg.TRAIN_WINDOW)\n",
    "#word2vec_model.train(words, total_examples=word2vec_model.corpus_count, epochs=word2vec_model.epochs)\n",
    "\n",
    "vectors_gensim = []\n",
    "for x in words:\n",
    "    temp = []\n",
    "    for word in x:\n",
    "        if word in word2vec_model.wv:\n",
    "            temp.append(word2vec_model.wv[word])\n",
    "        else:\n",
    "            \n",
    "    vectors_gensim.append(temp)"
   ]
  },
  {
   "cell_type": "markdown",
   "id": "502b8d26",
   "metadata": {},
   "source": [
    "# DBSCAN "
   ]
  },
  {
   "cell_type": "code",
   "execution_count": 224,
   "id": "9bbc717a",
   "metadata": {},
   "outputs": [
    {
     "name": "stdout",
     "output_type": "stream",
     "text": [
      "[-1]\n"
     ]
    },
    {
     "data": {
      "text/plain": [
       "array([-1, -1, -1, -1, -1, -1, -1, -1, -1, -1, -1, -1, -1, -1, -1, -1, -1,\n",
       "       -1, -1, -1, -1, -1, -1, -1, -1, -1, -1, -1, -1, -1, -1, -1, -1, -1,\n",
       "       -1, -1, -1, -1, -1, -1, -1, -1, -1, -1, -1, -1, -1, -1, -1, -1, -1,\n",
       "       -1, -1, -1, -1, -1, -1, -1, -1, -1, -1, -1, -1, -1, -1, -1, -1, -1,\n",
       "       -1, -1, -1, -1, -1, -1, -1, -1, -1, -1, -1, -1, -1, -1, -1, -1, -1,\n",
       "       -1, -1, -1, -1, -1, -1, -1, -1, -1, -1, -1, -1, -1, -1, -1, -1, -1,\n",
       "       -1, -1, -1, -1, -1, -1, -1, -1, -1, -1, -1, -1, -1, -1, -1, -1, -1,\n",
       "       -1, -1, -1, -1, -1, -1, -1, -1, -1, -1, -1, -1, -1, -1, -1, -1, -1,\n",
       "       -1, -1, -1, -1, -1, -1, -1, -1, -1, -1, -1, -1, -1, -1, -1, -1, -1,\n",
       "       -1, -1, -1, -1, -1, -1, -1, -1, -1, -1, -1, -1, -1, -1, -1, -1, -1,\n",
       "       -1, -1, -1, -1, -1, -1, -1, -1, -1, -1, -1, -1, -1, -1, -1, -1, -1,\n",
       "       -1, -1, -1, -1, -1, -1, -1, -1, -1, -1, -1, -1, -1, -1, -1, -1, -1,\n",
       "       -1, -1, -1, -1, -1, -1, -1, -1, -1, -1, -1, -1, -1, -1, -1, -1, -1,\n",
       "       -1, -1, -1, -1, -1, -1, -1, -1, -1, -1, -1, -1, -1, -1, -1, -1, -1,\n",
       "       -1, -1, -1, -1, -1, -1, -1, -1, -1, -1, -1, -1, -1, -1, -1, -1, -1,\n",
       "       -1, -1, -1, -1, -1, -1, -1, -1, -1, -1, -1, -1, -1, -1, -1, -1, -1,\n",
       "       -1, -1, -1, -1, -1, -1, -1, -1, -1, -1, -1, -1, -1, -1, -1, -1, -1,\n",
       "       -1, -1, -1, -1, -1, -1, -1, -1, -1, -1, -1, -1, -1, -1, -1, -1, -1,\n",
       "       -1, -1, -1, -1, -1, -1, -1, -1, -1, -1, -1, -1, -1, -1, -1, -1, -1,\n",
       "       -1, -1, -1, -1, -1, -1, -1, -1, -1, -1, -1, -1, -1, -1, -1, -1, -1,\n",
       "       -1, -1, -1, -1, -1, -1, -1, -1, -1])"
      ]
     },
     "execution_count": 224,
     "metadata": {},
     "output_type": "execute_result"
    }
   ],
   "source": [
    "dbscan = DBSCAN(eps=0.01, min_samples=2)\n",
    "clusters = dbscan.fit_predict(vectors)\n",
    "print(np.unique(clusters))\n",
    "clusters"
   ]
  },
  {
   "cell_type": "markdown",
   "id": "380419de",
   "metadata": {},
   "source": [
    "## With PCA"
   ]
  },
  {
   "cell_type": "code",
   "execution_count": 225,
   "id": "8789fc76",
   "metadata": {},
   "outputs": [
    {
     "name": "stdout",
     "output_type": "stream",
     "text": [
      "[-1  0  1  2  3  4]\n"
     ]
    },
    {
     "data": {
      "text/plain": [
       "array([ 0,  0,  0,  0,  0,  0,  1,  1,  1,  1,  1,  1,  1,  1,  1,  1,  1,\n",
       "        1,  1,  1,  1,  1,  0,  0,  0,  0,  0,  0,  0,  0,  0,  0,  0,  1,\n",
       "        0,  0,  0,  0,  0,  0,  0,  0,  0,  0,  0,  0,  0,  0,  0,  0,  0,\n",
       "        0,  1,  1,  1,  1,  1,  1,  1,  1,  1,  1,  1,  1,  1,  1,  2,  2,\n",
       "        1,  1,  1,  1,  1,  3,  3,  1,  3,  2,  2,  2,  2,  2,  2,  2,  2,\n",
       "        2, -1,  4,  4,  4,  4,  4,  4,  4,  4,  4,  4,  4,  4,  4,  4,  4,\n",
       "        4,  4,  4,  4,  4,  4,  4,  4,  4,  4,  4,  0,  0,  0,  0,  0,  0,\n",
       "        0,  0,  0,  0,  0,  0,  0,  0,  0,  0,  0,  0,  0,  0,  0,  0,  0,\n",
       "        0,  0,  0,  0,  0,  0,  0,  0,  0,  0,  0,  0,  0,  0,  0,  0,  0,\n",
       "        0,  0,  0,  0,  0,  0,  0,  0,  0,  0,  0,  0,  0,  0,  0,  0,  0,\n",
       "        4,  4,  4,  4,  4,  4,  4,  4,  4,  4,  4,  4,  4,  4,  4,  4,  4,\n",
       "        4,  4,  4,  4,  4,  4,  4,  4,  4,  4,  3,  3,  4,  4,  4,  4,  4,\n",
       "        4,  4,  4,  4,  4,  4,  4,  4,  4,  4,  4,  4,  4,  4,  4,  4,  4,\n",
       "        4,  4,  4,  4,  4,  4,  4,  4,  4,  4,  4,  4,  4,  4,  4,  4,  4,\n",
       "        4,  4,  4,  4,  4,  4,  4,  4,  4,  4,  4,  0,  0,  0,  0,  0,  0,\n",
       "        0,  0,  0,  0,  0,  0,  0,  0,  0,  0,  0,  0,  0,  0,  0,  0,  0,\n",
       "        0,  0,  0,  0,  0,  0,  0,  0,  0,  0,  0,  0,  0,  0,  0,  0,  0,\n",
       "        0,  0,  0,  0,  0,  0,  0,  0,  0,  4,  4,  4,  4,  4,  4,  4,  4,\n",
       "        4,  4,  4,  4,  4,  4,  4,  4,  4,  4,  4,  4,  4,  4,  4,  4,  4,\n",
       "        4,  4,  4,  4,  4,  4,  4,  4,  4,  4,  4,  4,  4,  4,  4,  4,  4,\n",
       "        4,  4,  4,  4,  4,  4,  4,  4,  4])"
      ]
     },
     "execution_count": 225,
     "metadata": {},
     "output_type": "execute_result"
    }
   ],
   "source": [
    "dbscan = DBSCAN(eps=0.01, min_samples=2)\n",
    "pca = PCA(n_components = 2, random_state = 0)\n",
    "data_2d_pca = pca.fit_transform(vectors)\n",
    "\n",
    "clusters = dbscan.fit_predict(data_2d_pca)\n",
    "print(np.unique(clusters))\n",
    "clusters"
   ]
  },
  {
   "cell_type": "code",
   "execution_count": 226,
   "id": "62735ad7",
   "metadata": {},
   "outputs": [],
   "source": [
    "df['cluster'] = clusters"
   ]
  },
  {
   "cell_type": "markdown",
   "id": "0679d124",
   "metadata": {},
   "source": [
    "# Visualization"
   ]
  },
  {
   "cell_type": "markdown",
   "id": "f0ef9687",
   "metadata": {},
   "source": [
    "## PCA"
   ]
  },
  {
   "cell_type": "code",
   "execution_count": 227,
   "id": "d1233bf6",
   "metadata": {},
   "outputs": [],
   "source": [
    "from sklearn.decomposition import PCA"
   ]
  },
  {
   "cell_type": "code",
   "execution_count": 228,
   "id": "2a94c4a2",
   "metadata": {},
   "outputs": [],
   "source": [
    "pca = PCA(n_components = 2, random_state = 0)\n",
    "data_2d_pca = pca.fit_transform(vectors)"
   ]
  },
  {
   "cell_type": "code",
   "execution_count": 229,
   "id": "726ef363",
   "metadata": {},
   "outputs": [
    {
     "name": "stdout",
     "output_type": "stream",
     "text": [
      "Populating the interactive namespace from numpy and matplotlib\n"
     ]
    }
   ],
   "source": [
    "%pylab inline"
   ]
  },
  {
   "cell_type": "code",
   "execution_count": 230,
   "id": "d3fac816",
   "metadata": {
    "scrolled": false
   },
   "outputs": [
    {
     "data": {
      "text/plain": [
       "<matplotlib.legend.Legend at 0x7fe6c7f85910>"
      ]
     },
     "execution_count": 230,
     "metadata": {},
     "output_type": "execute_result"
    },
    {
     "data": {
      "image/png": "[encoded data removed]",
      "text/plain": [
       "<Figure size 720x432 with 1 Axes>"
      ]
     },
     "metadata": {
      "needs_background": "light"
     },
     "output_type": "display_data"
    }
   ],
   "source": [
    "pylab.figure(figsize=(10, 6))\n",
    "scat = pylab.scatter(data_2d_pca[:, 0], data_2d_pca[:, 1], c=list(df[\"cluster\"]))\n",
    "pylab.legend(*scat.legend_elements(num=\"auto\"))"
   ]
  },
  {
   "cell_type": "code",
   "execution_count": 231,
   "id": "de403020",
   "metadata": {
    "scrolled": false
   },
   "outputs": [
    {
     "data": {
      "text/plain": [
       "['<190>date=2021-11-29 time=21:56:50 devname=\"SLX-FG-VM-166\" devid=\"FGVM010000010982\" logid=\"0100020027\" type=\"event\" subtype=\"system\" level=\"information\" vd=\"root\" eventtime=1638212212000307410 tz=\"+0300\" logdesc=\"Outdated report files deleted\" msg=\"Delete 3 old report files\"',\n",
       " '<190>date=2021-11-29 time=21:51:49 devname=\"SLX-FG-VM-166\" devid=\"FGVM010000010982\" logid=\"0100020027\" type=\"event\" subtype=\"system\" level=\"information\" vd=\"root\" eventtime=1638211911997278032 tz=\"+0300\" logdesc=\"Outdated report files deleted\" msg=\"Delete 3 old report files\"',\n",
       " '<190>date=2021-11-29 time=21:51:04 devname=\"SLX-FG-VM-165\" devid=\"FGVM010000010981\" logid=\"0100020027\" type=\"event\" subtype=\"system\" level=\"information\" vd=\"root\" eventtime=1638211865418869407 tz=\"+0300\" logdesc=\"Outdated report files deleted\" msg=\"Delete 13 old report files\"',\n",
       " '<190>date=2021-11-26 time=06:11:50 devname=\"SLX-FG-VM-166\" devid=\"FGVM010000010982\" logid=\"0100020027\" type=\"event\" subtype=\"system\" level=\"information\" vd=\"root\" eventtime=1637896310599479310 tz=\"+0300\" logdesc=\"Outdated report files deleted\" msg=\"Delete 6 old report files\"',\n",
       " '<190>date=2021-11-26 time=19:21:49 devname=\"SLX-FG-VM-166\" devid=\"FGVM010000010982\" logid=\"0100020027\" type=\"event\" subtype=\"system\" level=\"information\" vd=\"root\" eventtime=1637943710817661840 tz=\"+0300\" logdesc=\"Outdated report files deleted\" msg=\"Delete 3 old report files\"',\n",
       " '<190>date=2021-11-25 time=15:11:07 devname=\"SLX-FG-VM-165\" devid=\"FGVM010000010981\" logid=\"0100020027\" type=\"event\" subtype=\"system\" level=\"information\" vd=\"root\" eventtime=1637842268468895016 tz=\"+0300\" logdesc=\"Outdated report files deleted\" msg=\"Delete 2 old report files\"',\n",
       " '<190>date=2021-11-26 time=19:21:37 devname=\"SLX-FG-VM-166\" devid=\"FGVM010000010982\" logid=\"0100020027\" type=\"event\" subtype=\"system\" level=\"information\" vd=\"root\" eventtime=1637943697887889601 tz=\"+0300\" logdesc=\"Outdated report files deleted\" msg=\"Delete 36 old report files\"',\n",
       " '<190>date=2021-11-26 time=06:11:09 devname=\"SLX-FG-VM-165\" devid=\"FGVM010000010981\" logid=\"0100020027\" type=\"event\" subtype=\"system\" level=\"information\" vd=\"root\" eventtime=1637896269238674353 tz=\"+0300\" logdesc=\"Outdated report files deleted\" msg=\"Delete 2 old report files\"',\n",
       " '<190>date=2021-11-25 time=20:06:50 devname=\"SLX-FG-VM-166\" devid=\"FGVM010000010982\" logid=\"0100020027\" type=\"event\" subtype=\"system\" level=\"information\" vd=\"root\" eventtime=1637860010480015188 tz=\"+0300\" logdesc=\"Outdated report files deleted\" msg=\"Delete 3 old report files\"',\n",
       " '<190>date=2021-11-26 time=19:21:09 devname=\"SLX-FG-VM-165\" devid=\"FGVM010000010981\" logid=\"0100020027\" type=\"event\" subtype=\"system\" level=\"information\" vd=\"root\" eventtime=1637943669884845154 tz=\"+0300\" logdesc=\"Outdated report files deleted\" msg=\"Delete 1 old report files\"',\n",
       " '<190>date=2021-11-26 time=09:36:50 devname=\"SLX-FG-VM-166\" devid=\"FGVM010000010982\" logid=\"0100020027\" type=\"event\" subtype=\"system\" level=\"information\" vd=\"root\" eventtime=1637908610606036269 tz=\"+0300\" logdesc=\"Outdated report files deleted\" msg=\"Delete 5 old report files\"',\n",
       " '<190>date=2021-11-25 time=15:01:08 devname=\"SLX-FG-VM-165\" devid=\"FGVM010000010981\" logid=\"0100020027\" type=\"event\" subtype=\"system\" level=\"information\" vd=\"root\" eventtime=1637841668465874620 tz=\"+0300\" logdesc=\"Outdated report files deleted\" msg=\"Delete 3 old report files\"',\n",
       " '<190>date=2021-11-25 time=20:06:07 devname=\"SLX-FG-VM-165\" devid=\"FGVM010000010981\" logid=\"0100020027\" type=\"event\" subtype=\"system\" level=\"information\" vd=\"root\" eventtime=1637859968729731098 tz=\"+0300\" logdesc=\"Outdated report files deleted\" msg=\"Delete 1 old report files\"',\n",
       " '<190>date=2021-11-25 time=15:26:08 devname=\"SLX-FG-VM-165\" devid=\"FGVM010000010981\" logid=\"0100020027\" type=\"event\" subtype=\"system\" level=\"information\" vd=\"root\" eventtime=1637843168467508562 tz=\"+0300\" logdesc=\"Outdated report files deleted\" msg=\"Delete 1 old report files\"',\n",
       " '<190>date=2021-11-25 time=20:11:48 devname=\"SLX-FG-VM-166\" devid=\"FGVM010000010982\" logid=\"0100020027\" type=\"event\" subtype=\"system\" level=\"information\" vd=\"root\" eventtime=1637860310477052809 tz=\"+0300\" logdesc=\"Outdated report files deleted\" msg=\"Delete 5 old report files\"',\n",
       " '<190>date=2021-11-26 time=09:41:08 devname=\"SLX-FG-VM-165\" devid=\"FGVM010000010981\" logid=\"0100020027\" type=\"event\" subtype=\"system\" level=\"information\" vd=\"root\" eventtime=1637908869385965990 tz=\"+0300\" logdesc=\"Outdated report files deleted\" msg=\"Delete 1 old report files\"',\n",
       " '<190>date=2021-11-25 time=15:11:50 devname=\"SLX-FG-VM-166\" devid=\"FGVM010000010982\" logid=\"0100020027\" type=\"event\" subtype=\"system\" level=\"information\" vd=\"root\" eventtime=1637842310386997111 tz=\"+0300\" logdesc=\"Outdated report files deleted\" msg=\"Delete 8 old report files\"',\n",
       " '<190>date=2021-11-25 time=20:11:08 devname=\"SLX-FG-VM-165\" devid=\"FGVM010000010981\" logid=\"0100020027\" type=\"event\" subtype=\"system\" level=\"information\" vd=\"root\" eventtime=1637860268732418659 tz=\"+0300\" logdesc=\"Outdated report files deleted\" msg=\"Delete 2 old report files\"',\n",
       " '<190>date=2021-11-26 time=09:36:50 devname=\"SLX-FG-VM-166\" devid=\"FGVM010000010982\" logid=\"0100020027\" type=\"event\" subtype=\"system\" level=\"information\" vd=\"root\" eventtime=1637908610606036269 tz=\"+0300\" logdesc=\"Outdated report files deleted\" msg=\"Delete 5 old report files\"',\n",
       " '<190>date=2021-11-26 time=09:31:50 devname=\"SLX-FG-VM-166\" devid=\"FGVM010000010982\" logid=\"0100020027\" type=\"event\" subtype=\"system\" level=\"information\" vd=\"root\" eventtime=1637908310608708424 tz=\"+0300\" logdesc=\"Outdated report files deleted\" msg=\"Delete 5 old report files\"',\n",
       " '<190>date=2021-11-26 time=06:16:07 devname=\"SLX-FG-VM-165\" devid=\"FGVM010000010981\" logid=\"0100020027\" type=\"event\" subtype=\"system\" level=\"information\" vd=\"root\" eventtime=1637896569230730032 tz=\"+0300\" logdesc=\"Outdated report files deleted\" msg=\"Delete 1 old report files\"',\n",
       " '<190>date=2021-11-25 time=15:26:08 devname=\"SLX-FG-VM-165\" devid=\"FGVM010000010981\" logid=\"0100020027\" type=\"event\" subtype=\"system\" level=\"information\" vd=\"root\" eventtime=1637843168467508562 tz=\"+0300\" logdesc=\"Outdated report files deleted\" msg=\"Delete 1 old report files\"',\n",
       " '<190>date=2021-11-25 time=20:11:48 devname=\"SLX-FG-VM-166\" devid=\"FGVM010000010982\" logid=\"0100020027\" type=\"event\" subtype=\"system\" level=\"information\" vd=\"root\" eventtime=1637860310477052809 tz=\"+0300\" logdesc=\"Outdated report files deleted\" msg=\"Delete 5 old report files\"',\n",
       " '<190>date=2021-11-25 time=20:11:08 devname=\"SLX-FG-VM-165\" devid=\"FGVM010000010981\" logid=\"0100020027\" type=\"event\" subtype=\"system\" level=\"information\" vd=\"root\" eventtime=1637860268732418659 tz=\"+0300\" logdesc=\"Outdated report files deleted\" msg=\"Delete 2 old report files\"',\n",
       " '<190>date=2021-11-26 time=09:36:50 devname=\"SLX-FG-VM-166\" devid=\"FGVM010000010982\" logid=\"0100020027\" type=\"event\" subtype=\"system\" level=\"information\" vd=\"root\" eventtime=1637908610606036269 tz=\"+0300\" logdesc=\"Outdated report files deleted\" msg=\"Delete 5 old report files\"',\n",
       " '<190>date=2021-11-26 time=09:31:50 devname=\"SLX-FG-VM-166\" devid=\"FGVM010000010982\" logid=\"0100020027\" type=\"event\" subtype=\"system\" level=\"information\" vd=\"root\" eventtime=1637908310608708424 tz=\"+0300\" logdesc=\"Outdated report files deleted\" msg=\"Delete 5 old report files\"',\n",
       " '<190>date=2021-11-26 time=06:16:50 devname=\"SLX-FG-VM-166\" devid=\"FGVM010000010982\" logid=\"0100020027\" type=\"event\" subtype=\"system\" level=\"information\" vd=\"root\" eventtime=1637896610596323885 tz=\"+0300\" logdesc=\"Outdated report files deleted\" msg=\"Delete 2 old report files\"',\n",
       " '<190>date=2021-11-25 time=20:11:48 devname=\"SLX-FG-VM-166\" devid=\"FGVM010000010982\" logid=\"0100020027\" type=\"event\" subtype=\"system\" level=\"information\" vd=\"root\" eventtime=1637860310477052809 tz=\"+0300\" logdesc=\"Outdated report files deleted\" msg=\"Delete 5 old report files\"',\n",
       " '<190>date=2021-11-26 time=14:16:49 devname=\"SLX-FG-VM-166\" devid=\"FGVM010000010982\" logid=\"0100020027\" type=\"event\" subtype=\"system\" level=\"information\" vd=\"root\" eventtime=1637925410652382964 tz=\"+0300\" logdesc=\"Outdated report files deleted\" msg=\"Delete 3 old report files\"',\n",
       " '<190>date=2021-11-26 time=14:16:07 devname=\"SLX-FG-VM-165\" devid=\"FGVM010000010981\" logid=\"0100020027\" type=\"event\" subtype=\"system\" level=\"information\" vd=\"root\" eventtime=1637925369629596687 tz=\"+0300\" logdesc=\"Outdated report files deleted\" msg=\"Delete 1 old report files\"',\n",
       " '<190>date=2021-11-26 time=09:36:50 devname=\"SLX-FG-VM-166\" devid=\"FGVM010000010982\" logid=\"0100020027\" type=\"event\" subtype=\"system\" level=\"information\" vd=\"root\" eventtime=1637908610606036269 tz=\"+0300\" logdesc=\"Outdated report files deleted\" msg=\"Delete 5 old report files\"',\n",
       " '<190>date=2021-11-25 time=20:06:50 devname=\"SLX-FG-VM-166\" devid=\"FGVM010000010982\" logid=\"0100020027\" type=\"event\" subtype=\"system\" level=\"information\" vd=\"root\" eventtime=1637860010480015188 tz=\"+0300\" logdesc=\"Outdated report files deleted\" msg=\"Delete 3 old report files\"',\n",
       " '<190>date=2021-11-26 time=06:11:50 devname=\"SLX-FG-VM-166\" devid=\"FGVM010000010982\" logid=\"0100020027\" type=\"event\" subtype=\"system\" level=\"information\" vd=\"root\" eventtime=1637896310599479310 tz=\"+0300\" logdesc=\"Outdated report files deleted\" msg=\"Delete 6 old report files\"',\n",
       " '<190>date=2021-11-25 time=20:06:07 devname=\"SLX-FG-VM-165\" devid=\"FGVM010000010981\" logid=\"0100020027\" type=\"event\" subtype=\"system\" level=\"information\" vd=\"root\" eventtime=1637859968729731098 tz=\"+0300\" logdesc=\"Outdated report files deleted\" msg=\"Delete 1 old report files\"',\n",
       " '<190>date=2021-11-25 time=15:01:08 devname=\"SLX-FG-VM-165\" devid=\"FGVM010000010981\" logid=\"0100020027\" type=\"event\" subtype=\"system\" level=\"information\" vd=\"root\" eventtime=1637841668465874620 tz=\"+0300\" logdesc=\"Outdated report files deleted\" msg=\"Delete 3 old report files\"',\n",
       " '<190>date=2021-11-26 time=09:31:50 devname=\"SLX-FG-VM-166\" devid=\"FGVM010000010982\" logid=\"0100020027\" type=\"event\" subtype=\"system\" level=\"information\" vd=\"root\" eventtime=1637908310608708424 tz=\"+0300\" logdesc=\"Outdated report files deleted\" msg=\"Delete 5 old report files\"',\n",
       " '<190>date=2021-11-26 time=14:21:37 devname=\"SLX-FG-VM-166\" devid=\"FGVM010000010982\" logid=\"0100020027\" type=\"event\" subtype=\"system\" level=\"information\" vd=\"root\" eventtime=1637925697881931518 tz=\"+0300\" logdesc=\"Outdated report files deleted\" msg=\"Delete 12 old report files\"',\n",
       " '<190>date=2021-11-26 time=14:21:36 devname=\"SLX-FG-VM-166\" devid=\"FGVM010000010982\" logid=\"0100020027\" type=\"event\" subtype=\"system\" level=\"information\" vd=\"root\" eventtime=1637925697881272608 tz=\"+0300\" logdesc=\"Outdated report files deleted\" msg=\"Delete 38 old report files\"',\n",
       " '<190>date=2021-11-26 time=14:21:07 devname=\"SLX-FG-VM-165\" devid=\"FGVM010000010981\" logid=\"0100020027\" type=\"event\" subtype=\"system\" level=\"information\" vd=\"root\" eventtime=1637925669633465073 tz=\"+0300\" logdesc=\"Outdated report files deleted\" msg=\"Delete 2 old report files\"',\n",
       " '<190>date=2021-11-25 time=15:26:08 devname=\"SLX-FG-VM-165\" devid=\"FGVM010000010981\" logid=\"0100020027\" type=\"event\" subtype=\"system\" level=\"information\" vd=\"root\" eventtime=1637843168467508562 tz=\"+0300\" logdesc=\"Outdated report files deleted\" msg=\"Delete 1 old report files\"',\n",
       " '<190>date=2021-11-25 time=20:06:50 devname=\"SLX-FG-VM-166\" devid=\"FGVM010000010982\" logid=\"0100020027\" type=\"event\" subtype=\"system\" level=\"information\" vd=\"root\" eventtime=1637860010480015188 tz=\"+0300\" logdesc=\"Outdated report files deleted\" msg=\"Delete 3 old report files\"',\n",
       " '<190>date=2021-11-26 time=14:16:49 devname=\"SLX-FG-VM-166\" devid=\"FGVM010000010982\" logid=\"0100020027\" type=\"event\" subtype=\"system\" level=\"information\" vd=\"root\" eventtime=1637925410652382964 tz=\"+0300\" logdesc=\"Outdated report files deleted\" msg=\"Delete 3 old report files\"',\n",
       " '<190>date=2021-11-26 time=06:11:50 devname=\"SLX-FG-VM-166\" devid=\"FGVM010000010982\" logid=\"0100020027\" type=\"event\" subtype=\"system\" level=\"information\" vd=\"root\" eventtime=1637896310599479310 tz=\"+0300\" logdesc=\"Outdated report files deleted\" msg=\"Delete 6 old report files\"',\n",
       " '<190>date=2021-11-26 time=14:16:07 devname=\"SLX-FG-VM-165\" devid=\"FGVM010000010981\" logid=\"0100020027\" type=\"event\" subtype=\"system\" level=\"information\" vd=\"root\" eventtime=1637925369629596687 tz=\"+0300\" logdesc=\"Outdated report files deleted\" msg=\"Delete 1 old report files\"',\n",
       " '<190>date=2021-11-25 time=13:11:49 devname=\"SLX-FG-VM-166\" devid=\"FGVM010000010982\" logid=\"0100020027\" type=\"event\" subtype=\"system\" level=\"information\" vd=\"root\" eventtime=1637835110333309825 tz=\"+0300\" logdesc=\"Outdated report files deleted\" msg=\"Delete 5 old report files\"',\n",
       " '<190>date=2021-11-26 time=06:11:09 devname=\"SLX-FG-VM-165\" devid=\"FGVM010000010981\" logid=\"0100020027\" type=\"event\" subtype=\"system\" level=\"information\" vd=\"root\" eventtime=1637896269238674353 tz=\"+0300\" logdesc=\"Outdated report files deleted\" msg=\"Delete 2 old report files\"',\n",
       " '<190>date=2021-11-26 time=09:36:50 devname=\"SLX-FG-VM-166\" devid=\"FGVM010000010982\" logid=\"0100020027\" type=\"event\" subtype=\"system\" level=\"information\" vd=\"root\" eventtime=1637908610606036269 tz=\"+0300\" logdesc=\"Outdated report files deleted\" msg=\"Delete 5 old report files\"',\n",
       " '<190>date=2021-11-26 time=15:31:50 devname=\"SLX-FG-VM-166\" devid=\"FGVM010000010982\" logid=\"0100020027\" type=\"event\" subtype=\"system\" level=\"information\" vd=\"root\" eventtime=1637929910695515820 tz=\"+0300\" logdesc=\"Outdated report files deleted\" msg=\"Delete 5 old report files\"',\n",
       " '<190>date=2021-11-26 time=14:16:49 devname=\"SLX-FG-VM-166\" devid=\"FGVM010000010982\" logid=\"0100020027\" type=\"event\" subtype=\"system\" level=\"information\" vd=\"root\" eventtime=1637925410652382964 tz=\"+0300\" logdesc=\"Outdated report files deleted\" msg=\"Delete 3 old report files\"',\n",
       " '<190>date=2021-11-26 time=09:31:50 devname=\"SLX-FG-VM-166\" devid=\"FGVM010000010982\" logid=\"0100020027\" type=\"event\" subtype=\"system\" level=\"information\" vd=\"root\" eventtime=1637908310608708424 tz=\"+0300\" logdesc=\"Outdated report files deleted\" msg=\"Delete 5 old report files\"',\n",
       " '<190>date=2021-11-25 time=16:01:49 devname=\"SLX-FG-VM-166\" devid=\"FGVM010000010982\" logid=\"0100020027\" type=\"event\" subtype=\"system\" level=\"information\" vd=\"root\" eventtime=1637845310399417055 tz=\"+0300\" logdesc=\"Outdated report files deleted\" msg=\"Delete 3 old report files\"',\n",
       " '<190>date=2021-11-25 time=15:01:08 devname=\"SLX-FG-VM-165\" devid=\"FGVM010000010981\" logid=\"0100020027\" type=\"event\" subtype=\"system\" level=\"information\" vd=\"root\" eventtime=1637841668465874620 tz=\"+0300\" logdesc=\"Outdated report files deleted\" msg=\"Delete 3 old report files\"',\n",
       " '<190>date=2021-11-25 time=20:06:07 devname=\"SLX-FG-VM-165\" devid=\"FGVM010000010981\" logid=\"0100020027\" type=\"event\" subtype=\"system\" level=\"information\" vd=\"root\" eventtime=1637859968729731098 tz=\"+0300\" logdesc=\"Outdated report files deleted\" msg=\"Delete 1 old report files\"',\n",
       " '<190>date=2021-11-25 time=13:11:49 devname=\"SLX-FG-VM-166\" devid=\"FGVM010000010982\" logid=\"0100020027\" type=\"event\" subtype=\"system\" level=\"information\" vd=\"root\" eventtime=1637835110333309825 tz=\"+0300\" logdesc=\"Outdated report files deleted\" msg=\"Delete 5 old report files\"',\n",
       " '<190>date=2021-11-26 time=08:36:50 devname=\"SLX-FG-VM-166\" devid=\"FGVM010000010982\" logid=\"0100020027\" type=\"event\" subtype=\"system\" level=\"information\" vd=\"root\" eventtime=1637905010607575250 tz=\"+0300\" logdesc=\"Outdated report files deleted\" msg=\"Delete 4 old report files\"',\n",
       " '<190>date=2021-11-26 time=05:31:48 devname=\"SLX-FG-VM-166\" devid=\"FGVM010000010982\" logid=\"0100020027\" type=\"event\" subtype=\"system\" level=\"information\" vd=\"root\" eventtime=1637893910587959786 tz=\"+0300\" logdesc=\"Outdated report files deleted\" msg=\"Delete 4 old report files\"',\n",
       " '<190>date=2021-11-26 time=06:11:09 devname=\"SLX-FG-VM-165\" devid=\"FGVM010000010981\" logid=\"0100020027\" type=\"event\" subtype=\"system\" level=\"information\" vd=\"root\" eventtime=1637896269238674353 tz=\"+0300\" logdesc=\"Outdated report files deleted\" msg=\"Delete 2 old report files\"',\n",
       " '<190>date=2021-11-25 time=20:11:48 devname=\"SLX-FG-VM-166\" devid=\"FGVM010000010982\" logid=\"0100020027\" type=\"event\" subtype=\"system\" level=\"information\" vd=\"root\" eventtime=1637860310477052809 tz=\"+0300\" logdesc=\"Outdated report files deleted\" msg=\"Delete 5 old report files\"',\n",
       " '<190>date=2021-11-26 time=09:31:50 devname=\"SLX-FG-VM-166\" devid=\"FGVM010000010982\" logid=\"0100020027\" type=\"event\" subtype=\"system\" level=\"information\" vd=\"root\" eventtime=1637908310608708424 tz=\"+0300\" logdesc=\"Outdated report files deleted\" msg=\"Delete 5 old report files\"',\n",
       " '<190>date=2021-11-26 time=08:36:08 devname=\"SLX-FG-VM-165\" devid=\"FGVM010000010981\" logid=\"0100020027\" type=\"event\" subtype=\"system\" level=\"information\" vd=\"root\" eventtime=1637904969344093097 tz=\"+0300\" logdesc=\"Outdated report files deleted\" msg=\"Delete 1 old report files\"',\n",
       " '<190>date=2021-11-26 time=05:31:09 devname=\"SLX-FG-VM-165\" devid=\"FGVM010000010981\" logid=\"0100020027\" type=\"event\" subtype=\"system\" level=\"information\" vd=\"root\" eventtime=1637893869194615354 tz=\"+0300\" logdesc=\"Outdated report files deleted\" msg=\"Delete 1 old report files\"',\n",
       " '<190>date=2021-11-25 time=20:11:08 devname=\"SLX-FG-VM-165\" devid=\"FGVM010000010981\" logid=\"0100020027\" type=\"event\" subtype=\"system\" level=\"information\" vd=\"root\" eventtime=1637860268732418659 tz=\"+0300\" logdesc=\"Outdated report files deleted\" msg=\"Delete 2 old report files\"',\n",
       " '<190>date=2021-11-25 time=15:01:08 devname=\"SLX-FG-VM-165\" devid=\"FGVM010000010981\" logid=\"0100020027\" type=\"event\" subtype=\"system\" level=\"information\" vd=\"root\" eventtime=1637841668465874620 tz=\"+0300\" logdesc=\"Outdated report files deleted\" msg=\"Delete 3 old report files\"',\n",
       " '<190>date=2021-11-25 time=15:11:50 devname=\"SLX-FG-VM-166\" devid=\"FGVM010000010982\" logid=\"0100020027\" type=\"event\" subtype=\"system\" level=\"information\" vd=\"root\" eventtime=1637842310386997111 tz=\"+0300\" logdesc=\"Outdated report files deleted\" msg=\"Delete 8 old report files\"',\n",
       " '<190>date=2021-11-25 time=15:26:08 devname=\"SLX-FG-VM-165\" devid=\"FGVM010000010981\" logid=\"0100020027\" type=\"event\" subtype=\"system\" level=\"information\" vd=\"root\" eventtime=1637843168467508562 tz=\"+0300\" logdesc=\"Outdated report files deleted\" msg=\"Delete 1 old report files\"',\n",
       " '<190>date=2021-11-25 time=16:01:49 devname=\"SLX-FG-VM-166\" devid=\"FGVM010000010982\" logid=\"0100020027\" type=\"event\" subtype=\"system\" level=\"information\" vd=\"root\" eventtime=1637845310399417055 tz=\"+0300\" logdesc=\"Outdated report files deleted\" msg=\"Delete 3 old report files\"',\n",
       " '<190>date=2021-11-25 time=20:06:50 devname=\"SLX-FG-VM-166\" devid=\"FGVM010000010982\" logid=\"0100020027\" type=\"event\" subtype=\"system\" level=\"information\" vd=\"root\" eventtime=1637860010480015188 tz=\"+0300\" logdesc=\"Outdated report files deleted\" msg=\"Delete 3 old report files\"',\n",
       " '<190>date=2021-11-25 time=20:06:07 devname=\"SLX-FG-VM-165\" devid=\"FGVM010000010981\" logid=\"0100020027\" type=\"event\" subtype=\"system\" level=\"information\" vd=\"root\" eventtime=1637859968729731098 tz=\"+0300\" logdesc=\"Outdated report files deleted\" msg=\"Delete 1 old report files\"',\n",
       " '<190>date=2021-11-26 time=08:31:07 devname=\"SLX-FG-VM-165\" devid=\"FGVM010000010981\" logid=\"0100020027\" type=\"event\" subtype=\"system\" level=\"information\" vd=\"root\" eventtime=1637904669345437162 tz=\"+0300\" logdesc=\"Outdated report files deleted\" msg=\"Delete 1 old report files\"',\n",
       " '<190>date=2021-11-25 time=15:11:07 devname=\"SLX-FG-VM-165\" devid=\"FGVM010000010981\" logid=\"0100020027\" type=\"event\" subtype=\"system\" level=\"information\" vd=\"root\" eventtime=1637842268468895016 tz=\"+0300\" logdesc=\"Outdated report files deleted\" msg=\"Delete 2 old report files\"',\n",
       " '<190>date=2021-11-26 time=04:01:49 devname=\"SLX-FG-VM-166\" devid=\"FGVM010000010982\" logid=\"0100020027\" type=\"event\" subtype=\"system\" level=\"information\" vd=\"root\" eventtime=1637888510564976020 tz=\"+0300\" logdesc=\"Outdated report files deleted\" msg=\"Delete 4 old report files\"',\n",
       " '<190>date=2021-11-26 time=04:01:08 devname=\"SLX-FG-VM-165\" devid=\"FGVM010000010981\" logid=\"0100020027\" type=\"event\" subtype=\"system\" level=\"information\" vd=\"root\" eventtime=1637888469150214778 tz=\"+0300\" logdesc=\"Outdated report files deleted\" msg=\"Delete 2 old report files\"',\n",
       " '<190>date=2021-11-26 time=12:56:08 devname=\"SLX-FG-VM-165\" devid=\"FGVM010000010981\" logid=\"0100020027\" type=\"event\" subtype=\"system\" level=\"information\" vd=\"root\" eventtime=1637920569554128621 tz=\"+0300\" logdesc=\"Outdated report files deleted\" msg=\"Delete 1 old report files\"',\n",
       " '<190>date=2021-11-26 time=12:56:49 devname=\"SLX-FG-VM-166\" devid=\"FGVM010000010982\" logid=\"0100020027\" type=\"event\" subtype=\"system\" level=\"information\" vd=\"root\" eventtime=1637920610636597679 tz=\"+0300\" logdesc=\"Outdated report files deleted\" msg=\"Delete 5 old report files\"',\n",
       " '<190>date=2021-11-25 time=16:01:49 devname=\"SLX-FG-VM-166\" devid=\"FGVM010000010982\" logid=\"0100020027\" type=\"event\" subtype=\"system\" level=\"information\" vd=\"root\" eventtime=1637845310399417055 tz=\"+0300\" logdesc=\"Outdated report files deleted\" msg=\"Delete 3 old report files\"',\n",
       " '<190>date=2021-11-26 time=05:31:48 devname=\"SLX-FG-VM-166\" devid=\"FGVM010000010982\" logid=\"0100020027\" type=\"event\" subtype=\"system\" level=\"information\" vd=\"root\" eventtime=1637893910587959786 tz=\"+0300\" logdesc=\"Outdated report files deleted\" msg=\"Delete 4 old report files\"',\n",
       " '<190>date=2021-11-25 time=13:11:49 devname=\"SLX-FG-VM-166\" devid=\"FGVM010000010982\" logid=\"0100020027\" type=\"event\" subtype=\"system\" level=\"information\" vd=\"root\" eventtime=1637835110333309825 tz=\"+0300\" logdesc=\"Outdated report files deleted\" msg=\"Delete 5 old report files\"',\n",
       " '<190>date=2021-11-26 time=05:31:09 devname=\"SLX-FG-VM-165\" devid=\"FGVM010000010981\" logid=\"0100020027\" type=\"event\" subtype=\"system\" level=\"information\" vd=\"root\" eventtime=1637893869194615354 tz=\"+0300\" logdesc=\"Outdated report files deleted\" msg=\"Delete 1 old report files\"',\n",
       " '<190>date=2021-11-25 time=15:11:07 devname=\"SLX-FG-VM-165\" devid=\"FGVM010000010981\" logid=\"0100020027\" type=\"event\" subtype=\"system\" level=\"information\" vd=\"root\" eventtime=1637842268468895016 tz=\"+0300\" logdesc=\"Outdated report files deleted\" msg=\"Delete 2 old report files\"',\n",
       " '<190>date=2021-11-25 time=20:06:07 devname=\"SLX-FG-VM-165\" devid=\"FGVM010000010981\" logid=\"0100020027\" type=\"event\" subtype=\"system\" level=\"information\" vd=\"root\" eventtime=1637859968729731098 tz=\"+0300\" logdesc=\"Outdated report files deleted\" msg=\"Delete 1 old report files\"',\n",
       " '<190>date=2021-11-26 time=09:36:50 devname=\"SLX-FG-VM-166\" devid=\"FGVM010000010982\" logid=\"0100020027\" type=\"event\" subtype=\"system\" level=\"information\" vd=\"root\" eventtime=1637908610606036269 tz=\"+0300\" logdesc=\"Outdated report files deleted\" msg=\"Delete 5 old report files\"',\n",
       " '<190>date=2021-11-25 time=14:46:49 devname=\"SLX-FG-VM-166\" devid=\"FGVM010000010982\" logid=\"0100020027\" type=\"event\" subtype=\"system\" level=\"information\" vd=\"root\" eventtime=1637840810366009130 tz=\"+0300\" logdesc=\"Outdated report files deleted\" msg=\"Delete 6 old report files\"',\n",
       " '<190>date=2021-11-26 time=08:31:07 devname=\"SLX-FG-VM-165\" devid=\"FGVM010000010981\" logid=\"0100020027\" type=\"event\" subtype=\"system\" level=\"information\" vd=\"root\" eventtime=1637904669345437162 tz=\"+0300\" logdesc=\"Outdated report files deleted\" msg=\"Delete 1 old report files\"',\n",
       " '<190>date=2021-11-26 time=06:11:50 devname=\"SLX-FG-VM-166\" devid=\"FGVM010000010982\" logid=\"0100020027\" type=\"event\" subtype=\"system\" level=\"information\" vd=\"root\" eventtime=1637896310599479310 tz=\"+0300\" logdesc=\"Outdated report files deleted\" msg=\"Delete 6 old report files\"',\n",
       " '<190>date=2021-11-26 time=04:01:49 devname=\"SLX-FG-VM-166\" devid=\"FGVM010000010982\" logid=\"0100020027\" type=\"event\" subtype=\"system\" level=\"information\" vd=\"root\" eventtime=1637888510564976020 tz=\"+0300\" logdesc=\"Outdated report files deleted\" msg=\"Delete 4 old report files\"',\n",
       " '<190>date=2021-11-26 time=05:31:09 devname=\"SLX-FG-VM-165\" devid=\"FGVM010000010981\" logid=\"0100020027\" type=\"event\" subtype=\"system\" level=\"information\" vd=\"root\" eventtime=1637893869194615354 tz=\"+0300\" logdesc=\"Outdated report files deleted\" msg=\"Delete 1 old report files\"',\n",
       " '<190>date=2021-11-26 time=09:31:50 devname=\"SLX-FG-VM-166\" devid=\"FGVM010000010982\" logid=\"0100020027\" type=\"event\" subtype=\"system\" level=\"information\" vd=\"root\" eventtime=1637908310608708424 tz=\"+0300\" logdesc=\"Outdated report files deleted\" msg=\"Delete 5 old report files\"',\n",
       " '<190>date=2021-11-26 time=06:11:09 devname=\"SLX-FG-VM-165\" devid=\"FGVM010000010981\" logid=\"0100020027\" type=\"event\" subtype=\"system\" level=\"information\" vd=\"root\" eventtime=1637896269238674353 tz=\"+0300\" logdesc=\"Outdated report files deleted\" msg=\"Delete 2 old report files\"',\n",
       " '<190>date=2021-11-26 time=04:01:08 devname=\"SLX-FG-VM-165\" devid=\"FGVM010000010981\" logid=\"0100020027\" type=\"event\" subtype=\"system\" level=\"information\" vd=\"root\" eventtime=1637888469150214778 tz=\"+0300\" logdesc=\"Outdated report files deleted\" msg=\"Delete 2 old report files\"',\n",
       " '<190>date=2021-11-25 time=15:01:08 devname=\"SLX-FG-VM-165\" devid=\"FGVM010000010981\" logid=\"0100020027\" type=\"event\" subtype=\"system\" level=\"information\" vd=\"root\" eventtime=1637841668465874620 tz=\"+0300\" logdesc=\"Outdated report files deleted\" msg=\"Delete 3 old report files\"',\n",
       " '<190>date=2021-11-25 time=15:26:08 devname=\"SLX-FG-VM-165\" devid=\"FGVM010000010981\" logid=\"0100020027\" type=\"event\" subtype=\"system\" level=\"information\" vd=\"root\" eventtime=1637843168467508562 tz=\"+0300\" logdesc=\"Outdated report files deleted\" msg=\"Delete 1 old report files\"',\n",
       " '<190>date=2021-11-25 time=15:11:50 devname=\"SLX-FG-VM-166\" devid=\"FGVM010000010982\" logid=\"0100020027\" type=\"event\" subtype=\"system\" level=\"information\" vd=\"root\" eventtime=1637842310386997111 tz=\"+0300\" logdesc=\"Outdated report files deleted\" msg=\"Delete 8 old report files\"',\n",
       " '<190>date=2021-11-26 time=04:06:08 devname=\"SLX-FG-VM-165\" devid=\"FGVM010000010981\" logid=\"0100020027\" type=\"event\" subtype=\"system\" level=\"information\" vd=\"root\" eventtime=1637888769143391060 tz=\"+0300\" logdesc=\"Outdated report files deleted\" msg=\"Delete 1 old report files\"',\n",
       " '<190>date=2021-11-26 time=06:16:07 devname=\"SLX-FG-VM-165\" devid=\"FGVM010000010981\" logid=\"0100020027\" type=\"event\" subtype=\"system\" level=\"information\" vd=\"root\" eventtime=1637896569230730032 tz=\"+0300\" logdesc=\"Outdated report files deleted\" msg=\"Delete 1 old report files\"',\n",
       " '<190>date=2021-11-26 time=12:51:49 devname=\"SLX-FG-VM-166\" devid=\"FGVM010000010982\" logid=\"0100020027\" type=\"event\" subtype=\"system\" level=\"information\" vd=\"root\" eventtime=1637920310633666937 tz=\"+0300\" logdesc=\"Outdated report files deleted\" msg=\"Delete 5 old report files\"',\n",
       " '<190>date=2021-11-25 time=16:01:49 devname=\"SLX-FG-VM-166\" devid=\"FGVM010000010982\" logid=\"0100020027\" type=\"event\" subtype=\"system\" level=\"information\" vd=\"root\" eventtime=1637845310399417055 tz=\"+0300\" logdesc=\"Outdated report files deleted\" msg=\"Delete 3 old report files\"',\n",
       " '<190>date=2021-11-25 time=13:11:49 devname=\"SLX-FG-VM-166\" devid=\"FGVM010000010982\" logid=\"0100020027\" type=\"event\" subtype=\"system\" level=\"information\" vd=\"root\" eventtime=1637835110333309825 tz=\"+0300\" logdesc=\"Outdated report files deleted\" msg=\"Delete 5 old report files\"',\n",
       " '<190>date=2021-11-26 time=12:51:08 devname=\"SLX-FG-VM-165\" devid=\"FGVM010000010981\" logid=\"0100020027\" type=\"event\" subtype=\"system\" level=\"information\" vd=\"root\" eventtime=1637920269549566832 tz=\"+0300\" logdesc=\"Outdated report files deleted\" msg=\"Delete 1 old report files\"',\n",
       " '<190>date=2021-11-25 time=14:46:49 devname=\"SLX-FG-VM-166\" devid=\"FGVM010000010982\" logid=\"0100020027\" type=\"event\" subtype=\"system\" level=\"information\" vd=\"root\" eventtime=1637840810366009130 tz=\"+0300\" logdesc=\"Outdated report files deleted\" msg=\"Delete 6 old report files\"',\n",
       " '<190>date=2021-11-26 time=12:51:01 devname=\"SLX-FG-VM-165\" devid=\"FGVM010000010981\" logid=\"0100020027\" type=\"event\" subtype=\"system\" level=\"information\" vd=\"root\" eventtime=1637920261692538269 tz=\"+0300\" logdesc=\"Outdated report files deleted\" msg=\"Delete 12 old report files\"',\n",
       " '<190>date=2021-11-26 time=12:51:01 devname=\"SLX-FG-VM-165\" devid=\"FGVM010000010981\" logid=\"0100020027\" type=\"event\" subtype=\"system\" level=\"information\" vd=\"root\" eventtime=1637920261691229286 tz=\"+0300\" logdesc=\"Outdated report files deleted\" msg=\"Delete 16 old report files\"',\n",
       " '<190>date=2021-11-26 time=08:36:50 devname=\"SLX-FG-VM-166\" devid=\"FGVM010000010982\" logid=\"0100020027\" type=\"event\" subtype=\"system\" level=\"information\" vd=\"root\" eventtime=1637905010607575250 tz=\"+0300\" logdesc=\"Outdated report files deleted\" msg=\"Delete 4 old report files\"',\n",
       " '<190>date=2021-11-25 time=15:11:07 devname=\"SLX-FG-VM-165\" devid=\"FGVM010000010981\" logid=\"0100020027\" type=\"event\" subtype=\"system\" level=\"information\" vd=\"root\" eventtime=1637842268468895016 tz=\"+0300\" logdesc=\"Outdated report files deleted\" msg=\"Delete 2 old report files\"',\n",
       " '<190>date=2021-11-25 time=15:11:50 devname=\"SLX-FG-VM-166\" devid=\"FGVM010000010982\" logid=\"0100020027\" type=\"event\" subtype=\"system\" level=\"information\" vd=\"root\" eventtime=1637842310386997111 tz=\"+0300\" logdesc=\"Outdated report files deleted\" msg=\"Delete 8 old report files\"',\n",
       " '<190>date=2021-11-25 time=13:11:49 devname=\"SLX-FG-VM-166\" devid=\"FGVM010000010982\" logid=\"0100020027\" type=\"event\" subtype=\"system\" level=\"information\" vd=\"root\" eventtime=1637835110333309825 tz=\"+0300\" logdesc=\"Outdated report files deleted\" msg=\"Delete 5 old report files\"',\n",
       " '<190>date=2021-11-26 time=11:16:50 devname=\"SLX-FG-VM-166\" devid=\"FGVM010000010982\" logid=\"0100020027\" type=\"event\" subtype=\"system\" level=\"information\" vd=\"root\" eventtime=1637914610612551125 tz=\"+0300\" logdesc=\"Outdated report files deleted\" msg=\"Delete 2 old report files\"',\n",
       " '<190>date=2021-11-26 time=09:06:09 devname=\"SLX-FG-VM-165\" devid=\"FGVM010000010981\" logid=\"0100020027\" type=\"event\" subtype=\"system\" level=\"information\" vd=\"root\" eventtime=1637906769377808075 tz=\"+0300\" logdesc=\"Outdated report files deleted\" msg=\"Delete 1 old report files\"',\n",
       " '<190>date=2021-11-25 time=14:46:49 devname=\"SLX-FG-VM-166\" devid=\"FGVM010000010982\" logid=\"0100020027\" type=\"event\" subtype=\"system\" level=\"information\" vd=\"root\" eventtime=1637840810366009130 tz=\"+0300\" logdesc=\"Outdated report files deleted\" msg=\"Delete 6 old report files\"',\n",
       " '<190>date=2021-11-26 time=08:11:49 devname=\"SLX-FG-VM-166\" devid=\"FGVM010000010982\" logid=\"0100020027\" type=\"event\" subtype=\"system\" level=\"information\" vd=\"root\" eventtime=1637903510598883291 tz=\"+0300\" logdesc=\"Outdated report files deleted\" msg=\"Delete 5 old report files\"',\n",
       " '<190>date=2021-11-25 time=20:06:50 devname=\"SLX-FG-VM-166\" devid=\"FGVM010000010982\" logid=\"0100020027\" type=\"event\" subtype=\"system\" level=\"information\" vd=\"root\" eventtime=1637860010480015188 tz=\"+0300\" logdesc=\"Outdated report files deleted\" msg=\"Delete 3 old report files\"',\n",
       " '<190>date=2021-11-26 time=04:01:49 devname=\"SLX-FG-VM-166\" devid=\"FGVM010000010982\" logid=\"0100020027\" type=\"event\" subtype=\"system\" level=\"information\" vd=\"root\" eventtime=1637888510564976020 tz=\"+0300\" logdesc=\"Outdated report files deleted\" msg=\"Delete 4 old report files\"',\n",
       " '<190>date=2021-11-25 time=15:11:07 devname=\"SLX-FG-VM-165\" devid=\"FGVM010000010981\" logid=\"0100020027\" type=\"event\" subtype=\"system\" level=\"information\" vd=\"root\" eventtime=1637842268468895016 tz=\"+0300\" logdesc=\"Outdated report files deleted\" msg=\"Delete 2 old report files\"',\n",
       " '<190>date=2021-11-25 time=15:26:08 devname=\"SLX-FG-VM-165\" devid=\"FGVM010000010981\" logid=\"0100020027\" type=\"event\" subtype=\"system\" level=\"information\" vd=\"root\" eventtime=1637843168467508562 tz=\"+0300\" logdesc=\"Outdated report files deleted\" msg=\"Delete 1 old report files\"',\n",
       " '<190>date=2021-11-26 time=06:16:50 devname=\"SLX-FG-VM-166\" devid=\"FGVM010000010982\" logid=\"0100020027\" type=\"event\" subtype=\"system\" level=\"information\" vd=\"root\" eventtime=1637896610596323885 tz=\"+0300\" logdesc=\"Outdated report files deleted\" msg=\"Delete 2 old report files\"',\n",
       " '<190>date=2021-11-26 time=04:01:08 devname=\"SLX-FG-VM-165\" devid=\"FGVM010000010981\" logid=\"0100020027\" type=\"event\" subtype=\"system\" level=\"information\" vd=\"root\" eventtime=1637888469150214778 tz=\"+0300\" logdesc=\"Outdated report files deleted\" msg=\"Delete 2 old report files\"',\n",
       " '<190>date=2021-11-26 time=09:41:08 devname=\"SLX-FG-VM-165\" devid=\"FGVM010000010981\" logid=\"0100020027\" type=\"event\" subtype=\"system\" level=\"information\" vd=\"root\" eventtime=1637908869385965990 tz=\"+0300\" logdesc=\"Outdated report files deleted\" msg=\"Delete 1 old report files\"',\n",
       " '<190>date=2021-11-26 time=05:36:09 devname=\"SLX-FG-VM-165\" devid=\"FGVM010000010981\" logid=\"0100020027\" type=\"event\" subtype=\"system\" level=\"information\" vd=\"root\" eventtime=1637894169192562897 tz=\"+0300\" logdesc=\"Outdated report files deleted\" msg=\"Delete 2 old report files\"',\n",
       " '<190>date=2021-11-26 time=11:06:50 devname=\"SLX-FG-VM-166\" devid=\"FGVM010000010982\" logid=\"0100020027\" type=\"event\" subtype=\"system\" level=\"information\" vd=\"root\" eventtime=1637914010615925303 tz=\"+0300\" logdesc=\"Outdated report files deleted\" msg=\"Delete 4 old report files\"',\n",
       " '<190>date=2021-11-25 time=15:01:08 devname=\"SLX-FG-VM-165\" devid=\"FGVM010000010981\" logid=\"0100020027\" type=\"event\" subtype=\"system\" level=\"information\" vd=\"root\" eventtime=1637841668465874620 tz=\"+0300\" logdesc=\"Outdated report files deleted\" msg=\"Delete 3 old report files\"',\n",
       " '<190>date=2021-11-26 time=11:06:08 devname=\"SLX-FG-VM-165\" devid=\"FGVM010000010981\" logid=\"0100020027\" type=\"event\" subtype=\"system\" level=\"information\" vd=\"root\" eventtime=1637913969487758605 tz=\"+0300\" logdesc=\"Outdated report files deleted\" msg=\"Delete 1 old report files\"',\n",
       " '<190>date=2021-11-25 time=18:36:49 devname=\"SLX-FG-VM-166\" devid=\"FGVM010000010982\" logid=\"0100020027\" type=\"event\" subtype=\"system\" level=\"information\" vd=\"root\" eventtime=1637854610455694716 tz=\"+0300\" logdesc=\"Outdated report files deleted\" msg=\"Delete 2 old report files\"',\n",
       " '<190>date=2021-11-26 time=09:11:50 devname=\"SLX-FG-VM-166\" devid=\"FGVM010000010982\" logid=\"0100020027\" type=\"event\" subtype=\"system\" level=\"information\" vd=\"root\" eventtime=1637907110602846537 tz=\"+0300\" logdesc=\"Outdated report files deleted\" msg=\"Delete 5 old report files\"',\n",
       " '<190>date=2021-11-26 time=09:11:07 devname=\"SLX-FG-VM-165\" devid=\"FGVM010000010981\" logid=\"0100020027\" type=\"event\" subtype=\"system\" level=\"information\" vd=\"root\" eventtime=1637907069378849031 tz=\"+0300\" logdesc=\"Outdated report files deleted\" msg=\"Delete 2 old report files\"',\n",
       " '<190>date=2021-11-26 time=08:06:49 devname=\"SLX-FG-VM-166\" devid=\"FGVM010000010982\" logid=\"0100020027\" type=\"event\" subtype=\"system\" level=\"information\" vd=\"root\" eventtime=1637903210600360439 tz=\"+0300\" logdesc=\"Outdated report files deleted\" msg=\"Delete 3 old report files\"',\n",
       " '<190>date=2021-11-26 time=06:11:50 devname=\"SLX-FG-VM-166\" devid=\"FGVM010000010982\" logid=\"0100020027\" type=\"event\" subtype=\"system\" level=\"information\" vd=\"root\" eventtime=1637896310599479310 tz=\"+0300\" logdesc=\"Outdated report files deleted\" msg=\"Delete 6 old report files\"',\n",
       " '<190>date=2021-11-26 time=06:11:09 devname=\"SLX-FG-VM-165\" devid=\"FGVM010000010981\" logid=\"0100020027\" type=\"event\" subtype=\"system\" level=\"information\" vd=\"root\" eventtime=1637896269238674353 tz=\"+0300\" logdesc=\"Outdated report files deleted\" msg=\"Delete 2 old report files\"',\n",
       " '<190>date=2021-11-26 time=05:31:48 devname=\"SLX-FG-VM-166\" devid=\"FGVM010000010982\" logid=\"0100020027\" type=\"event\" subtype=\"system\" level=\"information\" vd=\"root\" eventtime=1637893910587959786 tz=\"+0300\" logdesc=\"Outdated report files deleted\" msg=\"Delete 4 old report files\"',\n",
       " '<190>date=2021-11-26 time=08:31:50 devname=\"SLX-FG-VM-166\" devid=\"FGVM010000010982\" logid=\"0100020027\" type=\"event\" subtype=\"system\" level=\"information\" vd=\"root\" eventtime=1637904710602222629 tz=\"+0300\" logdesc=\"Outdated report files deleted\" msg=\"Delete 4 old report files\"',\n",
       " '<190>date=2021-11-26 time=05:31:09 devname=\"SLX-FG-VM-165\" devid=\"FGVM010000010981\" logid=\"0100020027\" type=\"event\" subtype=\"system\" level=\"information\" vd=\"root\" eventtime=1637893869194615354 tz=\"+0300\" logdesc=\"Outdated report files deleted\" msg=\"Delete 1 old report files\"',\n",
       " '<190>date=2021-11-26 time=09:31:50 devname=\"SLX-FG-VM-166\" devid=\"FGVM010000010982\" logid=\"0100020027\" type=\"event\" subtype=\"system\" level=\"information\" vd=\"root\" eventtime=1637908310608708424 tz=\"+0300\" logdesc=\"Outdated report files deleted\" msg=\"Delete 5 old report files\"',\n",
       " '<190>date=2021-11-26 time=09:06:49 devname=\"SLX-FG-VM-166\" devid=\"FGVM010000010982\" logid=\"0100020027\" type=\"event\" subtype=\"system\" level=\"information\" vd=\"root\" eventtime=1637906810605200376 tz=\"+0300\" logdesc=\"Outdated report files deleted\" msg=\"Delete 3 old report files\"',\n",
       " '<190>date=2021-11-26 time=09:06:09 devname=\"SLX-FG-VM-165\" devid=\"FGVM010000010981\" logid=\"0100020027\" type=\"event\" subtype=\"system\" level=\"information\" vd=\"root\" eventtime=1637906769377808075 tz=\"+0300\" logdesc=\"Outdated report files deleted\" msg=\"Delete 1 old report files\"',\n",
       " '<190>date=2021-11-26 time=05:36:48 devname=\"SLX-FG-VM-166\" devid=\"FGVM010000010982\" logid=\"0100020027\" type=\"event\" subtype=\"system\" level=\"information\" vd=\"root\" eventtime=1637894210594546028 tz=\"+0300\" logdesc=\"Outdated report files deleted\" msg=\"Delete 3 old report files\"',\n",
       " '<190>date=2021-11-26 time=08:11:08 devname=\"SLX-FG-VM-165\" devid=\"FGVM010000010981\" logid=\"0100020027\" type=\"event\" subtype=\"system\" level=\"information\" vd=\"root\" eventtime=1637903469340360008 tz=\"+0300\" logdesc=\"Outdated report files deleted\" msg=\"Delete 2 old report files\"',\n",
       " '<190>date=2021-11-25 time=13:11:49 devname=\"SLX-FG-VM-166\" devid=\"FGVM010000010982\" logid=\"0100020027\" type=\"event\" subtype=\"system\" level=\"information\" vd=\"root\" eventtime=1637835110333309825 tz=\"+0300\" logdesc=\"Outdated report files deleted\" msg=\"Delete 5 old report files\"',\n",
       " '<190>date=2021-11-26 time=05:36:09 devname=\"SLX-FG-VM-165\" devid=\"FGVM010000010981\" logid=\"0100020027\" type=\"event\" subtype=\"system\" level=\"information\" vd=\"root\" eventtime=1637894169192562897 tz=\"+0300\" logdesc=\"Outdated report files deleted\" msg=\"Delete 2 old report files\"',\n",
       " '<190>date=2021-11-26 time=11:11:50 devname=\"SLX-FG-VM-166\" devid=\"FGVM010000010982\" logid=\"0100020027\" type=\"event\" subtype=\"system\" level=\"information\" vd=\"root\" eventtime=1637914310617512370 tz=\"+0300\" logdesc=\"Outdated report files deleted\" msg=\"Delete 9 old report files\"',\n",
       " '<190>date=2021-11-25 time=15:11:07 devname=\"SLX-FG-VM-165\" devid=\"FGVM010000010981\" logid=\"0100020027\" type=\"event\" subtype=\"system\" level=\"information\" vd=\"root\" eventtime=1637842268468895016 tz=\"+0300\" logdesc=\"Outdated report files deleted\" msg=\"Delete 2 old report files\"',\n",
       " '<190>date=2021-11-25 time=18:36:49 devname=\"SLX-FG-VM-166\" devid=\"FGVM010000010982\" logid=\"0100020027\" type=\"event\" subtype=\"system\" level=\"information\" vd=\"root\" eventtime=1637854610455694716 tz=\"+0300\" logdesc=\"Outdated report files deleted\" msg=\"Delete 2 old report files\"',\n",
       " '<190>date=2021-11-25 time=15:26:08 devname=\"SLX-FG-VM-165\" devid=\"FGVM010000010981\" logid=\"0100020027\" type=\"event\" subtype=\"system\" level=\"information\" vd=\"root\" eventtime=1637843168467508562 tz=\"+0300\" logdesc=\"Outdated report files deleted\" msg=\"Delete 1 old report files\"',\n",
       " '<190>date=2021-11-26 time=09:36:50 devname=\"SLX-FG-VM-166\" devid=\"FGVM010000010982\" logid=\"0100020027\" type=\"event\" subtype=\"system\" level=\"information\" vd=\"root\" eventtime=1637908610606036269 tz=\"+0300\" logdesc=\"Outdated report files deleted\" msg=\"Delete 5 old report files\"',\n",
       " '<190>date=2021-11-25 time=20:06:50 devname=\"SLX-FG-VM-166\" devid=\"FGVM010000010982\" logid=\"0100020027\" type=\"event\" subtype=\"system\" level=\"information\" vd=\"root\" eventtime=1637860010480015188 tz=\"+0300\" logdesc=\"Outdated report files deleted\" msg=\"Delete 3 old report files\"',\n",
       " '<190>date=2021-11-26 time=09:31:50 devname=\"SLX-FG-VM-166\" devid=\"FGVM010000010982\" logid=\"0100020027\" type=\"event\" subtype=\"system\" level=\"information\" vd=\"root\" eventtime=1637908310608708424 tz=\"+0300\" logdesc=\"Outdated report files deleted\" msg=\"Delete 5 old report files\"',\n",
       " '<190>date=2021-11-25 time=15:01:08 devname=\"SLX-FG-VM-165\" devid=\"FGVM010000010981\" logid=\"0100020027\" type=\"event\" subtype=\"system\" level=\"information\" vd=\"root\" eventtime=1637841668465874620 tz=\"+0300\" logdesc=\"Outdated report files deleted\" msg=\"Delete 3 old report files\"',\n",
       " '<190>date=2021-11-25 time=20:06:07 devname=\"SLX-FG-VM-165\" devid=\"FGVM010000010981\" logid=\"0100020027\" type=\"event\" subtype=\"system\" level=\"information\" vd=\"root\" eventtime=1637859968729731098 tz=\"+0300\" logdesc=\"Outdated report files deleted\" msg=\"Delete 1 old report files\"',\n",
       " '<190>date=2021-11-25 time=15:01:08 devname=\"SLX-FG-VM-165\" devid=\"FGVM010000010981\" logid=\"0100020027\" type=\"event\" subtype=\"system\" level=\"information\" vd=\"root\" eventtime=1637841668465874620 tz=\"+0300\" logdesc=\"Outdated report files deleted\" msg=\"Delete 3 old report files\"',\n",
       " '<190>date=2021-11-25 time=14:46:49 devname=\"SLX-FG-VM-166\" devid=\"FGVM010000010982\" logid=\"0100020027\" type=\"event\" subtype=\"system\" level=\"information\" vd=\"root\" eventtime=1637840810366009130 tz=\"+0300\" logdesc=\"Outdated report files deleted\" msg=\"Delete 6 old report files\"',\n",
       " '<190>date=2021-11-25 time=15:26:08 devname=\"SLX-FG-VM-165\" devid=\"FGVM010000010981\" logid=\"0100020027\" type=\"event\" subtype=\"system\" level=\"information\" vd=\"root\" eventtime=1637843168467508562 tz=\"+0300\" logdesc=\"Outdated report files deleted\" msg=\"Delete 1 old report files\"',\n",
       " '<190>date=2021-11-25 time=15:11:07 devname=\"SLX-FG-VM-165\" devid=\"FGVM010000010981\" logid=\"0100020027\" type=\"event\" subtype=\"system\" level=\"information\" vd=\"root\" eventtime=1637842268468895016 tz=\"+0300\" logdesc=\"Outdated report files deleted\" msg=\"Delete 2 old report files\"',\n",
       " '<190>date=2021-11-25 time=15:11:07 devname=\"SLX-FG-VM-165\" devid=\"FGVM010000010981\" logid=\"0100020027\" type=\"event\" subtype=\"system\" level=\"information\" vd=\"root\" eventtime=1637842268468895016 tz=\"+0300\" logdesc=\"Outdated report files deleted\" msg=\"Delete 2 old report files\"',\n",
       " '<190>date=2021-11-25 time=14:46:49 devname=\"SLX-FG-VM-166\" devid=\"FGVM010000010982\" logid=\"0100020027\" type=\"event\" subtype=\"system\" level=\"information\" vd=\"root\" eventtime=1637840810366009130 tz=\"+0300\" logdesc=\"Outdated report files deleted\" msg=\"Delete 6 old report files\"',\n",
       " '<190>date=2021-11-26 time=09:31:08 devname=\"SLX-FG-VM-165\" devid=\"FGVM010000010981\" logid=\"0100020027\" type=\"event\" subtype=\"system\" level=\"information\" vd=\"root\" eventtime=1637908269382871752 tz=\"+0300\" logdesc=\"Outdated report files deleted\" msg=\"Delete 1 old report files\"',\n",
       " '<190>date=2021-11-25 time=13:11:49 devname=\"SLX-FG-VM-166\" devid=\"FGVM010000010982\" logid=\"0100020027\" type=\"event\" subtype=\"system\" level=\"information\" vd=\"root\" eventtime=1637835110333309825 tz=\"+0300\" logdesc=\"Outdated report files deleted\" msg=\"Delete 5 old report files\"',\n",
       " '<190>date=2021-11-25 time=13:06:49 devname=\"SLX-FG-VM-166\" devid=\"FGVM010000010982\" logid=\"0100020027\" type=\"event\" subtype=\"system\" level=\"information\" vd=\"root\" eventtime=1637834810337363068 tz=\"+0300\" logdesc=\"Outdated report files deleted\" msg=\"Delete 3 old report files\"']"
      ]
     },
     "execution_count": 231,
     "metadata": {},
     "output_type": "execute_result"
    }
   ],
   "source": [
    "orig_log_df[\"cluster\"] = clusters\n",
    "list(orig_log_df.loc[orig_log_df[\"cluster\"] == 4][\"message\"])"
   ]
  },
  {
   "cell_type": "markdown",
   "id": "3dbfe8b3",
   "metadata": {},
   "source": [
    "# Aggregation"
   ]
  },
  {
   "cell_type": "code",
   "execution_count": 174,
   "id": "336c6b6c",
   "metadata": {},
   "outputs": [],
   "source": [
    "aggregated = []\n",
    "\n",
    "for cluster in np.unique(clusters):\n",
    "    \n",
    "    messages = []\n",
    "    for i in list(df.loc[df['cluster'] == cluster].index):\n",
    "        messages.append(df_logs[1][i][\"message\"])\n",
    "\n",
    "    result_string = messages[0]\n",
    "    msg_num = len(messages)\n",
    "        \n",
    "    aggregated.append([result_string, msg_num])        "
   ]
  },
  {
   "cell_type": "code",
   "execution_count": 175,
   "id": "cc7a72b7",
   "metadata": {
    "scrolled": false
   },
   "outputs": [
    {
     "name": "stdout",
     "output_type": "stream",
     "text": [
      "['<13>Dec  3 03:15:23 U22020000000877 vectra_standard -: HOST [host@41261 category=\"HOST SCORING\" hostName=\"Samsung-Galaxy-S7\" currentIP=\"172.17.42.156\" dvchost=\"172.17.18.39\" threat=\"21\" certainty=\"12\" privilege=\"0\" scoreDecreases=\"False\" URL=\"https://172.17.18.39/hosts/14808\" UTCTime=\"1638490523.952734\" sourceKeyAsset=\"False\" destKeyAsset=\"False\" hostRoles=\"\"]', 6] \n",
      "\n",
      "['<190>date=2021-12-03 time=02:30:02 devname=\"SLX-FG-VM-166\" devid=\"FGVM010000010982\" logid=\"0100026001\" type=\"event\" subtype=\"system\" level=\"information\" vd=\"root\" eventtime=1638487803405548791 tz=\"+0300\" logdesc=\"DHCP Ack log\" interface=\"port5\" dhcp_msg=\"Ack\" mac=\"00:50:56:A0:35:7D\" ip=172.17.42.187 lease=259200 hostname=\"debian10-dev\" msg=\"DHCP server sends a DHCPACK\"', 18] \n",
      "\n",
      "['<13>Dec  2 15:19:15 U22020000000877 vectra_standard -: DETECT [detection@41261 category=\"COMMAND & CONTROL\" type=\"Hidden HTTPS Tunnel\" hostname=\"avaskin\" currentIP=\"172.17.17.98\" dvchost=\"172.17.18.39\" threat=\"50\" certainty=\"50\" URL=\"https://172.17.18.39/detections/3383?detail_id\\\\=244287\" DestinationIP=\"95.216.72.81\" DestinationDomain=\"seranking.helpcrunch.com\" DestinationPort=\"443\" Proto=\"tcp\" triaged=\"False\" BytesSent=\"21972\" BytesRcvd=\"14981\" UTCTimeStart=\"2021-12-02 06:12:33\" UTCTimeEnd=\"2021-12-02 12:16:35\"]', 18] \n",
      "\n",
      "['<188>date=2021-12-02 time=10:38:42 devname=\"SLX-FG-VM-166\" devid=\"FGVM010000010982\" logid=\"0000000011\" type=\"traffic\" subtype=\"forward\" level=\"warning\" vd=\"root\" eventtime=1638430723412055899 tz=\"+0300\" srcip=172.17.42.151 srcname=\"Local-FortiGate\" srcport=4785 srcintf=\"port5\" srcintfrole=\"lan\" dstip=172.17.18.198 dstname=\"172.17.18.198\" dstport=8080 dstintf=\"port4\" dstintfrole=\"lan\" sessionid=296977366 proto=6 action=\"ip-conn\" policyid=141 policytype=\"policy\" poluuid=\"c2b51090-b030-51eb-db09-4a50e4975e94\" service=\"HTTP8080\" dstcountry=\"Reserved\" srccountry=\"Reserved\" appcat=\"unscanned\" crscore=5 craction=262144 crlevel=\"low\" srchwvendor=\"Fortinet\" devtype=\"Router\" srcfamily=\"FortiGate\" osname=\"FortiOS\" srchwversion=\"VM64\" mastersrcmac=\"00:50:56:a0:b4:d2\" srcmac=\"00:50:56:a0:b4:d2\" srcserver=0 masterdstmac=\"2c:60:0c:83:a9:47\" dstmac=\"2c:60:0c:83:a9:47\" dstserver=1', 10] \n",
      "\n",
      "['<13>Dec  1 16:05:31 U22020000000877 vectra_standard_campaigns -: CAMPAIGN [campaign@41261 id=\"1237\" action=\"ADD\" reason=\"Connection\" dvc=\"172.17.18.39\" dvchost=\"172.17.18.39\" detectionId=\"None\" hostname=\"avaskin\" currentIP=\"172.17.17.98\" source_id=\"124\" URL=\"https://172.17.18.39/campaigns/1237\" dstHost=\"vi-ya2.jivosite.com\" DestinationIP=\"84.201.136.165\" destID=\"external\" timestamp=\"1638358963.0\"]', 2] \n",
      "\n",
      "['<190>date=2021-11-29 time=21:56:50 devname=\"SLX-FG-VM-166\" devid=\"FGVM010000010982\" logid=\"0100020027\" type=\"event\" subtype=\"system\" level=\"information\" vd=\"root\" eventtime=1638212212000307410 tz=\"+0300\" logdesc=\"Outdated report files deleted\" msg=\"Delete 3 old report files\"', 154] \n",
      "\n",
      "['<189>date=2021-11-25 time=20:12:00 devname=\"SLX-FG-VM-166\" devid=\"FGVM010000010982\" logid=\"0100040704\" type=\"event\" subtype=\"system\" level=\"notice\" vd=\"root\" eventtime=1637860320790430456 tz=\"+0300\" logdesc=\"System performance statistics\" action=\"perf-stats\" cpu=2 mem=79 totalsession=160 disk=1 bandwidth=\"78/384\" setuprate=2 disklograte=0 fazlograte=0 freediskstorage=28402 sysuptime=19864256 msg=\"Performance statistics: average CPU: 2, memory:  79, concurrent sessions:  160, setup-rate: 2\"', 106] \n",
      "\n",
      "['<13>Nov 26 15:20:57 U22020000000877 vectra_standard_campaigns -: CAMPAIGN [campaign@41261 id=\"1237\" action=\"ADD\" reason=\"Connection\" dvc=\"172.17.18.39\" dvchost=\"172.17.18.39\" detectionId=\"None\" hostname=\"avaskin\" currentIP=\"172.17.17.98\" source_id=\"124\" URL=\"https://172.17.18.39/campaigns/1237\" dstHost=\"vi-ya2.jivosite.com\" DestinationIP=\"84.201.136.165\" destID=\"external\" timestamp=\"1637927207.0\"]', 2] \n",
      "\n"
     ]
    }
   ],
   "source": [
    "for x in aggregated:\n",
    "    print(x, \"\\n\")"
   ]
  },
  {
   "cell_type": "code",
   "execution_count": 22,
   "id": "05aafffa",
   "metadata": {
    "scrolled": false
   },
   "outputs": [
    {
     "name": "stdout",
     "output_type": "stream",
     "text": [
      "<13>Dec  3 03:15:23 U22020000000877 vectra_standard -: HOST [host@41261 category=\"HOST SCORING\" hostName=\"Samsung-Galaxy-S7\" currentIP=\"172.17.42.156\" dvchost=\"172.17.18.39\" threat=\"21\" certainty=\"12\" privilege=\"0\" scoreDecreases=\"False\" URL=\"https://172.17.18.39/hosts/14808\" UTCTime=\"1638490523.952734\" sourceKeyAsset=\"False\" destKeyAsset=\"False\" hostRoles=\"\"] \n",
      "\n",
      "<13>Dec  1 16:11:53 U22020000000877 vectra_standard -: DETECT [detection@41261 category=\"INFO\" type=\"Novel External Destination Port\" hostname=\"fax.solidex.minsk.by\" currentIP=\"172.17.15.3\" dvchost=\"172.17.18.39\" threat=\"0\" certainty=\"0\" URL=\"https://172.17.18.39/detections/3320?detail_id\\=244128\" DestinationIP=\"93.125.5.100\" DestinationDomain=\"sip.telecom.by\" DestinationPort=\"11062\" Proto=\"udp\" triaged=\"False\" BytesSent=\"6182540\" BytesRcvd=\"6193376\" UTCTimeStart=\"2021-11-25 11:53:09\" UTCTimeEnd=\"2021-12-01 13:11:17\"] \n",
      "\n",
      "<13>Dec  1 15:15:23 U22020000000877 vectra_standard -: HOST [host@41261 category=\"HOST SCORING\" hostName=\"matvey-pc\" currentIP=\"172.17.17.102\" dvchost=\"172.17.18.39\" threat=\"12\" certainty=\"70\" privilege=\"1\" scoreDecreases=\"False\" URL=\"https://172.17.18.39/hosts/1770\" UTCTime=\"1638360923.058996\" sourceKeyAsset=\"False\" destKeyAsset=\"False\" hostRoles=\"\"] \n",
      "\n",
      "<13>Dec  1 15:15:22 U22020000000877 vectra_standard -: HOST [host@41261 category=\"HOST SCORING\" hostName=\"paul-lptp\" currentIP=\"172.17.17.151\" dvchost=\"172.17.18.39\" threat=\"66\" certainty=\"75\" privilege=\"1\" scoreDecreases=\"False\" URL=\"https://172.17.18.39/hosts/4113\" UTCTime=\"1638360922.921209\" sourceKeyAsset=\"False\" destKeyAsset=\"True\" hostRoles=\"\"] \n",
      "\n",
      "<190>date=2021-11-30 time=23:27:21 devname=\"SLX-FG-VM-166\" devid=\"FGVM010000010982\" logid=\"0814044032\" type=\"utm\" subtype=\"voip\" eventtype=\"voip\" level=\"information\" vd=\"root\" eventtime=1638304041682242881 tz=\"+0300\" session_id=188257872 epoch=0 event_id=14408 srcip=172.17.15.3 src_port=5060 dstip=93.125.5.100 dst_port=5060 proto=17 src_int=\"port4\" dst_int=\"port2\" policy_id=96 profile=\"default\" voip_proto=\"sip\" kind=\"register\" action=\"permit\" status=\"succeeded\" duration=0 dir=\"session_origin\" call_id=\"2afa35b0-2a69-11ec-9632-072cb2431610\" from=\"sip:375173361195@sip.telecom.by\" to=\"sip:375173361195@sip.telecom.by\" \n",
      "\n",
      "<189>date=2021-11-30 time=17:17:01 devname=\"SLX-FG-VM-166\" devid=\"FGVM010000010982\" logid=\"0000000020\" type=\"traffic\" subtype=\"forward\" level=\"notice\" vd=\"root\" eventtime=1638281822665893147 tz=\"+0300\" srcip=172.17.15.3 srcname=\"172.17.15.3\" srcport=5060 srcintf=\"port4\" srcintfrole=\"lan\" dstip=93.125.5.100 dstname=\"sip.telecom.by\" dstport=5060 dstintf=\"port2\" dstintfrole=\"wan\" sessionid=188257872 proto=17 action=\"accept\" policyid=96 policytype=\"policy\" poluuid=\"d1382da0-a4b6-51e9-1f28-9639f07021c5\" service=\"SIP\" dstcountry=\"Belarus\" srccountry=\"Reserved\" trandisp=\"snat\" transip=37.17.54.156 transport=65476 duration=7587381 sentbyte=13949328 rcvdbyte=8970004 sentpkt=15651 rcvdpkt=15918 appcat=\"unscanned\" sentdelta=886 rcvddelta=527 mastersrcmac=\"2c:60:0c:95:ad:e5\" srcmac=\"2c:60:0c:95:ad:e5\" srcserver=0 \n",
      "\n",
      "<190>date=2021-12-03 * devname=\"SLX-FG-VM-166\" devid=\"FGVM010000010982\" logid=\"0100026001\" type=\"event\" subtype=\"system\" level=\"information\" vd=\"root\" ** tz=\"+0300\" logdesc=\"DHCP Ack log\" interface=\"port5\" dhcp_msg=\"Ack\" mac=\"00:50:56:A0:35:7D\" *** lease=259200 hostname=\"debian10-dev\" msg=\"DHCP server sends a DHCPACK\" \n",
      "* time=02:29:04, time=02:29:40, time=02:30:02, time=00:59:08, time=00:58:36, time=00:57:30, time=00:57:42, time=02:29:16, time=02:28:46, time=00:58:46, time=00:58:02, time=02:29:52, time=00:59:20, time=00:58:14, time=00:57:52, time=00:58:58, time=02:27:49, time=00:58:25\n",
      "** eventtime=1638487803405548791, eventtime=1638482339378175335, eventtime=1638482284346059853, eventtime=1638482306346056564, eventtime=1638482350381868294, eventtime=1638482361385255606, eventtime=1638482262336753081, eventtime=1638487727309027405, eventtime=1638482328364072946, eventtime=1638487792377423091, eventtime=1638487670247222650, eventtime=1638487781370636504, eventtime=1638482317350570942, eventtime=1638482295341550952, eventtime=1638487745332233402, eventtime=1638482273341563950, eventtime=1638487756346778758, eventtime=1638482251332027436\n",
      "*** ip=172.17.42.192, ip=172.17.42.179, ip=172.17.42.176, ip=172.17.42.184, ip=172.17.42.198, ip=172.17.42.182, ip=172.17.42.181, ip=172.17.42.190, ip=172.17.42.194, ip=172.17.42.197, ip=172.17.42.187, ip=172.17.42.188, ip=172.17.42.193, ip=172.17.42.191, ip=172.17.42.199, ip=172.17.42.196, ip=172.17.42.185 \n",
      "\n",
      "<13>Dec * ** U22020000000877 vectra_standard -: DETECT [detection@41261 category=\"COMMAND & CONTROL\" type=\"Hidden HTTPS Tunnel\" hostname=\"avaskin\" currentIP=\"172.17.17.98\" dvchost=\"172.17.18.39\" threat=\"50\" certainty=\"50\" *** DestinationIP=\"95.216.72.81\" DestinationDomain=\"seranking.helpcrunch.com\" DestinationPort=\"443\" Proto=\"tcp\" triaged=\"False\" **** ***** ****** ******* ******** ********* \n",
      "* 2, 1\n",
      "** 16:31:27, 09:25:47, 12:26:00, 14:08:10, 13:45:06, 14:57:10, 12:14:57, 11:53:03, 12:37:02, 11:18:55, 12:04:05, 11:07:53, 10:45:59, 10:22:53, 10:11:50, 13:22:01, 13:10:09, 15:19:15\n",
      "*** URL=\"https://172.17.18.39/detections/3383?detail_id\\=244277\", URL=\"https://172.17.18.39/detections/3383?detail_id\\=244262\", URL=\"https://172.17.18.39/detections/3383?detail_id\\=244287\", URL=\"https://172.17.18.39/detections/3383?detail_id\\=244263\", URL=\"https://172.17.18.39/detections/3383?detail_id\\=244285\", URL=\"https://172.17.18.39/detections/3383?detail_id\\=244279\", URL=\"https://172.17.18.39/detections/3383?detail_id\\=244278\", URL=\"https://172.17.18.39/detections/3370?detail_id\\=244132\", URL=\"https://172.17.18.39/detections/3383?detail_id\\=244257\", URL=\"https://172.17.18.39/detections/3383?detail_id\\=244276\", URL=\"https://172.17.18.39/detections/3383?detail_id\\=244229\", URL=\"https://172.17.18.39/detections/3383?detail_id\\=244165\", URL=\"https://172.17.18.39/detections/3383?detail_id\\=244283\", URL=\"https://172.17.18.39/detections/3383?detail_id\\=244281\", URL=\"https://172.17.18.39/detections/3383?detail_id\\=244246\", URL=\"https://172.17.18.39/detections/3383?detail_id\\=244275\", URL=\"https://172.17.18.39/detections/3383?detail_id\\=244284\", URL=\"https://172.17.18.39/detections/3383?detail_id\\=244282\"\n",
      "**** BytesSent=\"25698\", BytesSent=\"5112\", BytesSent=\"17160\", BytesSent=\"3775\", BytesSent=\"3094\", BytesSent=\"1507\", BytesSent=\"2224\", BytesSent=\"2352\", BytesSent=\"21792\", BytesSent=\"21972\", BytesSent=\"2172\", BytesSent=\"1549\", BytesSent=\"3473\", BytesSent=\"1671\"\n",
      "***** BytesRcvd=\"17586\", BytesRcvd=\"11198\", BytesRcvd=\"11962\", BytesRcvd=\"14814\", BytesRcvd=\"11915\", BytesRcvd=\"11641\", BytesRcvd=\"16243\", BytesRcvd=\"10479\", BytesRcvd=\"11453\", BytesRcvd=\"11353\", BytesRcvd=\"14981\", BytesRcvd=\"11666\", BytesRcvd=\"11383\", BytesRcvd=\"11377\", BytesRcvd=\"16180\", BytesRcvd=\"13625\", BytesRcvd=\"6800\"\n",
      "****** UTCTimeStart=\"2021-12-01, UTCTimeStart=\"2021-12-02\n",
      "******* 06:12:33\", 06:31:53\"\n",
      "******** UTCTimeEnd=\"2021-12-01, UTCTimeEnd=\"2021-12-02\n",
      "********* 10:19:49\"], 12:16:35\"], 07:43:49\"], 11:05:50\"], 11:54:51\"], 10:07:33\"], 09:12:33\"], 08:05:50\"], 09:34:33\"], 07:08:50\"], 10:42:33\"], 06:23:33\"], 09:01:33\"], 13:29:15\"], 08:16:32\"], 07:20:32\"], 08:50:50\"], 09:23:50\"] \n",
      "\n",
      "* ** *** **** ***** ****** ******* ******** vd=\"root\" ********* tz=\"+0300\" ********** *********** ************ ************* ************** *************** **************** \n",
      "* <190>date=2021-12-01, <188>date=2021-12-02\n",
      "** time=10:33:29, time=04:58:42, time=09:58:42, time=09:59:22, time=04:59:20, time=10:38:42\n",
      "*** devname=\"SLX-FG-VM-165\", devname=\"SLX-FG-VM-166\"\n",
      "**** devid=\"FGVM010000010981\", devid=\"FGVM010000010982\"\n",
      "***** logid=\"0100026003\", logid=\"0000000011\"\n",
      "****** type=\"traffic\", type=\"event\"\n",
      "******* subtype=\"system\", subtype=\"forward\"\n",
      "******** level=\"information\", level=\"warning\"\n",
      "********* eventtime=1638430411222051451, eventtime=1638323961261555005, eventtime=1638323923285206158, eventtime=1638341923345804378, eventtime=1638341923345798275, eventtime=1638323961261550071, eventtime=1638430723412055899, eventtime=1638341963335414356, eventtime=1638323923285201838, eventtime=1638341963335406378\n",
      "********** srcip=172.17.42.151, logdesc=\"DHCP\n",
      "*********** srcname=\"Local-FortiGate\", statistics\"\n",
      "************ srcport=4703, interface=\"port6\", interface=\"port5\", srcport=4785\n",
      "************* total=51, total=91, srcintf=\"port5\"\n",
      "************** srcintfrole=\"lan\", used=15, used=0\n",
      "*************** dstip=172.17.18.198, msg=\"DHCP\n",
      "**************** dstname=\"172.17.18.198\", statistics\" \n",
      "\n",
      "<13>Dec 1 * U22020000000877 vectra_standard_campaigns -: CAMPAIGN [campaign@41261 id=\"1237\" action=\"ADD\" reason=\"Connection\" dvc=\"172.17.18.39\" dvchost=\"172.17.18.39\" detectionId=\"None\" hostname=\"avaskin\" currentIP=\"172.17.17.98\" source_id=\"124\" URL=\"https://172.17.18.39/campaigns/1237\" dstHost=\"vi-ya2.jivosite.com\" DestinationIP=\"84.201.136.165\" destID=\"external\" ** \n",
      "* 16:05:31, 14:55:30\n",
      "** timestamp=\"1638358963.0\"], timestamp=\"1638353029.0\"] \n",
      "\n",
      "* ** *** **** logid=\"0100020027\" type=\"event\" subtype=\"system\" level=\"information\" vd=\"root\" ***** tz=\"+0300\" logdesc=\"Outdated report files deleted\" msg=\"Delete ****** old report files\" \n",
      "* <190>date=2021-11-29, <190>date=2021-11-26, <190>date=2021-11-25\n",
      "** time=15:01:08, time=12:51:08, time=09:06:09, time=15:11:50, time=05:31:48, time=14:21:36, time=18:36:49, time=14:46:49, time=09:11:50, time=05:31:09, time=08:31:50, time=05:36:09, time=06:11:09, time=11:06:50, time=12:56:49, time=20:11:08, time=12:51:49, time=05:36:48, time=11:06:08, time=14:21:37, time=08:31:07, time=21:51:04, time=19:21:49, time=06:11:50, time=06:16:07, time=11:11:50, time=09:31:50, time=08:36:08, time=11:16:50, time=12:56:08, time=16:01:49, time=09:31:08, time=20:06:50, time=09:36:50, time=15:11:07, time=13:06:49, time=21:56:50, time=08:11:49, time=08:06:49, time=20:11:48, time=15:26:08, time=06:16:50, time=14:16:49, time=04:06:08, time=04:01:49, time=04:01:08, time=09:41:08, time=14:21:07, time=13:11:49, time=21:51:49, time=09:11:07, time=08:36:50, time=20:06:07, time=14:16:07, time=15:31:50, time=19:21:37, time=09:06:49, time=19:21:09, time=08:11:08, time=12:51:01\n",
      "*** devname=\"SLX-FG-VM-165\", devname=\"SLX-FG-VM-166\"\n",
      "**** devid=\"FGVM010000010981\", devid=\"FGVM010000010982\"\n",
      "***** eventtime=1637860310477052809, eventtime=1637925697881272608, eventtime=1637845310399417055, eventtime=1637859968729731098, eventtime=1637843168467508562, eventtime=1637860268732418659, eventtime=1637920610636597679, eventtime=1637908869385965990, eventtime=1637920269549566832, eventtime=1637903469340360008, eventtime=1637914010615925303, eventtime=1637908610606036269, eventtime=1637854610455694716, eventtime=1637888510564976020, eventtime=1637835110333309825, eventtime=1637908310608708424, eventtime=1637841668465874620, eventtime=1637896269238674353, eventtime=1637896569230730032, eventtime=1637925410652382964, eventtime=1637925697881931518, eventtime=1637893869194615354, eventtime=1637905010607575250, eventtime=1637894169192562897, eventtime=1637920310633666937, eventtime=1637920261692538269, eventtime=1638212212000307410, eventtime=1637925369629596687, eventtime=1637893910587959786, eventtime=1638211911997278032, eventtime=1637907110602846537, eventtime=1637896310599479310, eventtime=1637908269382871752, eventtime=1637896610596323885, eventtime=1637894210594546028, eventtime=1637943710817661840, eventtime=1637860010480015188, eventtime=1637904969344093097, eventtime=1637888469150214778, eventtime=1638211865418869407, eventtime=1637842268468895016, eventtime=1637943697887889601, eventtime=1637903510598883291, eventtime=1637834810337363068, eventtime=1637920569554128621, eventtime=1637840810366009130, eventtime=1637907069378849031, eventtime=1637904669345437162, eventtime=1637943669884845154, eventtime=1637914310617512370, eventtime=1637903210600360439, eventtime=1637906810605200376, eventtime=1637914610612551125, eventtime=1637929910695515820, eventtime=1637920261691229286, eventtime=1637842310386997111, eventtime=1637925669633465073, eventtime=1637904710602222629, eventtime=1637913969487758605, eventtime=1637888769143391060, eventtime=1637906769377808075\n",
      "****** 12, 6, 2, 1, 3, 9, 8, 16, 13, 4, 36, 5, 38 \n",
      "\n",
      "* ** *** **** logid=\"0100040704\" type=\"event\" subtype=\"system\" level=\"notice\" vd=\"root\" ***** tz=\"+0300\" logdesc=\"System performance statistics\" action=\"perf-stats\" ****** ******* ******** disk=1 ********* ********** *********** ************ ************* ************** msg=\"Performance statistics: average CPU: *************** memory: **************** concurrent sessions: ***************** setup-rate: ****************** \n",
      "* <189>date=2021-11-26, <189>date=2021-11-25\n",
      "** time=09:06:09, time=09:06:59, time=16:01:59, time=20:12:00, time=06:12:00, time=14:16:59, time=12:11:08, time=16:02:00, time=12:12:00, time=05:31:09, time=05:36:09, time=12:07:00, time=05:37:00, time=14:17:00, time=20:11:08, time=15:31:58, time=08:31:07, time=16:16:08, time=18:36:08, time=20:07:00, time=06:16:07, time=09:37:00, time=15:01:06, time=06:21:08, time=04:01:59, time=16:17:00, time=14:21:59, time=06:22:00, time=15:11:07, time=15:26:08, time=15:17:00, time=16:06:08, time=16:07:00, time=14:26:08, time=05:32:00, time=04:06:08, time=09:42:00, time=04:01:08, time=09:41:08, time=14:21:07, time=14:46:59, time=08:06:59, time=08:32:00, time=09:11:07, time=20:06:07, time=14:16:07, time=18:31:59, time=09:32:00, time=09:12:00, time=06:17:00, time=12:06:08, time=18:36:59, time=06:11:07\n",
      "*** devname=\"SLX-FG-VM-165\", devname=\"SLX-FG-VM-166\"\n",
      "**** devid=\"FGVM010000010981\", devid=\"FGVM010000010982\"\n",
      "***** eventtime=1637906769286570238, eventtime=1637888769051063906, eventtime=1637908320858972965, eventtime=1637925669534871452, eventtime=1637896869141726406, eventtime=1637906820854721717, eventtime=1637932569631511962, eventtime=1637896320822546377, eventtime=1637843520761790455, eventtime=1637932620871139328, eventtime=1637842620761640399, eventtime=1637893920822972758, eventtime=1637894220823096259, eventtime=1637917569453080522, eventtime=1637896569148789400, eventtime=1637904669254685814, eventtime=1637907120861507157, eventtime=1637860320790430456, eventtime=1637854320781348628, eventtime=1637839020750797148, eventtime=1637896620829186780, eventtime=1637908869287097663, eventtime=1637893869096811189, eventtime=1637854568530447910, eventtime=1637925420866924516, eventtime=1637859968639150772, eventtime=1637908920858393848, eventtime=1637860020783518902, eventtime=1637907069277943266, eventtime=1637903220850106483, eventtime=1637925720865942858, eventtime=1637925969532128392, eventtime=1637917620863574020, eventtime=1637931720864626741, eventtime=1637896269148850379, eventtime=1637932020864823029, eventtime=1637860268643342001, eventtime=1637917920863833392, eventtime=1637904720843944933, eventtime=1637917869455021439, eventtime=1637896920823725996, eventtime=1637888469050501505, eventtime=1637840820746348821, eventtime=1637842268368678027, eventtime=1637931969621914667, eventtime=1637843168375869178, eventtime=1637854620778511988, eventtime=1637908620856211652, eventtime=1637841668368135910, eventtime=1637925369533821113, eventtime=1637894169091708415, eventtime=1637845320758838520, eventtime=1637888520813893682\n",
      "****** cpu=3, cpu=4, cpu=0, cpu=2, cpu=1\n",
      "******* mem=57, mem=78, mem=79\n",
      "******** totalsession=66, totalsession=279, totalsession=155, totalsession=148, totalsession=16, totalsession=391, totalsession=19, totalsession=166, totalsession=152, totalsession=52, totalsession=45, totalsession=160, totalsession=42, totalsession=344, totalsession=18, totalsession=22, totalsession=162, totalsession=242, totalsession=123, totalsession=140, totalsession=27, totalsession=44, totalsession=232, totalsession=158, totalsession=57, totalsession=121, totalsession=202, totalsession=61, totalsession=89, totalsession=182, totalsession=285, totalsession=56, totalsession=77, totalsession=17, totalsession=492, totalsession=122, totalsession=49, totalsession=164, totalsession=118, totalsession=34, totalsession=180, totalsession=173, totalsession=329, totalsession=153, totalsession=133, totalsession=208\n",
      "********* bandwidth=\"20/25\", bandwidth=\"35/29\", bandwidth=\"45/363\", bandwidth=\"19/25\", bandwidth=\"27/27\", bandwidth=\"50/374\", bandwidth=\"247/540\", bandwidth=\"269/525\", bandwidth=\"66/393\", bandwidth=\"189/496\", bandwidth=\"85/420\", bandwidth=\"45/378\", bandwidth=\"42/374\", bandwidth=\"27/25\", bandwidth=\"26/26\", bandwidth=\"90/384\", bandwidth=\"18/22\", bandwidth=\"37/372\", bandwidth=\"19/23\", bandwidth=\"26/57\", bandwidth=\"19/22\", bandwidth=\"19/24\", bandwidth=\"26/27\", bandwidth=\"49/374\", bandwidth=\"351/603\", bandwidth=\"41/376\", bandwidth=\"47/357\", bandwidth=\"75/380\", bandwidth=\"107/375\", bandwidth=\"17/20\", bandwidth=\"39/374\", bandwidth=\"28/26\", bandwidth=\"91/399\", bandwidth=\"31/361\", bandwidth=\"83/397\", bandwidth=\"106/422\", bandwidth=\"36/377\", bandwidth=\"70/362\", bandwidth=\"66/285\", bandwidth=\"18/23\", bandwidth=\"43/376\", bandwidth=\"34/27\", bandwidth=\"69/369\", bandwidth=\"78/384\", bandwidth=\"132/460\", bandwidth=\"18/24\"\n",
      "********** setuprate=0, setuprate=3, setuprate=4, setuprate=17, setuprate=7, setuprate=6, setuprate=10, setuprate=2, setuprate=1\n",
      "*********** disklograte=0, disklograte=1\n",
      "************ fazlograte=0, fazlograte=1\n",
      "************* freediskstorage=28455, freediskstorage=28401, freediskstorage=28402, freediskstorage=28519, freediskstorage=28454\n",
      "************** sysuptime=6700247, sysuptime=6737748, sysuptime=6666347, sysuptime=6737448, sysuptime=6705947, sysuptime=19900556, sysuptime=6653447, sysuptime=6708648, sysuptime=19907156, sysuptime=19847456, sysuptime=6654947, sysuptime=19900256, sysuptime=19921856, sysuptime=19864256, sysuptime=19842956, sysuptime=19863956, sysuptime=6708348, sysuptime=6716448, sysuptime=19858556, sysuptime=19849256, sysuptime=19844756, sysuptime=19935656, sysuptime=19892456, sysuptime=6743748, sysuptime=19898156, sysuptime=6729348, sysuptime=6672047, sysuptime=6671747, sysuptime=19912556, sysuptime=6720648, sysuptime=6744348, sysuptime=6700547, sysuptime=19900856, sysuptime=19897856, sysuptime=19910756, sysuptime=6729648, sysuptime=19858256, sysuptime=19936556, sysuptime=19912856, sysuptime=19921556, sysuptime=19935956, sysuptime=6708048, sysuptime=6737148, sysuptime=6718548, sysuptime=19908656, sysuptime=19929656, sysuptime=6654047, sysuptime=19929356, sysuptime=19912256, sysuptime=19846556, sysuptime=19911056, sysuptime=6718848, sysuptime=6705647\n",
      "*************** 2,, 3,, 0,, 4,, 1,\n",
      "**************** 78,, 57,, 79,\n",
      "***************** 22,, 122,, 152,, 242,, 89,, 133,, 57,, 180,, 160,, 208,, 121,, 391,, 166,, 42,, 49,, 61,, 19,, 16,, 17,, 329,, 285,, 45,, 140,, 279,, 158,, 162,, 164,, 155,, 492,, 202,, 182,, 173,, 344,, 232,, 44,, 77,, 153,, 34,, 18,, 52,, 27,, 66,, 148,, 123,, 118,, 56,\n",
      "****************** 7\", 4\", 3\", 2\", 6\", 0\", 17\", 1\", 10\" \n",
      "\n",
      "<13>Nov 26 * U22020000000877 vectra_standard_campaigns -: CAMPAIGN [campaign@41261 id=\"1237\" action=\"ADD\" reason=\"Connection\" dvc=\"172.17.18.39\" dvchost=\"172.17.18.39\" detectionId=\"None\" hostname=\"avaskin\" currentIP=\"172.17.17.98\" source_id=\"124\" URL=\"https://172.17.18.39/campaigns/1237\" dstHost=\"vi-ya2.jivosite.com\" DestinationIP=\"84.201.136.165\" destID=\"external\" ** \n",
      "* 14:21:17, 15:20:57\n",
      "** timestamp=\"1637921499.0\"], timestamp=\"1637927207.0\"] \n",
      "\n"
     ]
    }
   ],
   "source": [
    "aggregated2 = []\n",
    "\n",
    "for cluster in np.unique(clusters):\n",
    "    messages = []\n",
    "    for i in list(df.loc[df['cluster'] == cluster].index):\n",
    "        messages.append(df_logs[1][i][\"message\"])\n",
    "\n",
    "    if cluster == -1:\n",
    "        aggregated2.extend(messages)\n",
    "    else:\n",
    "        splited_messages = [x.split() for x in messages]\n",
    "        splited_transpose = [list(row) for row in zip(*splited_messages)]\n",
    "        result_string = \"\"\n",
    "        variable_params = \"\"\n",
    "        var_num = 0\n",
    "\n",
    "        for x in splited_transpose:\n",
    "            if len(set(x)) == 1:\n",
    "                result_string += x[0] + \" \"\n",
    "            else:\n",
    "                var_num += 1\n",
    "                result_string += var_num*\"*\" + \" \"\n",
    "                variable_params += var_num*\"*\" + \" \" + \", \".join(set(x)) + \"\\n\"\n",
    "\n",
    "        result_string += \"\\n\" + variable_params\n",
    "\n",
    "        aggregated2.append(result_string[:-1])\n",
    "\n",
    "for x in aggregated2:\n",
    "    print(x, \"\\n\")"
   ]
  }
 ],
 "metadata": {
  "kernelspec": {
   "display_name": "Python 3",
   "language": "python",
   "name": "python3"
  },
  "language_info": {
   "codemirror_mode": {
    "name": "ipython",
    "version": 3
   },
   "file_extension": ".py",
   "mimetype": "text/x-python",
   "name": "python",
   "nbconvert_exporter": "python",
   "pygments_lexer": "ipython3",
   "version": "3.8.10"
  }
 },
 "nbformat": 4,
 "nbformat_minor": 5
}
