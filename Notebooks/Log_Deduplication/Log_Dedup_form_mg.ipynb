{
 "cells": [
  {
   "cell_type": "code",
   "execution_count": 41,
   "id": "ac40bead",
   "metadata": {},
   "outputs": [],
   "source": [
    "import sys\n",
    "sys.path.extend(['/home/nadzya/Apps/log-anomaly-detector/', '/home/nadzya/Apps/log-aggregator/'])"
   ]
  },
  {
   "cell_type": "code",
   "execution_count": 42,
   "id": "3e43a129",
   "metadata": {},
   "outputs": [],
   "source": [
    "import pandas as pd\n",
    "import numpy as np \n",
    "\n",
    "from anomaly_detector.storage.mongodb_storage import MongoDBDataStorageSource\n",
    "from anomaly_detector.config import Configuration\n",
    "from anomaly_detector.storage.storage_attribute import MGStorageAttribute\n",
    "from anomaly_detector.model.w2v_model import W2VModel\n",
    "\n",
    "from sklearn.cluster import DBSCAN\n",
    "from sklearn.decomposition import PCA\n",
    "from gensim.models import Word2Vec\n",
    "from nltk.tokenize import word_tokenize\n",
    "import re\n",
    "import string"
   ]
  },
  {
   "cell_type": "code",
   "execution_count": 43,
   "id": "41a1e732",
   "metadata": {},
   "outputs": [],
   "source": [
    "import logging\n",
    "\n",
    "logger = logging.getLogger()\n",
    "logger.setLevel(logging.CRITICAL)"
   ]
  },
  {
   "cell_type": "code",
   "execution_count": 44,
   "id": "4dc2a1ab",
   "metadata": {},
   "outputs": [],
   "source": [
    "def config():\n",
    "    \"\"\"Initialize configurations before testing.\"\"\"\n",
    "    cfg = Configuration()\n",
    "    cfg.MG_HOST = \"172.17.18.83\"\n",
    "    cfg.MG_PORT = 27017\n",
    "    cfg.MG_USER = 'dbadmin'\n",
    "    cfg.MG_PASSWORD = 'password123'\n",
    "    cfg.MG_CERT_DIR = \"\"\n",
    "    cfg.MG_INPUT_DB = \"anomalydb\"\n",
    "    cfg.MG_INPUT_COL = \"utm_anomaly\"\n",
    "    cfg.HOSTNAME_INDEX = \"hostname\"\n",
    "    cfg.DATETIME_INDEX = \"timestamp\"\n",
    "    cfg.TRAIN_VECTOR_LENGTH = 25\n",
    "    cfg.TRAIN_WINDOW = 5\n",
    "    return cfg"
   ]
  },
  {
   "cell_type": "markdown",
   "id": "e6c6c795",
   "metadata": {},
   "source": [
    "# Visualization"
   ]
  },
  {
   "cell_type": "markdown",
   "id": "a3a25bf9",
   "metadata": {},
   "source": [
    "## PCA"
   ]
  },
  {
   "cell_type": "code",
   "execution_count": 32,
   "id": "156fa951",
   "metadata": {},
   "outputs": [],
   "source": [
    "from sklearn.decomposition import PCA"
   ]
  },
  {
   "cell_type": "code",
   "execution_count": 33,
   "id": "06a9cc49",
   "metadata": {},
   "outputs": [],
   "source": [
    "pca = PCA(n_components = 2, random_state = 0)\n",
    "data_2d_pca = pca.fit_transform(vectors)"
   ]
  },
  {
   "cell_type": "code",
   "execution_count": 34,
   "id": "a3047ce1",
   "metadata": {},
   "outputs": [
    {
     "name": "stdout",
     "output_type": "stream",
     "text": [
      "Populating the interactive namespace from numpy and matplotlib\n"
     ]
    }
   ],
   "source": [
    "%pylab inline"
   ]
  },
  {
   "cell_type": "code",
   "execution_count": 35,
   "id": "fc5120f8",
   "metadata": {
    "scrolled": false
   },
   "outputs": [
    {
     "data": {
      "text/plain": [
       "<matplotlib.legend.Legend at 0x7f783278cb20>"
      ]
     },
     "execution_count": 35,
     "metadata": {},
     "output_type": "execute_result"
    },
    {
     "data": {
      "image/png": "[encoded data removed]",
      "text/plain": [
       "<Figure size 720x432 with 1 Axes>"
      ]
     },
     "metadata": {
      "needs_background": "light"
     },
     "output_type": "display_data"
    }
   ],
   "source": [
    "pylab.figure(figsize=(10, 6))\n",
    "scat = pylab.scatter(data_2d_pca[:, 0], data_2d_pca[:, 1], c=list(df[\"cluster\"]))\n",
    "pylab.legend(*scat.legend_elements(num=\"auto\"))"
   ]
  }
 ],
 "metadata": {
  "kernelspec": {
   "display_name": "Python 3",
   "language": "python",
   "name": "python3"
  },
  "language_info": {
   "codemirror_mode": {
    "name": "ipython",
    "version": 3
   },
   "file_extension": ".py",
   "mimetype": "text/x-python",
   "name": "python",
   "nbconvert_exporter": "python",
   "pygments_lexer": "ipython3",
   "version": "3.8.10"
  }
 },
 "nbformat": 4,
 "nbformat_minor": 5
}
