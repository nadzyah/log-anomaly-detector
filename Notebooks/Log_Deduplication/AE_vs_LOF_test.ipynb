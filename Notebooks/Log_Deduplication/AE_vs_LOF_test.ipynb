{
 "cells": [
  {
   "cell_type": "markdown",
   "id": "049c0a30",
   "metadata": {},
   "source": [
    "# AutoEncoder vs Local Outlier Factor\n",
    "\n",
    "Here we want to understand if AE can be more efficient than LOF"
   ]
  },
  {
   "cell_type": "code",
   "execution_count": 1,
   "id": "de15a6c7",
   "metadata": {},
   "outputs": [],
   "source": [
    "import os\n",
    "import time\n",
    "import numpy as np\n",
    "import logging\n",
    "\n",
    "from itertools import product\n",
    "import pandas as pd\n",
    "import re\n",
    "import gensim as gs\n",
    "import matplotlib.pyplot as plt\n",
    "from scipy.spatial.distance import cosine\n",
    "from sklearn.preprocessing import normalize\n",
    "from sklearn.neighbors import LocalOutlierFactor\n",
    "import matplotlib.pyplot as plt\n",
    "\n",
    "from multiprocessing import Pool\n",
    "from functools import partial\n",
    "\n",
    "from sklearn.preprocessing import MinMaxScaler\n",
    "from tensorflow.keras import Model, Sequential\n",
    "from tensorflow.keras.layers import Dense, Dropout\n",
    "import tensorflow"
   ]
  },
  {
   "cell_type": "markdown",
   "id": "29dd68f3",
   "metadata": {},
   "source": [
    "# Define functions\n",
    "\n",
    "#### 1. Log Preprocesing"
   ]
  },
  {
   "cell_type": "code",
   "execution_count": 2,
   "id": "37f24fc3",
   "metadata": {},
   "outputs": [],
   "source": [
    "def preprocess(data):\n",
    "    for col in data.columns:\n",
    "        if col == \"message\":\n",
    "            data[col] = data[col].apply(clean_message)\n",
    "        else:\n",
    "            data[col] = data[col].apply(to_str)\n",
    "\n",
    "    data = data.fillna(\"EMPTY\")\n",
    "    \n",
    "def clean_message(line):\n",
    "    \"\"\"Remove all none alphabetical characters from message strings.\"\"\"\n",
    "    words = list(re.findall(\"[a-zA-Z]+\", line))\n",
    "    return words\n",
    "\n",
    "def to_str(x):\n",
    "    \"\"\"Convert all non-str lists to string lists for Word2Vec.\"\"\"\n",
    "    ret = \" \".join([str(y) for y in x]) if isinstance(x, list) else str(x)\n",
    "    return ret"
   ]
  },
  {
   "cell_type": "markdown",
   "id": "8bf4a53e",
   "metadata": {},
   "source": [
    "#### 2. Text encoding"
   ]
  },
  {
   "cell_type": "code",
   "execution_count": 3,
   "id": "51512f54",
   "metadata": {},
   "outputs": [],
   "source": [
    "def create(logs, vector_length, window_size):\n",
    "    \"\"\"Create new word2vec model.\"\"\"\n",
    "    model = gs.models.Word2Vec(sentences=list(logs), size=vector_length, window=window_size)\n",
    "    return model\n",
    "\n",
    "def get_vectors(model, logs, vector_length):\n",
    "    \"\"\"Return logs as list of vectorized words\"\"\"\n",
    "    vectors = []\n",
    "    for x in logs:\n",
    "        temp = []\n",
    "        for word in x:\n",
    "            if word in model.wv:\n",
    "                temp.append(model.wv[word])\n",
    "            else:\n",
    "                temp.append(np.array([0]*vector_length))\n",
    "        vectors.append(temp)\n",
    "    return vectors\n",
    "\n",
    "def _log_words_to_one_vector(log_words_vectors):\n",
    "        result = []\n",
    "        log_array_transposed = np.array(log_words_vectors, dtype=object).transpose()\n",
    "        for coord in log_array_transposed:\n",
    "            result.append(np.mean(coord))\n",
    "        return result\n",
    "\n",
    "def vectorized_logs_to_single_vectors(vectors):\n",
    "    \"\"\"Represent log messages as vectors according to the vectors\n",
    "    of the words in these logs\n",
    "\n",
    "    :params vectors: list of log messages, represented as list of words vectors\n",
    "            [[wordvec11, wordvec12], [wordvec21, wordvec22], ...]\n",
    "    \"\"\"\n",
    "    result = []\n",
    "    for log_words_vector in vectors:\n",
    "        result.append(_log_words_to_one_vector(log_words_vector))\n",
    "    return np.array(result)"
   ]
  },
  {
   "cell_type": "markdown",
   "id": "5f972f06",
   "metadata": {},
   "source": [
    "#### 3. Training"
   ]
  },
  {
   "cell_type": "markdown",
   "id": "9fc0e999",
   "metadata": {},
   "source": [
    "Time measure decorator"
   ]
  },
  {
   "cell_type": "code",
   "execution_count": 4,
   "id": "77b5396d",
   "metadata": {},
   "outputs": [],
   "source": [
    "def timeit(method):\n",
    "    def timed(*args, **kw):\n",
    "        ts = time.time()\n",
    "        result = method(*args, **kw)\n",
    "        te = time.time()\n",
    "        if 'log_time' in kw:\n",
    "            name = kw.get('log_name', method.__name__.upper())\n",
    "            kw['log_time'][name] = int((te - ts) * 1000)\n",
    "        else:\n",
    "            print('%r  %2.2f ms' % \\\n",
    "                  (method.__name__, (te - ts) * 1000))\n",
    "        return result\n",
    "    return timed"
   ]
  },
  {
   "cell_type": "code",
   "execution_count": 5,
   "id": "4c01ecc8",
   "metadata": {},
   "outputs": [],
   "source": [
    "@timeit\n",
    "def train_lof(X, n_neighbors, metric):\n",
    "    lof = LocalOutlierFactor(n_neighbors=n_neighbors, metric=metric)\n",
    "    pred = lof.fit_predict(X)\n",
    "    lof_model = LocalOutlierFactor(n_neighbors=n_neighbors, metric=metric, novelty=True)\n",
    "    lof_model.fit(X)\n",
    "    return pred, lof_model"
   ]
  },
  {
   "cell_type": "code",
   "execution_count": 6,
   "id": "0997cb70",
   "metadata": {},
   "outputs": [],
   "source": [
    "class AutoEncoder(Model):\n",
    "    \"\"\"\n",
    "    Parameters\n",
    "    ----------\n",
    "    output_units: int\n",
    "      Number of output units\n",
    "  \n",
    "    code_size: int\n",
    "      Number of units in bottle neck\n",
    "    \"\"\"\n",
    "\n",
    "    def __init__(self, output_units, code_size=8):\n",
    "        super().__init__()\n",
    "        self.encoder = Sequential([\n",
    "          Dense(64, activation='relu'),\n",
    "          Dropout(0.1),\n",
    "          Dense(32, activation='relu'),\n",
    "          Dropout(0.1),\n",
    "          Dense(16, activation='relu'),\n",
    "          Dropout(0.1),\n",
    "          Dense(code_size, activation='relu')\n",
    "        ])\n",
    "        self.decoder = Sequential([\n",
    "          Dense(16, activation='relu'),\n",
    "          Dropout(0.1),\n",
    "          Dense(32, activation='relu'),\n",
    "          Dropout(0.1),\n",
    "          Dense(64, activation='relu'),\n",
    "          Dropout(0.1),\n",
    "          Dense(output_units, activation='sigmoid')\n",
    "        ])\n",
    "  \n",
    "    def call(self, inputs):\n",
    "        encoded = self.encoder(inputs)\n",
    "        decoded = self.decoder(encoded)\n",
    "        return decoded\n",
    "\n",
    "    @timeit\n",
    "    def fitit(self, *args, **kwargs):\n",
    "        self.fit(*args, **kwargs)"
   ]
  },
  {
   "cell_type": "code",
   "execution_count": 7,
   "id": "efc6bccc",
   "metadata": {},
   "outputs": [],
   "source": [
    "def find_threshold(model, x_train_scaled):\n",
    "    reconstructions = model.predict(x_train_scaled)\n",
    "    # provides losses of individual instances\n",
    "    reconstruction_errors = tensorflow.keras.losses.msle(reconstructions, x_train_scaled)\n",
    "    # threshold for anomaly scores\n",
    "    threshold = np.mean(reconstruction_errors.numpy()) \\\n",
    "                + np.std(reconstruction_errors.numpy())\n",
    "    return threshold\n",
    "\n",
    "def get_predictions(model, x_test_scaled, threshold):\n",
    "    predictions = model.predict(x_test_scaled)\n",
    "    # provides losses of individual instances\n",
    "    errors = tensorflow.keras.losses.msle(predictions, x_test_scaled)\n",
    "    # 1 = anomaly, 0 = normal\n",
    "    anomaly_mask = pd.Series(errors) > threshold\n",
    "    preds = anomaly_mask.map(lambda x: 1 if x == True else 0)\n",
    "    return preds, errors"
   ]
  },
  {
   "cell_type": "markdown",
   "id": "704e0bb8",
   "metadata": {},
   "source": [
    "#### 4. Prediction"
   ]
  },
  {
   "cell_type": "code",
   "execution_count": 8,
   "id": "76948320",
   "metadata": {},
   "outputs": [],
   "source": [
    "def infer_lof(log, lof, loglist):\n",
    "    log = pd.DataFrame({\"message\": log}, index=[1])\n",
    "    preprocess(log)\n",
    "    \n",
    "    vector = []\n",
    "    w2v = gs.models.Word2Vec([log.message.iloc[0]] + loglist,\n",
    "                             min_count=1, size=25, window=5)\n",
    "    for word in log.message.iloc[0]:\n",
    "        if word in w2v.wv.vocab.keys():\n",
    "            vector.append(w2v.wv[word])\n",
    "        else:\n",
    "            vector.append(np.array([0]*25))\n",
    "    one_vector = _log_words_to_one_vector(vector)\n",
    "    pred = lof.predict([one_vector])\n",
    "    score = abs(lof.score_samples([one_vector])[0])\n",
    "    if pred[0] == -1:\n",
    "        return 1, score\n",
    "    return 0, score"
   ]
  },
  {
   "cell_type": "markdown",
   "id": "20beaa1a",
   "metadata": {},
   "source": [
    "# Implementation"
   ]
  },
  {
   "cell_type": "code",
   "execution_count": 41,
   "id": "b080622d",
   "metadata": {},
   "outputs": [],
   "source": [
    "data_path = r\"file:///home/nadzya/Apps/log-anomaly-detector/validation_data/solidex.by.json\"\n",
    "data = pd.DataFrame(pd.read_json(data_path, orient=str).message).iloc[:10000]\n",
    "\n",
    "preprocessed_data = data.copy()\n",
    "preprocess(preprocessed_data)\n",
    "\n",
    "logs_list = list(preprocessed_data.message)"
   ]
  },
  {
   "cell_type": "code",
   "execution_count": 42,
   "id": "6d137117",
   "metadata": {
    "scrolled": true
   },
   "outputs": [],
   "source": [
    "w2v = create(logs_list, vector_length=25, window_size=5)"
   ]
  },
  {
   "cell_type": "code",
   "execution_count": 43,
   "id": "eff00c00",
   "metadata": {},
   "outputs": [],
   "source": [
    "vectors = get_vectors(model=w2v, logs=logs_list, vector_length=25)\n",
    "logs_as_vectors = vectorized_logs_to_single_vectors(vectors)"
   ]
  },
  {
   "cell_type": "markdown",
   "id": "93337e87",
   "metadata": {},
   "source": [
    "## LOF"
   ]
  },
  {
   "cell_type": "code",
   "execution_count": 44,
   "id": "2019a51e",
   "metadata": {},
   "outputs": [
    {
     "name": "stdout",
     "output_type": "stream",
     "text": [
      "'train_lof'  3829.86 ms\n"
     ]
    }
   ],
   "source": [
    "pred, lof = train_lof(logs_as_vectors, 100, 'euclidean')"
   ]
  },
  {
   "cell_type": "code",
   "execution_count": 45,
   "id": "b0513f04",
   "metadata": {},
   "outputs": [],
   "source": [
    "anomaly_lof = []\n",
    "for x in pred:\n",
    "    if x == 1:\n",
    "        anomaly_lof.append(0)\n",
    "    else:\n",
    "        anomaly_lof.append(1)"
   ]
  },
  {
   "cell_type": "code",
   "execution_count": 46,
   "id": "90f87a5b",
   "metadata": {},
   "outputs": [
    {
     "data": {
      "text/plain": [
       "1.19"
      ]
     },
     "execution_count": 46,
     "metadata": {},
     "output_type": "execute_result"
    }
   ],
   "source": [
    "100*len([x for x in anomaly_lof if x == 1])/len(data)"
   ]
  },
  {
   "cell_type": "code",
   "execution_count": 47,
   "id": "50e165f7",
   "metadata": {},
   "outputs": [],
   "source": [
    "data_lof = data.copy()\n",
    "data_lof[\"anomaly\"] = anomaly_lof"
   ]
  },
  {
   "cell_type": "markdown",
   "id": "61a0ab24",
   "metadata": {},
   "source": [
    "## AE"
   ]
  },
  {
   "cell_type": "code",
   "execution_count": 48,
   "id": "f775ace1",
   "metadata": {},
   "outputs": [],
   "source": [
    "min_max_scaler = MinMaxScaler(feature_range=(0, 1))\n",
    "logs_scaled = min_max_scaler.fit_transform(logs_as_vectors.copy())"
   ]
  },
  {
   "cell_type": "code",
   "execution_count": 49,
   "id": "7099a19d",
   "metadata": {},
   "outputs": [],
   "source": [
    "ae = AutoEncoder(output_units=logs_scaled.shape[1])\n",
    "ae.compile(loss='msle', metrics=['mse'], optimizer='adam')"
   ]
  },
  {
   "cell_type": "code",
   "execution_count": 50,
   "id": "0a6b5e5a",
   "metadata": {
    "scrolled": true
   },
   "outputs": [
    {
     "name": "stdout",
     "output_type": "stream",
     "text": [
      "Epoch 1/20\n",
      "20/20 [==============================] - 1s 4ms/step - loss: 0.0523 - mse: 0.1026\n",
      "Epoch 2/20\n",
      "20/20 [==============================] - 0s 5ms/step - loss: 0.0304 - mse: 0.0614\n",
      "Epoch 3/20\n",
      "20/20 [==============================] - 0s 4ms/step - loss: 0.0204 - mse: 0.0423\n",
      "Epoch 4/20\n",
      "20/20 [==============================] - 0s 7ms/step - loss: 0.0185 - mse: 0.0383\n",
      "Epoch 5/20\n",
      "20/20 [==============================] - 0s 9ms/step - loss: 0.0176 - mse: 0.0362\n",
      "Epoch 6/20\n",
      "20/20 [==============================] - 0s 5ms/step - loss: 0.0168 - mse: 0.0347\n",
      "Epoch 7/20\n",
      "20/20 [==============================] - 0s 4ms/step - loss: 0.0159 - mse: 0.0327\n",
      "Epoch 8/20\n",
      "20/20 [==============================] - 0s 6ms/step - loss: 0.0142 - mse: 0.0291\n",
      "Epoch 9/20\n",
      "20/20 [==============================] - 0s 5ms/step - loss: 0.0123 - mse: 0.0249\n",
      "Epoch 10/20\n",
      "20/20 [==============================] - 0s 6ms/step - loss: 0.0106 - mse: 0.0213\n",
      "Epoch 11/20\n",
      "20/20 [==============================] - 0s 6ms/step - loss: 0.0096 - mse: 0.0192\n",
      "Epoch 12/20\n",
      "20/20 [==============================] - 0s 4ms/step - loss: 0.0091 - mse: 0.0181\n",
      "Epoch 13/20\n",
      "20/20 [==============================] - 0s 4ms/step - loss: 0.0085 - mse: 0.0170\n",
      "Epoch 14/20\n",
      "20/20 [==============================] - 0s 4ms/step - loss: 0.0077 - mse: 0.0158\n",
      "Epoch 15/20\n",
      "20/20 [==============================] - 0s 5ms/step - loss: 0.0069 - mse: 0.0147\n",
      "Epoch 16/20\n",
      "20/20 [==============================] - 0s 4ms/step - loss: 0.0065 - mse: 0.0140\n",
      "Epoch 17/20\n",
      "20/20 [==============================] - 0s 5ms/step - loss: 0.0062 - mse: 0.0134\n",
      "Epoch 18/20\n",
      "20/20 [==============================] - 0s 4ms/step - loss: 0.0059 - mse: 0.0128\n",
      "Epoch 19/20\n",
      "20/20 [==============================] - 0s 5ms/step - loss: 0.0056 - mse: 0.0121\n",
      "Epoch 20/20\n",
      "20/20 [==============================] - 0s 4ms/step - loss: 0.0052 - mse: 0.0115\n",
      "'fitit'  3268.38 ms\n"
     ]
    }
   ],
   "source": [
    "ae_result = ae.fitit(logs_scaled, logs_scaled, epochs=20, batch_size=512)"
   ]
  },
  {
   "cell_type": "code",
   "execution_count": 51,
   "id": "b115d068",
   "metadata": {},
   "outputs": [
    {
     "data": {
      "text/plain": [
       "0.0149065366831122"
      ]
     },
     "execution_count": 51,
     "metadata": {},
     "output_type": "execute_result"
    }
   ],
   "source": [
    "threshold = find_threshold(ae, logs_scaled)\n",
    "threshold"
   ]
  },
  {
   "cell_type": "code",
   "execution_count": 52,
   "id": "2c223b67",
   "metadata": {},
   "outputs": [],
   "source": [
    "predictions, ae_errors = get_predictions(ae, logs_scaled, threshold)"
   ]
  },
  {
   "cell_type": "code",
   "execution_count": 53,
   "id": "ed62c0df",
   "metadata": {},
   "outputs": [
    {
     "data": {
      "text/plain": [
       "7.27"
      ]
     },
     "execution_count": 53,
     "metadata": {},
     "output_type": "execute_result"
    }
   ],
   "source": [
    "100*len(predictions.loc[predictions == 1])/len(data)"
   ]
  },
  {
   "cell_type": "code",
   "execution_count": 54,
   "id": "cb62f504",
   "metadata": {},
   "outputs": [],
   "source": [
    "data_ae = data.copy()\n",
    "data_ae[\"anomaly\"] = predictions"
   ]
  },
  {
   "cell_type": "markdown",
   "id": "7425ace3",
   "metadata": {},
   "source": [
    "## AE vs LOF"
   ]
  },
  {
   "cell_type": "code",
   "execution_count": 55,
   "id": "c909dff7",
   "metadata": {},
   "outputs": [],
   "source": [
    "lof_anomaly_msgs = list(data_lof.loc[data_lof[\"anomaly\"] == 1].message)"
   ]
  },
  {
   "cell_type": "code",
   "execution_count": 56,
   "id": "4ec195f5",
   "metadata": {
    "scrolled": true
   },
   "outputs": [],
   "source": [
    "ae_anomaly_msgs = list(data_ae.loc[data_ae[\"anomaly\"] == 1].message)"
   ]
  },
  {
   "cell_type": "code",
   "execution_count": 57,
   "id": "e2499507",
   "metadata": {
    "scrolled": true
   },
   "outputs": [],
   "source": [
    "lof_diff_logs = []\n",
    "ae_diff_logs = []\n",
    "for x in list(set(ae_anomaly_msgs) - set(lof_anomaly_msgs)) + list(set(lof_anomaly_msgs) - set(ae_anomaly_msgs)) :\n",
    "    if (x in lof_anomaly_msgs) and (not x in ae_anomaly_msgs):\n",
    "        lof_diff_logs.append(x)\n",
    "    if x in ae_anomaly_msgs and not x in lof_anomaly_msgs:\n",
    "        ae_diff_logs.append(x)"
   ]
  },
  {
   "cell_type": "code",
   "execution_count": 58,
   "id": "86f1c4ea",
   "metadata": {},
   "outputs": [
    {
     "name": "stdout",
     "output_type": "stream",
     "text": [
      "Total logs 10000\n",
      "Anomalies, detected by LOF: 119\n",
      "Anomaly percentage, detected by LOF: 1.19 %\n",
      "Anomalies, detected by AE: 727\n",
      "Anomaly percentage, detected by AE: 7.27 %\n",
      "Number of messages, that LOF detected, but AE did not: 7\n",
      "Number of messages, that AE detected, but LOF did not: 97\n"
     ]
    }
   ],
   "source": [
    "print(\"Total logs\", len(data))\n",
    "print(\"Anomalies, detected by LOF:\", len(lof_anomaly_msgs))\n",
    "print(\"Anomaly percentage, detected by LOF:\", len(lof_anomaly_msgs)*100/len(data), \"%\")\n",
    "\n",
    "print(\"Anomalies, detected by AE:\", len(ae_anomaly_msgs))\n",
    "print(\"Anomaly percentage, detected by AE:\", len(ae_anomaly_msgs)*100/len(data), \"%\")\n",
    "\n",
    "print(\"Number of messages, that LOF detected, but AE did not:\", len(lof_diff_logs))\n",
    "print(\"Number of messages, that AE detected, but LOF did not:\", len(ae_diff_logs))"
   ]
  },
  {
   "cell_type": "code",
   "execution_count": 59,
   "id": "a5c8828b",
   "metadata": {
    "scrolled": true
   },
   "outputs": [
    {
     "data": {
      "text/plain": [
       "['<158>Nov 25 15:18:31 195-137-160-145 nginx-access 34.230.24.123 - - [25/Nov/2021:15:18:24 +0300] \"GET / HTTP/1.1\" 301 0 \"-\" \"CCBot/2.0 (https://commoncrawl.org/faq/)\"',\n",
       " '<158>Nov 25 16:01:54 195-137-160-145 nginx-access 35.85.55.209 - - [25/Nov/2021:16:01:46 +0300] \"GET /wp-content/themes/wsp/assets/img/favicon-32x32.png HTTP/1.1\" 200 1839 \"-\" \"Go-http-client/1.1\"',\n",
       " '<158>Nov 25 16:53:56 195-137-160-145 nginx-access 109.252.51.37 - - [25/Nov/2021:16:53:50 +0300] \"GET /category/stati/feed/ HTTP/1.1\" 200 28856 \"-\" \"Reeder/5000.99.01 CFNetwork/1325.0.1 Darwin/21.1.0\"',\n",
       " '<158>Nov 25 14:53:40 195-137-160-145 nginx-access 109.252.51.37 - - [25/Nov/2021:14:53:40 +0300] \"GET /category/stati/feed/ HTTP/1.1\" 200 28856 \"-\" \"Reeder/5000.99.01 CFNetwork/1325.0.1 Darwin/21.1.0\"',\n",
       " '<158>Nov 25 14:23:49 195-137-160-145 nginx-access 109.252.51.37 - - [25/Nov/2021:14:23:39 +0300] \"GET /category/stati/feed/ HTTP/1.1\" 200 28856 \"-\" \"Reeder/5000.99.01 CFNetwork/1325.0.1 Darwin/21.1.0\"',\n",
       " '<158>Nov 25 15:18:31 195-137-160-145 nginx-access 34.230.24.123 - - [25/Nov/2021:15:18:27 +0300] \"GET / HTTP/1.1\" 200 3717 \"-\" \"CCBot/2.0 (https://commoncrawl.org/faq/)\"',\n",
       " '<158>Nov 25 16:53:46 195-137-160-145 nginx-access 157.55.39.89 - - [25/Nov/2021:16:53:38 +0300] \"GET /wp-content/uploads/2019/09/image008.png HTTP/1.1\" 200 50884 \"-\" \"Mozilla/5.0 (compatible; bingbot/2.0; +http://www.bing.com/bingbot.htm)\"']"
      ]
     },
     "execution_count": 59,
     "metadata": {},
     "output_type": "execute_result"
    }
   ],
   "source": [
    "lof_diff_logs"
   ]
  },
  {
   "cell_type": "code",
   "execution_count": 60,
   "id": "df52c9c8",
   "metadata": {
    "scrolled": true
   },
   "outputs": [
    {
     "data": {
      "text/plain": [
       "['<158>Nov 25 16:32:55 195-137-160-145 nginx-access 63.143.42.253 - - [25/Nov/2021:16:32:49 +0300] \"HEAD / HTTP/1.1\" 200 0 \"http://solidex.by\" \"Mozilla/5.0+(compatible; UptimeRobot/2.0; http://www.uptimerobot.com/)\"',\n",
       " '<158>Nov 25 16:32:55 195-137-160-145 nginx-access 63.143.42.253 - - [25/Nov/2021:16:32:48 +0300] \"HEAD / HTTP/1.1\" 301 0 \"http://solidex.by\" \"Mozilla/5.0+(compatible; UptimeRobot/2.0; http://www.uptimerobot.com/)\"',\n",
       " '<158>Nov 25 14:22:49 195-137-160-145 nginx-access 63.143.42.253 - - [25/Nov/2021:14:22:48 +0300] \"HEAD / HTTP/1.1\" 301 0 \"http://solidex.by\" \"Mozilla/5.0+(compatible; UptimeRobot/2.0; http://www.uptimerobot.com/)\"',\n",
       " '<158>Nov 25 14:41:20 195-137-160-145 nginx-access 69.162.124.230 - - [25/Nov/2021:14:41:19 +0300] \"HEAD / HTTP/1.1\" 200 0 \"http://solidex.by\" \"Mozilla/5.0+(compatible; UptimeRobot/2.0; http://www.uptimerobot.com/)\"',\n",
       " '<158>Nov 25 15:56:13 195-137-160-145 nginx-access 69.162.124.230 - - [25/Nov/2021:15:56:13 +0300] \"HEAD / HTTP/1.1\" 301 0 \"http://solidex.by\" \"Mozilla/5.0+(compatible; UptimeRobot/2.0; http://www.uptimerobot.com/)\"',\n",
       " '<158>Nov 25 15:18:31 195-137-160-145 nginx-access 2021/11/25 15:18:26 [error] 492#492: *15417664 open() \"/var/www/solidex.by/public_html/robots.txt\" failed (2: No such file or directory), client: 34.230.24.123, server: , request: \"GET /robots.txt HTTP/1.1\", host: \"www.solidex.by\"',\n",
       " '<158>Nov 25 14:46:20 195-137-160-145 nginx-access 69.162.124.230 - - [25/Nov/2021:14:46:13 +0300] \"HEAD / HTTP/1.1\" 200 0 \"http://solidex.by\" \"Mozilla/5.0+(compatible; UptimeRobot/2.0; http://www.uptimerobot.com/)\"',\n",
       " '<158>Nov 25 16:02:54 195-137-160-145 nginx-access 2021/11/25 16:02:46 [error] 492#492: *15418953 open() \"/var/www/solidex.by/public_html/favicon.ico\" failed (2: No such file or directory), client: 35.166.232.52, server: , request: \"GET /favicon.ico HTTP/1.1\", host: \"solidex.by\"',\n",
       " '<158>Nov 25 13:46:17 195-137-160-145 nginx-access 69.162.124.230 - - [25/Nov/2021:13:46:13 +0300] \"HEAD / HTTP/1.1\" 301 0 \"http://solidex.by\" \"Mozilla/5.0+(compatible; UptimeRobot/2.0; http://www.uptimerobot.com/)\"',\n",
       " '<158>Nov 25 13:36:16 195-137-160-145 nginx-access 69.162.124.230 - - [25/Nov/2021:13:36:13 +0300] \"HEAD / HTTP/1.1\" 301 0 \"http://solidex.by\" \"Mozilla/5.0+(compatible; UptimeRobot/2.0; http://www.uptimerobot.com/)\"',\n",
       " '<158>Nov 25 13:06:15 195-137-160-145 nginx-access 69.162.124.230 - - [25/Nov/2021:13:06:13 +0300] \"HEAD / HTTP/1.1\" 301 0 \"http://solidex.by\" \"Mozilla/5.0+(compatible; UptimeRobot/2.0; http://www.uptimerobot.com/)\"',\n",
       " '<158>Nov 25 13:46:17 195-137-160-145 nginx-access 69.162.124.230 - - [25/Nov/2021:13:46:14 +0300] \"HEAD / HTTP/1.1\" 200 0 \"http://solidex.by\" \"Mozilla/5.0+(compatible; UptimeRobot/2.0; http://www.uptimerobot.com/)\"',\n",
       " '<158>Nov 25 15:18:31 195-137-160-145 nginx-access 2021/11/25 15:18:24 [error] 492#492: *15417662 open() \"/var/www/solidex.by/public_html/robots.txt\" failed (2: No such file or directory), client: 34.230.24.123, server: , request: \"GET /robots.txt HTTP/1.1\", host: \"solidex.by\"',\n",
       " '<158>Nov 25 16:02:54 195-137-160-145 nginx-access 2021/11/25 16:02:48 [error] 492#492: *15418960 open() \"/var/www/solidex.by/public_html/favicon.ico\" failed (2: No such file or directory), client: 35.166.232.52, server: , request: \"GET /favicon.ico HTTP/1.1\", host: \"solidex.by\"',\n",
       " '<158>Nov 25 16:17:54 195-137-160-145 nginx-access 63.143.42.253 - - [25/Nov/2021:16:17:48 +0300] \"HEAD / HTTP/1.1\" 301 0 \"http://solidex.by\" \"Mozilla/5.0+(compatible; UptimeRobot/2.0; http://www.uptimerobot.com/)\"',\n",
       " '<158>Nov 25 16:57:57 195-137-160-145 nginx-access 63.143.42.253 - - [25/Nov/2021:16:57:49 +0300] \"HEAD / HTTP/1.1\" 200 0 \"http://solidex.by\" \"Mozilla/5.0+(compatible; UptimeRobot/2.0; http://www.uptimerobot.com/)\"',\n",
       " '<158>Nov 25 16:42:56 195-137-160-145 nginx-access 63.143.42.253 - - [25/Nov/2021:16:42:48 +0300] \"HEAD / HTTP/1.1\" 301 0 \"http://solidex.by\" \"Mozilla/5.0+(compatible; UptimeRobot/2.0; http://www.uptimerobot.com/)\"',\n",
       " '<158>Nov 25 15:01:21 195-137-160-145 nginx-access 69.162.124.230 - - [25/Nov/2021:15:01:13 +0300] \"HEAD / HTTP/1.1\" 301 0 \"http://solidex.by\" \"Mozilla/5.0+(compatible; UptimeRobot/2.0; http://www.uptimerobot.com/)\"',\n",
       " '<158>Nov 25 16:17:54 195-137-160-145 nginx-access 63.143.42.253 - - [25/Nov/2021:16:17:49 +0300] \"HEAD / HTTP/1.1\" 200 0 \"http://solidex.by\" \"Mozilla/5.0+(compatible; UptimeRobot/2.0; http://www.uptimerobot.com/)\"',\n",
       " '<158>Nov 25 16:56:16 195-137-160-145 nginx-access 69.162.124.230 - - [25/Nov/2021:16:56:14 +0300] \"HEAD / HTTP/1.1\" 200 0 \"http://solidex.by\" \"Mozilla/5.0+(compatible; UptimeRobot/2.0; http://www.uptimerobot.com/)\"',\n",
       " '<158>Nov 25 12:04:11 195-137-160-145 nginx-access 167.99.37.163 - - [25/Nov/2021:12:04:10 +0300] \"GET /courses/ HTTP/1.1\" 200 3207 \"http://www.solidex.by/o-kompanii/\" \"Mozilla/5.0 (X11; Linux x86_64) AppleWebKit/537.36 (KHTML, like Gecko) Chrome/95.0.4638.69 Safari/537.36\"',\n",
       " '<158>Nov 25 15:32:52 195-137-160-145 nginx-access 63.143.42.253 - - [25/Nov/2021:15:32:48 +0300] \"HEAD / HTTP/1.1\" 301 0 \"http://solidex.by\" \"Mozilla/5.0+(compatible; UptimeRobot/2.0; http://www.uptimerobot.com/)\"',\n",
       " '<158>Nov 25 16:36:25 195-137-160-145 nginx-access 69.162.124.230 - - [25/Nov/2021:16:36:16 +0300] \"HEAD / HTTP/1.1\" 301 0 \"http://solidex.by\" \"Mozilla/5.0+(compatible; UptimeRobot/2.0; http://www.uptimerobot.com/)\"',\n",
       " '<158>Nov 25 15:56:23 195-137-160-145 nginx-access 69.162.124.230 - - [25/Nov/2021:15:56:14 +0300] \"HEAD / HTTP/1.1\" 200 0 \"http://solidex.by\" \"Mozilla/5.0+(compatible; UptimeRobot/2.0; http://www.uptimerobot.com/)\"',\n",
       " '<158>Nov 25 16:46:16 195-137-160-145 nginx-access 69.162.124.230 - - [25/Nov/2021:16:46:14 +0300] \"HEAD / HTTP/1.1\" 200 0 \"http://solidex.by\" \"Mozilla/5.0+(compatible; UptimeRobot/2.0; http://www.uptimerobot.com/)\"',\n",
       " '<158>Nov 25 15:42:53 195-137-160-145 nginx-access 63.143.42.253 - - [25/Nov/2021:15:42:48 +0300] \"HEAD / HTTP/1.1\" 301 0 \"http://solidex.by\" \"Mozilla/5.0+(compatible; UptimeRobot/2.0; http://www.uptimerobot.com/)\"',\n",
       " '<158>Nov 25 15:16:41 195-137-160-145 nginx-access 43.225.21.178 - - [25/Nov/2021:15:16:33 +0300] \"GET /wp-config-samples.php HTTP/1.1\" 301 0 \"http://simplesite.com\" \"Mozilla/5.0 (Windows; U; Windows NT 5.1; en-US) AppleWebKit/533.4 (KHTML, like Gecko) Chrome/5.0.375.99 Safari/533.4\"',\n",
       " '<158>Nov 25 13:16:15 195-137-160-145 nginx-access 69.162.124.230 - - [25/Nov/2021:13:16:13 +0300] \"HEAD / HTTP/1.1\" 301 0 \"http://solidex.by\" \"Mozilla/5.0+(compatible; UptimeRobot/2.0; http://www.uptimerobot.com/)\"',\n",
       " '<158>Nov 25 14:17:48 195-137-160-145 nginx-access 63.143.42.253 - - [25/Nov/2021:14:17:48 +0300] \"HEAD / HTTP/1.1\" 301 0 \"http://solidex.by\" \"Mozilla/5.0+(compatible; UptimeRobot/2.0; http://www.uptimerobot.com/)\"',\n",
       " '<158>Nov 25 16:31:15 195-137-160-145 nginx-access 69.162.124.230 - - [25/Nov/2021:16:31:13 +0300] \"HEAD / HTTP/1.1\" 301 0 \"http://solidex.by\" \"Mozilla/5.0+(compatible; UptimeRobot/2.0; http://www.uptimerobot.com/)\"',\n",
       " '<158>Nov 25 16:02:54 195-137-160-145 nginx-access 35.166.232.52 - - [25/Nov/2021:16:02:48 +0300] \"GET /favicon.ico HTTP/1.1\" 404 200 \"-\" \"Mozilla/5.0 (X11; Linux x86_64) AppleWebKit/537.36 (KHTML, like Gecko) Chrome/83.0.4103.97 Safari/537.36\"',\n",
       " '<158>Nov 25 16:28:55 195-137-160-145 nginx-access 114.119.149.228 - - [25/Nov/2021:16:28:51 +0300] \"GET /robots.txt HTTP/1.1\" 404 143 \"-\" \"Mozilla/5.0 (compatible;PetalBot;+https://webmaster.petalsearch.com/site/petalbot)\"',\n",
       " '<158>Nov 25 14:42:50 195-137-160-145 nginx-access 63.143.42.253 - - [25/Nov/2021:14:42:48 +0300] \"HEAD / HTTP/1.1\" 301 0 \"http://solidex.by\" \"Mozilla/5.0+(compatible; UptimeRobot/2.0; http://www.uptimerobot.com/)\"',\n",
       " '<158>Nov 25 15:07:51 195-137-160-145 nginx-access 63.143.42.253 - - [25/Nov/2021:15:07:49 +0300] \"HEAD / HTTP/1.1\" 200 0 \"http://solidex.by\" \"Mozilla/5.0+(compatible; UptimeRobot/2.0; http://www.uptimerobot.com/)\"',\n",
       " '<158>Nov 25 13:06:15 195-137-160-145 nginx-access 69.162.124.230 - - [25/Nov/2021:13:06:14 +0300] \"HEAD / HTTP/1.1\" 200 0 \"http://solidex.by\" \"Mozilla/5.0+(compatible; UptimeRobot/2.0; http://www.uptimerobot.com/)\"',\n",
       " '<158>Nov 25 16:37:55 195-137-160-145 nginx-access 63.143.42.253 - - [25/Nov/2021:16:37:49 +0300] \"HEAD / HTTP/1.1\" 200 0 \"http://solidex.by\" \"Mozilla/5.0+(compatible; UptimeRobot/2.0; http://www.uptimerobot.com/)\"',\n",
       " '<158>Nov 25 16:01:44 195-137-160-145 nginx-access 2021/11/25 16:01:44 [error] 492#492: *15418919 open() \"/var/www/solidex.by/public_html/favicon.ico\" failed (2: No such file or directory), client: 35.85.55.209, server: , request: \"GET /favicon.ico HTTP/1.1\", host: \"solidex.by\"',\n",
       " '<158>Nov 25 15:41:23 195-137-160-145 nginx-access 69.162.124.230 - - [25/Nov/2021:15:41:13 +0300] \"HEAD / HTTP/1.1\" 301 0 \"http://solidex.by\" \"Mozilla/5.0+(compatible; UptimeRobot/2.0; http://www.uptimerobot.com/)\"',\n",
       " '<158>Nov 25 16:51:16 195-137-160-145 nginx-access 69.162.124.230 - - [25/Nov/2021:16:51:14 +0300] \"HEAD / HTTP/1.1\" 200 0 \"http://solidex.by\" \"Mozilla/5.0+(compatible; UptimeRobot/2.0; http://www.uptimerobot.com/)\"',\n",
       " '<158>Nov 25 14:52:50 195-137-160-145 nginx-access 63.143.42.253 - - [25/Nov/2021:14:52:49 +0300] \"HEAD / HTTP/1.1\" 200 0 \"http://solidex.by\" \"Mozilla/5.0+(compatible; UptimeRobot/2.0; http://www.uptimerobot.com/)\"',\n",
       " '<158>Nov 25 16:53:36 195-137-160-145 nginx-access 144.91.68.146 - - [25/Nov/2021:16:53:29 +0300] \"POST /wp-login.php HTTP/1.1\" 200 1697 \"-\" \"Mozilla/5.0 (Windows NT 6.1; WOW64) AppleWebKit/537.36 (KHTML, like Gecko) Chrome/63.0.3239.132 Safari/537.36\"',\n",
       " '<158>Nov 25 16:36:25 195-137-160-145 nginx-access 69.162.124.230 - - [25/Nov/2021:16:36:19 +0300] \"HEAD / HTTP/1.1\" 200 0 \"http://solidex.by\" \"Mozilla/5.0+(compatible; UptimeRobot/2.0; http://www.uptimerobot.com/)\"',\n",
       " '<158>Nov 25 16:01:54 195-137-160-145 nginx-access 35.85.55.209 - - [25/Nov/2021:16:01:44 +0300] \"GET / HTTP/1.1\" 301 0 \"-\" \"Mozilla/5.0 (X11; Linux x86_64) AppleWebKit/537.36 (KHTML, like Gecko) Chrome/83.0.4103.97 Safari/537.36\"',\n",
       " '<158>Nov 25 16:28:55 195-137-160-145 nginx-access 2021/11/25 16:28:51 [error] 492#492: *15419739 open() \"/var/www/solidex.by/public_html/robots.txt\" failed (2: No such file or directory), client: 114.119.149.228, server: , request: \"GET /robots.txt HTTP/1.1\", host: \"www.solidex.by\"',\n",
       " '<158>Nov 25 16:52:56 195-137-160-145 nginx-access 63.143.42.253 - - [25/Nov/2021:16:52:49 +0300] \"HEAD / HTTP/1.1\" 200 0 \"http://solidex.by\" \"Mozilla/5.0+(compatible; UptimeRobot/2.0; http://www.uptimerobot.com/)\"',\n",
       " '<158>Nov 25 15:41:23 195-137-160-145 nginx-access 69.162.124.230 - - [25/Nov/2021:15:41:14 +0300] \"HEAD / HTTP/1.1\" 200 0 \"http://solidex.by\" \"Mozilla/5.0+(compatible; UptimeRobot/2.0; http://www.uptimerobot.com/)\"',\n",
       " '<158>Nov 25 16:47:56 195-137-160-145 nginx-access 63.143.42.253 - - [25/Nov/2021:16:47:48 +0300] \"HEAD / HTTP/1.1\" 200 0 \"http://solidex.by\" \"Mozilla/5.0+(compatible; UptimeRobot/2.0; http://www.uptimerobot.com/)\"',\n",
       " '<158>Nov 25 14:41:20 195-137-160-145 nginx-access 69.162.124.230 - - [25/Nov/2021:14:41:13 +0300] \"HEAD / HTTP/1.1\" 301 0 \"http://solidex.by\" \"Mozilla/5.0+(compatible; UptimeRobot/2.0; http://www.uptimerobot.com/)\"',\n",
       " '<158>Nov 25 14:46:20 195-137-160-145 nginx-access 69.162.124.230 - - [25/Nov/2021:14:46:13 +0300] \"HEAD / HTTP/1.1\" 301 0 \"http://solidex.by\" \"Mozilla/5.0+(compatible; UptimeRobot/2.0; http://www.uptimerobot.com/)\"',\n",
       " '<158>Nov 25 13:52:57 195-137-160-145 nginx-access 63.143.42.253 - - [25/Nov/2021:13:52:48 +0300] \"HEAD / HTTP/1.1\" 301 0 \"http://solidex.by\" \"Mozilla/5.0+(compatible; UptimeRobot/2.0; http://www.uptimerobot.com/)\"',\n",
       " '<158>Nov 25 16:41:16 195-137-160-145 nginx-access 69.162.124.230 - - [25/Nov/2021:16:41:13 +0300] \"HEAD / HTTP/1.1\" 301 0 \"http://solidex.by\" \"Mozilla/5.0+(compatible; UptimeRobot/2.0; http://www.uptimerobot.com/)\"',\n",
       " '<158>Nov 25 15:42:53 195-137-160-145 nginx-access 63.143.42.253 - - [25/Nov/2021:15:42:49 +0300] \"HEAD / HTTP/1.1\" 200 0 \"http://solidex.by\" \"Mozilla/5.0+(compatible; UptimeRobot/2.0; http://www.uptimerobot.com/)\"',\n",
       " '<158>Nov 25 16:57:57 195-137-160-145 nginx-access 63.143.42.253 - - [25/Nov/2021:16:57:48 +0300] \"HEAD / HTTP/1.1\" 301 0 \"http://solidex.by\" \"Mozilla/5.0+(compatible; UptimeRobot/2.0; http://www.uptimerobot.com/)\"',\n",
       " '<158>Nov 25 15:01:21 195-137-160-145 nginx-access 69.162.124.230 - - [25/Nov/2021:15:01:14 +0300] \"HEAD / HTTP/1.1\" 200 0 \"http://solidex.by\" \"Mozilla/5.0+(compatible; UptimeRobot/2.0; http://www.uptimerobot.com/)\"',\n",
       " '<158>Nov 25 14:42:50 195-137-160-145 nginx-access 63.143.42.253 - - [25/Nov/2021:14:42:49 +0300] \"HEAD / HTTP/1.1\" 200 0 \"http://solidex.by\" \"Mozilla/5.0+(compatible; UptimeRobot/2.0; http://www.uptimerobot.com/)\"',\n",
       " '<158>Nov 25 16:42:56 195-137-160-145 nginx-access 63.143.42.253 - - [25/Nov/2021:16:42:49 +0300] \"HEAD / HTTP/1.1\" 200 0 \"http://solidex.by\" \"Mozilla/5.0+(compatible; UptimeRobot/2.0; http://www.uptimerobot.com/)\"',\n",
       " '<158>Nov 25 14:02:58 195-137-160-145 nginx-access 63.143.42.253 - - [25/Nov/2021:14:02:49 +0300] \"HEAD / HTTP/1.1\" 200 0 \"http://solidex.by\" \"Mozilla/5.0+(compatible; UptimeRobot/2.0; http://www.uptimerobot.com/)\"',\n",
       " '<158>Nov 25 16:41:16 195-137-160-145 nginx-access 69.162.124.230 - - [25/Nov/2021:16:41:13 +0300] \"HEAD / HTTP/1.1\" 200 0 \"http://solidex.by\" \"Mozilla/5.0+(compatible; UptimeRobot/2.0; http://www.uptimerobot.com/)\"',\n",
       " '<158>Nov 25 16:47:56 195-137-160-145 nginx-access 63.143.42.253 - - [25/Nov/2021:16:47:48 +0300] \"HEAD / HTTP/1.1\" 301 0 \"http://solidex.by\" \"Mozilla/5.0+(compatible; UptimeRobot/2.0; http://www.uptimerobot.com/)\"',\n",
       " '<158>Nov 25 14:02:58 195-137-160-145 nginx-access 63.143.42.253 - - [25/Nov/2021:14:02:48 +0300] \"HEAD / HTTP/1.1\" 301 0 \"http://solidex.by\" \"Mozilla/5.0+(compatible; UptimeRobot/2.0; http://www.uptimerobot.com/)\"',\n",
       " '<158>Nov 25 13:36:16 195-137-160-145 nginx-access 69.162.124.230 - - [25/Nov/2021:13:36:14 +0300] \"HEAD / HTTP/1.1\" 200 0 \"http://solidex.by\" \"Mozilla/5.0+(compatible; UptimeRobot/2.0; http://www.uptimerobot.com/)\"',\n",
       " '<158>Nov 25 13:16:15 195-137-160-145 nginx-access 69.162.124.230 - - [25/Nov/2021:13:16:14 +0300] \"HEAD / HTTP/1.1\" 200 0 \"http://solidex.by\" \"Mozilla/5.0+(compatible; UptimeRobot/2.0; http://www.uptimerobot.com/)\"',\n",
       " '<158>Nov 25 16:37:55 195-137-160-145 nginx-access 63.143.42.253 - - [25/Nov/2021:16:37:48 +0300] \"HEAD / HTTP/1.1\" 301 0 \"http://solidex.by\" \"Mozilla/5.0+(compatible; UptimeRobot/2.0; http://www.uptimerobot.com/)\"',\n",
       " '<158>Nov 25 16:02:54 195-137-160-145 nginx-access 35.166.232.52 - - [25/Nov/2021:16:02:49 +0300] \"GET / HTTP/1.1\" 301 0 \"-\" \"Mozilla/5.0 (X11; Linux x86_64) AppleWebKit/537.36 (KHTML, like Gecko) Chrome/83.0.4103.97 Safari/537.36\"',\n",
       " '<158>Nov 25 16:52:56 195-137-160-145 nginx-access 63.143.42.253 - - [25/Nov/2021:16:52:48 +0300] \"HEAD / HTTP/1.1\" 301 0 \"http://solidex.by\" \"Mozilla/5.0+(compatible; UptimeRobot/2.0; http://www.uptimerobot.com/)\"',\n",
       " '<158>Nov 25 16:01:24 195-137-160-145 nginx-access 69.162.124.230 - - [25/Nov/2021:16:01:14 +0300] \"HEAD / HTTP/1.1\" 200 0 \"http://solidex.by\" \"Mozilla/5.0+(compatible; UptimeRobot/2.0; http://www.uptimerobot.com/)\"',\n",
       " '<158>Nov 25 16:01:44 195-137-160-145 nginx-access 35.85.55.209 - - [25/Nov/2021:16:01:44 +0300] \"GET /favicon.ico HTTP/1.1\" 404 200 \"-\" \"Mozilla/5.0 (X11; Linux x86_64) AppleWebKit/537.36 (KHTML, like Gecko) Chrome/83.0.4103.97 Safari/537.36\"',\n",
       " '<158>Nov 25 16:50:16 195-137-160-145 nginx-access 185.182.56.216 - - [25/Nov/2021:16:50:09 +0300] \"GET /css/admin.php HTTP/1.1\" 301 0 \"http://simplesite.com\" \"Mozilla/5.0 (Windows; U; Windows NT 5.1; en-US) AppleWebKit/533.4 (KHTML, like Gecko) Chrome/5.0.375.99 Safari/533.4\"',\n",
       " '<158>Nov 25 15:11:21 195-137-160-145 nginx-access 69.162.124.230 - - [25/Nov/2021:15:11:14 +0300] \"HEAD / HTTP/1.1\" 200 0 \"http://solidex.by\" \"Mozilla/5.0+(compatible; UptimeRobot/2.0; http://www.uptimerobot.com/)\"',\n",
       " '<158>Nov 25 16:46:16 195-137-160-145 nginx-access 69.162.124.230 - - [25/Nov/2021:16:46:13 +0300] \"HEAD / HTTP/1.1\" 301 0 \"http://solidex.by\" \"Mozilla/5.0+(compatible; UptimeRobot/2.0; http://www.uptimerobot.com/)\"',\n",
       " '<158>Nov 25 16:27:55 195-137-160-145 nginx-access 63.143.42.253 - - [25/Nov/2021:16:27:49 +0300] \"HEAD / HTTP/1.1\" 200 0 \"http://solidex.by\" \"Mozilla/5.0+(compatible; UptimeRobot/2.0; http://www.uptimerobot.com/)\"',\n",
       " '<158>Nov 25 14:24:59 195-137-160-145 nginx-access 2021/11/25 14:24:56 [error] 492#492: *15416147 open() \"/var/www/solidex.by/public_html/robots.txt\" failed (2: No such file or directory), client: 216.244.66.231, server: , request: \"GET /robots.txt HTTP/1.1\", host: \"solidex.by\"',\n",
       " '<158>Nov 25 16:02:54 195-137-160-145 nginx-access 63.143.42.253 - - [25/Nov/2021:16:02:48 +0300] \"HEAD / HTTP/1.1\" 301 0 \"http://solidex.by\" \"Mozilla/5.0+(compatible; UptimeRobot/2.0; http://www.uptimerobot.com/)\"',\n",
       " '<158>Nov 25 16:51:16 195-137-160-145 nginx-access 69.162.124.230 - - [25/Nov/2021:16:51:13 +0300] \"HEAD / HTTP/1.1\" 301 0 \"http://solidex.by\" \"Mozilla/5.0+(compatible; UptimeRobot/2.0; http://www.uptimerobot.com/)\"',\n",
       " '<158>Nov 25 14:17:58 195-137-160-145 nginx-access 63.143.42.253 - - [25/Nov/2021:14:17:48 +0300] \"HEAD / HTTP/1.1\" 200 0 \"http://solidex.by\" \"Mozilla/5.0+(compatible; UptimeRobot/2.0; http://www.uptimerobot.com/)\"',\n",
       " '<158>Nov 25 16:02:54 195-137-160-145 nginx-access 63.143.42.253 - - [25/Nov/2021:16:02:49 +0300] \"HEAD / HTTP/1.1\" 200 0 \"http://solidex.by\" \"Mozilla/5.0+(compatible; UptimeRobot/2.0; http://www.uptimerobot.com/)\"',\n",
       " '<158>Nov 25 16:26:15 195-137-160-145 nginx-access 69.162.124.230 - - [25/Nov/2021:16:26:14 +0300] \"HEAD / HTTP/1.1\" 200 0 \"http://solidex.by\" \"Mozilla/5.0+(compatible; UptimeRobot/2.0; http://www.uptimerobot.com/)\"',\n",
       " '<158>Nov 25 14:47:50 195-137-160-145 nginx-access 63.143.42.253 - - [25/Nov/2021:14:47:48 +0300] \"HEAD / HTTP/1.1\" 301 0 \"http://solidex.by\" \"Mozilla/5.0+(compatible; UptimeRobot/2.0; http://www.uptimerobot.com/)\"',\n",
       " '<158>Nov 25 16:02:54 195-137-160-145 nginx-access 35.166.232.52 - - [25/Nov/2021:16:02:48 +0300] \"GET / HTTP/1.1\" 301 0 \"-\" \"Mozilla/5.0 (X11; Linux x86_64) AppleWebKit/537.36 (KHTML, like Gecko) Chrome/83.0.4103.97 Safari/537.36\"',\n",
       " '<158>Nov 25 13:27:56 195-137-160-145 nginx-access 63.143.42.253 - - [25/Nov/2021:13:27:48 +0300] \"HEAD / HTTP/1.1\" 301 0 \"http://solidex.by\" \"Mozilla/5.0+(compatible; UptimeRobot/2.0; http://www.uptimerobot.com/)\"',\n",
       " '<158>Nov 25 16:31:15 195-137-160-145 nginx-access 69.162.124.230 - - [25/Nov/2021:16:31:14 +0300] \"HEAD / HTTP/1.1\" 200 0 \"http://solidex.by\" \"Mozilla/5.0+(compatible; UptimeRobot/2.0; http://www.uptimerobot.com/)\"',\n",
       " '<158>Nov 25 16:26:15 195-137-160-145 nginx-access 69.162.124.230 - - [25/Nov/2021:16:26:13 +0300] \"HEAD / HTTP/1.1\" 301 0 \"http://solidex.by\" \"Mozilla/5.0+(compatible; UptimeRobot/2.0; http://www.uptimerobot.com/)\"',\n",
       " '<158>Nov 25 16:02:54 195-137-160-145 nginx-access 35.166.232.52 - - [25/Nov/2021:16:02:51 +0300] \"GET / HTTP/1.1\" 200 3717 \"http://solidex.by\" \"Mozilla/5.0 (X11; Linux x86_64) AppleWebKit/537.36 (KHTML, like Gecko) Chrome/83.0.4103.97 Safari/537.36\"',\n",
       " '<158>Nov 25 15:32:52 195-137-160-145 nginx-access 63.143.42.253 - - [25/Nov/2021:15:32:49 +0300] \"HEAD / HTTP/1.1\" 200 0 \"http://solidex.by\" \"Mozilla/5.0+(compatible; UptimeRobot/2.0; http://www.uptimerobot.com/)\"',\n",
       " '<158>Nov 25 14:52:50 195-137-160-145 nginx-access 63.143.42.253 - - [25/Nov/2021:14:52:48 +0300] \"HEAD / HTTP/1.1\" 301 0 \"http://solidex.by\" \"Mozilla/5.0+(compatible; UptimeRobot/2.0; http://www.uptimerobot.com/)\"',\n",
       " '<158>Nov 25 13:52:57 195-137-160-145 nginx-access 63.143.42.253 - - [25/Nov/2021:13:52:49 +0300] \"HEAD / HTTP/1.1\" 200 0 \"http://solidex.by\" \"Mozilla/5.0+(compatible; UptimeRobot/2.0; http://www.uptimerobot.com/)\"',\n",
       " '<158>Nov 25 15:47:53 195-137-160-145 nginx-access 63.143.42.253 - - [25/Nov/2021:15:47:49 +0300] \"HEAD / HTTP/1.1\" 200 0 \"http://solidex.by\" \"Mozilla/5.0+(compatible; UptimeRobot/2.0; http://www.uptimerobot.com/)\"',\n",
       " '<158>Nov 25 14:22:49 195-137-160-145 nginx-access 63.143.42.253 - - [25/Nov/2021:14:22:49 +0300] \"HEAD / HTTP/1.1\" 200 0 \"http://solidex.by\" \"Mozilla/5.0+(compatible; UptimeRobot/2.0; http://www.uptimerobot.com/)\"',\n",
       " '<158>Nov 25 14:47:50 195-137-160-145 nginx-access 63.143.42.253 - - [25/Nov/2021:14:47:49 +0300] \"HEAD / HTTP/1.1\" 200 0 \"http://solidex.by\" \"Mozilla/5.0+(compatible; UptimeRobot/2.0; http://www.uptimerobot.com/)\"',\n",
       " '<158>Nov 25 15:07:51 195-137-160-145 nginx-access 63.143.42.253 - - [25/Nov/2021:15:07:48 +0300] \"HEAD / HTTP/1.1\" 301 0 \"http://solidex.by\" \"Mozilla/5.0+(compatible; UptimeRobot/2.0; http://www.uptimerobot.com/)\"',\n",
       " '<158>Nov 25 16:01:54 195-137-160-145 nginx-access 35.85.55.209 - - [25/Nov/2021:16:01:46 +0300] \"GET / HTTP/1.1\" 200 3717 \"http://solidex.by\" \"Mozilla/5.0 (X11; Linux x86_64) AppleWebKit/537.36 (KHTML, like Gecko) Chrome/83.0.4103.97 Safari/537.36\"',\n",
       " '<158>Nov 25 15:11:21 195-137-160-145 nginx-access 69.162.124.230 - - [25/Nov/2021:15:11:14 +0300] \"HEAD / HTTP/1.1\" 301 0 \"http://solidex.by\" \"Mozilla/5.0+(compatible; UptimeRobot/2.0; http://www.uptimerobot.com/)\"',\n",
       " '<158>Nov 25 15:47:53 195-137-160-145 nginx-access 63.143.42.253 - - [25/Nov/2021:15:47:48 +0300] \"HEAD / HTTP/1.1\" 301 0 \"http://solidex.by\" \"Mozilla/5.0+(compatible; UptimeRobot/2.0; http://www.uptimerobot.com/)\"',\n",
       " '<158>Nov 25 13:27:56 195-137-160-145 nginx-access 63.143.42.253 - - [25/Nov/2021:13:27:49 +0300] \"HEAD / HTTP/1.1\" 200 0 \"http://solidex.by\" \"Mozilla/5.0+(compatible; UptimeRobot/2.0; http://www.uptimerobot.com/)\"',\n",
       " '<158>Nov 25 16:56:16 195-137-160-145 nginx-access 69.162.124.230 - - [25/Nov/2021:16:56:13 +0300] \"HEAD / HTTP/1.1\" 301 0 \"http://solidex.by\" \"Mozilla/5.0+(compatible; UptimeRobot/2.0; http://www.uptimerobot.com/)\"',\n",
       " '<158>Nov 25 16:27:55 195-137-160-145 nginx-access 63.143.42.253 - - [25/Nov/2021:16:27:48 +0300] \"HEAD / HTTP/1.1\" 301 0 \"http://solidex.by\" \"Mozilla/5.0+(compatible; UptimeRobot/2.0; http://www.uptimerobot.com/)\"',\n",
       " '<158>Nov 25 16:02:54 195-137-160-145 nginx-access 35.166.232.52 - - [25/Nov/2021:16:02:46 +0300] \"GET /favicon.ico HTTP/1.1\" 404 200 \"-\" \"Mozilla/5.0 (X11; Linux x86_64) AppleWebKit/537.36 (KHTML, like Gecko) Chrome/83.0.4103.97 Safari/537.36\"']"
      ]
     },
     "execution_count": 60,
     "metadata": {},
     "output_type": "execute_result"
    }
   ],
   "source": [
    "ae_diff_logs"
   ]
  },
  {
   "cell_type": "markdown",
   "id": "1df810e7",
   "metadata": {},
   "source": [
    "### The result\n",
    "\n",
    "AE detects more anomaly messages than LOF, but some of these messages are not actually anomalies.\n",
    "\n",
    "Both LOF and AE detects the same types of anomaly messages, but AE marks all messages of such type (for example, login failed) as anomalies. In contrast, LOF detects only part of such messages"
   ]
  },
  {
   "cell_type": "markdown",
   "id": "dd5491f3",
   "metadata": {},
   "source": [
    "# Ensembling"
   ]
  },
  {
   "cell_type": "code",
   "execution_count": 61,
   "id": "76053d27",
   "metadata": {},
   "outputs": [],
   "source": [
    "lof_scores = abs(lof.score_samples(logs_as_vectors))\n",
    "lof_scores_normalized = lof_scores/max(lof_scores)"
   ]
  },
  {
   "cell_type": "code",
   "execution_count": 62,
   "id": "d6a909c8",
   "metadata": {},
   "outputs": [],
   "source": [
    "lof_ae_scores = list(zip(list(lof_scores), list(map(float, ae_errors))))"
   ]
  },
  {
   "cell_type": "code",
   "execution_count": 63,
   "id": "2c9f77c2",
   "metadata": {},
   "outputs": [
    {
     "data": {
      "text/plain": [
       "0.0149065366831122"
      ]
     },
     "execution_count": 63,
     "metadata": {},
     "output_type": "execute_result"
    }
   ],
   "source": [
    "threshold"
   ]
  },
  {
   "cell_type": "code",
   "execution_count": 64,
   "id": "f27ef1be",
   "metadata": {
    "scrolled": false
   },
   "outputs": [],
   "source": [
    "ensemble_anomalies = []\n",
    "for i in range(len(anomaly_lof)):\n",
    "    if ae_errors[i] > threshold and lof_scores[i] > 1:\n",
    "        ensemble_anomalies.append(data.iloc[i].message)"
   ]
  },
  {
   "cell_type": "code",
   "execution_count": 65,
   "id": "b544e4f6",
   "metadata": {
    "scrolled": true
   },
   "outputs": [
    {
     "data": {
      "text/plain": [
       "{'<158>Nov 25 13:06:15 195-137-160-145 nginx-access 69.162.124.230 - - [25/Nov/2021:13:06:13 +0300] \"HEAD / HTTP/1.1\" 301 0 \"http://solidex.by\" \"Mozilla/5.0+(compatible; UptimeRobot/2.0; http://www.uptimerobot.com/)\"',\n",
       " '<158>Nov 25 13:06:15 195-137-160-145 nginx-access 69.162.124.230 - - [25/Nov/2021:13:06:14 +0300] \"HEAD / HTTP/1.1\" 200 0 \"http://solidex.by\" \"Mozilla/5.0+(compatible; UptimeRobot/2.0; http://www.uptimerobot.com/)\"',\n",
       " '<158>Nov 25 13:16:15 195-137-160-145 nginx-access 69.162.124.230 - - [25/Nov/2021:13:16:13 +0300] \"HEAD / HTTP/1.1\" 301 0 \"http://solidex.by\" \"Mozilla/5.0+(compatible; UptimeRobot/2.0; http://www.uptimerobot.com/)\"',\n",
       " '<158>Nov 25 13:16:15 195-137-160-145 nginx-access 69.162.124.230 - - [25/Nov/2021:13:16:14 +0300] \"HEAD / HTTP/1.1\" 200 0 \"http://solidex.by\" \"Mozilla/5.0+(compatible; UptimeRobot/2.0; http://www.uptimerobot.com/)\"',\n",
       " '<158>Nov 25 13:27:56 195-137-160-145 nginx-access 63.143.42.253 - - [25/Nov/2021:13:27:48 +0300] \"HEAD / HTTP/1.1\" 301 0 \"http://solidex.by\" \"Mozilla/5.0+(compatible; UptimeRobot/2.0; http://www.uptimerobot.com/)\"',\n",
       " '<158>Nov 25 13:27:56 195-137-160-145 nginx-access 63.143.42.253 - - [25/Nov/2021:13:27:49 +0300] \"HEAD / HTTP/1.1\" 200 0 \"http://solidex.by\" \"Mozilla/5.0+(compatible; UptimeRobot/2.0; http://www.uptimerobot.com/)\"',\n",
       " '<158>Nov 25 13:36:16 195-137-160-145 nginx-access 69.162.124.230 - - [25/Nov/2021:13:36:13 +0300] \"HEAD / HTTP/1.1\" 301 0 \"http://solidex.by\" \"Mozilla/5.0+(compatible; UptimeRobot/2.0; http://www.uptimerobot.com/)\"',\n",
       " '<158>Nov 25 13:36:16 195-137-160-145 nginx-access 69.162.124.230 - - [25/Nov/2021:13:36:14 +0300] \"HEAD / HTTP/1.1\" 200 0 \"http://solidex.by\" \"Mozilla/5.0+(compatible; UptimeRobot/2.0; http://www.uptimerobot.com/)\"',\n",
       " '<158>Nov 25 13:46:17 195-137-160-145 nginx-access 69.162.124.230 - - [25/Nov/2021:13:46:13 +0300] \"HEAD / HTTP/1.1\" 301 0 \"http://solidex.by\" \"Mozilla/5.0+(compatible; UptimeRobot/2.0; http://www.uptimerobot.com/)\"',\n",
       " '<158>Nov 25 13:46:17 195-137-160-145 nginx-access 69.162.124.230 - - [25/Nov/2021:13:46:14 +0300] \"HEAD / HTTP/1.1\" 200 0 \"http://solidex.by\" \"Mozilla/5.0+(compatible; UptimeRobot/2.0; http://www.uptimerobot.com/)\"',\n",
       " '<158>Nov 25 13:52:57 195-137-160-145 nginx-access 63.143.42.253 - - [25/Nov/2021:13:52:48 +0300] \"HEAD / HTTP/1.1\" 301 0 \"http://solidex.by\" \"Mozilla/5.0+(compatible; UptimeRobot/2.0; http://www.uptimerobot.com/)\"',\n",
       " '<158>Nov 25 13:52:57 195-137-160-145 nginx-access 63.143.42.253 - - [25/Nov/2021:13:52:49 +0300] \"HEAD / HTTP/1.1\" 200 0 \"http://solidex.by\" \"Mozilla/5.0+(compatible; UptimeRobot/2.0; http://www.uptimerobot.com/)\"',\n",
       " '<158>Nov 25 14:02:58 195-137-160-145 nginx-access 63.143.42.253 - - [25/Nov/2021:14:02:48 +0300] \"HEAD / HTTP/1.1\" 301 0 \"http://solidex.by\" \"Mozilla/5.0+(compatible; UptimeRobot/2.0; http://www.uptimerobot.com/)\"',\n",
       " '<158>Nov 25 14:02:58 195-137-160-145 nginx-access 63.143.42.253 - - [25/Nov/2021:14:02:49 +0300] \"HEAD / HTTP/1.1\" 200 0 \"http://solidex.by\" \"Mozilla/5.0+(compatible; UptimeRobot/2.0; http://www.uptimerobot.com/)\"',\n",
       " '<158>Nov 25 14:17:48 195-137-160-145 nginx-access 63.143.42.253 - - [25/Nov/2021:14:17:48 +0300] \"HEAD / HTTP/1.1\" 301 0 \"http://solidex.by\" \"Mozilla/5.0+(compatible; UptimeRobot/2.0; http://www.uptimerobot.com/)\"',\n",
       " '<158>Nov 25 14:17:58 195-137-160-145 nginx-access 63.143.42.253 - - [25/Nov/2021:14:17:48 +0300] \"HEAD / HTTP/1.1\" 200 0 \"http://solidex.by\" \"Mozilla/5.0+(compatible; UptimeRobot/2.0; http://www.uptimerobot.com/)\"',\n",
       " '<158>Nov 25 14:22:49 195-137-160-145 nginx-access 63.143.42.253 - - [25/Nov/2021:14:22:48 +0300] \"HEAD / HTTP/1.1\" 301 0 \"http://solidex.by\" \"Mozilla/5.0+(compatible; UptimeRobot/2.0; http://www.uptimerobot.com/)\"',\n",
       " '<158>Nov 25 14:22:49 195-137-160-145 nginx-access 63.143.42.253 - - [25/Nov/2021:14:22:49 +0300] \"HEAD / HTTP/1.1\" 200 0 \"http://solidex.by\" \"Mozilla/5.0+(compatible; UptimeRobot/2.0; http://www.uptimerobot.com/)\"',\n",
       " '<158>Nov 25 14:41:20 195-137-160-145 nginx-access 69.162.124.230 - - [25/Nov/2021:14:41:13 +0300] \"HEAD / HTTP/1.1\" 301 0 \"http://solidex.by\" \"Mozilla/5.0+(compatible; UptimeRobot/2.0; http://www.uptimerobot.com/)\"',\n",
       " '<158>Nov 25 14:41:20 195-137-160-145 nginx-access 69.162.124.230 - - [25/Nov/2021:14:41:19 +0300] \"HEAD / HTTP/1.1\" 200 0 \"http://solidex.by\" \"Mozilla/5.0+(compatible; UptimeRobot/2.0; http://www.uptimerobot.com/)\"',\n",
       " '<158>Nov 25 14:42:50 195-137-160-145 nginx-access 63.143.42.253 - - [25/Nov/2021:14:42:48 +0300] \"HEAD / HTTP/1.1\" 301 0 \"http://solidex.by\" \"Mozilla/5.0+(compatible; UptimeRobot/2.0; http://www.uptimerobot.com/)\"',\n",
       " '<158>Nov 25 14:42:50 195-137-160-145 nginx-access 63.143.42.253 - - [25/Nov/2021:14:42:49 +0300] \"HEAD / HTTP/1.1\" 200 0 \"http://solidex.by\" \"Mozilla/5.0+(compatible; UptimeRobot/2.0; http://www.uptimerobot.com/)\"',\n",
       " '<158>Nov 25 14:46:20 195-137-160-145 nginx-access 69.162.124.230 - - [25/Nov/2021:14:46:13 +0300] \"HEAD / HTTP/1.1\" 200 0 \"http://solidex.by\" \"Mozilla/5.0+(compatible; UptimeRobot/2.0; http://www.uptimerobot.com/)\"',\n",
       " '<158>Nov 25 14:46:20 195-137-160-145 nginx-access 69.162.124.230 - - [25/Nov/2021:14:46:13 +0300] \"HEAD / HTTP/1.1\" 301 0 \"http://solidex.by\" \"Mozilla/5.0+(compatible; UptimeRobot/2.0; http://www.uptimerobot.com/)\"',\n",
       " '<158>Nov 25 14:47:50 195-137-160-145 nginx-access 63.143.42.253 - - [25/Nov/2021:14:47:48 +0300] \"HEAD / HTTP/1.1\" 301 0 \"http://solidex.by\" \"Mozilla/5.0+(compatible; UptimeRobot/2.0; http://www.uptimerobot.com/)\"',\n",
       " '<158>Nov 25 14:47:50 195-137-160-145 nginx-access 63.143.42.253 - - [25/Nov/2021:14:47:49 +0300] \"HEAD / HTTP/1.1\" 200 0 \"http://solidex.by\" \"Mozilla/5.0+(compatible; UptimeRobot/2.0; http://www.uptimerobot.com/)\"',\n",
       " '<158>Nov 25 14:52:50 195-137-160-145 nginx-access 63.143.42.253 - - [25/Nov/2021:14:52:48 +0300] \"HEAD / HTTP/1.1\" 301 0 \"http://solidex.by\" \"Mozilla/5.0+(compatible; UptimeRobot/2.0; http://www.uptimerobot.com/)\"',\n",
       " '<158>Nov 25 14:52:50 195-137-160-145 nginx-access 63.143.42.253 - - [25/Nov/2021:14:52:49 +0300] \"HEAD / HTTP/1.1\" 200 0 \"http://solidex.by\" \"Mozilla/5.0+(compatible; UptimeRobot/2.0; http://www.uptimerobot.com/)\"',\n",
       " '<158>Nov 25 15:01:21 195-137-160-145 nginx-access 69.162.124.230 - - [25/Nov/2021:15:01:13 +0300] \"HEAD / HTTP/1.1\" 301 0 \"http://solidex.by\" \"Mozilla/5.0+(compatible; UptimeRobot/2.0; http://www.uptimerobot.com/)\"',\n",
       " '<158>Nov 25 15:01:21 195-137-160-145 nginx-access 69.162.124.230 - - [25/Nov/2021:15:01:14 +0300] \"HEAD / HTTP/1.1\" 200 0 \"http://solidex.by\" \"Mozilla/5.0+(compatible; UptimeRobot/2.0; http://www.uptimerobot.com/)\"',\n",
       " '<158>Nov 25 15:07:51 195-137-160-145 nginx-access 63.143.42.253 - - [25/Nov/2021:15:07:48 +0300] \"HEAD / HTTP/1.1\" 301 0 \"http://solidex.by\" \"Mozilla/5.0+(compatible; UptimeRobot/2.0; http://www.uptimerobot.com/)\"',\n",
       " '<158>Nov 25 15:07:51 195-137-160-145 nginx-access 63.143.42.253 - - [25/Nov/2021:15:07:49 +0300] \"HEAD / HTTP/1.1\" 200 0 \"http://solidex.by\" \"Mozilla/5.0+(compatible; UptimeRobot/2.0; http://www.uptimerobot.com/)\"',\n",
       " '<158>Nov 25 15:11:21 195-137-160-145 nginx-access 69.162.124.230 - - [25/Nov/2021:15:11:14 +0300] \"HEAD / HTTP/1.1\" 200 0 \"http://solidex.by\" \"Mozilla/5.0+(compatible; UptimeRobot/2.0; http://www.uptimerobot.com/)\"',\n",
       " '<158>Nov 25 15:11:21 195-137-160-145 nginx-access 69.162.124.230 - - [25/Nov/2021:15:11:14 +0300] \"HEAD / HTTP/1.1\" 301 0 \"http://solidex.by\" \"Mozilla/5.0+(compatible; UptimeRobot/2.0; http://www.uptimerobot.com/)\"',\n",
       " '<158>Nov 25 15:32:52 195-137-160-145 nginx-access 63.143.42.253 - - [25/Nov/2021:15:32:48 +0300] \"HEAD / HTTP/1.1\" 301 0 \"http://solidex.by\" \"Mozilla/5.0+(compatible; UptimeRobot/2.0; http://www.uptimerobot.com/)\"',\n",
       " '<158>Nov 25 15:32:52 195-137-160-145 nginx-access 63.143.42.253 - - [25/Nov/2021:15:32:49 +0300] \"HEAD / HTTP/1.1\" 200 0 \"http://solidex.by\" \"Mozilla/5.0+(compatible; UptimeRobot/2.0; http://www.uptimerobot.com/)\"',\n",
       " '<158>Nov 25 15:41:23 195-137-160-145 nginx-access 69.162.124.230 - - [25/Nov/2021:15:41:13 +0300] \"HEAD / HTTP/1.1\" 301 0 \"http://solidex.by\" \"Mozilla/5.0+(compatible; UptimeRobot/2.0; http://www.uptimerobot.com/)\"',\n",
       " '<158>Nov 25 15:41:23 195-137-160-145 nginx-access 69.162.124.230 - - [25/Nov/2021:15:41:14 +0300] \"HEAD / HTTP/1.1\" 200 0 \"http://solidex.by\" \"Mozilla/5.0+(compatible; UptimeRobot/2.0; http://www.uptimerobot.com/)\"',\n",
       " '<158>Nov 25 15:42:53 195-137-160-145 nginx-access 63.143.42.253 - - [25/Nov/2021:15:42:48 +0300] \"HEAD / HTTP/1.1\" 301 0 \"http://solidex.by\" \"Mozilla/5.0+(compatible; UptimeRobot/2.0; http://www.uptimerobot.com/)\"',\n",
       " '<158>Nov 25 15:42:53 195-137-160-145 nginx-access 63.143.42.253 - - [25/Nov/2021:15:42:49 +0300] \"HEAD / HTTP/1.1\" 200 0 \"http://solidex.by\" \"Mozilla/5.0+(compatible; UptimeRobot/2.0; http://www.uptimerobot.com/)\"',\n",
       " '<158>Nov 25 15:47:53 195-137-160-145 nginx-access 63.143.42.253 - - [25/Nov/2021:15:47:48 +0300] \"HEAD / HTTP/1.1\" 301 0 \"http://solidex.by\" \"Mozilla/5.0+(compatible; UptimeRobot/2.0; http://www.uptimerobot.com/)\"',\n",
       " '<158>Nov 25 15:47:53 195-137-160-145 nginx-access 63.143.42.253 - - [25/Nov/2021:15:47:49 +0300] \"HEAD / HTTP/1.1\" 200 0 \"http://solidex.by\" \"Mozilla/5.0+(compatible; UptimeRobot/2.0; http://www.uptimerobot.com/)\"',\n",
       " '<158>Nov 25 15:56:13 195-137-160-145 nginx-access 69.162.124.230 - - [25/Nov/2021:15:56:13 +0300] \"HEAD / HTTP/1.1\" 301 0 \"http://solidex.by\" \"Mozilla/5.0+(compatible; UptimeRobot/2.0; http://www.uptimerobot.com/)\"',\n",
       " '<158>Nov 25 15:56:23 195-137-160-145 nginx-access 69.162.124.230 - - [25/Nov/2021:15:56:14 +0300] \"HEAD / HTTP/1.1\" 200 0 \"http://solidex.by\" \"Mozilla/5.0+(compatible; UptimeRobot/2.0; http://www.uptimerobot.com/)\"',\n",
       " '<158>Nov 25 16:01:24 195-137-160-145 nginx-access 69.162.124.230 - - [25/Nov/2021:16:01:14 +0300] \"HEAD / HTTP/1.1\" 200 0 \"http://solidex.by\" \"Mozilla/5.0+(compatible; UptimeRobot/2.0; http://www.uptimerobot.com/)\"',\n",
       " '<158>Nov 25 16:01:44 195-137-160-145 nginx-access 2021/11/25 16:01:44 [error] 492#492: *15418919 open() \"/var/www/solidex.by/public_html/favicon.ico\" failed (2: No such file or directory), client: 35.85.55.209, server: , request: \"GET /favicon.ico HTTP/1.1\", host: \"solidex.by\"',\n",
       " '<158>Nov 25 16:01:44 195-137-160-145 nginx-access 35.85.55.209 - - [25/Nov/2021:16:01:44 +0300] \"GET /favicon.ico HTTP/1.1\" 404 200 \"-\" \"Mozilla/5.0 (X11; Linux x86_64) AppleWebKit/537.36 (KHTML, like Gecko) Chrome/83.0.4103.97 Safari/537.36\"',\n",
       " '<158>Nov 25 16:01:54 195-137-160-145 nginx-access 35.85.55.209 - - [25/Nov/2021:16:01:44 +0300] \"GET / HTTP/1.1\" 301 0 \"-\" \"Mozilla/5.0 (X11; Linux x86_64) AppleWebKit/537.36 (KHTML, like Gecko) Chrome/83.0.4103.97 Safari/537.36\"',\n",
       " '<158>Nov 25 16:01:54 195-137-160-145 nginx-access 35.85.55.209 - - [25/Nov/2021:16:01:46 +0300] \"GET / HTTP/1.1\" 200 3717 \"http://solidex.by\" \"Mozilla/5.0 (X11; Linux x86_64) AppleWebKit/537.36 (KHTML, like Gecko) Chrome/83.0.4103.97 Safari/537.36\"',\n",
       " '<158>Nov 25 16:02:54 195-137-160-145 nginx-access 2021/11/25 16:02:46 [error] 492#492: *15418953 open() \"/var/www/solidex.by/public_html/favicon.ico\" failed (2: No such file or directory), client: 35.166.232.52, server: , request: \"GET /favicon.ico HTTP/1.1\", host: \"solidex.by\"',\n",
       " '<158>Nov 25 16:02:54 195-137-160-145 nginx-access 2021/11/25 16:02:48 [error] 492#492: *15418960 open() \"/var/www/solidex.by/public_html/favicon.ico\" failed (2: No such file or directory), client: 35.166.232.52, server: , request: \"GET /favicon.ico HTTP/1.1\", host: \"solidex.by\"',\n",
       " '<158>Nov 25 16:02:54 195-137-160-145 nginx-access 35.166.232.52 - - [25/Nov/2021:16:02:46 +0300] \"GET /favicon.ico HTTP/1.1\" 404 200 \"-\" \"Mozilla/5.0 (X11; Linux x86_64) AppleWebKit/537.36 (KHTML, like Gecko) Chrome/83.0.4103.97 Safari/537.36\"',\n",
       " '<158>Nov 25 16:02:54 195-137-160-145 nginx-access 35.166.232.52 - - [25/Nov/2021:16:02:48 +0300] \"GET / HTTP/1.1\" 301 0 \"-\" \"Mozilla/5.0 (X11; Linux x86_64) AppleWebKit/537.36 (KHTML, like Gecko) Chrome/83.0.4103.97 Safari/537.36\"',\n",
       " '<158>Nov 25 16:02:54 195-137-160-145 nginx-access 35.166.232.52 - - [25/Nov/2021:16:02:48 +0300] \"GET /favicon.ico HTTP/1.1\" 404 200 \"-\" \"Mozilla/5.0 (X11; Linux x86_64) AppleWebKit/537.36 (KHTML, like Gecko) Chrome/83.0.4103.97 Safari/537.36\"',\n",
       " '<158>Nov 25 16:02:54 195-137-160-145 nginx-access 35.166.232.52 - - [25/Nov/2021:16:02:49 +0300] \"GET / HTTP/1.1\" 301 0 \"-\" \"Mozilla/5.0 (X11; Linux x86_64) AppleWebKit/537.36 (KHTML, like Gecko) Chrome/83.0.4103.97 Safari/537.36\"',\n",
       " '<158>Nov 25 16:02:54 195-137-160-145 nginx-access 35.166.232.52 - - [25/Nov/2021:16:02:51 +0300] \"GET / HTTP/1.1\" 200 3717 \"http://solidex.by\" \"Mozilla/5.0 (X11; Linux x86_64) AppleWebKit/537.36 (KHTML, like Gecko) Chrome/83.0.4103.97 Safari/537.36\"',\n",
       " '<158>Nov 25 16:02:54 195-137-160-145 nginx-access 63.143.42.253 - - [25/Nov/2021:16:02:48 +0300] \"HEAD / HTTP/1.1\" 301 0 \"http://solidex.by\" \"Mozilla/5.0+(compatible; UptimeRobot/2.0; http://www.uptimerobot.com/)\"',\n",
       " '<158>Nov 25 16:02:54 195-137-160-145 nginx-access 63.143.42.253 - - [25/Nov/2021:16:02:49 +0300] \"HEAD / HTTP/1.1\" 200 0 \"http://solidex.by\" \"Mozilla/5.0+(compatible; UptimeRobot/2.0; http://www.uptimerobot.com/)\"',\n",
       " '<158>Nov 25 16:17:54 195-137-160-145 nginx-access 63.143.42.253 - - [25/Nov/2021:16:17:48 +0300] \"HEAD / HTTP/1.1\" 301 0 \"http://solidex.by\" \"Mozilla/5.0+(compatible; UptimeRobot/2.0; http://www.uptimerobot.com/)\"',\n",
       " '<158>Nov 25 16:17:54 195-137-160-145 nginx-access 63.143.42.253 - - [25/Nov/2021:16:17:49 +0300] \"HEAD / HTTP/1.1\" 200 0 \"http://solidex.by\" \"Mozilla/5.0+(compatible; UptimeRobot/2.0; http://www.uptimerobot.com/)\"',\n",
       " '<158>Nov 25 16:26:15 195-137-160-145 nginx-access 69.162.124.230 - - [25/Nov/2021:16:26:13 +0300] \"HEAD / HTTP/1.1\" 301 0 \"http://solidex.by\" \"Mozilla/5.0+(compatible; UptimeRobot/2.0; http://www.uptimerobot.com/)\"',\n",
       " '<158>Nov 25 16:26:15 195-137-160-145 nginx-access 69.162.124.230 - - [25/Nov/2021:16:26:14 +0300] \"HEAD / HTTP/1.1\" 200 0 \"http://solidex.by\" \"Mozilla/5.0+(compatible; UptimeRobot/2.0; http://www.uptimerobot.com/)\"',\n",
       " '<158>Nov 25 16:27:55 195-137-160-145 nginx-access 63.143.42.253 - - [25/Nov/2021:16:27:48 +0300] \"HEAD / HTTP/1.1\" 301 0 \"http://solidex.by\" \"Mozilla/5.0+(compatible; UptimeRobot/2.0; http://www.uptimerobot.com/)\"',\n",
       " '<158>Nov 25 16:27:55 195-137-160-145 nginx-access 63.143.42.253 - - [25/Nov/2021:16:27:49 +0300] \"HEAD / HTTP/1.1\" 200 0 \"http://solidex.by\" \"Mozilla/5.0+(compatible; UptimeRobot/2.0; http://www.uptimerobot.com/)\"',\n",
       " '<158>Nov 25 16:31:15 195-137-160-145 nginx-access 69.162.124.230 - - [25/Nov/2021:16:31:13 +0300] \"HEAD / HTTP/1.1\" 301 0 \"http://solidex.by\" \"Mozilla/5.0+(compatible; UptimeRobot/2.0; http://www.uptimerobot.com/)\"',\n",
       " '<158>Nov 25 16:31:15 195-137-160-145 nginx-access 69.162.124.230 - - [25/Nov/2021:16:31:14 +0300] \"HEAD / HTTP/1.1\" 200 0 \"http://solidex.by\" \"Mozilla/5.0+(compatible; UptimeRobot/2.0; http://www.uptimerobot.com/)\"',\n",
       " '<158>Nov 25 16:32:55 195-137-160-145 nginx-access 63.143.42.253 - - [25/Nov/2021:16:32:48 +0300] \"HEAD / HTTP/1.1\" 301 0 \"http://solidex.by\" \"Mozilla/5.0+(compatible; UptimeRobot/2.0; http://www.uptimerobot.com/)\"',\n",
       " '<158>Nov 25 16:32:55 195-137-160-145 nginx-access 63.143.42.253 - - [25/Nov/2021:16:32:49 +0300] \"HEAD / HTTP/1.1\" 200 0 \"http://solidex.by\" \"Mozilla/5.0+(compatible; UptimeRobot/2.0; http://www.uptimerobot.com/)\"',\n",
       " '<158>Nov 25 16:36:25 195-137-160-145 nginx-access 69.162.124.230 - - [25/Nov/2021:16:36:16 +0300] \"HEAD / HTTP/1.1\" 301 0 \"http://solidex.by\" \"Mozilla/5.0+(compatible; UptimeRobot/2.0; http://www.uptimerobot.com/)\"',\n",
       " '<158>Nov 25 16:36:25 195-137-160-145 nginx-access 69.162.124.230 - - [25/Nov/2021:16:36:19 +0300] \"HEAD / HTTP/1.1\" 200 0 \"http://solidex.by\" \"Mozilla/5.0+(compatible; UptimeRobot/2.0; http://www.uptimerobot.com/)\"',\n",
       " '<158>Nov 25 16:37:55 195-137-160-145 nginx-access 63.143.42.253 - - [25/Nov/2021:16:37:48 +0300] \"HEAD / HTTP/1.1\" 301 0 \"http://solidex.by\" \"Mozilla/5.0+(compatible; UptimeRobot/2.0; http://www.uptimerobot.com/)\"',\n",
       " '<158>Nov 25 16:37:55 195-137-160-145 nginx-access 63.143.42.253 - - [25/Nov/2021:16:37:49 +0300] \"HEAD / HTTP/1.1\" 200 0 \"http://solidex.by\" \"Mozilla/5.0+(compatible; UptimeRobot/2.0; http://www.uptimerobot.com/)\"',\n",
       " '<158>Nov 25 16:41:16 195-137-160-145 nginx-access 69.162.124.230 - - [25/Nov/2021:16:41:13 +0300] \"HEAD / HTTP/1.1\" 200 0 \"http://solidex.by\" \"Mozilla/5.0+(compatible; UptimeRobot/2.0; http://www.uptimerobot.com/)\"',\n",
       " '<158>Nov 25 16:41:16 195-137-160-145 nginx-access 69.162.124.230 - - [25/Nov/2021:16:41:13 +0300] \"HEAD / HTTP/1.1\" 301 0 \"http://solidex.by\" \"Mozilla/5.0+(compatible; UptimeRobot/2.0; http://www.uptimerobot.com/)\"',\n",
       " '<158>Nov 25 16:42:56 195-137-160-145 nginx-access 63.143.42.253 - - [25/Nov/2021:16:42:48 +0300] \"HEAD / HTTP/1.1\" 301 0 \"http://solidex.by\" \"Mozilla/5.0+(compatible; UptimeRobot/2.0; http://www.uptimerobot.com/)\"',\n",
       " '<158>Nov 25 16:42:56 195-137-160-145 nginx-access 63.143.42.253 - - [25/Nov/2021:16:42:49 +0300] \"HEAD / HTTP/1.1\" 200 0 \"http://solidex.by\" \"Mozilla/5.0+(compatible; UptimeRobot/2.0; http://www.uptimerobot.com/)\"',\n",
       " '<158>Nov 25 16:46:16 195-137-160-145 nginx-access 69.162.124.230 - - [25/Nov/2021:16:46:13 +0300] \"HEAD / HTTP/1.1\" 301 0 \"http://solidex.by\" \"Mozilla/5.0+(compatible; UptimeRobot/2.0; http://www.uptimerobot.com/)\"',\n",
       " '<158>Nov 25 16:46:16 195-137-160-145 nginx-access 69.162.124.230 - - [25/Nov/2021:16:46:14 +0300] \"HEAD / HTTP/1.1\" 200 0 \"http://solidex.by\" \"Mozilla/5.0+(compatible; UptimeRobot/2.0; http://www.uptimerobot.com/)\"',\n",
       " '<158>Nov 25 16:47:56 195-137-160-145 nginx-access 63.143.42.253 - - [25/Nov/2021:16:47:48 +0300] \"HEAD / HTTP/1.1\" 200 0 \"http://solidex.by\" \"Mozilla/5.0+(compatible; UptimeRobot/2.0; http://www.uptimerobot.com/)\"',\n",
       " '<158>Nov 25 16:47:56 195-137-160-145 nginx-access 63.143.42.253 - - [25/Nov/2021:16:47:48 +0300] \"HEAD / HTTP/1.1\" 301 0 \"http://solidex.by\" \"Mozilla/5.0+(compatible; UptimeRobot/2.0; http://www.uptimerobot.com/)\"',\n",
       " '<158>Nov 25 16:51:16 195-137-160-145 nginx-access 69.162.124.230 - - [25/Nov/2021:16:51:13 +0300] \"HEAD / HTTP/1.1\" 301 0 \"http://solidex.by\" \"Mozilla/5.0+(compatible; UptimeRobot/2.0; http://www.uptimerobot.com/)\"',\n",
       " '<158>Nov 25 16:51:16 195-137-160-145 nginx-access 69.162.124.230 - - [25/Nov/2021:16:51:14 +0300] \"HEAD / HTTP/1.1\" 200 0 \"http://solidex.by\" \"Mozilla/5.0+(compatible; UptimeRobot/2.0; http://www.uptimerobot.com/)\"',\n",
       " '<158>Nov 25 16:52:56 195-137-160-145 nginx-access 63.143.42.253 - - [25/Nov/2021:16:52:48 +0300] \"HEAD / HTTP/1.1\" 301 0 \"http://solidex.by\" \"Mozilla/5.0+(compatible; UptimeRobot/2.0; http://www.uptimerobot.com/)\"',\n",
       " '<158>Nov 25 16:52:56 195-137-160-145 nginx-access 63.143.42.253 - - [25/Nov/2021:16:52:49 +0300] \"HEAD / HTTP/1.1\" 200 0 \"http://solidex.by\" \"Mozilla/5.0+(compatible; UptimeRobot/2.0; http://www.uptimerobot.com/)\"',\n",
       " '<158>Nov 25 16:56:16 195-137-160-145 nginx-access 69.162.124.230 - - [25/Nov/2021:16:56:13 +0300] \"HEAD / HTTP/1.1\" 301 0 \"http://solidex.by\" \"Mozilla/5.0+(compatible; UptimeRobot/2.0; http://www.uptimerobot.com/)\"',\n",
       " '<158>Nov 25 16:56:16 195-137-160-145 nginx-access 69.162.124.230 - - [25/Nov/2021:16:56:14 +0300] \"HEAD / HTTP/1.1\" 200 0 \"http://solidex.by\" \"Mozilla/5.0+(compatible; UptimeRobot/2.0; http://www.uptimerobot.com/)\"',\n",
       " '<158>Nov 25 16:57:57 195-137-160-145 nginx-access 63.143.42.253 - - [25/Nov/2021:16:57:48 +0300] \"HEAD / HTTP/1.1\" 301 0 \"http://solidex.by\" \"Mozilla/5.0+(compatible; UptimeRobot/2.0; http://www.uptimerobot.com/)\"',\n",
       " '<158>Nov 25 16:57:57 195-137-160-145 nginx-access 63.143.42.253 - - [25/Nov/2021:16:57:49 +0300] \"HEAD / HTTP/1.1\" 200 0 \"http://solidex.by\" \"Mozilla/5.0+(compatible; UptimeRobot/2.0; http://www.uptimerobot.com/)\"'}"
      ]
     },
     "execution_count": 65,
     "metadata": {},
     "output_type": "execute_result"
    }
   ],
   "source": [
    "set(ae_anomaly_msgs) - set(ensemble_anomalies)"
   ]
  },
  {
   "cell_type": "code",
   "execution_count": 68,
   "id": "f35b4133",
   "metadata": {},
   "outputs": [
    {
     "data": {
      "text/plain": [
       "{'<158>Nov 25 14:23:49 195-137-160-145 nginx-access 109.252.51.37 - - [25/Nov/2021:14:23:39 +0300] \"GET /category/stati/feed/ HTTP/1.1\" 200 28856 \"-\" \"Reeder/5000.99.01 CFNetwork/1325.0.1 Darwin/21.1.0\"',\n",
       " '<158>Nov 25 14:53:40 195-137-160-145 nginx-access 109.252.51.37 - - [25/Nov/2021:14:53:40 +0300] \"GET /category/stati/feed/ HTTP/1.1\" 200 28856 \"-\" \"Reeder/5000.99.01 CFNetwork/1325.0.1 Darwin/21.1.0\"',\n",
       " '<158>Nov 25 15:18:31 195-137-160-145 nginx-access 34.230.24.123 - - [25/Nov/2021:15:18:24 +0300] \"GET / HTTP/1.1\" 301 0 \"-\" \"CCBot/2.0 (https://commoncrawl.org/faq/)\"',\n",
       " '<158>Nov 25 15:18:31 195-137-160-145 nginx-access 34.230.24.123 - - [25/Nov/2021:15:18:27 +0300] \"GET / HTTP/1.1\" 200 3717 \"-\" \"CCBot/2.0 (https://commoncrawl.org/faq/)\"',\n",
       " '<158>Nov 25 16:01:54 195-137-160-145 nginx-access 35.85.55.209 - - [25/Nov/2021:16:01:46 +0300] \"GET /wp-content/themes/wsp/assets/img/favicon-32x32.png HTTP/1.1\" 200 1839 \"-\" \"Go-http-client/1.1\"',\n",
       " '<158>Nov 25 16:53:46 195-137-160-145 nginx-access 157.55.39.89 - - [25/Nov/2021:16:53:38 +0300] \"GET /wp-content/uploads/2019/09/image008.png HTTP/1.1\" 200 50884 \"-\" \"Mozilla/5.0 (compatible; bingbot/2.0; +http://www.bing.com/bingbot.htm)\"',\n",
       " '<158>Nov 25 16:53:56 195-137-160-145 nginx-access 109.252.51.37 - - [25/Nov/2021:16:53:50 +0300] \"GET /category/stati/feed/ HTTP/1.1\" 200 28856 \"-\" \"Reeder/5000.99.01 CFNetwork/1325.0.1 Darwin/21.1.0\"'}"
      ]
     },
     "execution_count": 68,
     "metadata": {},
     "output_type": "execute_result"
    }
   ],
   "source": [
    "set(lof_anomaly_msgs) - set(ensemble_anomalies)"
   ]
  },
  {
   "cell_type": "code",
   "execution_count": 67,
   "id": "c2edf74c",
   "metadata": {
    "scrolled": true
   },
   "outputs": [
    {
     "data": {
      "text/plain": [
       "['<158>Nov 25 12:04:11 195-137-160-145 nginx-access 167.99.37.163 - - [25/Nov/2021:12:04:10 +0300] \"GET /courses/ HTTP/1.1\" 200 3207 \"http://www.solidex.by/o-kompanii/\" \"Mozilla/5.0 (X11; Linux x86_64) AppleWebKit/537.36 (KHTML, like Gecko) Chrome/95.0.4638.69 Safari/537.36\"',\n",
       " '<158>Nov 25 13:01:14 195-137-160-145 nginx-access 54.36.148.92 - - [25/Nov/2021:13:01:11 +0300] \"GET /blogs/solidex/building-the-house-or-the-network-in-common.php HTTP/1.1\" 301 0 \"-\" \"Mozilla/5.0 (compatible; AhrefsBot/7.0; +http://ahrefs.com/robot/)\"',\n",
       " '<158>Nov 25 13:01:14 195-137-160-145 nginx-access 54.36.148.92 - - [25/Nov/2021:13:01:11 +0300] \"GET /blogs/solidex/building-the-house-or-the-network-in-common.php HTTP/1.1\" 301 0 \"-\" \"Mozilla/5.0 (compatible; AhrefsBot/7.0; +http://ahrefs.com/robot/)\"',\n",
       " '<158>Nov 25 14:24:59 195-137-160-145 nginx-access 216.244.66.231 - - [25/Nov/2021:14:24:56 +0300] \"GET /robots.txt HTTP/1.1\" 404 169 \"-\" \"Mozilla/5.0 (compatible; DotBot/1.2; +https://opensiteexplorer.org/dotbot; help@moz.com)\"',\n",
       " '<158>Nov 25 14:24:59 195-137-160-145 nginx-access 2021/11/25 14:24:56 [error] 492#492: *15416147 open() \"/var/www/solidex.by/public_html/robots.txt\" failed (2: No such file or directory), client: 216.244.66.231, server: , request: \"GET /robots.txt HTTP/1.1\", host: \"solidex.by\"',\n",
       " '<158>Nov 25 14:24:59 195-137-160-145 nginx-access 216.244.66.231 - - [25/Nov/2021:14:24:56 +0300] \"GET /robots.txt HTTP/1.1\" 404 169 \"-\" \"Mozilla/5.0 (compatible; DotBot/1.2; +https://opensiteexplorer.org/dotbot; help@moz.com)\"',\n",
       " '<158>Nov 25 14:24:59 195-137-160-145 nginx-access 2021/11/25 14:24:56 [error] 492#492: *15416147 open() \"/var/www/solidex.by/public_html/robots.txt\" failed (2: No such file or directory), client: 216.244.66.231, server: , request: \"GET /robots.txt HTTP/1.1\", host: \"solidex.by\"',\n",
       " '<158>Nov 25 14:24:59 195-137-160-145 nginx-access 216.244.66.231 - - [25/Nov/2021:14:24:56 +0300] \"GET /robots.txt HTTP/1.1\" 404 169 \"-\" \"Mozilla/5.0 (compatible; DotBot/1.2; +https://opensiteexplorer.org/dotbot; help@moz.com)\"',\n",
       " '<158>Nov 25 14:24:59 195-137-160-145 nginx-access 2021/11/25 14:24:56 [error] 492#492: *15416147 open() \"/var/www/solidex.by/public_html/robots.txt\" failed (2: No such file or directory), client: 216.244.66.231, server: , request: \"GET /robots.txt HTTP/1.1\", host: \"solidex.by\"',\n",
       " '<158>Nov 25 14:24:59 195-137-160-145 nginx-access 216.244.66.231 - - [25/Nov/2021:14:24:56 +0300] \"GET /robots.txt HTTP/1.1\" 404 169 \"-\" \"Mozilla/5.0 (compatible; DotBot/1.2; +https://opensiteexplorer.org/dotbot; help@moz.com)\"',\n",
       " '<158>Nov 25 14:24:59 195-137-160-145 nginx-access 2021/11/25 14:24:56 [error] 492#492: *15416147 open() \"/var/www/solidex.by/public_html/robots.txt\" failed (2: No such file or directory), client: 216.244.66.231, server: , request: \"GET /robots.txt HTTP/1.1\", host: \"solidex.by\"',\n",
       " '<158>Nov 25 14:24:59 195-137-160-145 nginx-access 216.244.66.231 - - [25/Nov/2021:14:24:56 +0300] \"GET /robots.txt HTTP/1.1\" 404 169 \"-\" \"Mozilla/5.0 (compatible; DotBot/1.2; +https://opensiteexplorer.org/dotbot; help@moz.com)\"',\n",
       " '<158>Nov 25 14:24:59 195-137-160-145 nginx-access 2021/11/25 14:24:56 [error] 492#492: *15416147 open() \"/var/www/solidex.by/public_html/robots.txt\" failed (2: No such file or directory), client: 216.244.66.231, server: , request: \"GET /robots.txt HTTP/1.1\", host: \"solidex.by\"',\n",
       " '<158>Nov 25 14:24:59 195-137-160-145 nginx-access 216.244.66.231 - - [25/Nov/2021:14:24:56 +0300] \"GET /robots.txt HTTP/1.1\" 404 169 \"-\" \"Mozilla/5.0 (compatible; DotBot/1.2; +https://opensiteexplorer.org/dotbot; help@moz.com)\"',\n",
       " '<158>Nov 25 14:24:59 195-137-160-145 nginx-access 2021/11/25 14:24:56 [error] 492#492: *15416147 open() \"/var/www/solidex.by/public_html/robots.txt\" failed (2: No such file or directory), client: 216.244.66.231, server: , request: \"GET /robots.txt HTTP/1.1\", host: \"solidex.by\"',\n",
       " '<158>Nov 25 14:24:59 195-137-160-145 nginx-access 216.244.66.231 - - [25/Nov/2021:14:24:56 +0300] \"GET /robots.txt HTTP/1.1\" 404 169 \"-\" \"Mozilla/5.0 (compatible; DotBot/1.2; +https://opensiteexplorer.org/dotbot; help@moz.com)\"',\n",
       " '<158>Nov 25 14:24:59 195-137-160-145 nginx-access 2021/11/25 14:24:56 [error] 492#492: *15416147 open() \"/var/www/solidex.by/public_html/robots.txt\" failed (2: No such file or directory), client: 216.244.66.231, server: , request: \"GET /robots.txt HTTP/1.1\", host: \"solidex.by\"',\n",
       " '<158>Nov 25 14:24:59 195-137-160-145 nginx-access 216.244.66.231 - - [25/Nov/2021:14:24:56 +0300] \"GET /robots.txt HTTP/1.1\" 404 169 \"-\" \"Mozilla/5.0 (compatible; DotBot/1.2; +https://opensiteexplorer.org/dotbot; help@moz.com)\"',\n",
       " '<158>Nov 25 14:24:59 195-137-160-145 nginx-access 2021/11/25 14:24:56 [error] 492#492: *15416147 open() \"/var/www/solidex.by/public_html/robots.txt\" failed (2: No such file or directory), client: 216.244.66.231, server: , request: \"GET /robots.txt HTTP/1.1\", host: \"solidex.by\"',\n",
       " '<158>Nov 25 14:41:40 195-137-160-145 nginx-access 216.244.66.231 - - [25/Nov/2021:14:41:32 +0300] \"GET /login/?change_password=yes&backurl=%2Fblogs%2Fweb-app-sec%2Fa-story-of-web-app-compromise.php%3FcommentId%3D11 HTTP/1.1\" 301 0 \"-\" \"Mozilla/5.0 (compatible; DotBot/1.2; +https://opensiteexplorer.org/dotbot; help@moz.com)\"',\n",
       " '<158>Nov 25 14:41:40 195-137-160-145 nginx-access 216.244.66.231 - - [25/Nov/2021:14:41:32 +0300] \"GET /login/?change_password=yes&backurl=%2Fblogs%2Fweb-app-sec%2Fa-story-of-web-app-compromise.php%3FcommentId%3D11 HTTP/1.1\" 301 0 \"-\" \"Mozilla/5.0 (compatible; DotBot/1.2; +https://opensiteexplorer.org/dotbot; help@moz.com)\"',\n",
       " '<158>Nov 25 14:24:59 195-137-160-145 nginx-access 216.244.66.231 - - [25/Nov/2021:14:24:56 +0300] \"GET /robots.txt HTTP/1.1\" 404 169 \"-\" \"Mozilla/5.0 (compatible; DotBot/1.2; +https://opensiteexplorer.org/dotbot; help@moz.com)\"',\n",
       " '<158>Nov 25 14:24:59 195-137-160-145 nginx-access 2021/11/25 14:24:56 [error] 492#492: *15416147 open() \"/var/www/solidex.by/public_html/robots.txt\" failed (2: No such file or directory), client: 216.244.66.231, server: , request: \"GET /robots.txt HTTP/1.1\", host: \"solidex.by\"',\n",
       " '<158>Nov 25 14:24:59 195-137-160-145 nginx-access 216.244.66.231 - - [25/Nov/2021:14:24:56 +0300] \"GET /robots.txt HTTP/1.1\" 404 169 \"-\" \"Mozilla/5.0 (compatible; DotBot/1.2; +https://opensiteexplorer.org/dotbot; help@moz.com)\"',\n",
       " '<158>Nov 25 14:24:59 195-137-160-145 nginx-access 2021/11/25 14:24:56 [error] 492#492: *15416147 open() \"/var/www/solidex.by/public_html/robots.txt\" failed (2: No such file or directory), client: 216.244.66.231, server: , request: \"GET /robots.txt HTTP/1.1\", host: \"solidex.by\"',\n",
       " '<158>Nov 25 14:41:40 195-137-160-145 nginx-access 216.244.66.231 - - [25/Nov/2021:14:41:32 +0300] \"GET /login/?change_password=yes&backurl=%2Fblogs%2Fweb-app-sec%2Fa-story-of-web-app-compromise.php%3FcommentId%3D11 HTTP/1.1\" 301 0 \"-\" \"Mozilla/5.0 (compatible; DotBot/1.2; +https://opensiteexplorer.org/dotbot; help@moz.com)\"',\n",
       " '<158>Nov 25 14:41:40 195-137-160-145 nginx-access 216.244.66.231 - - [25/Nov/2021:14:41:32 +0300] \"GET /login/?change_password=yes&backurl=%2Fblogs%2Fweb-app-sec%2Fa-story-of-web-app-compromise.php%3FcommentId%3D11 HTTP/1.1\" 301 0 \"-\" \"Mozilla/5.0 (compatible; DotBot/1.2; +https://opensiteexplorer.org/dotbot; help@moz.com)\"',\n",
       " '<158>Nov 25 14:24:59 195-137-160-145 nginx-access 216.244.66.231 - - [25/Nov/2021:14:24:56 +0300] \"GET /robots.txt HTTP/1.1\" 404 169 \"-\" \"Mozilla/5.0 (compatible; DotBot/1.2; +https://opensiteexplorer.org/dotbot; help@moz.com)\"',\n",
       " '<158>Nov 25 14:24:59 195-137-160-145 nginx-access 2021/11/25 14:24:56 [error] 492#492: *15416147 open() \"/var/www/solidex.by/public_html/robots.txt\" failed (2: No such file or directory), client: 216.244.66.231, server: , request: \"GET /robots.txt HTTP/1.1\", host: \"solidex.by\"',\n",
       " '<158>Nov 25 14:24:59 195-137-160-145 nginx-access 216.244.66.231 - - [25/Nov/2021:14:24:56 +0300] \"GET /robots.txt HTTP/1.1\" 404 169 \"-\" \"Mozilla/5.0 (compatible; DotBot/1.2; +https://opensiteexplorer.org/dotbot; help@moz.com)\"',\n",
       " '<158>Nov 25 14:24:59 195-137-160-145 nginx-access 2021/11/25 14:24:56 [error] 492#492: *15416147 open() \"/var/www/solidex.by/public_html/robots.txt\" failed (2: No such file or directory), client: 216.244.66.231, server: , request: \"GET /robots.txt HTTP/1.1\", host: \"solidex.by\"',\n",
       " '<158>Nov 25 14:41:40 195-137-160-145 nginx-access 216.244.66.231 - - [25/Nov/2021:14:41:32 +0300] \"GET /login/?change_password=yes&backurl=%2Fblogs%2Fweb-app-sec%2Fa-story-of-web-app-compromise.php%3FcommentId%3D11 HTTP/1.1\" 301 0 \"-\" \"Mozilla/5.0 (compatible; DotBot/1.2; +https://opensiteexplorer.org/dotbot; help@moz.com)\"',\n",
       " '<158>Nov 25 14:41:40 195-137-160-145 nginx-access 216.244.66.231 - - [25/Nov/2021:14:41:32 +0300] \"GET /login/?change_password=yes&backurl=%2Fblogs%2Fweb-app-sec%2Fa-story-of-web-app-compromise.php%3FcommentId%3D11 HTTP/1.1\" 301 0 \"-\" \"Mozilla/5.0 (compatible; DotBot/1.2; +https://opensiteexplorer.org/dotbot; help@moz.com)\"',\n",
       " '<158>Nov 25 14:24:59 195-137-160-145 nginx-access 216.244.66.231 - - [25/Nov/2021:14:24:56 +0300] \"GET /robots.txt HTTP/1.1\" 404 169 \"-\" \"Mozilla/5.0 (compatible; DotBot/1.2; +https://opensiteexplorer.org/dotbot; help@moz.com)\"',\n",
       " '<158>Nov 25 14:24:59 195-137-160-145 nginx-access 2021/11/25 14:24:56 [error] 492#492: *15416147 open() \"/var/www/solidex.by/public_html/robots.txt\" failed (2: No such file or directory), client: 216.244.66.231, server: , request: \"GET /robots.txt HTTP/1.1\", host: \"solidex.by\"',\n",
       " '<158>Nov 25 14:24:59 195-137-160-145 nginx-access 216.244.66.231 - - [25/Nov/2021:14:24:56 +0300] \"GET /robots.txt HTTP/1.1\" 404 169 \"-\" \"Mozilla/5.0 (compatible; DotBot/1.2; +https://opensiteexplorer.org/dotbot; help@moz.com)\"',\n",
       " '<158>Nov 25 14:24:59 195-137-160-145 nginx-access 2021/11/25 14:24:56 [error] 492#492: *15416147 open() \"/var/www/solidex.by/public_html/robots.txt\" failed (2: No such file or directory), client: 216.244.66.231, server: , request: \"GET /robots.txt HTTP/1.1\", host: \"solidex.by\"',\n",
       " '<158>Nov 25 14:41:40 195-137-160-145 nginx-access 216.244.66.231 - - [25/Nov/2021:14:41:32 +0300] \"GET /login/?change_password=yes&backurl=%2Fblogs%2Fweb-app-sec%2Fa-story-of-web-app-compromise.php%3FcommentId%3D11 HTTP/1.1\" 301 0 \"-\" \"Mozilla/5.0 (compatible; DotBot/1.2; +https://opensiteexplorer.org/dotbot; help@moz.com)\"',\n",
       " '<158>Nov 25 14:41:40 195-137-160-145 nginx-access 216.244.66.231 - - [25/Nov/2021:14:41:32 +0300] \"GET /login/?change_password=yes&backurl=%2Fblogs%2Fweb-app-sec%2Fa-story-of-web-app-compromise.php%3FcommentId%3D11 HTTP/1.1\" 301 0 \"-\" \"Mozilla/5.0 (compatible; DotBot/1.2; +https://opensiteexplorer.org/dotbot; help@moz.com)\"',\n",
       " '<158>Nov 25 14:24:59 195-137-160-145 nginx-access 216.244.66.231 - - [25/Nov/2021:14:24:56 +0300] \"GET /robots.txt HTTP/1.1\" 404 169 \"-\" \"Mozilla/5.0 (compatible; DotBot/1.2; +https://opensiteexplorer.org/dotbot; help@moz.com)\"',\n",
       " '<158>Nov 25 14:24:59 195-137-160-145 nginx-access 2021/11/25 14:24:56 [error] 492#492: *15416147 open() \"/var/www/solidex.by/public_html/robots.txt\" failed (2: No such file or directory), client: 216.244.66.231, server: , request: \"GET /robots.txt HTTP/1.1\", host: \"solidex.by\"',\n",
       " '<158>Nov 25 14:24:59 195-137-160-145 nginx-access 216.244.66.231 - - [25/Nov/2021:14:24:56 +0300] \"GET /robots.txt HTTP/1.1\" 404 169 \"-\" \"Mozilla/5.0 (compatible; DotBot/1.2; +https://opensiteexplorer.org/dotbot; help@moz.com)\"',\n",
       " '<158>Nov 25 14:24:59 195-137-160-145 nginx-access 2021/11/25 14:24:56 [error] 492#492: *15416147 open() \"/var/www/solidex.by/public_html/robots.txt\" failed (2: No such file or directory), client: 216.244.66.231, server: , request: \"GET /robots.txt HTTP/1.1\", host: \"solidex.by\"',\n",
       " '<158>Nov 25 14:41:40 195-137-160-145 nginx-access 216.244.66.231 - - [25/Nov/2021:14:41:32 +0300] \"GET /login/?change_password=yes&backurl=%2Fblogs%2Fweb-app-sec%2Fa-story-of-web-app-compromise.php%3FcommentId%3D11 HTTP/1.1\" 301 0 \"-\" \"Mozilla/5.0 (compatible; DotBot/1.2; +https://opensiteexplorer.org/dotbot; help@moz.com)\"',\n",
       " '<158>Nov 25 14:41:40 195-137-160-145 nginx-access 216.244.66.231 - - [25/Nov/2021:14:41:32 +0300] \"GET /login/?change_password=yes&backurl=%2Fblogs%2Fweb-app-sec%2Fa-story-of-web-app-compromise.php%3FcommentId%3D11 HTTP/1.1\" 301 0 \"-\" \"Mozilla/5.0 (compatible; DotBot/1.2; +https://opensiteexplorer.org/dotbot; help@moz.com)\"',\n",
       " '<158>Nov 25 14:24:59 195-137-160-145 nginx-access 216.244.66.231 - - [25/Nov/2021:14:24:56 +0300] \"GET /robots.txt HTTP/1.1\" 404 169 \"-\" \"Mozilla/5.0 (compatible; DotBot/1.2; +https://opensiteexplorer.org/dotbot; help@moz.com)\"',\n",
       " '<158>Nov 25 14:24:59 195-137-160-145 nginx-access 2021/11/25 14:24:56 [error] 492#492: *15416147 open() \"/var/www/solidex.by/public_html/robots.txt\" failed (2: No such file or directory), client: 216.244.66.231, server: , request: \"GET /robots.txt HTTP/1.1\", host: \"solidex.by\"',\n",
       " '<158>Nov 25 14:24:59 195-137-160-145 nginx-access 216.244.66.231 - - [25/Nov/2021:14:24:56 +0300] \"GET /robots.txt HTTP/1.1\" 404 169 \"-\" \"Mozilla/5.0 (compatible; DotBot/1.2; +https://opensiteexplorer.org/dotbot; help@moz.com)\"',\n",
       " '<158>Nov 25 14:24:59 195-137-160-145 nginx-access 2021/11/25 14:24:56 [error] 492#492: *15416147 open() \"/var/www/solidex.by/public_html/robots.txt\" failed (2: No such file or directory), client: 216.244.66.231, server: , request: \"GET /robots.txt HTTP/1.1\", host: \"solidex.by\"',\n",
       " '<158>Nov 25 14:41:40 195-137-160-145 nginx-access 216.244.66.231 - - [25/Nov/2021:14:41:32 +0300] \"GET /login/?change_password=yes&backurl=%2Fblogs%2Fweb-app-sec%2Fa-story-of-web-app-compromise.php%3FcommentId%3D11 HTTP/1.1\" 301 0 \"-\" \"Mozilla/5.0 (compatible; DotBot/1.2; +https://opensiteexplorer.org/dotbot; help@moz.com)\"',\n",
       " '<158>Nov 25 14:41:40 195-137-160-145 nginx-access 216.244.66.231 - - [25/Nov/2021:14:41:32 +0300] \"GET /login/?change_password=yes&backurl=%2Fblogs%2Fweb-app-sec%2Fa-story-of-web-app-compromise.php%3FcommentId%3D11 HTTP/1.1\" 301 0 \"-\" \"Mozilla/5.0 (compatible; DotBot/1.2; +https://opensiteexplorer.org/dotbot; help@moz.com)\"',\n",
       " '<158>Nov 25 14:24:59 195-137-160-145 nginx-access 216.244.66.231 - - [25/Nov/2021:14:24:56 +0300] \"GET /robots.txt HTTP/1.1\" 404 169 \"-\" \"Mozilla/5.0 (compatible; DotBot/1.2; +https://opensiteexplorer.org/dotbot; help@moz.com)\"',\n",
       " '<158>Nov 25 14:24:59 195-137-160-145 nginx-access 2021/11/25 14:24:56 [error] 492#492: *15416147 open() \"/var/www/solidex.by/public_html/robots.txt\" failed (2: No such file or directory), client: 216.244.66.231, server: , request: \"GET /robots.txt HTTP/1.1\", host: \"solidex.by\"',\n",
       " '<158>Nov 25 14:24:59 195-137-160-145 nginx-access 216.244.66.231 - - [25/Nov/2021:14:24:56 +0300] \"GET /robots.txt HTTP/1.1\" 404 169 \"-\" \"Mozilla/5.0 (compatible; DotBot/1.2; +https://opensiteexplorer.org/dotbot; help@moz.com)\"',\n",
       " '<158>Nov 25 14:24:59 195-137-160-145 nginx-access 2021/11/25 14:24:56 [error] 492#492: *15416147 open() \"/var/www/solidex.by/public_html/robots.txt\" failed (2: No such file or directory), client: 216.244.66.231, server: , request: \"GET /robots.txt HTTP/1.1\", host: \"solidex.by\"',\n",
       " '<158>Nov 25 14:41:40 195-137-160-145 nginx-access 216.244.66.231 - - [25/Nov/2021:14:41:32 +0300] \"GET /login/?change_password=yes&backurl=%2Fblogs%2Fweb-app-sec%2Fa-story-of-web-app-compromise.php%3FcommentId%3D11 HTTP/1.1\" 301 0 \"-\" \"Mozilla/5.0 (compatible; DotBot/1.2; +https://opensiteexplorer.org/dotbot; help@moz.com)\"',\n",
       " '<158>Nov 25 14:41:40 195-137-160-145 nginx-access 216.244.66.231 - - [25/Nov/2021:14:41:32 +0300] \"GET /login/?change_password=yes&backurl=%2Fblogs%2Fweb-app-sec%2Fa-story-of-web-app-compromise.php%3FcommentId%3D11 HTTP/1.1\" 301 0 \"-\" \"Mozilla/5.0 (compatible; DotBot/1.2; +https://opensiteexplorer.org/dotbot; help@moz.com)\"',\n",
       " '<158>Nov 25 15:18:31 195-137-160-145 nginx-access 34.230.24.123 - - [25/Nov/2021:15:18:26 +0300] \"GET /robots.txt HTTP/1.1\" 404 143 \"-\" \"CCBot/2.0 (https://commoncrawl.org/faq/)\"',\n",
       " '<158>Nov 25 15:18:31 195-137-160-145 nginx-access 2021/11/25 15:18:24 [error] 492#492: *15417662 open() \"/var/www/solidex.by/public_html/robots.txt\" failed (2: No such file or directory), client: 34.230.24.123, server: , request: \"GET /robots.txt HTTP/1.1\", host: \"solidex.by\"',\n",
       " '<158>Nov 25 15:18:31 195-137-160-145 nginx-access 2021/11/25 15:18:26 [error] 492#492: *15417664 open() \"/var/www/solidex.by/public_html/robots.txt\" failed (2: No such file or directory), client: 34.230.24.123, server: , request: \"GET /robots.txt HTTP/1.1\", host: \"www.solidex.by\"',\n",
       " '<158>Nov 25 15:18:31 195-137-160-145 nginx-access 34.230.24.123 - - [25/Nov/2021:15:18:24 +0300] \"GET /robots.txt HTTP/1.1\" 404 143 \"-\" \"CCBot/2.0 (https://commoncrawl.org/faq/)\"',\n",
       " '<158>Nov 25 15:18:31 195-137-160-145 nginx-access 34.230.24.123 - - [25/Nov/2021:15:18:26 +0300] \"GET /robots.txt HTTP/1.1\" 404 143 \"-\" \"CCBot/2.0 (https://commoncrawl.org/faq/)\"',\n",
       " '<158>Nov 25 15:16:41 195-137-160-145 nginx-access 43.225.21.178 - - [25/Nov/2021:15:16:33 +0300] \"GET /wp-config-samples.php HTTP/1.1\" 301 0 \"http://simplesite.com\" \"Mozilla/5.0 (Windows; U; Windows NT 5.1; en-US) AppleWebKit/533.4 (KHTML, like Gecko) Chrome/5.0.375.99 Safari/533.4\"',\n",
       " '<158>Nov 25 15:18:31 195-137-160-145 nginx-access 2021/11/25 15:18:24 [error] 492#492: *15417662 open() \"/var/www/solidex.by/public_html/robots.txt\" failed (2: No such file or directory), client: 34.230.24.123, server: , request: \"GET /robots.txt HTTP/1.1\", host: \"solidex.by\"',\n",
       " '<158>Nov 25 15:16:41 195-137-160-145 nginx-access 43.225.21.178 - - [25/Nov/2021:15:16:35 +0300] \"GET /wp-config-samples.php HTTP/1.1\" 404 11232 \"http://solidex.by/wp-config-samples.php\" \"Mozilla/5.0 (Windows; U; Windows NT 5.1; en-US) AppleWebKit/533.4 (KHTML, like Gecko) Chrome/5.0.375.99 Safari/533.4\"',\n",
       " '<158>Nov 25 15:18:31 195-137-160-145 nginx-access 2021/11/25 15:18:26 [error] 492#492: *15417664 open() \"/var/www/solidex.by/public_html/robots.txt\" failed (2: No such file or directory), client: 34.230.24.123, server: , request: \"GET /robots.txt HTTP/1.1\", host: \"www.solidex.by\"',\n",
       " '<158>Nov 25 15:16:41 195-137-160-145 nginx-access 43.225.21.178 - - [25/Nov/2021:15:16:33 +0300] \"GET /wp-config-samples.php HTTP/1.1\" 301 0 \"http://simplesite.com\" \"Mozilla/5.0 (Windows; U; Windows NT 5.1; en-US) AppleWebKit/533.4 (KHTML, like Gecko) Chrome/5.0.375.99 Safari/533.4\"',\n",
       " '<158>Nov 25 15:16:41 195-137-160-145 nginx-access 43.225.21.178 - - [25/Nov/2021:15:16:35 +0300] \"GET /wp-config-samples.php HTTP/1.1\" 404 11232 \"http://solidex.by/wp-config-samples.php\" \"Mozilla/5.0 (Windows; U; Windows NT 5.1; en-US) AppleWebKit/533.4 (KHTML, like Gecko) Chrome/5.0.375.99 Safari/533.4\"',\n",
       " '<158>Nov 25 14:24:59 195-137-160-145 nginx-access 216.244.66.231 - - [25/Nov/2021:14:24:56 +0300] \"GET /robots.txt HTTP/1.1\" 404 169 \"-\" \"Mozilla/5.0 (compatible; DotBot/1.2; +https://opensiteexplorer.org/dotbot; help@moz.com)\"',\n",
       " '<158>Nov 25 14:24:59 195-137-160-145 nginx-access 2021/11/25 14:24:56 [error] 492#492: *15416147 open() \"/var/www/solidex.by/public_html/robots.txt\" failed (2: No such file or directory), client: 216.244.66.231, server: , request: \"GET /robots.txt HTTP/1.1\", host: \"solidex.by\"',\n",
       " '<158>Nov 25 14:24:59 195-137-160-145 nginx-access 216.244.66.231 - - [25/Nov/2021:14:24:56 +0300] \"GET /robots.txt HTTP/1.1\" 404 169 \"-\" \"Mozilla/5.0 (compatible; DotBot/1.2; +https://opensiteexplorer.org/dotbot; help@moz.com)\"',\n",
       " '<158>Nov 25 14:24:59 195-137-160-145 nginx-access 2021/11/25 14:24:56 [error] 492#492: *15416147 open() \"/var/www/solidex.by/public_html/robots.txt\" failed (2: No such file or directory), client: 216.244.66.231, server: , request: \"GET /robots.txt HTTP/1.1\", host: \"solidex.by\"',\n",
       " '<158>Nov 25 14:41:40 195-137-160-145 nginx-access 216.244.66.231 - - [25/Nov/2021:14:41:32 +0300] \"GET /login/?change_password=yes&backurl=%2Fblogs%2Fweb-app-sec%2Fa-story-of-web-app-compromise.php%3FcommentId%3D11 HTTP/1.1\" 301 0 \"-\" \"Mozilla/5.0 (compatible; DotBot/1.2; +https://opensiteexplorer.org/dotbot; help@moz.com)\"',\n",
       " '<158>Nov 25 14:41:40 195-137-160-145 nginx-access 216.244.66.231 - - [25/Nov/2021:14:41:32 +0300] \"GET /login/?change_password=yes&backurl=%2Fblogs%2Fweb-app-sec%2Fa-story-of-web-app-compromise.php%3FcommentId%3D11 HTTP/1.1\" 301 0 \"-\" \"Mozilla/5.0 (compatible; DotBot/1.2; +https://opensiteexplorer.org/dotbot; help@moz.com)\"',\n",
       " '<158>Nov 25 14:24:59 195-137-160-145 nginx-access 216.244.66.231 - - [25/Nov/2021:14:24:56 +0300] \"GET /robots.txt HTTP/1.1\" 404 169 \"-\" \"Mozilla/5.0 (compatible; DotBot/1.2; +https://opensiteexplorer.org/dotbot; help@moz.com)\"',\n",
       " '<158>Nov 25 14:24:59 195-137-160-145 nginx-access 2021/11/25 14:24:56 [error] 492#492: *15416147 open() \"/var/www/solidex.by/public_html/robots.txt\" failed (2: No such file or directory), client: 216.244.66.231, server: , request: \"GET /robots.txt HTTP/1.1\", host: \"solidex.by\"',\n",
       " '<158>Nov 25 14:24:59 195-137-160-145 nginx-access 216.244.66.231 - - [25/Nov/2021:14:24:56 +0300] \"GET /robots.txt HTTP/1.1\" 404 169 \"-\" \"Mozilla/5.0 (compatible; DotBot/1.2; +https://opensiteexplorer.org/dotbot; help@moz.com)\"',\n",
       " '<158>Nov 25 14:24:59 195-137-160-145 nginx-access 2021/11/25 14:24:56 [error] 492#492: *15416147 open() \"/var/www/solidex.by/public_html/robots.txt\" failed (2: No such file or directory), client: 216.244.66.231, server: , request: \"GET /robots.txt HTTP/1.1\", host: \"solidex.by\"',\n",
       " '<158>Nov 25 14:41:40 195-137-160-145 nginx-access 216.244.66.231 - - [25/Nov/2021:14:41:32 +0300] \"GET /login/?change_password=yes&backurl=%2Fblogs%2Fweb-app-sec%2Fa-story-of-web-app-compromise.php%3FcommentId%3D11 HTTP/1.1\" 301 0 \"-\" \"Mozilla/5.0 (compatible; DotBot/1.2; +https://opensiteexplorer.org/dotbot; help@moz.com)\"',\n",
       " '<158>Nov 25 14:41:40 195-137-160-145 nginx-access 216.244.66.231 - - [25/Nov/2021:14:41:32 +0300] \"GET /login/?change_password=yes&backurl=%2Fblogs%2Fweb-app-sec%2Fa-story-of-web-app-compromise.php%3FcommentId%3D11 HTTP/1.1\" 301 0 \"-\" \"Mozilla/5.0 (compatible; DotBot/1.2; +https://opensiteexplorer.org/dotbot; help@moz.com)\"',\n",
       " '<158>Nov 25 14:24:59 195-137-160-145 nginx-access 216.244.66.231 - - [25/Nov/2021:14:24:56 +0300] \"GET /robots.txt HTTP/1.1\" 404 169 \"-\" \"Mozilla/5.0 (compatible; DotBot/1.2; +https://opensiteexplorer.org/dotbot; help@moz.com)\"',\n",
       " '<158>Nov 25 14:24:59 195-137-160-145 nginx-access 2021/11/25 14:24:56 [error] 492#492: *15416147 open() \"/var/www/solidex.by/public_html/robots.txt\" failed (2: No such file or directory), client: 216.244.66.231, server: , request: \"GET /robots.txt HTTP/1.1\", host: \"solidex.by\"',\n",
       " '<158>Nov 25 14:24:59 195-137-160-145 nginx-access 216.244.66.231 - - [25/Nov/2021:14:24:56 +0300] \"GET /robots.txt HTTP/1.1\" 404 169 \"-\" \"Mozilla/5.0 (compatible; DotBot/1.2; +https://opensiteexplorer.org/dotbot; help@moz.com)\"',\n",
       " '<158>Nov 25 14:24:59 195-137-160-145 nginx-access 2021/11/25 14:24:56 [error] 492#492: *15416147 open() \"/var/www/solidex.by/public_html/robots.txt\" failed (2: No such file or directory), client: 216.244.66.231, server: , request: \"GET /robots.txt HTTP/1.1\", host: \"solidex.by\"',\n",
       " '<158>Nov 25 14:41:40 195-137-160-145 nginx-access 216.244.66.231 - - [25/Nov/2021:14:41:32 +0300] \"GET /login/?change_password=yes&backurl=%2Fblogs%2Fweb-app-sec%2Fa-story-of-web-app-compromise.php%3FcommentId%3D11 HTTP/1.1\" 301 0 \"-\" \"Mozilla/5.0 (compatible; DotBot/1.2; +https://opensiteexplorer.org/dotbot; help@moz.com)\"',\n",
       " '<158>Nov 25 14:41:40 195-137-160-145 nginx-access 216.244.66.231 - - [25/Nov/2021:14:41:32 +0300] \"GET /login/?change_password=yes&backurl=%2Fblogs%2Fweb-app-sec%2Fa-story-of-web-app-compromise.php%3FcommentId%3D11 HTTP/1.1\" 301 0 \"-\" \"Mozilla/5.0 (compatible; DotBot/1.2; +https://opensiteexplorer.org/dotbot; help@moz.com)\"',\n",
       " '<158>Nov 25 14:24:59 195-137-160-145 nginx-access 216.244.66.231 - - [25/Nov/2021:14:24:56 +0300] \"GET /robots.txt HTTP/1.1\" 404 169 \"-\" \"Mozilla/5.0 (compatible; DotBot/1.2; +https://opensiteexplorer.org/dotbot; help@moz.com)\"',\n",
       " '<158>Nov 25 14:24:59 195-137-160-145 nginx-access 2021/11/25 14:24:56 [error] 492#492: *15416147 open() \"/var/www/solidex.by/public_html/robots.txt\" failed (2: No such file or directory), client: 216.244.66.231, server: , request: \"GET /robots.txt HTTP/1.1\", host: \"solidex.by\"',\n",
       " '<158>Nov 25 14:24:59 195-137-160-145 nginx-access 216.244.66.231 - - [25/Nov/2021:14:24:56 +0300] \"GET /robots.txt HTTP/1.1\" 404 169 \"-\" \"Mozilla/5.0 (compatible; DotBot/1.2; +https://opensiteexplorer.org/dotbot; help@moz.com)\"',\n",
       " '<158>Nov 25 14:24:59 195-137-160-145 nginx-access 2021/11/25 14:24:56 [error] 492#492: *15416147 open() \"/var/www/solidex.by/public_html/robots.txt\" failed (2: No such file or directory), client: 216.244.66.231, server: , request: \"GET /robots.txt HTTP/1.1\", host: \"solidex.by\"',\n",
       " '<158>Nov 25 14:24:59 195-137-160-145 nginx-access 216.244.66.231 - - [25/Nov/2021:14:24:56 +0300] \"GET /robots.txt HTTP/1.1\" 404 169 \"-\" \"Mozilla/5.0 (compatible; DotBot/1.2; +https://opensiteexplorer.org/dotbot; help@moz.com)\"',\n",
       " '<158>Nov 25 14:24:59 195-137-160-145 nginx-access 2021/11/25 14:24:56 [error] 492#492: *15416147 open() \"/var/www/solidex.by/public_html/robots.txt\" failed (2: No such file or directory), client: 216.244.66.231, server: , request: \"GET /robots.txt HTTP/1.1\", host: \"solidex.by\"',\n",
       " '<158>Nov 25 14:24:59 195-137-160-145 nginx-access 216.244.66.231 - - [25/Nov/2021:14:24:56 +0300] \"GET /robots.txt HTTP/1.1\" 404 169 \"-\" \"Mozilla/5.0 (compatible; DotBot/1.2; +https://opensiteexplorer.org/dotbot; help@moz.com)\"',\n",
       " '<158>Nov 25 14:24:59 195-137-160-145 nginx-access 2021/11/25 14:24:56 [error] 492#492: *15416147 open() \"/var/www/solidex.by/public_html/robots.txt\" failed (2: No such file or directory), client: 216.244.66.231, server: , request: \"GET /robots.txt HTTP/1.1\", host: \"solidex.by\"',\n",
       " '<158>Nov 25 14:24:59 195-137-160-145 nginx-access 216.244.66.231 - - [25/Nov/2021:14:24:56 +0300] \"GET /robots.txt HTTP/1.1\" 404 169 \"-\" \"Mozilla/5.0 (compatible; DotBot/1.2; +https://opensiteexplorer.org/dotbot; help@moz.com)\"',\n",
       " '<158>Nov 25 14:24:59 195-137-160-145 nginx-access 2021/11/25 14:24:56 [error] 492#492: *15416147 open() \"/var/www/solidex.by/public_html/robots.txt\" failed (2: No such file or directory), client: 216.244.66.231, server: , request: \"GET /robots.txt HTTP/1.1\", host: \"solidex.by\"',\n",
       " '<158>Nov 25 14:24:59 195-137-160-145 nginx-access 216.244.66.231 - - [25/Nov/2021:14:24:56 +0300] \"GET /robots.txt HTTP/1.1\" 404 169 \"-\" \"Mozilla/5.0 (compatible; DotBot/1.2; +https://opensiteexplorer.org/dotbot; help@moz.com)\"',\n",
       " '<158>Nov 25 14:24:59 195-137-160-145 nginx-access 2021/11/25 14:24:56 [error] 492#492: *15416147 open() \"/var/www/solidex.by/public_html/robots.txt\" failed (2: No such file or directory), client: 216.244.66.231, server: , request: \"GET /robots.txt HTTP/1.1\", host: \"solidex.by\"',\n",
       " '<158>Nov 25 15:56:03 195-137-160-145 nginx-access 67.211.219.84 - - [25/Nov/2021:15:55:55 +0300] \"POST /xmlrpc.php HTTP/1.1\" 200 206 \"-\" \"Mozilla/5.0 (X11; Ubuntu; Linux x86_64; rv:62.0) Gecko/20100101 Firefox/62.0\"',\n",
       " '<158>Nov 25 15:56:03 195-137-160-145 nginx-access 67.211.219.84 - - [25/Nov/2021:15:55:55 +0300] \"POST /xmlrpc.php HTTP/1.1\" 200 206 \"-\" \"Mozilla/5.0 (X11; Ubuntu; Linux x86_64; rv:62.0) Gecko/20100101 Firefox/62.0\"',\n",
       " '<158>Nov 25 14:24:59 195-137-160-145 nginx-access 216.244.66.231 - - [25/Nov/2021:14:24:56 +0300] \"GET /robots.txt HTTP/1.1\" 404 169 \"-\" \"Mozilla/5.0 (compatible; DotBot/1.2; +https://opensiteexplorer.org/dotbot; help@moz.com)\"',\n",
       " '<158>Nov 25 14:24:59 195-137-160-145 nginx-access 2021/11/25 14:24:56 [error] 492#492: *15416147 open() \"/var/www/solidex.by/public_html/robots.txt\" failed (2: No such file or directory), client: 216.244.66.231, server: , request: \"GET /robots.txt HTTP/1.1\", host: \"solidex.by\"',\n",
       " '<158>Nov 25 14:24:59 195-137-160-145 nginx-access 216.244.66.231 - - [25/Nov/2021:14:24:56 +0300] \"GET /robots.txt HTTP/1.1\" 404 169 \"-\" \"Mozilla/5.0 (compatible; DotBot/1.2; +https://opensiteexplorer.org/dotbot; help@moz.com)\"',\n",
       " '<158>Nov 25 14:24:59 195-137-160-145 nginx-access 2021/11/25 14:24:56 [error] 492#492: *15416147 open() \"/var/www/solidex.by/public_html/robots.txt\" failed (2: No such file or directory), client: 216.244.66.231, server: , request: \"GET /robots.txt HTTP/1.1\", host: \"solidex.by\"',\n",
       " '<158>Nov 25 14:24:59 195-137-160-145 nginx-access 216.244.66.231 - - [25/Nov/2021:14:24:56 +0300] \"GET /robots.txt HTTP/1.1\" 404 169 \"-\" \"Mozilla/5.0 (compatible; DotBot/1.2; +https://opensiteexplorer.org/dotbot; help@moz.com)\"',\n",
       " '<158>Nov 25 14:24:59 195-137-160-145 nginx-access 2021/11/25 14:24:56 [error] 492#492: *15416147 open() \"/var/www/solidex.by/public_html/robots.txt\" failed (2: No such file or directory), client: 216.244.66.231, server: , request: \"GET /robots.txt HTTP/1.1\", host: \"solidex.by\"',\n",
       " '<158>Nov 25 14:24:59 195-137-160-145 nginx-access 216.244.66.231 - - [25/Nov/2021:14:24:56 +0300] \"GET /robots.txt HTTP/1.1\" 404 169 \"-\" \"Mozilla/5.0 (compatible; DotBot/1.2; +https://opensiteexplorer.org/dotbot; help@moz.com)\"',\n",
       " '<158>Nov 25 14:24:59 195-137-160-145 nginx-access 2021/11/25 14:24:56 [error] 492#492: *15416147 open() \"/var/www/solidex.by/public_html/robots.txt\" failed (2: No such file or directory), client: 216.244.66.231, server: , request: \"GET /robots.txt HTTP/1.1\", host: \"solidex.by\"',\n",
       " '<158>Nov 25 14:24:59 195-137-160-145 nginx-access 216.244.66.231 - - [25/Nov/2021:14:24:56 +0300] \"GET /robots.txt HTTP/1.1\" 404 169 \"-\" \"Mozilla/5.0 (compatible; DotBot/1.2; +https://opensiteexplorer.org/dotbot; help@moz.com)\"',\n",
       " '<158>Nov 25 14:24:59 195-137-160-145 nginx-access 2021/11/25 14:24:56 [error] 492#492: *15416147 open() \"/var/www/solidex.by/public_html/robots.txt\" failed (2: No such file or directory), client: 216.244.66.231, server: , request: \"GET /robots.txt HTTP/1.1\", host: \"solidex.by\"',\n",
       " '<158>Nov 25 14:24:59 195-137-160-145 nginx-access 216.244.66.231 - - [25/Nov/2021:14:24:56 +0300] \"GET /robots.txt HTTP/1.1\" 404 169 \"-\" \"Mozilla/5.0 (compatible; DotBot/1.2; +https://opensiteexplorer.org/dotbot; help@moz.com)\"',\n",
       " '<158>Nov 25 14:24:59 195-137-160-145 nginx-access 2021/11/25 14:24:56 [error] 492#492: *15416147 open() \"/var/www/solidex.by/public_html/robots.txt\" failed (2: No such file or directory), client: 216.244.66.231, server: , request: \"GET /robots.txt HTTP/1.1\", host: \"solidex.by\"',\n",
       " '<158>Nov 25 14:24:59 195-137-160-145 nginx-access 216.244.66.231 - - [25/Nov/2021:14:24:56 +0300] \"GET /robots.txt HTTP/1.1\" 404 169 \"-\" \"Mozilla/5.0 (compatible; DotBot/1.2; +https://opensiteexplorer.org/dotbot; help@moz.com)\"',\n",
       " '<158>Nov 25 14:24:59 195-137-160-145 nginx-access 2021/11/25 14:24:56 [error] 492#492: *15416147 open() \"/var/www/solidex.by/public_html/robots.txt\" failed (2: No such file or directory), client: 216.244.66.231, server: , request: \"GET /robots.txt HTTP/1.1\", host: \"solidex.by\"',\n",
       " '<158>Nov 25 14:24:59 195-137-160-145 nginx-access 216.244.66.231 - - [25/Nov/2021:14:24:56 +0300] \"GET /robots.txt HTTP/1.1\" 404 169 \"-\" \"Mozilla/5.0 (compatible; DotBot/1.2; +https://opensiteexplorer.org/dotbot; help@moz.com)\"',\n",
       " '<158>Nov 25 14:24:59 195-137-160-145 nginx-access 2021/11/25 14:24:56 [error] 492#492: *15416147 open() \"/var/www/solidex.by/public_html/robots.txt\" failed (2: No such file or directory), client: 216.244.66.231, server: , request: \"GET /robots.txt HTTP/1.1\", host: \"solidex.by\"',\n",
       " '<158>Nov 25 14:24:59 195-137-160-145 nginx-access 216.244.66.231 - - [25/Nov/2021:14:24:56 +0300] \"GET /robots.txt HTTP/1.1\" 404 169 \"-\" \"Mozilla/5.0 (compatible; DotBot/1.2; +https://opensiteexplorer.org/dotbot; help@moz.com)\"',\n",
       " '<158>Nov 25 14:24:59 195-137-160-145 nginx-access 2021/11/25 14:24:56 [error] 492#492: *15416147 open() \"/var/www/solidex.by/public_html/robots.txt\" failed (2: No such file or directory), client: 216.244.66.231, server: , request: \"GET /robots.txt HTTP/1.1\", host: \"solidex.by\"',\n",
       " '<158>Nov 25 14:24:59 195-137-160-145 nginx-access 216.244.66.231 - - [25/Nov/2021:14:24:56 +0300] \"GET /robots.txt HTTP/1.1\" 404 169 \"-\" \"Mozilla/5.0 (compatible; DotBot/1.2; +https://opensiteexplorer.org/dotbot; help@moz.com)\"',\n",
       " '<158>Nov 25 14:24:59 195-137-160-145 nginx-access 2021/11/25 14:24:56 [error] 492#492: *15416147 open() \"/var/www/solidex.by/public_html/robots.txt\" failed (2: No such file or directory), client: 216.244.66.231, server: , request: \"GET /robots.txt HTTP/1.1\", host: \"solidex.by\"',\n",
       " '<158>Nov 25 14:24:59 195-137-160-145 nginx-access 216.244.66.231 - - [25/Nov/2021:14:24:56 +0300] \"GET /robots.txt HTTP/1.1\" 404 169 \"-\" \"Mozilla/5.0 (compatible; DotBot/1.2; +https://opensiteexplorer.org/dotbot; help@moz.com)\"',\n",
       " '<158>Nov 25 14:24:59 195-137-160-145 nginx-access 2021/11/25 14:24:56 [error] 492#492: *15416147 open() \"/var/www/solidex.by/public_html/robots.txt\" failed (2: No such file or directory), client: 216.244.66.231, server: , request: \"GET /robots.txt HTTP/1.1\", host: \"solidex.by\"',\n",
       " '<158>Nov 25 14:24:59 195-137-160-145 nginx-access 216.244.66.231 - - [25/Nov/2021:14:24:56 +0300] \"GET /robots.txt HTTP/1.1\" 404 169 \"-\" \"Mozilla/5.0 (compatible; DotBot/1.2; +https://opensiteexplorer.org/dotbot; help@moz.com)\"',\n",
       " '<158>Nov 25 14:24:59 195-137-160-145 nginx-access 2021/11/25 14:24:56 [error] 492#492: *15416147 open() \"/var/www/solidex.by/public_html/robots.txt\" failed (2: No such file or directory), client: 216.244.66.231, server: , request: \"GET /robots.txt HTTP/1.1\", host: \"solidex.by\"',\n",
       " '<158>Nov 25 16:28:55 195-137-160-145 nginx-access 114.119.149.228 - - [25/Nov/2021:16:28:51 +0300] \"GET /robots.txt HTTP/1.1\" 404 143 \"-\" \"Mozilla/5.0 (compatible;PetalBot;+https://webmaster.petalsearch.com/site/petalbot)\"',\n",
       " '<158>Nov 25 16:28:55 195-137-160-145 nginx-access 2021/11/25 16:28:51 [error] 492#492: *15419739 open() \"/var/www/solidex.by/public_html/robots.txt\" failed (2: No such file or directory), client: 114.119.149.228, server: , request: \"GET /robots.txt HTTP/1.1\", host: \"www.solidex.by\"',\n",
       " '<158>Nov 25 16:28:55 195-137-160-145 nginx-access 114.119.149.228 - - [25/Nov/2021:16:28:51 +0300] \"GET /robots.txt HTTP/1.1\" 404 143 \"-\" \"Mozilla/5.0 (compatible;PetalBot;+https://webmaster.petalsearch.com/site/petalbot)\"',\n",
       " '<158>Nov 25 16:28:55 195-137-160-145 nginx-access 2021/11/25 16:28:51 [error] 492#492: *15419739 open() \"/var/www/solidex.by/public_html/robots.txt\" failed (2: No such file or directory), client: 114.119.149.228, server: , request: \"GET /robots.txt HTTP/1.1\", host: \"www.solidex.by\"',\n",
       " '<158>Nov 25 14:24:59 195-137-160-145 nginx-access 216.244.66.231 - - [25/Nov/2021:14:24:56 +0300] \"GET /robots.txt HTTP/1.1\" 404 169 \"-\" \"Mozilla/5.0 (compatible; DotBot/1.2; +https://opensiteexplorer.org/dotbot; help@moz.com)\"',\n",
       " '<158>Nov 25 14:24:59 195-137-160-145 nginx-access 2021/11/25 14:24:56 [error] 492#492: *15416147 open() \"/var/www/solidex.by/public_html/robots.txt\" failed (2: No such file or directory), client: 216.244.66.231, server: , request: \"GET /robots.txt HTTP/1.1\", host: \"solidex.by\"',\n",
       " '<158>Nov 25 14:24:59 195-137-160-145 nginx-access 216.244.66.231 - - [25/Nov/2021:14:24:56 +0300] \"GET /robots.txt HTTP/1.1\" 404 169 \"-\" \"Mozilla/5.0 (compatible; DotBot/1.2; +https://opensiteexplorer.org/dotbot; help@moz.com)\"',\n",
       " '<158>Nov 25 14:24:59 195-137-160-145 nginx-access 2021/11/25 14:24:56 [error] 492#492: *15416147 open() \"/var/www/solidex.by/public_html/robots.txt\" failed (2: No such file or directory), client: 216.244.66.231, server: , request: \"GET /robots.txt HTTP/1.1\", host: \"solidex.by\"',\n",
       " '<158>Nov 25 16:33:45 195-137-160-145 nginx-access 45.61.146.241 - - [25/Nov/2021:16:33:45 +0300] \"POST /xmlrpc.php HTTP/1.1\" 200 206 \"-\" \"Mozilla/5.0 (X11; Ubuntu; Linux x86_64; rv:62.0) Gecko/20100101 Firefox/62.0\"',\n",
       " '<158>Nov 25 16:33:45 195-137-160-145 nginx-access 45.61.146.241 - - [25/Nov/2021:16:33:45 +0300] \"POST /xmlrpc.php HTTP/1.1\" 200 206 \"-\" \"Mozilla/5.0 (X11; Ubuntu; Linux x86_64; rv:62.0) Gecko/20100101 Firefox/62.0\"',\n",
       " '<158>Nov 25 16:35:55 195-137-160-145 nginx-access 74.208.34.142 - - [25/Nov/2021:16:35:48 +0300] \"POST /wp-login.php HTTP/1.1\" 200 1697 \"-\" \"Mozilla/5.0 (Windows NT 10.0; Win64; x64) AppleWebKit/537.36 (KHTML, like Gecko) Chrome/66.0.3359.117 Safari/537.36\"',\n",
       " '<158>Nov 25 16:35:55 195-137-160-145 nginx-access 74.208.34.142 - - [25/Nov/2021:16:35:48 +0300] \"POST /wp-login.php HTTP/1.1\" 200 1697 \"-\" \"Mozilla/5.0 (Windows NT 10.0; Win64; x64) AppleWebKit/537.36 (KHTML, like Gecko) Chrome/66.0.3359.117 Safari/537.36\"',\n",
       " '<158>Nov 25 14:24:59 195-137-160-145 nginx-access 216.244.66.231 - - [25/Nov/2021:14:24:56 +0300] \"GET /robots.txt HTTP/1.1\" 404 169 \"-\" \"Mozilla/5.0 (compatible; DotBot/1.2; +https://opensiteexplorer.org/dotbot; help@moz.com)\"',\n",
       " '<158>Nov 25 14:24:59 195-137-160-145 nginx-access 2021/11/25 14:24:56 [error] 492#492: *15416147 open() \"/var/www/solidex.by/public_html/robots.txt\" failed (2: No such file or directory), client: 216.244.66.231, server: , request: \"GET /robots.txt HTTP/1.1\", host: \"solidex.by\"',\n",
       " '<158>Nov 25 14:24:59 195-137-160-145 nginx-access 216.244.66.231 - - [25/Nov/2021:14:24:56 +0300] \"GET /robots.txt HTTP/1.1\" 404 169 \"-\" \"Mozilla/5.0 (compatible; DotBot/1.2; +https://opensiteexplorer.org/dotbot; help@moz.com)\"',\n",
       " '<158>Nov 25 14:24:59 195-137-160-145 nginx-access 2021/11/25 14:24:56 [error] 492#492: *15416147 open() \"/var/www/solidex.by/public_html/robots.txt\" failed (2: No such file or directory), client: 216.244.66.231, server: , request: \"GET /robots.txt HTTP/1.1\", host: \"solidex.by\"',\n",
       " '<158>Nov 25 16:46:36 195-137-160-145 nginx-access 82.223.55.111 - - [25/Nov/2021:16:46:35 +0300] \"POST /wp-login.php HTTP/1.1\" 200 1698 \"-\" \"Mozilla/5.0 (Windows NT 6.1) AppleWebKit/537.36 (KHTML, like Gecko) Chrome/58.0.3029.110 Safari/537.36\"',\n",
       " '<158>Nov 25 16:46:36 195-137-160-145 nginx-access 82.223.55.111 - - [25/Nov/2021:16:46:35 +0300] \"POST /wp-login.php HTTP/1.1\" 200 1698 \"-\" \"Mozilla/5.0 (Windows NT 6.1) AppleWebKit/537.36 (KHTML, like Gecko) Chrome/58.0.3029.110 Safari/537.36\"',\n",
       " '<158>Nov 25 16:42:36 195-137-160-145 nginx-access 47.242.238.58 - - [25/Nov/2021:16:42:29 +0300] \"POST /xmlrpc.php HTTP/1.1\" 200 206 \"-\" \"Mozilla/5.0 (X11; Ubuntu; Linux x86_64; rv:62.0) Gecko/20100101 Firefox/62.0\"',\n",
       " '<158>Nov 25 16:42:36 195-137-160-145 nginx-access 47.242.238.58 - - [25/Nov/2021:16:42:29 +0300] \"POST /xmlrpc.php HTTP/1.1\" 200 206 \"-\" \"Mozilla/5.0 (X11; Ubuntu; Linux x86_64; rv:62.0) Gecko/20100101 Firefox/62.0\"',\n",
       " '<158>Nov 25 16:43:36 195-137-160-145 nginx-access 188.40.71.188 - - [25/Nov/2021:16:43:35 +0300] \"POST /wp-login.php HTTP/1.1\" 200 1699 \"-\" \"Mozilla/5.0 (Windows NT 6.1; Win64; x64) AppleWebKit/537.36 (KHTML, like Gecko) Chrome/55.0.2883.87 Safari/537.36\"',\n",
       " '<158>Nov 25 16:43:36 195-137-160-145 nginx-access 188.40.71.188 - - [25/Nov/2021:16:43:35 +0300] \"POST /wp-login.php HTTP/1.1\" 200 1699 \"-\" \"Mozilla/5.0 (Windows NT 6.1; Win64; x64) AppleWebKit/537.36 (KHTML, like Gecko) Chrome/55.0.2883.87 Safari/537.36\"',\n",
       " '<158>Nov 25 16:44:26 195-137-160-145 nginx-access 144.91.68.146 - - [25/Nov/2021:16:44:21 +0300] \"POST /wp-login.php HTTP/1.1\" 200 1698 \"-\" \"Mozilla/5.0 (Windows NT 10.0; Win64; x64) AppleWebKit/537.36 (KHTML, like Gecko) Chrome/70.0.3538.67 Safari/537.36\"',\n",
       " '<158>Nov 25 16:44:26 195-137-160-145 nginx-access 144.91.68.146 - - [25/Nov/2021:16:44:21 +0300] \"POST /wp-login.php HTTP/1.1\" 200 1698 \"-\" \"Mozilla/5.0 (Windows NT 10.0; Win64; x64) AppleWebKit/537.36 (KHTML, like Gecko) Chrome/70.0.3538.67 Safari/537.36\"',\n",
       " '<158>Nov 25 16:52:06 195-137-160-145 nginx-access 103.111.30.40 - - [25/Nov/2021:16:52:05 +0300] \"POST /xmlrpc.php HTTP/1.1\" 200 206 \"-\" \"Mozilla/5.0 (X11; Ubuntu; Linux x86_64; rv:62.0) Gecko/20100101 Firefox/62.0\"',\n",
       " '<158>Nov 25 16:52:06 195-137-160-145 nginx-access 103.111.30.40 - - [25/Nov/2021:16:52:05 +0300] \"POST /xmlrpc.php HTTP/1.1\" 200 206 \"-\" \"Mozilla/5.0 (X11; Ubuntu; Linux x86_64; rv:62.0) Gecko/20100101 Firefox/62.0\"',\n",
       " '<158>Nov 25 14:24:59 195-137-160-145 nginx-access 216.244.66.231 - - [25/Nov/2021:14:24:56 +0300] \"GET /robots.txt HTTP/1.1\" 404 169 \"-\" \"Mozilla/5.0 (compatible; DotBot/1.2; +https://opensiteexplorer.org/dotbot; help@moz.com)\"',\n",
       " '<158>Nov 25 14:24:59 195-137-160-145 nginx-access 2021/11/25 14:24:56 [error] 492#492: *15416147 open() \"/var/www/solidex.by/public_html/robots.txt\" failed (2: No such file or directory), client: 216.244.66.231, server: , request: \"GET /robots.txt HTTP/1.1\", host: \"solidex.by\"',\n",
       " '<158>Nov 25 16:53:36 195-137-160-145 nginx-access 144.91.68.146 - - [25/Nov/2021:16:53:29 +0300] \"POST /wp-login.php HTTP/1.1\" 200 1697 \"-\" \"Mozilla/5.0 (Windows NT 6.1; WOW64) AppleWebKit/537.36 (KHTML, like Gecko) Chrome/63.0.3239.132 Safari/537.36\"',\n",
       " '<158>Nov 25 14:24:59 195-137-160-145 nginx-access 216.244.66.231 - - [25/Nov/2021:14:24:56 +0300] \"GET /robots.txt HTTP/1.1\" 404 169 \"-\" \"Mozilla/5.0 (compatible; DotBot/1.2; +https://opensiteexplorer.org/dotbot; help@moz.com)\"',\n",
       " '<158>Nov 25 14:24:59 195-137-160-145 nginx-access 2021/11/25 14:24:56 [error] 492#492: *15416147 open() \"/var/www/solidex.by/public_html/robots.txt\" failed (2: No such file or directory), client: 216.244.66.231, server: , request: \"GET /robots.txt HTTP/1.1\", host: \"solidex.by\"',\n",
       " '<158>Nov 25 16:53:36 195-137-160-145 nginx-access 144.91.68.146 - - [25/Nov/2021:16:53:29 +0300] \"POST /wp-login.php HTTP/1.1\" 200 1697 \"-\" \"Mozilla/5.0 (Windows NT 6.1; WOW64) AppleWebKit/537.36 (KHTML, like Gecko) Chrome/63.0.3239.132 Safari/537.36\"',\n",
       " '<158>Nov 25 16:50:16 195-137-160-145 nginx-access 185.182.56.216 - - [25/Nov/2021:16:50:09 +0300] \"GET /css/admin.php HTTP/1.1\" 301 0 \"http://simplesite.com\" \"Mozilla/5.0 (Windows; U; Windows NT 5.1; en-US) AppleWebKit/533.4 (KHTML, like Gecko) Chrome/5.0.375.99 Safari/533.4\"',\n",
       " '<158>Nov 25 16:50:16 195-137-160-145 nginx-access 185.182.56.216 - - [25/Nov/2021:16:50:09 +0300] \"GET /css/admin.php HTTP/1.1\" 301 0 \"http://simplesite.com\" \"Mozilla/5.0 (Windows; U; Windows NT 5.1; en-US) AppleWebKit/533.4 (KHTML, like Gecko) Chrome/5.0.375.99 Safari/533.4\"',\n",
       " '<158>Nov 25 14:24:59 195-137-160-145 nginx-access 216.244.66.231 - - [25/Nov/2021:14:24:56 +0300] \"GET /robots.txt HTTP/1.1\" 404 169 \"-\" \"Mozilla/5.0 (compatible; DotBot/1.2; +https://opensiteexplorer.org/dotbot; help@moz.com)\"',\n",
       " '<158>Nov 25 14:24:59 195-137-160-145 nginx-access 2021/11/25 14:24:56 [error] 492#492: *15416147 open() \"/var/www/solidex.by/public_html/robots.txt\" failed (2: No such file or directory), client: 216.244.66.231, server: , request: \"GET /robots.txt HTTP/1.1\", host: \"solidex.by\"',\n",
       " '<158>Nov 25 14:24:59 195-137-160-145 nginx-access 216.244.66.231 - - [25/Nov/2021:14:24:56 +0300] \"GET /robots.txt HTTP/1.1\" 404 169 \"-\" \"Mozilla/5.0 (compatible; DotBot/1.2; +https://opensiteexplorer.org/dotbot; help@moz.com)\"',\n",
       " '<158>Nov 25 14:24:59 195-137-160-145 nginx-access 2021/11/25 14:24:56 [error] 492#492: *15416147 open() \"/var/www/solidex.by/public_html/robots.txt\" failed (2: No such file or directory), client: 216.244.66.231, server: , request: \"GET /robots.txt HTTP/1.1\", host: \"solidex.by\"',\n",
       " '<158>Nov 25 16:54:36 195-137-160-145 nginx-access 66.249.66.81 - - [25/Nov/2021:16:54:36 +0300] \"GET /stati/kak-dobavlyat-novye-servisy-i-pri-etom-ne-uslozhnyat-infrastrukturu/ HTTP/1.1\" 200 4001 \"-\" \"Mozilla/5.0 (compatible; Googlebot/2.1; +http://www.google.com/bot.html)\"',\n",
       " '<158>Nov 25 16:54:36 195-137-160-145 nginx-access 66.249.66.81 - - [25/Nov/2021:16:54:36 +0300] \"GET /stati/kak-dobavlyat-novye-servisy-i-pri-etom-ne-uslozhnyat-infrastrukturu/ HTTP/1.1\" 200 4001 \"-\" \"Mozilla/5.0 (compatible; Googlebot/2.1; +http://www.google.com/bot.html)\"']"
      ]
     },
     "execution_count": 67,
     "metadata": {},
     "output_type": "execute_result"
    }
   ],
   "source": [
    "ensemble_anomalies"
   ]
  },
  {
   "cell_type": "markdown",
   "id": "da41c5ce",
   "metadata": {},
   "source": [
    "### The result\n",
    "\n",
    "AE helps to remove FP from LOF prefictions and add some extra anomaly entries. LOF also helps to remove the garbage from AE predictions"
   ]
  }
 ],
 "metadata": {
  "kernelspec": {
   "display_name": "Python 3",
   "language": "python",
   "name": "python3"
  },
  "language_info": {
   "codemirror_mode": {
    "name": "ipython",
    "version": 3
   },
   "file_extension": ".py",
   "mimetype": "text/x-python",
   "name": "python",
   "nbconvert_exporter": "python",
   "pygments_lexer": "ipython3",
   "version": "3.8.10"
  }
 },
 "nbformat": 4,
 "nbformat_minor": 5
}
